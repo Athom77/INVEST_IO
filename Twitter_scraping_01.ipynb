{
  "nbformat": 4,
  "nbformat_minor": 0,
  "metadata": {
    "colab": {
      "name": "Twitter_scraping_01.ipynb",
      "provenance": [],
      "authorship_tag": "ABX9TyPF3SPwaOZWYsETkEpZHRXS",
      "include_colab_link": true
    },
    "kernelspec": {
      "name": "python3",
      "display_name": "Python 3"
    }
  },
  "cells": [
    {
      "cell_type": "markdown",
      "metadata": {
        "id": "view-in-github",
        "colab_type": "text"
      },
      "source": [
        "<a href=\"https://colab.research.google.com/github/Athom77/INVEST_IO/blob/master/Twitter_scraping_01.ipynb\" target=\"_parent\"><img src=\"https://colab.research.google.com/assets/colab-badge.svg\" alt=\"Open In Colab\"/></a>"
      ]
    },
    {
      "cell_type": "code",
      "metadata": {
        "id": "QKsL7inXQqGA",
        "colab_type": "code",
        "colab": {}
      },
      "source": [
        "!pip install --user tweepy==3.3.0\n",
        "import tweepy\n",
        "import numpy as np\n",
        "import pandas\n",
        "from tweepy import OAuthHandler\n",
        "from tqdm import tqdm_notebook as tqdm \n",
        "\n",
        "consumer_key = 'Vzk6O5t967f1n4iz9iQcsQwhf'\n",
        "consumer_secret = 'Q8sncdY1j85mwNitOqb5Spcg6U6uuZ0E2KNHHZEYF2J4DdCyVi'\n",
        "access_token = '164224789-mFmU5YhessCNvubNojgfL605tbU0vh0NOna3HdQU'\n",
        "access_secret = 'Ic5LNOH2QqxziSq4eTQdJvbXo3noTcQDUzCKXgFcdPzpC'\n",
        "auth = OAuthHandler(consumer_key, consumer_secret)\n",
        "auth.set_access_token(access_token, access_secret)\n",
        "api = tweepy.API(auth, wait_on_rate_limit=True)"
      ],
      "execution_count": null,
      "outputs": []
    },
    {
      "cell_type": "code",
      "metadata": {
        "id": "xLqjIq0wQ2oy",
        "colab_type": "code",
        "colab": {}
      },
      "source": [
        "query = 'intesa'\n",
        "searched_tweets = []\n",
        "last_id = -1\n",
        "max_tweets = 10000\n",
        "while len(searched_tweets) < max_tweets:\n",
        "    count = max_tweets - len(searched_tweets)\n",
        "    try:\n",
        "        new_tweets = api.search(q=query, count=100, max_id=str(last_id - 1))\n",
        "        # If I've reached the end of the search then I'm done\n",
        "        # immediately the cycle while\n",
        "        if not new_tweets:\n",
        "            break\n",
        "        # added the data found to the list\n",
        "        searched_tweets.extend(new_tweets)\n",
        "        # retrieve the last id found\n",
        "        last_id = new_tweets[-1].id\n",
        "    except tweepy.TweepError as e:\n",
        "        print(e)\n",
        "        break\n",
        "\n",
        "len(searched_tweets)"
      ],
      "execution_count": null,
      "outputs": []
    },
    {
      "cell_type": "code",
      "metadata": {
        "id": "beF_Ug2FQ8w-",
        "colab_type": "code",
        "colab": {}
      },
      "source": [
        "import pandas as pd\n",
        "# Create our dict with our data\n",
        "dict_ = {'id': [], 'user': [], 'date': [], 'text': [], \n",
        "         'favorite_count': [], 'hashtags': [], \n",
        "         'location': [], 'retweet': [], 'retweet_count': [], 'followers_count': [], 'in_reply_to_status_id':[], 'user_mentions':[]}\n",
        "#\n",
        "for status_j in searched_tweets:\n",
        "    status = status_j._json\n",
        "    dict_['id'].append(status['id'])\n",
        "    dict_['user'].append(status['user']['screen_name'])\n",
        "    dict_['hashtags'].append([hashtag['text'] for hashtag in status['entities']['hashtags']])\n",
        "    dict_['user_mentions'].append([user_mention['screen_name'] for user_mention in status['entities']['user_mentions']])\n",
        "    dict_['location'].append(status['user']['location'])\n",
        "    dict_['followers_count'].append(status['user']['followers_count'])\n",
        "    dict_['in_reply_to_status_id'].append(status['in_reply_to_status_id'])\n",
        "    dict_['date'].append(status['created_at'])\n",
        "    dict_['text'].append(status['text'])\n",
        "    dict_['favorite_count'].append(status['favorite_count'])\n",
        "    dict_['retweet_count'].append(status['retweet_count'])\n",
        "    dict_['retweet'].append(status['retweeted'])\n",
        "\n",
        "\n",
        "df = pd.DataFrame.from_dict(dict_, orient=\"columns\")\n",
        "df = df.set_index(\"id\")\n",
        "df.sort_values(by='favorite_count', inplace=True, ascending=False)\n",
        "df.head(10)"
      ],
      "execution_count": null,
      "outputs": []
    }
  ]
}