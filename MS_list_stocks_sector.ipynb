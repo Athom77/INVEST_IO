{
  "nbformat": 4,
  "nbformat_minor": 0,
  "metadata": {
    "colab": {
      "name": "MS_list_stocks_sector.ipynb",
      "provenance": [],
      "collapsed_sections": [],
      "authorship_tag": "ABX9TyOI7CTnAuxnF2CpJa5vsfDh",
      "include_colab_link": true
    },
    "kernelspec": {
      "name": "python3",
      "display_name": "Python 3"
    }
  },
  "cells": [
    {
      "cell_type": "markdown",
      "metadata": {
        "id": "view-in-github",
        "colab_type": "text"
      },
      "source": [
        "<a href=\"https://colab.research.google.com/github/Athom77/INVEST_IO/blob/master/MS_list_stocks_sector.ipynb\" target=\"_parent\"><img src=\"https://colab.research.google.com/assets/colab-badge.svg\" alt=\"Open In Colab\"/></a>"
      ]
    },
    {
      "cell_type": "code",
      "metadata": {
        "id": "5XIf5IpBrZHk",
        "colab_type": "code",
        "colab": {
          "base_uri": "https://localhost:8080/",
          "height": 426
        },
        "outputId": "a0b78436-23a0-4d9f-b5fb-8a213a472d62"
      },
      "source": [
        "!pip install selenium\n",
        "!apt-get update\n",
        "!apt install chromium-chromedriver\n",
        "!cp /usr/lib/chromium-browser/chromedriver /usr/bin\n",
        "\n",
        "import sys\n",
        "sys.path.insert(0,'/usr/lib/chromium-browser/chromedriver')\n",
        "from selenium import webdriver\n",
        "from tqdm import tqdm_notebook as tqdm\n",
        "import pandas as pd\n",
        "import json\n",
        "import pprint\n",
        "import time\n",
        "import numpy as np\n",
        "\n",
        "chrome_options = webdriver.ChromeOptions()\n",
        "chrome_options.add_argument('--headless')\n",
        "chrome_options.add_argument('--no-sandbox')\n",
        "chrome_options.add_argument('--disable-dev-shm-usage')\n",
        "\n",
        "wd = webdriver.Chrome('chromedriver',options=chrome_options)\n",
        "\n"
      ],
      "execution_count": 6,
      "outputs": [
        {
          "output_type": "stream",
          "text": [
            "Requirement already satisfied: selenium in /usr/local/lib/python3.6/dist-packages (3.141.0)\n",
            "Requirement already satisfied: urllib3 in /usr/local/lib/python3.6/dist-packages (from selenium) (1.24.3)\n",
            "Hit:1 http://security.ubuntu.com/ubuntu bionic-security InRelease\n",
            "Ign:2 https://developer.download.nvidia.com/compute/cuda/repos/ubuntu1804/x86_64  InRelease\n",
            "Hit:3 http://ppa.launchpad.net/graphics-drivers/ppa/ubuntu bionic InRelease\n",
            "Hit:4 http://archive.ubuntu.com/ubuntu bionic InRelease\n",
            "Ign:5 https://developer.download.nvidia.com/compute/machine-learning/repos/ubuntu1804/x86_64  InRelease\n",
            "Hit:6 https://developer.download.nvidia.com/compute/cuda/repos/ubuntu1804/x86_64  Release\n",
            "Hit:7 https://developer.download.nvidia.com/compute/machine-learning/repos/ubuntu1804/x86_64  Release\n",
            "Hit:8 http://archive.ubuntu.com/ubuntu bionic-updates InRelease\n",
            "Hit:9 https://cloud.r-project.org/bin/linux/ubuntu bionic-cran35/ InRelease\n",
            "Hit:10 http://ppa.launchpad.net/marutter/c2d4u3.5/ubuntu bionic InRelease\n",
            "Hit:11 http://archive.ubuntu.com/ubuntu bionic-backports InRelease\n",
            "Reading package lists... Done\n",
            "Reading package lists... Done\n",
            "Building dependency tree       \n",
            "Reading state information... Done\n",
            "chromium-chromedriver is already the newest version (84.0.4147.105-0ubuntu0.18.04.1).\n",
            "The following package was automatically installed and is no longer required:\n",
            "  libnvidia-common-440\n",
            "Use 'apt autoremove' to remove it.\n",
            "0 upgraded, 0 newly installed, 0 to remove and 50 not upgraded.\n",
            "cp: '/usr/lib/chromium-browser/chromedriver' and '/usr/bin/chromedriver' are the same file\n"
          ],
          "name": "stdout"
        }
      ]
    },
    {
      "cell_type": "code",
      "metadata": {
        "id": "-N12FXPgrbFN",
        "colab_type": "code",
        "colab": {
          "base_uri": "https://localhost:8080/",
          "height": 221
        },
        "outputId": "bb49bd10-2f64-4c9c-f8bb-65f12fbf6823"
      },
      "source": [
        "#LIST OF STOCKS IN ITALY\n",
        "\n",
        "wd.get(\"https://www.marketscreener.com/stock-exchange/shares/Europe-3/Italy-59/\")\n",
        "\n",
        "all_rows = wd.find_elements_by_xpath('//*[@id=\"ZBS_restab_2b\"]/tbody/tr')\n",
        "list_of_stocks=[]\n",
        "for row in all_rows:\n",
        "      all_td=row.find_elements_by_tag_name('td')\n",
        "      list_of_td=[]\n",
        "      for td in all_td:\n",
        "          #td_1 = cell.find_elements_by_css_selector(\"td\")[0].text\n",
        "          #td_2 = row.find_elements_by_css_selector(\"td\")[1].text\n",
        "          list_of_td.append(td.text)\n",
        "          #list_of_stocks.append({'stock_title': td_1,'currency': td_2})\n",
        "      list_of_stocks.append(list_of_td)\n",
        "      #time.sleep(1+np.random.normal(0,0.1))\n",
        "\n",
        "df_stocks = pd.DataFrame(list_of_stocks)\n",
        "df_stocks.columns = [\"Index\",\"Company\",\"Price\",\"\",\"Capitalization\\n(M$)\",\"1st Jan %\",\"Sector\"]\n",
        "\n",
        "\n"
      ],
      "execution_count": 25,
      "outputs": [
        {
          "output_type": "error",
          "ename": "NameError",
          "evalue": "ignored",
          "traceback": [
            "\u001b[0;31m---------------------------------------------------------------------------\u001b[0m",
            "\u001b[0;31mNameError\u001b[0m                                 Traceback (most recent call last)",
            "\u001b[0;32m<ipython-input-25-7671e988948f>\u001b[0m in \u001b[0;36m<module>\u001b[0;34m()\u001b[0m\n\u001b[1;32m     21\u001b[0m \u001b[0;34m\u001b[0m\u001b[0m\n\u001b[1;32m     22\u001b[0m \u001b[0;34m\u001b[0m\u001b[0m\n\u001b[0;32m---> 23\u001b[0;31m \u001b[0mhead\u001b[0m\u001b[0;34m(\u001b[0m\u001b[0mdf_stocks\u001b[0m\u001b[0;34m)\u001b[0m\u001b[0;34m\u001b[0m\u001b[0;34m\u001b[0m\u001b[0m\n\u001b[0m\u001b[1;32m     24\u001b[0m \u001b[0mprint\u001b[0m\u001b[0;34m(\u001b[0m\u001b[0mdf_stocks\u001b[0m\u001b[0;34m)\u001b[0m\u001b[0;34m\u001b[0m\u001b[0;34m\u001b[0m\u001b[0m\n",
            "\u001b[0;31mNameError\u001b[0m: name 'head' is not defined"
          ]
        }
      ]
    },
    {
      "cell_type": "code",
      "metadata": {
        "id": "v0opB7f8zZUN",
        "colab_type": "code",
        "colab": {
          "base_uri": "https://localhost:8080/",
          "height": 200
        },
        "outputId": "09a97064-2462-44a1-fbae-e193819138f1"
      },
      "source": [
        "df_stocks.head()\n",
        "#print(df_stocks)"
      ],
      "execution_count": 29,
      "outputs": [
        {
          "output_type": "execute_result",
          "data": {
            "text/html": [
              "<div>\n",
              "<style scoped>\n",
              "    .dataframe tbody tr th:only-of-type {\n",
              "        vertical-align: middle;\n",
              "    }\n",
              "\n",
              "    .dataframe tbody tr th {\n",
              "        vertical-align: top;\n",
              "    }\n",
              "\n",
              "    .dataframe thead th {\n",
              "        text-align: right;\n",
              "    }\n",
              "</style>\n",
              "<table border=\"1\" class=\"dataframe\">\n",
              "  <thead>\n",
              "    <tr style=\"text-align: right;\">\n",
              "      <th></th>\n",
              "      <th>Index</th>\n",
              "      <th>Company</th>\n",
              "      <th>Price</th>\n",
              "      <th></th>\n",
              "      <th>Capitalization\\n(M$)</th>\n",
              "      <th>1st Jan %</th>\n",
              "      <th>Sector</th>\n",
              "    </tr>\n",
              "  </thead>\n",
              "  <tbody>\n",
              "    <tr>\n",
              "      <th>0</th>\n",
              "      <td></td>\n",
              "      <td>Company</td>\n",
              "      <td>Price</td>\n",
              "      <td></td>\n",
              "      <td>Capitalization\\n(M$)</td>\n",
              "      <td>1st Jan %</td>\n",
              "      <td>Sector</td>\n",
              "    </tr>\n",
              "    <tr>\n",
              "      <th>1</th>\n",
              "      <td></td>\n",
              "      <td>ENEL S.P.A. EUR</td>\n",
              "      <td>7.73</td>\n",
              "      <td></td>\n",
              "      <td>94 767</td>\n",
              "      <td>10.76%</td>\n",
              "      <td>Electric Utilities - NEC</td>\n",
              "    </tr>\n",
              "    <tr>\n",
              "      <th>2</th>\n",
              "      <td></td>\n",
              "      <td>INTESA SANPAOLO SPA EUR</td>\n",
              "      <td>1.8138</td>\n",
              "      <td></td>\n",
              "      <td>38 171</td>\n",
              "      <td>-21.89%</td>\n",
              "      <td>Banks - NEC</td>\n",
              "    </tr>\n",
              "    <tr>\n",
              "      <th>3</th>\n",
              "      <td></td>\n",
              "      <td>ENI SPA EUR</td>\n",
              "      <td>7.942</td>\n",
              "      <td></td>\n",
              "      <td>34 424</td>\n",
              "      <td>-41.53%</td>\n",
              "      <td>Integrated Oil &amp; Gas</td>\n",
              "    </tr>\n",
              "    <tr>\n",
              "      <th>4</th>\n",
              "      <td></td>\n",
              "      <td>ASSICURAZIONI GENERALI S.P.A. EUR</td>\n",
              "      <td>12.775</td>\n",
              "      <td></td>\n",
              "      <td>24 353</td>\n",
              "      <td>-29.14%</td>\n",
              "      <td>Life &amp; Health Insurance - NEC</td>\n",
              "    </tr>\n",
              "  </tbody>\n",
              "</table>\n",
              "</div>"
            ],
            "text/plain": [
              "  Index  ...                         Sector\n",
              "0        ...                         Sector\n",
              "1        ...       Electric Utilities - NEC\n",
              "2        ...                    Banks - NEC\n",
              "3        ...           Integrated Oil & Gas\n",
              "4        ...  Life & Health Insurance - NEC\n",
              "\n",
              "[5 rows x 7 columns]"
            ]
          },
          "metadata": {
            "tags": []
          },
          "execution_count": 29
        }
      ]
    }
  ]
}