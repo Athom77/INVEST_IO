{
  "nbformat": 4,
  "nbformat_minor": 0,
  "metadata": {
    "colab": {
      "name": "market_screener_reccom_01.ipynb",
      "provenance": [],
      "collapsed_sections": [],
      "toc_visible": true
    },
    "kernelspec": {
      "name": "python3",
      "display_name": "Python 3"
    },
    "widgets": {
      "application/vnd.jupyter.widget-state+json": {
        "581d552931f64ca0931f2ebb6d98e90c": {
          "model_module": "@jupyter-widgets/controls",
          "model_name": "HBoxModel",
          "state": {
            "_view_name": "HBoxView",
            "_dom_classes": [],
            "_model_name": "HBoxModel",
            "_view_module": "@jupyter-widgets/controls",
            "_model_module_version": "1.5.0",
            "_view_count": null,
            "_view_module_version": "1.5.0",
            "box_style": "",
            "layout": "IPY_MODEL_3998a10198ed492cb42da201f39e5a22",
            "_model_module": "@jupyter-widgets/controls",
            "children": [
              "IPY_MODEL_64ac4c65a313488585f655db345ae39c",
              "IPY_MODEL_c56c9975167e400d9d7d92640b35bf48"
            ]
          }
        },
        "3998a10198ed492cb42da201f39e5a22": {
          "model_module": "@jupyter-widgets/base",
          "model_name": "LayoutModel",
          "state": {
            "_view_name": "LayoutView",
            "grid_template_rows": null,
            "right": null,
            "justify_content": null,
            "_view_module": "@jupyter-widgets/base",
            "overflow": null,
            "_model_module_version": "1.2.0",
            "_view_count": null,
            "flex_flow": null,
            "width": null,
            "min_width": null,
            "border": null,
            "align_items": null,
            "bottom": null,
            "_model_module": "@jupyter-widgets/base",
            "top": null,
            "grid_column": null,
            "overflow_y": null,
            "overflow_x": null,
            "grid_auto_flow": null,
            "grid_area": null,
            "grid_template_columns": null,
            "flex": null,
            "_model_name": "LayoutModel",
            "justify_items": null,
            "grid_row": null,
            "max_height": null,
            "align_content": null,
            "visibility": null,
            "align_self": null,
            "height": null,
            "min_height": null,
            "padding": null,
            "grid_auto_rows": null,
            "grid_gap": null,
            "max_width": null,
            "order": null,
            "_view_module_version": "1.2.0",
            "grid_template_areas": null,
            "object_position": null,
            "object_fit": null,
            "grid_auto_columns": null,
            "margin": null,
            "display": null,
            "left": null
          }
        },
        "64ac4c65a313488585f655db345ae39c": {
          "model_module": "@jupyter-widgets/controls",
          "model_name": "FloatProgressModel",
          "state": {
            "_view_name": "ProgressView",
            "style": "IPY_MODEL_2301134646924b9bb74b34c606b69c3c",
            "_dom_classes": [],
            "description": "100%",
            "_model_name": "FloatProgressModel",
            "bar_style": "success",
            "max": 98,
            "_view_module": "@jupyter-widgets/controls",
            "_model_module_version": "1.5.0",
            "value": 98,
            "_view_count": null,
            "_view_module_version": "1.5.0",
            "orientation": "horizontal",
            "min": 0,
            "description_tooltip": null,
            "_model_module": "@jupyter-widgets/controls",
            "layout": "IPY_MODEL_306ab13b5f964324adc70602041c0a72"
          }
        },
        "c56c9975167e400d9d7d92640b35bf48": {
          "model_module": "@jupyter-widgets/controls",
          "model_name": "HTMLModel",
          "state": {
            "_view_name": "HTMLView",
            "style": "IPY_MODEL_a026dd4e91c14ac19276173b2c559572",
            "_dom_classes": [],
            "description": "",
            "_model_name": "HTMLModel",
            "placeholder": "​",
            "_view_module": "@jupyter-widgets/controls",
            "_model_module_version": "1.5.0",
            "value": " 98/98 [12:25&lt;00:00,  7.61s/it]",
            "_view_count": null,
            "_view_module_version": "1.5.0",
            "description_tooltip": null,
            "_model_module": "@jupyter-widgets/controls",
            "layout": "IPY_MODEL_7a912f3b3d9e4702881b6424570c2de1"
          }
        },
        "2301134646924b9bb74b34c606b69c3c": {
          "model_module": "@jupyter-widgets/controls",
          "model_name": "ProgressStyleModel",
          "state": {
            "_view_name": "StyleView",
            "_model_name": "ProgressStyleModel",
            "description_width": "initial",
            "_view_module": "@jupyter-widgets/base",
            "_model_module_version": "1.5.0",
            "_view_count": null,
            "_view_module_version": "1.2.0",
            "bar_color": null,
            "_model_module": "@jupyter-widgets/controls"
          }
        },
        "306ab13b5f964324adc70602041c0a72": {
          "model_module": "@jupyter-widgets/base",
          "model_name": "LayoutModel",
          "state": {
            "_view_name": "LayoutView",
            "grid_template_rows": null,
            "right": null,
            "justify_content": null,
            "_view_module": "@jupyter-widgets/base",
            "overflow": null,
            "_model_module_version": "1.2.0",
            "_view_count": null,
            "flex_flow": null,
            "width": null,
            "min_width": null,
            "border": null,
            "align_items": null,
            "bottom": null,
            "_model_module": "@jupyter-widgets/base",
            "top": null,
            "grid_column": null,
            "overflow_y": null,
            "overflow_x": null,
            "grid_auto_flow": null,
            "grid_area": null,
            "grid_template_columns": null,
            "flex": null,
            "_model_name": "LayoutModel",
            "justify_items": null,
            "grid_row": null,
            "max_height": null,
            "align_content": null,
            "visibility": null,
            "align_self": null,
            "height": null,
            "min_height": null,
            "padding": null,
            "grid_auto_rows": null,
            "grid_gap": null,
            "max_width": null,
            "order": null,
            "_view_module_version": "1.2.0",
            "grid_template_areas": null,
            "object_position": null,
            "object_fit": null,
            "grid_auto_columns": null,
            "margin": null,
            "display": null,
            "left": null
          }
        },
        "a026dd4e91c14ac19276173b2c559572": {
          "model_module": "@jupyter-widgets/controls",
          "model_name": "DescriptionStyleModel",
          "state": {
            "_view_name": "StyleView",
            "_model_name": "DescriptionStyleModel",
            "description_width": "",
            "_view_module": "@jupyter-widgets/base",
            "_model_module_version": "1.5.0",
            "_view_count": null,
            "_view_module_version": "1.2.0",
            "_model_module": "@jupyter-widgets/controls"
          }
        },
        "7a912f3b3d9e4702881b6424570c2de1": {
          "model_module": "@jupyter-widgets/base",
          "model_name": "LayoutModel",
          "state": {
            "_view_name": "LayoutView",
            "grid_template_rows": null,
            "right": null,
            "justify_content": null,
            "_view_module": "@jupyter-widgets/base",
            "overflow": null,
            "_model_module_version": "1.2.0",
            "_view_count": null,
            "flex_flow": null,
            "width": null,
            "min_width": null,
            "border": null,
            "align_items": null,
            "bottom": null,
            "_model_module": "@jupyter-widgets/base",
            "top": null,
            "grid_column": null,
            "overflow_y": null,
            "overflow_x": null,
            "grid_auto_flow": null,
            "grid_area": null,
            "grid_template_columns": null,
            "flex": null,
            "_model_name": "LayoutModel",
            "justify_items": null,
            "grid_row": null,
            "max_height": null,
            "align_content": null,
            "visibility": null,
            "align_self": null,
            "height": null,
            "min_height": null,
            "padding": null,
            "grid_auto_rows": null,
            "grid_gap": null,
            "max_width": null,
            "order": null,
            "_view_module_version": "1.2.0",
            "grid_template_areas": null,
            "object_position": null,
            "object_fit": null,
            "grid_auto_columns": null,
            "margin": null,
            "display": null,
            "left": null
          }
        }
      }
    }
  },
  "cells": [
    {
      "cell_type": "markdown",
      "metadata": {
        "id": "mOKhN30KNRg_",
        "colab_type": "text"
      },
      "source": [
        "# Questo notebook importa le raccomandazioni degli analisti da marketscreener, di default il link è di intesa san paolo ma può essere cambiato come riportato sotto"
      ]
    },
    {
      "cell_type": "code",
      "metadata": {
        "id": "JtlRaxiuyqpA",
        "colab_type": "code",
        "colab": {
          "base_uri": "https://localhost:8080/",
          "height": 54
        },
        "outputId": "503f61b3-a842-4a9a-e0f2-b0d9afb416bf"
      },
      "source": [
        "#mounts current gdrive in colab after providing success code\n",
        "#INSERISCI IL CODICE DI SUCCESSO O NON FUNZIONERA'\n",
        "from google.colab import drive\n",
        "drive.mount('/content/gdrive')\n",
        "%cd '/content/gdrive/My Drive/INVEST-IO/'"
      ],
      "execution_count": null,
      "outputs": [
        {
          "output_type": "stream",
          "text": [
            "Drive already mounted at /content/gdrive; to attempt to forcibly remount, call drive.mount(\"/content/gdrive\", force_remount=True).\n",
            "/content/gdrive/My Drive/INVEST-IO\n"
          ],
          "name": "stdout"
        }
      ]
    },
    {
      "cell_type": "code",
      "metadata": {
        "id": "O3ucYmplZ27e",
        "colab_type": "code",
        "colab": {
          "base_uri": "https://localhost:8080/",
          "height": 1000
        },
        "outputId": "6249f6a9-7265-437f-de8c-78bbcbac76e7"
      },
      "source": [
        "!pip install selenium\n",
        "!apt-get update\n",
        "!apt install chromium-chromedriver\n",
        "!cp /usr/lib/chromium-browser/chromedriver /usr/bin\n",
        "\n",
        "import sys\n",
        "from selenium import webdriver\n",
        "from tqdm import tqdm_notebook as tqdm\n",
        "import pandas as pd\n",
        "import json\n",
        "import pprint\n",
        "import numpy as np\n",
        "\n",
        "chrome_options = webdriver.ChromeOptions()\n",
        "chrome_options.add_argument('--headless')\n",
        "chrome_options.add_argument('--no-sandbox')\n",
        "chrome_options.add_argument('--disable-dev-shm-usage')\n",
        "\n",
        "sys.path.insert(0,'/usr/lib/chromium-browser/chromedriver')\n",
        "wd = webdriver.Chrome('chromedriver',chrome_options=chrome_options)"
      ],
      "execution_count": 1,
      "outputs": [
        {
          "output_type": "stream",
          "text": [
            "Collecting selenium\n",
            "\u001b[?25l  Downloading https://files.pythonhosted.org/packages/80/d6/4294f0b4bce4de0abf13e17190289f9d0613b0a44e5dd6a7f5ca98459853/selenium-3.141.0-py2.py3-none-any.whl (904kB)\n",
            "\r\u001b[K     |▍                               | 10kB 18.3MB/s eta 0:00:01\r\u001b[K     |▊                               | 20kB 6.4MB/s eta 0:00:01\r\u001b[K     |█                               | 30kB 7.9MB/s eta 0:00:01\r\u001b[K     |█▌                              | 40kB 9.1MB/s eta 0:00:01\r\u001b[K     |█▉                              | 51kB 7.5MB/s eta 0:00:01\r\u001b[K     |██▏                             | 61kB 8.3MB/s eta 0:00:01\r\u001b[K     |██▌                             | 71kB 8.5MB/s eta 0:00:01\r\u001b[K     |███                             | 81kB 7.8MB/s eta 0:00:01\r\u001b[K     |███▎                            | 92kB 8.4MB/s eta 0:00:01\r\u001b[K     |███▋                            | 102kB 8.0MB/s eta 0:00:01\r\u001b[K     |████                            | 112kB 8.0MB/s eta 0:00:01\r\u001b[K     |████▍                           | 122kB 8.0MB/s eta 0:00:01\r\u001b[K     |████▊                           | 133kB 8.0MB/s eta 0:00:01\r\u001b[K     |█████                           | 143kB 8.0MB/s eta 0:00:01\r\u001b[K     |█████▍                          | 153kB 8.0MB/s eta 0:00:01\r\u001b[K     |█████▉                          | 163kB 8.0MB/s eta 0:00:01\r\u001b[K     |██████▏                         | 174kB 8.0MB/s eta 0:00:01\r\u001b[K     |██████▌                         | 184kB 8.0MB/s eta 0:00:01\r\u001b[K     |██████▉                         | 194kB 8.0MB/s eta 0:00:01\r\u001b[K     |███████▎                        | 204kB 8.0MB/s eta 0:00:01\r\u001b[K     |███████▋                        | 215kB 8.0MB/s eta 0:00:01\r\u001b[K     |████████                        | 225kB 8.0MB/s eta 0:00:01\r\u001b[K     |████████▎                       | 235kB 8.0MB/s eta 0:00:01\r\u001b[K     |████████▊                       | 245kB 8.0MB/s eta 0:00:01\r\u001b[K     |█████████                       | 256kB 8.0MB/s eta 0:00:01\r\u001b[K     |█████████▍                      | 266kB 8.0MB/s eta 0:00:01\r\u001b[K     |█████████▉                      | 276kB 8.0MB/s eta 0:00:01\r\u001b[K     |██████████▏                     | 286kB 8.0MB/s eta 0:00:01\r\u001b[K     |██████████▌                     | 296kB 8.0MB/s eta 0:00:01\r\u001b[K     |██████████▉                     | 307kB 8.0MB/s eta 0:00:01\r\u001b[K     |███████████▎                    | 317kB 8.0MB/s eta 0:00:01\r\u001b[K     |███████████▋                    | 327kB 8.0MB/s eta 0:00:01\r\u001b[K     |████████████                    | 337kB 8.0MB/s eta 0:00:01\r\u001b[K     |████████████▎                   | 348kB 8.0MB/s eta 0:00:01\r\u001b[K     |████████████▊                   | 358kB 8.0MB/s eta 0:00:01\r\u001b[K     |█████████████                   | 368kB 8.0MB/s eta 0:00:01\r\u001b[K     |█████████████▍                  | 378kB 8.0MB/s eta 0:00:01\r\u001b[K     |█████████████▊                  | 389kB 8.0MB/s eta 0:00:01\r\u001b[K     |██████████████▏                 | 399kB 8.0MB/s eta 0:00:01\r\u001b[K     |██████████████▌                 | 409kB 8.0MB/s eta 0:00:01\r\u001b[K     |██████████████▉                 | 419kB 8.0MB/s eta 0:00:01\r\u001b[K     |███████████████▏                | 430kB 8.0MB/s eta 0:00:01\r\u001b[K     |███████████████▋                | 440kB 8.0MB/s eta 0:00:01\r\u001b[K     |████████████████                | 450kB 8.0MB/s eta 0:00:01\r\u001b[K     |████████████████▎               | 460kB 8.0MB/s eta 0:00:01\r\u001b[K     |████████████████▋               | 471kB 8.0MB/s eta 0:00:01\r\u001b[K     |█████████████████               | 481kB 8.0MB/s eta 0:00:01\r\u001b[K     |█████████████████▍              | 491kB 8.0MB/s eta 0:00:01\r\u001b[K     |█████████████████▊              | 501kB 8.0MB/s eta 0:00:01\r\u001b[K     |██████████████████▏             | 512kB 8.0MB/s eta 0:00:01\r\u001b[K     |██████████████████▌             | 522kB 8.0MB/s eta 0:00:01\r\u001b[K     |██████████████████▉             | 532kB 8.0MB/s eta 0:00:01\r\u001b[K     |███████████████████▏            | 542kB 8.0MB/s eta 0:00:01\r\u001b[K     |███████████████████▋            | 552kB 8.0MB/s eta 0:00:01\r\u001b[K     |████████████████████            | 563kB 8.0MB/s eta 0:00:01\r\u001b[K     |████████████████████▎           | 573kB 8.0MB/s eta 0:00:01\r\u001b[K     |████████████████████▋           | 583kB 8.0MB/s eta 0:00:01\r\u001b[K     |█████████████████████           | 593kB 8.0MB/s eta 0:00:01\r\u001b[K     |█████████████████████▍          | 604kB 8.0MB/s eta 0:00:01\r\u001b[K     |█████████████████████▊          | 614kB 8.0MB/s eta 0:00:01\r\u001b[K     |██████████████████████          | 624kB 8.0MB/s eta 0:00:01\r\u001b[K     |██████████████████████▌         | 634kB 8.0MB/s eta 0:00:01\r\u001b[K     |██████████████████████▉         | 645kB 8.0MB/s eta 0:00:01\r\u001b[K     |███████████████████████▏        | 655kB 8.0MB/s eta 0:00:01\r\u001b[K     |███████████████████████▌        | 665kB 8.0MB/s eta 0:00:01\r\u001b[K     |████████████████████████        | 675kB 8.0MB/s eta 0:00:01\r\u001b[K     |████████████████████████▎       | 686kB 8.0MB/s eta 0:00:01\r\u001b[K     |████████████████████████▋       | 696kB 8.0MB/s eta 0:00:01\r\u001b[K     |█████████████████████████       | 706kB 8.0MB/s eta 0:00:01\r\u001b[K     |█████████████████████████▍      | 716kB 8.0MB/s eta 0:00:01\r\u001b[K     |█████████████████████████▊      | 727kB 8.0MB/s eta 0:00:01\r\u001b[K     |██████████████████████████      | 737kB 8.0MB/s eta 0:00:01\r\u001b[K     |██████████████████████████▍     | 747kB 8.0MB/s eta 0:00:01\r\u001b[K     |██████████████████████████▉     | 757kB 8.0MB/s eta 0:00:01\r\u001b[K     |███████████████████████████▏    | 768kB 8.0MB/s eta 0:00:01\r\u001b[K     |███████████████████████████▌    | 778kB 8.0MB/s eta 0:00:01\r\u001b[K     |████████████████████████████    | 788kB 8.0MB/s eta 0:00:01\r\u001b[K     |████████████████████████████▎   | 798kB 8.0MB/s eta 0:00:01\r\u001b[K     |████████████████████████████▋   | 808kB 8.0MB/s eta 0:00:01\r\u001b[K     |█████████████████████████████   | 819kB 8.0MB/s eta 0:00:01\r\u001b[K     |█████████████████████████████▍  | 829kB 8.0MB/s eta 0:00:01\r\u001b[K     |█████████████████████████████▊  | 839kB 8.0MB/s eta 0:00:01\r\u001b[K     |██████████████████████████████  | 849kB 8.0MB/s eta 0:00:01\r\u001b[K     |██████████████████████████████▍ | 860kB 8.0MB/s eta 0:00:01\r\u001b[K     |██████████████████████████████▉ | 870kB 8.0MB/s eta 0:00:01\r\u001b[K     |███████████████████████████████▏| 880kB 8.0MB/s eta 0:00:01\r\u001b[K     |███████████████████████████████▌| 890kB 8.0MB/s eta 0:00:01\r\u001b[K     |███████████████████████████████▉| 901kB 8.0MB/s eta 0:00:01\r\u001b[K     |████████████████████████████████| 911kB 8.0MB/s \n",
            "\u001b[?25hRequirement already satisfied: urllib3 in /usr/local/lib/python3.6/dist-packages (from selenium) (1.24.3)\n",
            "Installing collected packages: selenium\n",
            "Successfully installed selenium-3.141.0\n",
            "Get:1 http://security.ubuntu.com/ubuntu bionic-security InRelease [88.7 kB]\n",
            "Get:2 http://ppa.launchpad.net/graphics-drivers/ppa/ubuntu bionic InRelease [21.3 kB]\n",
            "Hit:3 http://archive.ubuntu.com/ubuntu bionic InRelease\n",
            "Get:4 http://archive.ubuntu.com/ubuntu bionic-updates InRelease [88.7 kB]\n",
            "Get:5 https://cloud.r-project.org/bin/linux/ubuntu bionic-cran35/ InRelease [3,626 B]\n",
            "Get:6 http://ppa.launchpad.net/marutter/c2d4u3.5/ubuntu bionic InRelease [15.4 kB]\n",
            "Get:7 http://archive.ubuntu.com/ubuntu bionic-backports InRelease [74.6 kB]\n",
            "Ign:8 https://developer.download.nvidia.com/compute/cuda/repos/ubuntu1804/x86_64  InRelease\n",
            "Ign:9 https://developer.download.nvidia.com/compute/machine-learning/repos/ubuntu1804/x86_64  InRelease\n",
            "Hit:10 https://developer.download.nvidia.com/compute/cuda/repos/ubuntu1804/x86_64  Release\n",
            "Get:11 https://developer.download.nvidia.com/compute/machine-learning/repos/ubuntu1804/x86_64  Release [564 B]\n",
            "Get:12 https://developer.download.nvidia.com/compute/machine-learning/repos/ubuntu1804/x86_64  Release.gpg [833 B]\n",
            "Get:13 http://security.ubuntu.com/ubuntu bionic-security/universe amd64 Packages [892 kB]\n",
            "Get:14 http://security.ubuntu.com/ubuntu bionic-security/restricted amd64 Packages [109 kB]\n",
            "Get:15 http://security.ubuntu.com/ubuntu bionic-security/main amd64 Packages [1,067 kB]\n",
            "Get:16 https://cloud.r-project.org/bin/linux/ubuntu bionic-cran35/ Packages [95.7 kB]\n",
            "Get:17 http://ppa.launchpad.net/graphics-drivers/ppa/ubuntu bionic/main amd64 Packages [43.0 kB]\n",
            "Get:18 http://ppa.launchpad.net/marutter/c2d4u3.5/ubuntu bionic/main Sources [1,864 kB]\n",
            "Get:19 http://ppa.launchpad.net/marutter/c2d4u3.5/ubuntu bionic/main amd64 Packages [900 kB]\n",
            "Get:20 http://archive.ubuntu.com/ubuntu bionic-updates/restricted amd64 Packages [125 kB]\n",
            "Get:21 http://archive.ubuntu.com/ubuntu bionic-updates/main amd64 Packages [1,362 kB]\n",
            "Get:22 http://archive.ubuntu.com/ubuntu bionic-updates/universe amd64 Packages [1,421 kB]\n",
            "Get:24 https://developer.download.nvidia.com/compute/machine-learning/repos/ubuntu1804/x86_64  Packages [47.5 kB]\n",
            "Fetched 8,220 kB in 2s (3,701 kB/s)\n",
            "Reading package lists... Done\n",
            "Reading package lists... Done\n",
            "Building dependency tree       \n",
            "Reading state information... Done\n",
            "The following package was automatically installed and is no longer required:\n",
            "  libnvidia-common-440\n",
            "Use 'apt autoremove' to remove it.\n",
            "The following additional packages will be installed:\n",
            "  chromium-browser chromium-browser-l10n chromium-codecs-ffmpeg-extra\n",
            "Suggested packages:\n",
            "  webaccounts-chromium-extension unity-chromium-extension adobe-flashplugin\n",
            "The following NEW packages will be installed:\n",
            "  chromium-browser chromium-browser-l10n chromium-chromedriver\n",
            "  chromium-codecs-ffmpeg-extra\n",
            "0 upgraded, 4 newly installed, 0 to remove and 72 not upgraded.\n",
            "Need to get 76.2 MB of archives.\n",
            "After this operation, 255 MB of additional disk space will be used.\n",
            "Get:1 http://archive.ubuntu.com/ubuntu bionic-updates/universe amd64 chromium-codecs-ffmpeg-extra amd64 84.0.4147.105-0ubuntu0.18.04.1 [1,118 kB]\n",
            "Get:2 http://archive.ubuntu.com/ubuntu bionic-updates/universe amd64 chromium-browser amd64 84.0.4147.105-0ubuntu0.18.04.1 [67.4 MB]\n",
            "Get:3 http://archive.ubuntu.com/ubuntu bionic-updates/universe amd64 chromium-browser-l10n all 84.0.4147.105-0ubuntu0.18.04.1 [3,379 kB]\n",
            "Get:4 http://archive.ubuntu.com/ubuntu bionic-updates/universe amd64 chromium-chromedriver amd64 84.0.4147.105-0ubuntu0.18.04.1 [4,354 kB]\n",
            "Fetched 76.2 MB in 1s (68.9 MB/s)\n",
            "Selecting previously unselected package chromium-codecs-ffmpeg-extra.\n",
            "(Reading database ... 144579 files and directories currently installed.)\n",
            "Preparing to unpack .../chromium-codecs-ffmpeg-extra_84.0.4147.105-0ubuntu0.18.04.1_amd64.deb ...\n",
            "Unpacking chromium-codecs-ffmpeg-extra (84.0.4147.105-0ubuntu0.18.04.1) ...\n",
            "Selecting previously unselected package chromium-browser.\n",
            "Preparing to unpack .../chromium-browser_84.0.4147.105-0ubuntu0.18.04.1_amd64.deb ...\n",
            "Unpacking chromium-browser (84.0.4147.105-0ubuntu0.18.04.1) ...\n",
            "Selecting previously unselected package chromium-browser-l10n.\n",
            "Preparing to unpack .../chromium-browser-l10n_84.0.4147.105-0ubuntu0.18.04.1_all.deb ...\n",
            "Unpacking chromium-browser-l10n (84.0.4147.105-0ubuntu0.18.04.1) ...\n",
            "Selecting previously unselected package chromium-chromedriver.\n",
            "Preparing to unpack .../chromium-chromedriver_84.0.4147.105-0ubuntu0.18.04.1_amd64.deb ...\n",
            "Unpacking chromium-chromedriver (84.0.4147.105-0ubuntu0.18.04.1) ...\n",
            "Setting up chromium-codecs-ffmpeg-extra (84.0.4147.105-0ubuntu0.18.04.1) ...\n",
            "Setting up chromium-browser (84.0.4147.105-0ubuntu0.18.04.1) ...\n",
            "update-alternatives: using /usr/bin/chromium-browser to provide /usr/bin/x-www-browser (x-www-browser) in auto mode\n",
            "update-alternatives: using /usr/bin/chromium-browser to provide /usr/bin/gnome-www-browser (gnome-www-browser) in auto mode\n",
            "Setting up chromium-chromedriver (84.0.4147.105-0ubuntu0.18.04.1) ...\n",
            "Setting up chromium-browser-l10n (84.0.4147.105-0ubuntu0.18.04.1) ...\n",
            "Processing triggers for hicolor-icon-theme (0.17-2) ...\n",
            "Processing triggers for mime-support (3.60ubuntu1) ...\n",
            "Processing triggers for man-db (2.8.3-2ubuntu0.1) ...\n",
            "cp: '/usr/lib/chromium-browser/chromedriver' and '/usr/bin/chromedriver' are the same file\n"
          ],
          "name": "stdout"
        },
        {
          "output_type": "stream",
          "text": [
            "/usr/local/lib/python3.6/dist-packages/ipykernel_launcher.py:20: DeprecationWarning: use options instead of chrome_options\n"
          ],
          "name": "stderr"
        }
      ]
    },
    {
      "cell_type": "code",
      "metadata": {
        "id": "BSk9rQ_tG6u0",
        "colab_type": "code",
        "colab": {}
      },
      "source": [
        "def get_tds():\n",
        "  wd.execute_script(\"window.scrollTo(0, document.body.scrollHeight);\")\n",
        "  #loop sulle raccomandazioni dalla pagina principale\n",
        "  for i in wd.find_elements_by_css_selector('table#ALNI4.tabBody >* tr'):\n",
        "    date = i.find_elements_by_css_selector('.pleft5.pright5.large30')[0].text\n",
        "    reccom = i.find_elements_by_css_selector('.newsColCT.ptop3')[0].text\n",
        "    link = i.find_elements_by_css_selector('.newsColCT.ptop3 > a')[0].get_attribute('href')\n",
        "    output.append({'date': date, 'reccom' : reccom , 'link' : link})"
      ],
      "execution_count": null,
      "outputs": []
    },
    {
      "cell_type": "code",
      "metadata": {
        "id": "XuaHsMhGQy5O",
        "colab_type": "code",
        "colab": {}
      },
      "source": [
        "def click_on_button(x):\n",
        "  element = wd.find_element_by_css_selector(x)\n",
        "  wd.execute_script(\"arguments[0].click();\", element)"
      ],
      "execution_count": null,
      "outputs": []
    },
    {
      "cell_type": "code",
      "metadata": {
        "id": "i48E1Xbps5v6",
        "colab_type": "code",
        "colab": {}
      },
      "source": [
        "#MAIN\n",
        "url = 'https://www.marketscreener.com/INTESA-SANPAOLO-SPA-68944/news-broker-research/' #< sostituisci qui il link\n",
        "wd.set_window_size(1920,1080)\n",
        "wd.maximize_window()\n",
        "wd.get(url)\n",
        "\n",
        "output = []\n",
        "next_button = 1\n",
        "\n",
        "while next_button > 0:\n",
        "  get_tds()\n",
        "  try:\n",
        "    button_container = 'a.nPageEndTab'\n",
        "    wd.find_element_by_css_selector(button_container)\n",
        "    click_on_button(button_container)\n",
        "  except:\n",
        "    next_button = 0"
      ],
      "execution_count": null,
      "outputs": []
    },
    {
      "cell_type": "code",
      "metadata": {
        "id": "ifsauE3V7uvw",
        "colab_type": "code",
        "colab": {
          "base_uri": "https://localhost:8080/",
          "height": 161,
          "referenced_widgets": [
            "581d552931f64ca0931f2ebb6d98e90c",
            "3998a10198ed492cb42da201f39e5a22",
            "64ac4c65a313488585f655db345ae39c",
            "c56c9975167e400d9d7d92640b35bf48",
            "2301134646924b9bb74b34c606b69c3c",
            "306ab13b5f964324adc70602041c0a72",
            "a026dd4e91c14ac19276173b2c559572",
            "7a912f3b3d9e4702881b6424570c2de1"
          ]
        },
        "outputId": "dfc21490-cf16-497d-82e0-e6aac6eae468"
      },
      "source": [
        "full_output = []\n",
        "import time\n",
        "def loop_single_reccomm(k):\n",
        "  url = k['link']\n",
        "  date = k['date']\n",
        "  title = k['reccom']\n",
        "  wd.get(url)\n",
        "  time.sleep(abs(np.random.normal(2,1)))\n",
        "  time_published = wd.find_element_by_css_selector('meta[itemprop=\"datePublished\"]').get_attribute('content')\n",
        "  desc = wd.find_element_by_id('grantexto').text\n",
        "  full_output.append({'date_short' : date, 'title' : title, 'url': url, 'date_long' : time_published, 'desc' : desc})\n",
        "  return full_output\n",
        "\n",
        "for i in tqdm(output):\n",
        "  loop_single_reccomm(i)\n",
        "print (full_output)"
      ],
      "execution_count": null,
      "outputs": [
        {
          "output_type": "stream",
          "text": [
            "/usr/local/lib/python3.6/dist-packages/ipykernel_launcher.py:14: TqdmDeprecationWarning: This function will be removed in tqdm==5.0.0\n",
            "Please use `tqdm.notebook.tqdm` instead of `tqdm.tqdm_notebook`\n",
            "  \n"
          ],
          "name": "stderr"
        },
        {
          "output_type": "display_data",
          "data": {
            "application/vnd.jupyter.widget-view+json": {
              "model_id": "581d552931f64ca0931f2ebb6d98e90c",
              "version_minor": 0,
              "version_major": 2
            },
            "text/plain": [
              "HBox(children=(FloatProgress(value=0.0, max=98.0), HTML(value='')))"
            ]
          },
          "metadata": {
            "tags": []
          }
        },
        {
          "output_type": "stream",
          "text": [
            "\n",
            "[{'date_short': '08/07', 'title': 'INTESA SANPAOLO S.P.A. : Upgraded to Buy by UBS', 'url': 'https://www.marketscreener.com/INTESA-SANPAOLO-SPA-68944/news/INTESA-SANPAOLO-S-P-A-Upgraded-to-Buy-by-UBS-31076623/', 'date_long': '2020-08-07T02:29:03-04:00', 'desc': \"UBS's analyst Ignacio Cerezo upgrades his rating from Neutral to Buy. The target price has been lifted and is now set at EUR 2.40 compared to EUR 1.95 before.\"}, {'date_short': '08/05', 'title': 'INTESA SANPAOLO S.P.A. : Kepler Cheuvreux reaffirms its Buy rating', 'url': 'https://www.marketscreener.com/INTESA-SANPAOLO-SPA-68944/news/INTESA-SANPAOLO-S-P-A-Kepler-Cheuvreux-reaffirms-its-Buy-rating-31061006/', 'date_long': '2020-08-05T08:10:03-04:00', 'desc': 'Anna Maria Benassi from Kepler Cheuvreux retains his positive opinion on the stock with a Buy rating. The target price is reviewed upwards from EUR 2.10 to EUR 2.22.'}, {'date_short': '08/04', 'title': 'INTESA SANPAOLO S.P.A. : Jefferies reiterates its Buy rating', 'url': 'https://www.marketscreener.com/INTESA-SANPAOLO-SPA-68944/news/INTESA-SANPAOLO-S-P-A-Jefferies-reiterates-its-Buy-rating-31056906/', 'date_long': '2020-08-04T17:43:05-04:00', 'desc': 'In a research note, Jefferies analyst Benjie Creelan-Sandford has maintained his recommendation on the stock with a Buy rating.. The target price is being increased from EUR 2.00 to EUR 2.10 .'}, {'date_short': '08/04', 'title': 'INTESA SANPAOLO S.P.A. : Receives a Buy rating from Jefferies', 'url': 'https://www.marketscreener.com/INTESA-SANPAOLO-SPA-68944/news/INTESA-SANPAOLO-S-P-A-Receives-a-Buy-rating-from-Jefferies-31053715/', 'date_long': '2020-08-04T09:47:02-04:00', 'desc': 'In a research note, Jefferies analyst Benjie Creelan-Sandford has maintained his recommendation on the stock with a Buy rating.. The target price continues to be set at EUR 2.'}, {'date_short': '08/04', 'title': 'INTESA SANPAOLO S.P.A. : Gets a Buy rating from JP Morgan', 'url': 'https://www.marketscreener.com/INTESA-SANPAOLO-SPA-68944/news/INTESA-SANPAOLO-S-P-A-Gets-a-Buy-rating-from-JP-Morgan-31053569/', 'date_long': '2020-08-04T09:41:02-04:00', 'desc': 'Already positive, the research from JP Morgan and its analyst Delphine Lee still consider the stock as a Buy opportunity.. The target price is unchanged at EUR 2.30.'}, {'date_short': '07/31', 'title': 'INTESA SANPAOLO S.P.A. : JP Morgan gives a Buy rating', 'url': 'https://www.marketscreener.com/INTESA-SANPAOLO-SPA-68944/news/INTESA-SANPAOLO-S-P-A-JP-Morgan-gives-a-Buy-rating-31027947/', 'date_long': '2020-07-31T02:40:03-04:00', 'desc': 'Delphine Lee from JP Morgan retains his positive opinion on the stock with a Buy rating. The target price remains unchanged at EUR 2.30.'}, {'date_short': '07/20', 'title': 'INTESA SANPAOLO S.P.A. : UBS remains Neutral', 'url': 'https://www.marketscreener.com/INTESA-SANPAOLO-SPA-68944/news/INTESA-SANPAOLO-S-P-A-UBS-remains-Neutral-30956721/', 'date_long': '2020-07-20T09:21:04-04:00', 'desc': 'UBS confirms his opinion on the stock and remains Neutral. The target price is still set at EUR 1.95.'}, {'date_short': '07/10', 'title': 'INTESA SANPAOLO S.P.A. : UBS sticks Neutral', 'url': 'https://www.marketscreener.com/INTESA-SANPAOLO-SPA-68944/news/INTESA-SANPAOLO-S-P-A-UBS-sticks-Neutral-30905883/', 'date_long': '2020-07-10T06:48:02-04:00', 'desc': \"Initially Neutral on the company, UBS's analyst Ignacio Cerezo maintained his recommendation.. The target price is being increased from EUR 1.85 to EUR 1.95.\"}, {'date_short': '07/08', 'title': 'INTESA SANPAOLO S.P.A. : Kepler Cheuvreux reiterates its Buy rating', 'url': 'https://www.marketscreener.com/INTESA-SANPAOLO-SPA-68944/news/INTESA-SANPAOLO-S-P-A-Kepler-Cheuvreux-reiterates-its-Buy-rating-30893493/', 'date_long': '2020-07-08T08:50:02-04:00', 'desc': 'Anna Maria Benassi from Kepler Cheuvreux retains his positive opinion on the stock with a Buy rating. The target price is revised upwards from EUR 2.10 to EUR 2.'}, {'date_short': '07/01', 'title': 'INTESA SANPAOLO S.P.A. : Upgraded to Buy by Jefferies', 'url': 'https://www.marketscreener.com/INTESA-SANPAOLO-SPA-68944/news/INTESA-SANPAOLO-S-P-A-Upgraded-to-Buy-by-Jefferies-30853609/', 'date_long': '2020-07-01T02:18:02-04:00', 'desc': \"Jefferies's analyst Benjie Creelan-Sandford has upgraded his rating from Neutral to Buy. The target price has been raised from EUR 1.50 to EUR 2.00.\"}, {'date_short': '06/15', 'title': 'INTESA SANPAOLO S.P.A. : UBS reiterates its Neutral rating', 'url': 'https://www.marketscreener.com/INTESA-SANPAOLO-SPA-68944/news/INTESA-SANPAOLO-S-P-A-UBS-reiterates-its-Neutral-rating-30771265/', 'date_long': '2020-06-15T07:21:02-04:00', 'desc': 'Ignacio Cerezo from UBS retains his Neutral opinion on the stock. The target price has been lifted and is now set at EUR 1.85 compared to EUR 1.75 before.'}, {'date_short': '05/13', 'title': 'INTESA SANPAOLO S.P.A. : HSBC reiterates its Buy rating', 'url': 'https://www.marketscreener.com/INTESA-SANPAOLO-SPA-68944/news/INTESA-SANPAOLO-S-P-A-HSBC-reiterates-its-Buy-rating-30593309/', 'date_long': '2020-05-13T03:39:11-04:00', 'desc': 'Already positive, the research from HSBC and its analyst Domenico Santoro still consider the stock as a Buy opportunity.. The target price has been revised downwards and is now set at EUR 2.10 as compared to EUR 2.30 previously..'}, {'date_short': '05/06', 'title': 'INTESA SANPAOLO S.P.A. : Gets a Neutral rating from UBS', 'url': 'https://www.marketscreener.com/INTESA-SANPAOLO-SPA-68944/news/INTESA-SANPAOLO-S-P-A-Gets-a-Neutral-rating-from-UBS-30548967/', 'date_long': '2020-05-06T08:03:01-04:00', 'desc': 'In a research note, UBS analyst Ignacio Cerezo has maintained his recommendation on the stock with a Neutral rating. The target price is unchanged and still at EUR 1.75.'}, {'date_short': '05/06', 'title': 'INTESA SANPAOLO S.P.A. : Gets a Buy rating from Deutsche Bank', 'url': 'https://www.marketscreener.com/INTESA-SANPAOLO-SPA-68944/news/INTESA-SANPAOLO-S-P-A-Gets-a-Buy-rating-from-Deutsche-Bank-30548612/', 'date_long': '2020-05-06T07:21:02-04:00', 'desc': 'Paola Sabbione from Deutsche Bank retains his positive opinion on the stock with a Buy rating. The target price is still set at EUR 1.70.'}, {'date_short': '04/23', 'title': 'INTESA SANPAOLO S.P.A. : Deutsche Bank reiterates its Buy rating', 'url': 'https://www.marketscreener.com/INTESA-SANPAOLO-SPA-68944/news/INTESA-SANPAOLO-S-P-A-Deutsche-Bank-reiterates-its-Buy-rating-30465480/', 'date_long': '2020-04-23T09:21:04-04:00', 'desc': 'Paola Sabbione from Deutsche Bank retains his positive opinion on the stock with a Buy rating. Previously set at EUR 3, the target price is lowered to EUR 1.70.'}, {'date_short': '04/16', 'title': 'INTESA SANPAOLO S.P.A. : Oddo gives a Sell rating', 'url': 'https://www.marketscreener.com/INTESA-SANPAOLO-SPA-68944/news/INTESA-SANPAOLO-S-P-A-Oddo-gives-a-Sell-rating-30420739/', 'date_long': '2020-04-16T07:24:04-04:00', 'desc': \"Oddo's analyst Jean Sassus downgrades his rating from Neutral to Sell. The target price is decreased from EUR 2.40 to EUR 1.80.\"}, {'date_short': '04/13', 'title': 'INTESA SANPAOLO S.P.A. : UBS remains Neutral', 'url': 'https://www.marketscreener.com/INTESA-SANPAOLO-SPA-68944/news/INTESA-SANPAOLO-S-P-A-UBS-remains-Neutral-30404326/', 'date_long': '2020-04-13T14:27:02-04:00', 'desc': 'Analyst Ignacio Cerezo from UBS research gives the stock a Neutral rating. The target price is reduced from EUR 2.60 to EUR 1.75.'}, {'date_short': '04/03', 'title': 'INTESA SANPAOLO S.P.A. : Jefferies from Sell to Neutral', 'url': 'https://www.marketscreener.com/INTESA-SANPAOLO-SPA-68944/news/INTESA-SANPAOLO-S-P-A-Jefferies-from-Sell-to-Neutral-30300323/', 'date_long': '2020-04-03T01:13:47-04:00', 'desc': \"Jefferies's analyst Benjie Creelan-Sandford upgrades the rating on the company from Sell to Neutral. The target price is lowered from EUR 1.90 to EUR 1.50.\"}, {'date_short': '03/26', 'title': 'INTESA SANPAOLO S.P.A. : Berenberg maintains a Sell rating', 'url': 'https://www.marketscreener.com/INTESA-SANPAOLO-SPA-68944/news/INTESA-SANPAOLO-S-P-A-Berenberg-maintains-a-Sell-rating-30338261/', 'date_long': '2020-03-26T04:10:40-04:00', 'desc': 'In his latest research note, analyst Adam Barrass confirms his negative recommendation. The broker Berenberg is keeping its Sell rating. The target price is reduced from EUR 1.85 to EUR 1.30.'}, {'date_short': '03/19', 'title': 'INTESA SANPAOLO S.P.A. : Buy rating from HSBC', 'url': 'https://www.marketscreener.com/INTESA-SANPAOLO-SPA-68944/news/INTESA-SANPAOLO-S-P-A-Buy-rating-from-HSBC-30337123/', 'date_long': '2020-03-19T03:00:11-04:00', 'desc': 'HSBC is positive on the stock with a Buy rating. Previously set at EUR 2.90, the target price is lowered to EUR 2.30.'}, {'date_short': '02/21', 'title': 'INTESA SANPAOLO S.P.A. : Gets a Neutral rating from UBS', 'url': 'https://www.marketscreener.com/INTESA-SANPAOLO-SPA-68944/news/INTESA-SANPAOLO-S-P-A-Gets-a-Neutral-rating-from-UBS-30341406/', 'date_long': '2020-02-21T05:32:26-05:00', 'desc': 'UBS confirms his opinion on the stock and remains Neutral. The target price is still set at EUR 2.60.'}, {'date_short': '02/18', 'title': 'INTESA SANPAOLO S.P.A. : UBS reaffirms its Neutral rating', 'url': 'https://www.marketscreener.com/INTESA-SANPAOLO-SPA-68944/news/INTESA-SANPAOLO-S-P-A-UBS-reaffirms-its-Neutral-rating-30340904/', 'date_long': '2020-02-18T06:13:11-05:00', 'desc': 'In his latest research note, analyst Ignacio Cerezo confirms his recommendation. The broker UBS is keeping its Neutral rating. The target price remains unchanged at EUR 2.60.'}, {'date_short': '02/18', 'title': 'INTESA SANPAOLO S.P.A. : JP Morgan reiterates its Neutral rating', 'url': 'https://www.marketscreener.com/INTESA-SANPAOLO-SPA-68944/news/INTESA-SANPAOLO-S-P-A-JP-Morgan-reiterates-its-Neutral-rating-30340836/', 'date_long': '2020-02-18T02:03:31-05:00', 'desc': \"JP Morgan's research confirms his advice and maintains his neutral opinion on the stock.. The target price continues to be set at EUR 2.50.\"}, {'date_short': '02/06', 'title': 'INTESA SANPAOLO S.P.A. : UBS remains Neutral', 'url': 'https://www.marketscreener.com/INTESA-SANPAOLO-SPA-68944/news/INTESA-SANPAOLO-S-P-A-UBS-remains-Neutral-30339580/', 'date_long': '2020-02-06T06:53:07-05:00', 'desc': 'Analyst Ignacio Cerezo from UBS research gives the stock a Neutral rating. The target price is reviewed upwards from EUR 2.40 to EUR 2.60.'}, {'date_short': '02/05', 'title': 'INTESA SANPAOLO S.P.A. : Jefferies reaffirms its Sell rating', 'url': 'https://www.marketscreener.com/INTESA-SANPAOLO-SPA-68944/news/INTESA-SANPAOLO-S-P-A-Jefferies-reaffirms-its-Sell-rating-30339446/', 'date_long': '2020-02-05T12:34:43-05:00', 'desc': 'Jefferies is negative on the stock with a Sell rating. The target price has been raised to EUR 1.90 from EUR 1.80.'}, {'date_short': '02/05', 'title': 'INTESA SANPAOLO S.P.A. : Receives a Buy rating from Deutsche Bank', 'url': 'https://www.marketscreener.com/INTESA-SANPAOLO-SPA-68944/news/INTESA-SANPAOLO-S-P-A-Receives-a-Buy-rating-from-Deutsche-Bank-30339422/', 'date_long': '2020-02-05T07:58:28-05:00', 'desc': 'Analyst Paola Sabbione from Deutsche Bank research considers the stock attractive and recommends it with a Buy rating. The target price has been raised to EUR 3.00 from EUR 2.70.'}, {'date_short': '02/05', 'title': 'INTESA SANPAOLO S.P.A. : JP Morgan gives a Neutral rating', 'url': 'https://www.marketscreener.com/INTESA-SANPAOLO-SPA-68944/news/INTESA-SANPAOLO-S-P-A-JP-Morgan-gives-a-Neutral-rating-30339308/', 'date_long': '2020-02-05T04:10:32-05:00', 'desc': 'JP Morgan analyst Delphine Lee maintains his Neutral opinion on the stock. The target price has been raised from EUR 2.40 to EUR 2.50.'}, {'date_short': '02/04', 'title': 'INTESA SANPAOLO S.P.A. : Sell rating from Jefferies', 'url': 'https://www.marketscreener.com/INTESA-SANPAOLO-SPA-68944/news/INTESA-SANPAOLO-S-P-A-Sell-rating-from-Jefferies-30339242/', 'date_long': '2020-02-04T11:02:23-05:00', 'desc': 'Benjie Creelan-Sandford from Jefferies retains his negative opinion on the stock with a Sell rating. The target price is unchanged and still at EUR 1.8.'}, {'date_short': '02/04', 'title': 'INTESA SANPAOLO S.P.A. : JP Morgan remains Neutral', 'url': 'https://www.marketscreener.com/INTESA-SANPAOLO-SPA-68944/news/INTESA-SANPAOLO-S-P-A-JP-Morgan-remains-Neutral-30339214/', 'date_long': '2020-02-04T09:22:35-05:00', 'desc': 'Delphine Lee from JP Morgan retains his Neutral opinion on the stock. The target price remains unchanged at EUR 2.40.'}, {'date_short': '02/04', 'title': 'INTESA SANPAOLO S.P.A. : Goldman Sachs remains a Sell rating', 'url': 'https://www.marketscreener.com/INTESA-SANPAOLO-SPA-68944/news/INTESA-SANPAOLO-S-P-A-Goldman-Sachs-remains-a-Sell-rating-30339202/', 'date_long': '2020-02-04T08:59:19-05:00', 'desc': 'In a research note published by Jean-Francois Neuez, Goldman Sachs advises its customers to Sell the stock. The target price continues to be set at EUR 2.20.'}, {'date_short': '01/30', 'title': 'INTESA SANPAOLO S.P.A. : Sell rating from Goldman Sachs', 'url': 'https://www.marketscreener.com/INTESA-SANPAOLO-SPA-68944/news/INTESA-SANPAOLO-S-P-A-Sell-rating-from-Goldman-Sachs-30345726/', 'date_long': '2020-01-30T15:56:32-05:00', 'desc': 'Goldman Sachs analyst reiterate his Sell rating on the stock. The target price is unchanged at EUR 2.20.'}, {'date_short': '01/28', 'title': 'INTESA SANPAOLO S.P.A. : UBS gives a Neutral rating', 'url': 'https://www.marketscreener.com/INTESA-SANPAOLO-SPA-68944/news/INTESA-SANPAOLO-S-P-A-UBS-gives-a-Neutral-rating-30345227/', 'date_long': '2020-01-28T07:07:34-05:00', 'desc': 'Ignacio Cerezo from UBS retains his Neutral opinion on the stock. Previously set at EUR 2.35, the target price is lowered to EUR 2.40.'}, {'date_short': '01/27', 'title': 'INTESA SANPAOLO S.P.A. : JP Morgan gives a Neutral rating', 'url': 'https://www.marketscreener.com/INTESA-SANPAOLO-SPA-68944/news/INTESA-SANPAOLO-S-P-A-JP-Morgan-gives-a-Neutral-rating-30345027/', 'date_long': '2020-01-27T06:26:16-05:00', 'desc': 'In a research note published by Delphine Lee, JP Morgan gives a Neutral rating to the stock.. The target price remains set at EUR 2.40.'}, {'date_short': '01/24', 'title': 'INTESA SANPAOLO S.P.A. : Credit Suisse remains a Sell rating', 'url': 'https://www.marketscreener.com/INTESA-SANPAOLO-SPA-68944/news/INTESA-SANPAOLO-S-P-A-Credit-Suisse-remains-a-Sell-rating-30344855/', 'date_long': '2020-01-24T04:58:40-05:00', 'desc': \"Credit Suisse's analyst Andrea Unzueta maintains his Sell rating on the stock. The target price is unchanged at EUR 1.70.\"}, {'date_short': '01/22', 'title': 'INTESA SANPAOLO S.P.A. : Deutsche Bank keeps its Buy rating', 'url': 'https://www.marketscreener.com/INTESA-SANPAOLO-SPA-68944/news/INTESA-SANPAOLO-S-P-A-Deutsche-Bank-keeps-its-Buy-rating-30344633/', 'date_long': '2020-01-22T08:37:59-05:00', 'desc': 'Analyst Paola Sabbione from Deutsche Bank research considers the stock attractive and recommends it with a Buy rating. The target price continues to be set at EUR 2.70.'}, {'date_short': '01/16', 'title': 'INTESA SANPAOLO S.P.A. : Goldman Sachs reiterates its Sell rating', 'url': 'https://www.marketscreener.com/INTESA-SANPAOLO-SPA-68944/news/INTESA-SANPAOLO-S-P-A-Goldman-Sachs-reiterates-its-Sell-rating-30343697/', 'date_long': '2020-01-16T07:32:18-05:00', 'desc': 'In his latest research note, analyst Jean-Francois Neuez confirms his negative recommendation. The broker Goldman Sachs is keeping its Sell rating. The target price is revised downwards from EUR 2.15 to EUR 2.20.'}, {'date_short': '01/03', 'title': 'INTESA SANPAOLO S.P.A. : JP Morgan gives a Neutral rating', 'url': 'https://www.marketscreener.com/INTESA-SANPAOLO-SPA-68944/news/INTESA-SANPAOLO-S-P-A-JP-Morgan-gives-a-Neutral-rating-30342283/', 'date_long': '2020-01-03T13:32:03-05:00', 'desc': \"JP Morgan's research confirms his advice and maintains his neutral opinion on the stock.. The target price has been raised from EUR 2.20 to EUR 2.40.\"}, {'date_short': '2019', 'title': 'INTESA SANPAOLO S.P.A. : UBS reaffirms its Neutral rating', 'url': 'https://www.marketscreener.com/INTESA-SANPAOLO-SPA-68944/news/INTESA-SANPAOLO-S-P-A-UBS-reaffirms-its-Neutral-rating-30351383/', 'date_long': '2019-12-20T05:49:57-05:00', 'desc': \"UBS's research confirms his advice and maintains his neutral opinion on the stock.. The target price continues to be set at EUR 2.35.\"}, {'date_short': '2019', 'title': 'INTESA SANPAOLO S.P.A. : Kepler Chevreux reiterates its Buy rating', 'url': 'https://www.marketscreener.com/INTESA-SANPAOLO-SPA-68944/news/INTESA-SANPAOLO-S-P-A-Kepler-Chevreux-reiterates-its-Buy-rating-30351377/', 'date_long': '2019-12-20T05:18:14-05:00', 'desc': 'Kepler Chevreux is positive on the stock with a Buy rating. Previously set at EUR 2.65, the target price is lowered to EUR 2.68.'}, {'date_short': '2019', 'title': 'INTESA SANPAOLO S.P.A. : Jefferies keeps a Sell rating', 'url': 'https://www.marketscreener.com/INTESA-SANPAOLO-SPA-68944/news/INTESA-SANPAOLO-S-P-A-Jefferies-keeps-a-Sell-rating-30351331/', 'date_long': '2019-12-19T09:15:10-05:00', 'desc': 'Benjie Creelan-Sandford from Jefferies retains his negative opinion on the stock with a Sell rating. The target price is still set at EUR 1.80.'}, {'date_short': '2019', 'title': 'INTESA SANPAOLO S.P.A. : Sell rating from RBC', 'url': 'https://www.marketscreener.com/INTESA-SANPAOLO-SPA-68944/news/INTESA-SANPAOLO-S-P-A-Sell-rating-from-RBC-30354614/', 'date_long': '2019-11-22T02:51:52-05:00', 'desc': 'RBC analyst reiterate his Sell rating on the stock. The target price is being increased from EUR 2.20 to EUR 2.40.'}, {'date_short': '2019', 'title': 'INTESA SANPAOLO S.P.A. : UBS gives a Neutral rating', 'url': 'https://www.marketscreener.com/INTESA-SANPAOLO-SPA-68944/news/INTESA-SANPAOLO-S-P-A-UBS-gives-a-Neutral-rating-30354428/', 'date_long': '2019-11-20T04:07:06-05:00', 'desc': 'In a research note published by Ignacio Cerezo, UBS gives a Neutral rating to the stock.. Previously set at EUR 2.25, the target price has been raised to EUR 2.35.'}, {'date_short': '2019', 'title': 'INTESA SANPAOLO S.P.A. : HSBC maintains a Buy rating', 'url': 'https://www.marketscreener.com/INTESA-SANPAOLO-SPA-68944/news/INTESA-SANPAOLO-S-P-A-HSBC-maintains-a-Buy-rating-30354152/', 'date_long': '2019-11-18T01:36:34-05:00', 'desc': 'HSBC analyst Domenico Santoro maintains his Buy rating on the stock. The target price remains set at EUR 2.70.'}, {'date_short': '2019', 'title': 'INTESA SANPAOLO S.P.A. : Credit Suisse maintains a Sell rating', 'url': 'https://www.marketscreener.com/INTESA-SANPAOLO-SPA-68944/news/INTESA-SANPAOLO-S-P-A-Credit-Suisse-maintains-a-Sell-rating-30352605/', 'date_long': '2019-11-07T05:04:14-05:00', 'desc': \"Credit Suisse's analyst Andrea Unzueta maintains his Sell rating on the stock. The target price is unchanged at EUR 1.70.\"}, {'date_short': '2019', 'title': 'INTESA SANPAOLO S.P.A. : Credit Suisse maintains a Sell rating', 'url': 'https://www.marketscreener.com/INTESA-SANPAOLO-SPA-68944/news/INTESA-SANPAOLO-S-P-A-Credit-Suisse-maintains-a-Sell-rating-30352469/', 'date_long': '2019-11-07T01:58:06-05:00', 'desc': 'Credit Suisse reiterate its Sell rating. The target price remains unchanged at EUR 1.70.'}, {'date_short': '2019', 'title': 'INTESA SANPAOLO S.P.A. : JP Morgan sticks Neutral', 'url': 'https://www.marketscreener.com/INTESA-SANPAOLO-SPA-68944/news/INTESA-SANPAOLO-S-P-A-JP-Morgan-sticks-Neutral-30352423/', 'date_long': '2019-11-06T14:23:18-05:00', 'desc': 'JP Morgan confirms his opinion on the stock and remains Neutral. The target price has been raised from EUR 2.10 to EUR 2.20.'}, {'date_short': '2019', 'title': 'INTESA SANPAOLO S.P.A. : Kepler Chevreux reiterates its Buy rating', 'url': 'https://www.marketscreener.com/INTESA-SANPAOLO-SPA-68944/news/INTESA-SANPAOLO-S-P-A-Kepler-Chevreux-reiterates-its-Buy-rating-30352361/', 'date_long': '2019-11-06T06:52:07-05:00', 'desc': 'Kepler Chevreux is positive on the stock with a Buy rating. The target price has been raised to EUR 2.65 from EUR 2.45.'}, {'date_short': '2019', 'title': 'INTESA SANPAOLO S.P.A. : Buy rating from HSBC', 'url': 'https://www.marketscreener.com/INTESA-SANPAOLO-SPA-68944/news/INTESA-SANPAOLO-S-P-A-Buy-rating-from-HSBC-30352226/', 'date_long': '2019-11-06T03:56:04-05:00', 'desc': 'HSBC is positive on the stock with a Buy rating. The target price has been lifted and is now set at EUR 2.70 compared to EUR 2.50 before.'}, {'date_short': '2019', 'title': 'INTESA SANPAOLO S.P.A. : RBC keeps a Sell rating', 'url': 'https://www.marketscreener.com/INTESA-SANPAOLO-SPA-68944/news/INTESA-SANPAOLO-S-P-A-RBC-keeps-a-Sell-rating-30352122/', 'date_long': '2019-11-05T10:14:55-05:00', 'desc': 'Adrian Cighi from RBC retains his negative opinion on the stock with a Sell rating.'}, {'date_short': '2019', 'title': 'INTESA SANPAOLO S.P.A. : Gets a Neutral rating from JP Morgan', 'url': 'https://www.marketscreener.com/INTESA-SANPAOLO-SPA-68944/news/INTESA-SANPAOLO-S-P-A-Gets-a-Neutral-rating-from-JP-Morgan-30352116/', 'date_long': '2019-11-05T08:26:09-05:00', 'desc': 'JP Morgan confirms his opinion on the stock and remains Neutral. The target price remains set at EUR 2.10.'}, {'date_short': '2019', 'title': 'INTESA SANPAOLO S.P.A. : Jefferies reiterates its Sell rating', 'url': 'https://www.marketscreener.com/INTESA-SANPAOLO-SPA-68944/news/INTESA-SANPAOLO-S-P-A-Jefferies-reiterates-its-Sell-rating-30352108/', 'date_long': '2019-11-05T08:02:03-05:00', 'desc': 'Benjie Creelan-Sandford from Jefferies retains his negative opinion on the stock with a Sell rating. The target price is still set at EUR 1.70.'}, {'date_short': '2019', 'title': 'INTESA SANPAOLO S.P.A. : Sell rating from Goldman Sachs', 'url': 'https://www.marketscreener.com/INTESA-SANPAOLO-SPA-68944/news/INTESA-SANPAOLO-S-P-A-Sell-rating-from-Goldman-Sachs-30352106/', 'date_long': '2019-11-05T07:52:24-05:00', 'desc': \"Goldman Sachs's analyst Jean-Francois Neuez maintains his Sell rating on the stock. The target price is unchanged and still at EUR 2.15.\"}, {'date_short': '2019', 'title': 'INTESA SANPAOLO S.P.A. : RBC lowers to Sell rating', 'url': 'https://www.marketscreener.com/INTESA-SANPAOLO-SPA-68944/news/INTESA-SANPAOLO-S-P-A-RBC-lowers-to-Sell-rating-30351690/', 'date_long': '2019-11-04T01:27:26-05:00', 'desc': 'RBC downgrades INTESA SANPAOLO S.P.A. from Neutral to Sell. The target price is lowered from EUR 2.30 to EUR 2.20.'}, {'date_short': '2019', 'title': 'INTESA SANPAOLO S.P.A. : Goldman Sachs remains a Sell rating', 'url': 'https://www.marketscreener.com/INTESA-SANPAOLO-SPA-68944/news/INTESA-SANPAOLO-S-P-A-Goldman-Sachs-remains-a-Sell-rating-30351582/', 'date_long': '2019-11-01T05:15:49-04:00', 'desc': 'Goldman Sachs analyst Jean-Francois Neuez reiterate his Sell rating on the stock. The target price is increased from EUR 1.95 to EUR 2.15.'}, {'date_short': '2019', 'title': 'INTESA SANPAOLO S.P.A. : Gets a Sell rating from Credit Suisse', 'url': 'https://www.marketscreener.com/INTESA-SANPAOLO-SPA-68944/news/INTESA-SANPAOLO-S-P-A-Gets-a-Sell-rating-from-Credit-Suisse-30358457/', 'date_long': '2019-10-25T07:22:48-04:00', 'desc': 'Andrea Unzueta from Credit Suisse retains his negative opinion on the stock with a Sell rating. The target price is lowered from EUR 1.80 to EUR 1.70.'}, {'date_short': '2019', 'title': 'INTESA SANPAOLO S.P.A. : JP Morgan reaffirms its Neutral rating', 'url': 'https://www.marketscreener.com/INTESA-SANPAOLO-SPA-68944/news/INTESA-SANPAOLO-S-P-A-JP-Morgan-reaffirms-its-Neutral-rating-30357694/', 'date_long': '2019-10-21T15:12:42-04:00', 'desc': 'JP Morgan analyst Kian Abouhossein maintains his Neutral opinion on the stock. The target price remains set at EUR 2.10.'}, {'date_short': '2019', 'title': 'INTESA SANPAOLO S.P.A. : UBS sticks Neutral', 'url': 'https://www.marketscreener.com/INTESA-SANPAOLO-SPA-68944/news/INTESA-SANPAOLO-S-P-A-UBS-sticks-Neutral-30356864/', 'date_long': '2019-10-15T06:11:33-04:00', 'desc': 'Analyst Charmsol Yoon from UBS research gives the stock a Neutral rating.'}, {'date_short': '2019', 'title': 'INTESA SANPAOLO S.P.A. : UBS remains Neutral', 'url': 'https://www.marketscreener.com/INTESA-SANPAOLO-SPA-68944/news/INTESA-SANPAOLO-S-P-A-UBS-remains-Neutral-30355627/', 'date_long': '2019-10-04T04:20:22-04:00', 'desc': 'Analyst Ignacio Cerezo from UBS research gives the stock a Neutral rating. The target price has been revised upwards and is now set at EUR 2.25, compared with EUR 2.15 previously.'}, {'date_short': '2019', 'title': 'INTESA SANPAOLO S.P.A. : Gets a Buy rating from HSBC', 'url': 'https://www.marketscreener.com/INTESA-SANPAOLO-SPA-68944/news/INTESA-SANPAOLO-S-P-A-Gets-a-Buy-rating-from-HSBC-30361609/', 'date_long': '2019-09-20T08:49:10-04:00', 'desc': 'HSBC analyst Domenico Santoro maintains his Buy rating on the stock. The target price is still set at EUR 2.50.'}, {'date_short': '2019', 'title': 'INTESA SANPAOLO S.P.A. : Goldman Sachs keeps a Sell rating', 'url': 'https://www.marketscreener.com/INTESA-SANPAOLO-SPA-68944/news/INTESA-SANPAOLO-S-P-A-Goldman-Sachs-keeps-a-Sell-rating-30361521/', 'date_long': '2019-09-20T04:36:57-04:00', 'desc': 'Jernej Omahen from Goldman Sachs retains his negative opinion on the stock with a Sell rating. The target price continues to be set at EUR 1.95.'}, {'date_short': '2019', 'title': 'INTESA SANPAOLO S.P.A. : Jefferies gives a Sell rating', 'url': 'https://www.marketscreener.com/INTESA-SANPAOLO-SPA-68944/news/INTESA-SANPAOLO-S-P-A-Jefferies-gives-a-Sell-rating-30360780/', 'date_long': '2019-09-12T05:33:30-04:00', 'desc': 'Benjie Creelan-Sandford from Jefferies retains his negative opinion on the stock with a Sell rating. The target price is still set at EUR 1.70.'}, {'date_short': '2019', 'title': 'INTESA SANPAOLO S.P.A. : JP Morgan gives a Neutral rating', 'url': 'https://www.marketscreener.com/INTESA-SANPAOLO-SPA-68944/news/INTESA-SANPAOLO-S-P-A-JP-Morgan-gives-a-Neutral-rating-30360052/', 'date_long': '2019-09-04T15:51:47-04:00', 'desc': 'In a research note published by Kian Abouhossein, JP Morgan gives a Neutral rating to the stock.. The target price is unchanged and still at EUR 2.10.'}, {'date_short': '2019', 'title': 'INTESA SANPAOLO S.P.A. : Goldman Sachs remains a Sell rating', 'url': 'https://www.marketscreener.com/INTESA-SANPAOLO-SPA-68944/news/INTESA-SANPAOLO-S-P-A-Goldman-Sachs-remains-a-Sell-rating-30365270/', 'date_long': '2019-08-22T03:49:08-04:00', 'desc': 'Goldman Sachs analyst reiterate his Sell rating on the stock. The target price is revised downwards from EUR 2.00 to EUR 1.95.'}, {'date_short': '2019', 'title': 'INTESA SANPAOLO S.P.A. : JP Morgan sticks Neutral', 'url': 'https://www.marketscreener.com/INTESA-SANPAOLO-SPA-68944/news/INTESA-SANPAOLO-S-P-A-JP-Morgan-sticks-Neutral-30364612/', 'date_long': '2019-08-13T16:26:34-04:00', 'desc': 'In a research note, JP Morgan analyst Kian Abouhossein has maintained his recommendation on the stock with a Neutral rating. The target price continues to be set at EUR 2.10.'}, {'date_short': '2019', 'title': 'INTESA SANPAOLO S.P.A. : UBS sticks Neutral', 'url': 'https://www.marketscreener.com/INTESA-SANPAOLO-SPA-68944/news/INTESA-SANPAOLO-S-P-A-UBS-sticks-Neutral-30363030/', 'date_long': '2019-08-02T08:01:58-04:00', 'desc': 'UBS analyst Ignacio Cerezo maintains his Neutral opinion on the stock. Previously set at EUR 2.05, the target price has been raised to EUR 2.15.'}, {'date_short': '2019', 'title': 'INTESA SANPAOLO S.P.A. : HSBC keeps its Buy rating', 'url': 'https://www.marketscreener.com/INTESA-SANPAOLO-SPA-68944/news/INTESA-SANPAOLO-S-P-A-HSBC-keeps-its-Buy-rating-30362904/', 'date_long': '2019-08-02T03:37:20-04:00', 'desc': 'HSBC is positive on the stock with a Buy rating. The target price has been lifted and is now set at EUR 2.50 compared to EUR 2.42 before.'}, {'date_short': '2019', 'title': 'INTESA SANPAOLO S.P.A. : Gets a Sell rating from Credit Suisse', 'url': 'https://www.marketscreener.com/INTESA-SANPAOLO-SPA-68944/news/INTESA-SANPAOLO-S-P-A-Gets-a-Sell-rating-from-Credit-Suisse-30362788/', 'date_long': '2019-08-01T07:18:06-04:00', 'desc': 'Credit Suisse is negative on the stock with a Sell rating. The target price remains set at EUR 1.80.'}, {'date_short': '2019', 'title': 'INTESA SANPAOLO S.P.A. : JP Morgan reiterates its Neutral rating', 'url': 'https://www.marketscreener.com/INTESA-SANPAOLO-SPA-68944/news/INTESA-SANPAOLO-S-P-A-JP-Morgan-reiterates-its-Neutral-rating-30371165/', 'date_long': '2019-07-31T10:17:22-04:00', 'desc': 'Analyst Kian Abouhossein from JP Morgan research gives the stock a Neutral rating. The target price is still set at EUR 2.10.'}, {'date_short': '2019', 'title': 'INTESA SANPAOLO S.P.A. : RBC reiterates its Neutral rating', 'url': 'https://www.marketscreener.com/INTESA-SANPAOLO-SPA-68944/news/INTESA-SANPAOLO-S-P-A-RBC-reiterates-its-Neutral-rating-30371145/', 'date_long': '2019-07-31T09:11:04-04:00', 'desc': \"Initially Neutral on the company, RBC's analyst Adrian Cighi maintained his recommendation..\"}, {'date_short': '2019', 'title': 'INTESA SANPAOLO S.P.A. : Morgan Stanley reaffirms its Neutral rating', 'url': 'https://www.marketscreener.com/INTESA-SANPAOLO-SPA-68944/news/INTESA-SANPAOLO-S-P-A-Morgan-Stanley-reaffirms-its-Neutral-rating-30369528/', 'date_long': '2019-07-26T06:55:37-04:00', 'desc': 'Morgan Stanley analyst Antonio Reale maintains his Neutral opinion on the stock. The target price is unchanged at EUR 2.20.'}, {'date_short': '2019', 'title': 'INTESA SANPAOLO S.P.A. : UBS reiterates its Neutral rating', 'url': 'https://www.marketscreener.com/INTESA-SANPAOLO-SPA-68944/news/INTESA-SANPAOLO-S-P-A-UBS-reiterates-its-Neutral-rating-30368535/', 'date_long': '2019-07-24T05:13:18-04:00', 'desc': 'In a research note, UBS analyst Ignacio Cerezo has maintained his recommendation on the stock with a Neutral rating. The target price is reduced from EUR 2.25 to EUR 2.05.'}, {'date_short': '2019', 'title': 'INTESA SANPAOLO S.P.A. : Goldman Sachs remains a Sell rating', 'url': 'https://www.marketscreener.com/INTESA-SANPAOLO-SPA-68944/news/INTESA-SANPAOLO-S-P-A-Goldman-Sachs-remains-a-Sell-rating-30368479/', 'date_long': '2019-07-24T03:20:58-04:00', 'desc': 'Goldman Sachs analyst Jean-Francois Neuez reiterate his Sell rating on the stock. The target price is lowered from EUR 1.95 to EUR 2.'}, {'date_short': '2019', 'title': 'INTESA SANPAOLO S.P.A. : HSBC keeps its Buy rating', 'url': 'https://www.marketscreener.com/INTESA-SANPAOLO-SPA-68944/news/INTESA-SANPAOLO-S-P-A-HSBC-keeps-its-Buy-rating-30368337/', 'date_long': '2019-07-23T04:44:10-04:00', 'desc': 'Domenico Santoro from HSBC retains his positive opinion on the stock with a Buy rating. The target price is reduced from EUR 2.50 to EUR 2.42.'}, {'date_short': '2019', 'title': 'INTESA SANPAOLO S.P.A. : Deutsche Bank reiterates its Buy rating', 'url': 'https://www.marketscreener.com/INTESA-SANPAOLO-SPA-68944/news/INTESA-SANPAOLO-S-P-A-Deutsche-Bank-reiterates-its-Buy-rating-30368205/', 'date_long': '2019-07-22T06:26:05-04:00', 'desc': 'Already positive, the research from Deutsche Bank and its analyst Paola Sabbione still consider the stock as a Buy opportunity.. The target price has been revised downwards and is now set at EUR 2.70 as compared to EUR 2.90 previously..'}, {'date_short': '2019', 'title': 'INTESA SANPAOLO S.P.A. : Credit Suisse reiterates its Sell rating', 'url': 'https://www.marketscreener.com/INTESA-SANPAOLO-SPA-68944/news/INTESA-SANPAOLO-S-P-A-Credit-Suisse-reiterates-its-Sell-rating-30368189/', 'date_long': '2019-07-22T05:29:55-04:00', 'desc': 'Credit Suisse reiterate its Sell rating. The target price is still set at EUR 1.80.'}, {'date_short': '2019', 'title': 'INTESA SANPAOLO S.P.A. : HSBC keeps its Buy rating', 'url': 'https://www.marketscreener.com/INTESA-SANPAOLO-SPA-68944/news/INTESA-SANPAOLO-S-P-A-HSBC-keeps-its-Buy-rating-30366775/', 'date_long': '2019-07-09T06:48:57-04:00', 'desc': 'Domenico Santoro from HSBC retains his positive opinion on the stock with a Buy rating. The target price is unchanged and still at EUR 2.50.'}, {'date_short': '2019', 'title': 'INTESA SANPAOLO S.P.A. : JP Morgan reiterates its Neutral rating', 'url': 'https://www.marketscreener.com/INTESA-SANPAOLO-SPA-68944/news/INTESA-SANPAOLO-S-P-A-JP-Morgan-reiterates-its-Neutral-rating-30366269/', 'date_long': '2019-07-04T02:53:05-04:00', 'desc': 'JP Morgan analyst Kian Abouhossein maintains his Neutral opinion on the stock. The target price remains set at EUR 2.10.'}, {'date_short': '2019', 'title': 'INTESA SANPAOLO S.P.A. : Jefferies gives a Sell rating', 'url': 'https://www.marketscreener.com/INTESA-SANPAOLO-SPA-68944/news/INTESA-SANPAOLO-S-P-A-Jefferies-gives-a-Sell-rating-30366143/', 'date_long': '2019-07-03T03:53:45-04:00', 'desc': \"Jefferies's analyst Benjie Creelan-Sandford downgrades rating of INTESA SANPAOLO S.P.A. from Neutral to Sell. Previously set at EUR 1.85, the target price is lowered to EUR 1.70.\"}, {'date_short': '2019', 'title': 'INTESA SANPAOLO S.P.A. : Sell rating from Goldman Sachs', 'url': 'https://www.marketscreener.com/INTESA-SANPAOLO-SPA-68944/news/INTESA-SANPAOLO-S-P-A-Sell-rating-from-Goldman-Sachs-30365963/', 'date_long': '2019-07-01T05:37:18-04:00', 'desc': 'In a research note published by Jean-Francois Neuez, Goldman Sachs advises its customers to Sell the stock. The target price is unchanged at EUR 2.05.'}, {'date_short': '2019', 'title': 'INTESA SANPAOLO S.P.A. : Credit Suisse reaffirms its Sell rating', 'url': 'https://www.marketscreener.com/INTESA-SANPAOLO-SPA-68944/news/INTESA-SANPAOLO-S-P-A-Credit-Suisse-reaffirms-its-Sell-rating-30369259/', 'date_long': '2019-06-04T08:36:41-04:00', 'desc': \"Credit Suisse's analyst Jan Wolter maintains his Sell rating on the stock.\"}, {'date_short': '2019', 'title': 'INTESA SANPAOLO S.P.A. : Jefferies reiterates its Neutral rating', 'url': 'https://www.marketscreener.com/INTESA-SANPAOLO-SPA-68944/news/INTESA-SANPAOLO-S-P-A-Jefferies-reiterates-its-Neutral-rating-30368853/', 'date_long': '2019-06-03T05:04:16-04:00', 'desc': \"Jefferies's research confirms his advice and maintains his neutral opinion on the stock.. The target price has been revised downwards and is now set at EUR 1.85 as compared to EUR 2.05 previously..\"}, {'date_short': '2019', 'title': 'INTESA SANPAOLO S.P.A. : JP Morgan remains Neutral', 'url': 'https://www.marketscreener.com/INTESA-SANPAOLO-SPA-68944/news/INTESA-SANPAOLO-S-P-A-JP-Morgan-remains-Neutral-30375381/', 'date_long': '2019-05-22T02:28:44-04:00', 'desc': 'JP Morgan analyst Kian Abouhossein maintains his Neutral opinion on the stock. The target price is lowered from EUR 2.20 to EUR 2.10.'}, {'date_short': '2019', 'title': 'INTESA SANPAOLO S.P.A. : UBS remains Neutral', 'url': 'https://www.marketscreener.com/INTESA-SANPAOLO-SPA-68944/news/INTESA-SANPAOLO-S-P-A-UBS-remains-Neutral-30374169/', 'date_long': '2019-05-13T06:03:51-04:00', 'desc': 'In a research note, UBS analyst Ignacio Cerezo has maintained his recommendation on the stock with a Neutral rating. The target price has been raised from EUR 2.15 to EUR 2.25.'}, {'date_short': '2019', 'title': 'INTESA SANPAOLO S.P.A. : HSBC keeps its Buy rating', 'url': 'https://www.marketscreener.com/INTESA-SANPAOLO-SPA-68944/news/INTESA-SANPAOLO-S-P-A-HSBC-keeps-its-Buy-rating-30374026/', 'date_long': '2019-05-10T09:26:45-04:00', 'desc': 'Domenico Santoro from HSBC retains his positive opinion on the stock with a Buy rating. The target price is reduced from EUR 2.48 to EUR 2.50.'}, {'date_short': '2019', 'title': 'INTESA SANPAOLO S.P.A. : RBC sticks Neutral', 'url': 'https://www.marketscreener.com/INTESA-SANPAOLO-SPA-68944/news/INTESA-SANPAOLO-S-P-A-RBC-sticks-Neutral-30373992/', 'date_long': '2019-05-10T08:35:38-04:00', 'desc': 'RBC confirms his opinion on the stock and remains Neutral. The target price has been raised to EUR 2.40 from EUR 2.30.'}, {'date_short': '2019', 'title': 'INTESA SANPAOLO S.P.A. : Gets a Sell rating from Credit Suisse', 'url': 'https://www.marketscreener.com/INTESA-SANPAOLO-SPA-68944/news/INTESA-SANPAOLO-S-P-A-Gets-a-Sell-rating-from-Credit-Suisse-30373426/', 'date_long': '2019-05-08T09:02:39-04:00', 'desc': 'Credit Suisse reiterate its Sell rating. The target price remains unchanged at EUR 1.80.'}, {'date_short': '2019', 'title': 'INTESA SANPAOLO S.P.A. : Deutsche Bank reiterates its Buy rating', 'url': 'https://www.marketscreener.com/INTESA-SANPAOLO-SPA-68944/news/INTESA-SANPAOLO-S-P-A-Deutsche-Bank-reiterates-its-Buy-rating-30373346/', 'date_long': '2019-05-08T06:33:43-04:00', 'desc': 'Analyst Paola Sabbione from Deutsche Bank research considers the stock attractive and recommends it with a Buy rating. The target price continues to be set at EUR 2.90.'}, {'date_short': '2019', 'title': 'INTESA SANPAOLO S.P.A. : Morgan Stanley sticks Neutral', 'url': 'https://www.marketscreener.com/INTESA-SANPAOLO-SPA-68944/news/INTESA-SANPAOLO-S-P-A-Morgan-Stanley-sticks-Neutral-30373334/', 'date_long': '2019-05-08T06:26:24-04:00', 'desc': 'Morgan Stanley confirms his opinion on the stock and remains Neutral. The target price has been revised downwards and is now set at EUR 2.30 as compared to EUR 2.40 previously..'}, {'date_short': '2019', 'title': 'INTESA SANPAOLO S.P.A. : Gets a Neutral rating from UBS', 'url': 'https://www.marketscreener.com/INTESA-SANPAOLO-SPA-68944/news/INTESA-SANPAOLO-S-P-A-Gets-a-Neutral-rating-from-UBS-30373280/', 'date_long': '2019-05-08T05:18:37-04:00', 'desc': \"Initially Neutral on the company, UBS's analyst Ignacio Cerezo maintained his recommendation.. The target price continues to be set at EUR 2.15.\"}, {'date_short': '2019', 'title': 'INTESA SANPAOLO S.P.A. : RBC remains Neutral', 'url': 'https://www.marketscreener.com/INTESA-SANPAOLO-SPA-68944/news/INTESA-SANPAOLO-S-P-A-RBC-remains-Neutral-30373172/', 'date_long': '2019-05-07T14:39:55-04:00', 'desc': 'In his latest research note, analyst Adrian Cighi confirms his recommendation. The broker RBC is keeping its Neutral rating. The target price is unchanged at EUR 2.30.'}, {'date_short': '2019', 'title': 'INTESA SANPAOLO S.P.A. : JP Morgan reaffirms its Neutral rating', 'url': 'https://www.marketscreener.com/INTESA-SANPAOLO-SPA-68944/news/INTESA-SANPAOLO-S-P-A-JP-Morgan-reaffirms-its-Neutral-rating-30373146/', 'date_long': '2019-05-07T09:35:16-04:00', 'desc': 'JP Morgan confirms his opinion on the stock and remains Neutral. The target price continues to be set at EUR 2.20.'}, {'date_short': '2019', 'title': 'INTESA SANPAOLO S.P.A. : RBC reaffirms its Neutral rating', 'url': 'https://www.marketscreener.com/INTESA-SANPAOLO-SPA-68944/news/INTESA-SANPAOLO-S-P-A-RBC-reaffirms-its-Neutral-rating-30373090/', 'date_long': '2019-05-07T08:23:14-04:00', 'desc': 'In his latest research note, analyst Adrian Cighi confirms his recommendation. The broker RBC is keeping its Neutral rating. The target price remains unchanged at EUR 2.30.'}, {'date_short': '2019', 'title': 'INTESA SANPAOLO S.P.A. : Goldman Sachs keeps a Sell rating', 'url': 'https://www.marketscreener.com/INTESA-SANPAOLO-SPA-68944/news/INTESA-SANPAOLO-S-P-A-Goldman-Sachs-keeps-a-Sell-rating-30373086/', 'date_long': '2019-05-07T08:19:31-04:00', 'desc': 'Goldman Sachs analyst Jean-Francois Neuez reiterate his Sell rating on the stock. The target price remains set at EUR 2.05.'}, {'date_short': '2019', 'title': 'INTESA SANPAOLO S.P.A. : Berenberg lowers its rating to Sell', 'url': 'https://www.marketscreener.com/INTESA-SANPAOLO-SPA-68944/news/INTESA-SANPAOLO-S-P-A-Berenberg-lowers-its-rating-to-Sell-30372268/', 'date_long': '2019-05-02T01:41:04-04:00', 'desc': \"Berenberg's analyst downgrades his rating on INTESA SANPAOLO S.P.A. from Neutral to Sell. The target price has been revised downwards and is now set at EUR 1.85 as compared to EUR 2.20 previously..\"}, {'date_short': '2019', 'title': 'INTESA SANPAOLO S.P.A. : Goldman Sachs keeps a Sell rating', 'url': 'https://www.marketscreener.com/INTESA-SANPAOLO-SPA-68944/news/INTESA-SANPAOLO-S-P-A-Goldman-Sachs-keeps-a-Sell-rating-30334300/', 'date_long': '2019-04-30T04:33:22-04:00', 'desc': 'Goldman Sachs analyst reiterate his Sell rating on the stock. The target price is reviewed upwards from EUR 1.95 to EUR 2.05.'}, {'date_short': '2019', 'title': 'INTESA SANPAOLO S.P.A. : JP Morgan remains Neutral', 'url': 'https://www.marketscreener.com/INTESA-SANPAOLO-SPA-68944/news/INTESA-SANPAOLO-S-P-A-JP-Morgan-remains-Neutral-30333000/', 'date_long': '2019-04-18T09:21:58-04:00', 'desc': 'JP Morgan confirms his opinion on the stock and remains Neutral. The target price is revised downwards from EUR 2.30 to EUR 2.20.'}, {'date_short': '2018', 'title': 'Morgan Stanley recommends buying Italian assets ahead of budget', 'url': 'https://www.marketscreener.com/UNICREDIT-SPA-33364083/news/Morgan-Stanley-recommends-buying-Italian-assets-ahead-of-budget-27235773/', 'date_long': '2018-09-10T05:29:14-04:00', 'desc': '\"While the macro outlook remains challenging in the medium term, a middle-ground fiscal expansion is likely to come as a relief to markets,\" analysts at the U.S. bank said in a note on Monday.\\nMorgan Stanley reckons the budget, due to be announced on Sept 27, will target a deficit of around 2.2 percent.\\nThe bank acknowledged Italian debt remained vulnerable to shocks and described itself as cautious on the long-term structural demand for BTPs, as Italian government bonds are known.\\nBut \"with possible near-term upside we recommend investors to position via a tactical long in 10y BTP versus Bono,\" it added, referring to Spanish government bonds.\\nMorgan Stanley also sees Italian stocks as too cheap relative to bond spreads, and said base case forecasts suggested a 12 percent re-rating potential for MSCI\\'s Italy equity index.\\nIt said it was overweight on banks Mediobanca and UniCredit and saw value in Intesa Sanpaolo shares at current levels.\\n(Reporting by Danilo Masoni; editing by Sujata Rao)'}, {'date_short': '2016', 'title': 'Monte dei Paschi Discloses Proposals From Corrado Passera, UBS', 'url': 'https://www.marketscreener.com/BANCA-MONTE-DEI-PASCHI-DI-22238257/news/Monte-dei-Paschi-Discloses-Proposals-From-Corrado-Passera-UBS-22774461/', 'date_long': '2016-07-28T16:05:00-04:00', 'desc': \"MILAN?Banca Monte dei Paschi di Siena SpA said late Thursday that it has received letters from Corrado Passera, a prominent former bank executive and government minister in Italy, and from Swiss bank UBS AG with proposals for the bank.\\nIn its statement, the Siena, Italy-based bank provided no further details on the two letters, which it said are being examined by the bank's board. The bank said the board has asked for more information regarding the proposals. The bank's directors are scheduled to meet Friday afternoon to approve the bank's first-half earnings.\\nCorrado Passera was the chief executive of Intesa Sanpaolo SpA for a number of years until 2011, when he joined the government of Prime Minister Mario Monti. He has also served as managing director of Italy's postal service.\\nMonte dei Paschi is seeking approval from the European Central Bank for a plan that will relaunch the troubled lender, which is suffering from poor profitability and is struggling to manage nearly ?50 billion in bad loans. It is hoping its plan?which involves shedding ?10 billion in bad loans and launching a capital increase of up to ?5 billion?will secure approval before Friday evening, when European authorities will release the results of so-called stress tests.\\nMonte dei Paschi is expected to emerge as the worst performer in Europe in those tests.\\nA spokesman for the bank declined to elaborate on the nature of the proposals from Mr. Passera and from UBS. A spokeswoman for UBS wasn't available for a comment, nor was Mr. Passera.\\nWrite to Deborah Ball at deborah.ball@wsj.com\"}]\n"
          ],
          "name": "stdout"
        }
      ]
    },
    {
      "cell_type": "code",
      "metadata": {
        "id": "I5eayzjhYwEk",
        "colab_type": "code",
        "colab": {
          "base_uri": "https://localhost:8080/",
          "height": 167
        },
        "outputId": "71005a2e-4fbd-4749-a5c2-9f80e610f785"
      },
      "source": [
        "print (full_output)"
      ],
      "execution_count": 3,
      "outputs": [
        {
          "output_type": "error",
          "ename": "NameError",
          "evalue": "ignored",
          "traceback": [
            "\u001b[0;31m---------------------------------------------------------------------------\u001b[0m",
            "\u001b[0;31mNameError\u001b[0m                                 Traceback (most recent call last)",
            "\u001b[0;32m<ipython-input-3-fcdd41fe996d>\u001b[0m in \u001b[0;36m<module>\u001b[0;34m()\u001b[0m\n\u001b[0;32m----> 1\u001b[0;31m \u001b[0mprint\u001b[0m \u001b[0;34m(\u001b[0m\u001b[0mfull_output\u001b[0m\u001b[0;34m)\u001b[0m\u001b[0;34m\u001b[0m\u001b[0;34m\u001b[0m\u001b[0m\n\u001b[0m",
            "\u001b[0;31mNameError\u001b[0m: name 'full_output' is not defined"
          ]
        }
      ]
    },
    {
      "cell_type": "code",
      "metadata": {
        "id": "MslmjQ7qXXq3",
        "colab_type": "code",
        "colab": {
          "base_uri": "https://localhost:8080/",
          "height": 238
        },
        "outputId": "5d306dfb-afbf-4104-8bb7-8d923c514d00"
      },
      "source": [
        "from pandas import DataFrame\n",
        "dataset = DataFrame (full_output)\n",
        "from tqdm import tqdm # This is an awesome package for tracking for loops\n",
        "import pandas as pd\n",
        "\n",
        "df.to_csv('sr_market_screener_reccom.csv')"
      ],
      "execution_count": 2,
      "outputs": [
        {
          "output_type": "error",
          "ename": "NameError",
          "evalue": "ignored",
          "traceback": [
            "\u001b[0;31m---------------------------------------------------------------------------\u001b[0m",
            "\u001b[0;31mNameError\u001b[0m                                 Traceback (most recent call last)",
            "\u001b[0;32m<ipython-input-2-1077b99dd797>\u001b[0m in \u001b[0;36m<module>\u001b[0;34m()\u001b[0m\n\u001b[1;32m      1\u001b[0m \u001b[0;32mfrom\u001b[0m \u001b[0mpandas\u001b[0m \u001b[0;32mimport\u001b[0m \u001b[0mDataFrame\u001b[0m\u001b[0;34m\u001b[0m\u001b[0;34m\u001b[0m\u001b[0m\n\u001b[0;32m----> 2\u001b[0;31m \u001b[0mdataset\u001b[0m \u001b[0;34m=\u001b[0m \u001b[0mDataFrame\u001b[0m \u001b[0;34m(\u001b[0m\u001b[0mfull_output\u001b[0m\u001b[0;34m)\u001b[0m\u001b[0;34m\u001b[0m\u001b[0;34m\u001b[0m\u001b[0m\n\u001b[0m\u001b[1;32m      3\u001b[0m \u001b[0;32mfrom\u001b[0m \u001b[0mtqdm\u001b[0m \u001b[0;32mimport\u001b[0m \u001b[0mtqdm\u001b[0m \u001b[0;31m# This is an awesome package for tracking for loops\u001b[0m\u001b[0;34m\u001b[0m\u001b[0;34m\u001b[0m\u001b[0m\n\u001b[1;32m      4\u001b[0m \u001b[0;32mimport\u001b[0m \u001b[0mpandas\u001b[0m \u001b[0;32mas\u001b[0m \u001b[0mpd\u001b[0m\u001b[0;34m\u001b[0m\u001b[0;34m\u001b[0m\u001b[0m\n\u001b[1;32m      5\u001b[0m \u001b[0mgc_results\u001b[0m \u001b[0;34m=\u001b[0m \u001b[0;34m[\u001b[0m\u001b[0mgc_sentiment\u001b[0m\u001b[0;34m(\u001b[0m\u001b[0mrow\u001b[0m\u001b[0;34m)\u001b[0m \u001b[0;32mfor\u001b[0m \u001b[0mrow\u001b[0m \u001b[0;32min\u001b[0m \u001b[0mtqdm\u001b[0m\u001b[0;34m(\u001b[0m\u001b[0mdataset\u001b[0m\u001b[0;34m,\u001b[0m \u001b[0mncols\u001b[0m \u001b[0;34m=\u001b[0m \u001b[0;36m100\u001b[0m\u001b[0;34m)\u001b[0m\u001b[0;34m]\u001b[0m\u001b[0;34m\u001b[0m\u001b[0;34m\u001b[0m\u001b[0m\n",
            "\u001b[0;31mNameError\u001b[0m: name 'full_output' is not defined"
          ]
        }
      ]
    },
    {
      "cell_type": "code",
      "metadata": {
        "id": "48PRqoFj2ZRQ",
        "colab_type": "code",
        "colab": {}
      },
      "source": [
        "import importlib\n",
        "from textblob import TextBlob\n",
        "# re = python module for regular expression\n",
        "import re\n",
        "from datetime import datetime, timedelta\n",
        "from google.colab import files\n",
        "\n",
        "# # # # TWITTER STREAM LISTENER - Analyzer # # # #\n",
        "# we can use TextBlob for tweet sentiment analysis and determine the polarity of tweet, from -3 to 3;\n",
        "# -3 = negative, 0 = neutral, 3 = positive\n",
        "desc=data['desc']\n",
        "desc_analyzer = DescAnalyzer() \n",
        "class DescAnalyzer():\n",
        "    \"\"\"\n",
        "    Functionality for analyzing and categorizing content from tweets.\n",
        "    \"\"\"\n",
        "    # claen_tweet using the re module to clean tweets text \n",
        "    def clean_desc(self, desc):\n",
        "        return ' '.join(re.sub(\"(@[A-Za-z0-9]+)|([^0-9A-Za-z \\t])|(\\w+:\\/\\/\\S+)\", \" \", desc).split())\n",
        "    def analyze_sentiment(self, desc):\n",
        "        analysis = TextBlob(self.clean_desc(desc))\n",
        "        \n",
        "        if analysis.sentiment.polarity > 0:\n",
        "            return 3\n",
        "        elif analysis.sentiment.polarity == 0:\n",
        "            return 0\n",
        "        else:\n",
        "            return -3\n",
        "\n",
        "#add the new column 'sentiment' by passing the class TwitterAnalyzer\n",
        "\n",
        "data['sentiment'] = np.array([desc_analyzer.analyze_sentiment(desc) for desc in data['desc']])\n",
        "\n",
        "data.head()\n",
        "\n",
        "data.to_csv('sr_market_screener_reccom.csv')\n",
        "files.download('sr_market_screener_reccom.csv') "
      ],
      "execution_count": null,
      "outputs": []
    }
  ]
}