{
  "nbformat": 4,
  "nbformat_minor": 0,
  "metadata": {
    "colab": {
      "name": "market_screener_reccom_01.ipynb",
      "provenance": [],
      "collapsed_sections": [],
      "toc_visible": true
    },
    "kernelspec": {
      "name": "python3",
      "display_name": "Python 3"
    },
    "widgets": {
      "application/vnd.jupyter.widget-state+json": {
        "86e14acf2bbe495a9ff6a8e37755bf7f": {
          "model_module": "@jupyter-widgets/controls",
          "model_name": "HBoxModel",
          "state": {
            "_view_name": "HBoxView",
            "_dom_classes": [],
            "_model_name": "HBoxModel",
            "_view_module": "@jupyter-widgets/controls",
            "_model_module_version": "1.5.0",
            "_view_count": null,
            "_view_module_version": "1.5.0",
            "box_style": "",
            "layout": "IPY_MODEL_ab15301ea7274f5097985bd7e357a1cc",
            "_model_module": "@jupyter-widgets/controls",
            "children": [
              "IPY_MODEL_94d06a3fbc6040db91be0f881284bbcf",
              "IPY_MODEL_899f15bb95b340b7a2718736c1723323"
            ]
          }
        },
        "ab15301ea7274f5097985bd7e357a1cc": {
          "model_module": "@jupyter-widgets/base",
          "model_name": "LayoutModel",
          "state": {
            "_view_name": "LayoutView",
            "grid_template_rows": null,
            "right": null,
            "justify_content": null,
            "_view_module": "@jupyter-widgets/base",
            "overflow": null,
            "_model_module_version": "1.2.0",
            "_view_count": null,
            "flex_flow": null,
            "width": null,
            "min_width": null,
            "border": null,
            "align_items": null,
            "bottom": null,
            "_model_module": "@jupyter-widgets/base",
            "top": null,
            "grid_column": null,
            "overflow_y": null,
            "overflow_x": null,
            "grid_auto_flow": null,
            "grid_area": null,
            "grid_template_columns": null,
            "flex": null,
            "_model_name": "LayoutModel",
            "justify_items": null,
            "grid_row": null,
            "max_height": null,
            "align_content": null,
            "visibility": null,
            "align_self": null,
            "height": null,
            "min_height": null,
            "padding": null,
            "grid_auto_rows": null,
            "grid_gap": null,
            "max_width": null,
            "order": null,
            "_view_module_version": "1.2.0",
            "grid_template_areas": null,
            "object_position": null,
            "object_fit": null,
            "grid_auto_columns": null,
            "margin": null,
            "display": null,
            "left": null
          }
        },
        "94d06a3fbc6040db91be0f881284bbcf": {
          "model_module": "@jupyter-widgets/controls",
          "model_name": "FloatProgressModel",
          "state": {
            "_view_name": "ProgressView",
            "style": "IPY_MODEL_2e1accdf7e384500acfe20f6596beefb",
            "_dom_classes": [],
            "description": "100%",
            "_model_name": "FloatProgressModel",
            "bar_style": "success",
            "max": 66,
            "_view_module": "@jupyter-widgets/controls",
            "_model_module_version": "1.5.0",
            "value": 66,
            "_view_count": null,
            "_view_module_version": "1.5.0",
            "orientation": "horizontal",
            "min": 0,
            "description_tooltip": null,
            "_model_module": "@jupyter-widgets/controls",
            "layout": "IPY_MODEL_8515b510e26348349539a3b41eeb504e"
          }
        },
        "899f15bb95b340b7a2718736c1723323": {
          "model_module": "@jupyter-widgets/controls",
          "model_name": "HTMLModel",
          "state": {
            "_view_name": "HTMLView",
            "style": "IPY_MODEL_3bdca83e644b4ef5a4d0f3ae1f62a3ba",
            "_dom_classes": [],
            "description": "",
            "_model_name": "HTMLModel",
            "placeholder": "​",
            "_view_module": "@jupyter-widgets/controls",
            "_model_module_version": "1.5.0",
            "value": " 66/66 [06:48&lt;00:00,  6.18s/it]",
            "_view_count": null,
            "_view_module_version": "1.5.0",
            "description_tooltip": null,
            "_model_module": "@jupyter-widgets/controls",
            "layout": "IPY_MODEL_706cb49bcf0c41ae83074c7f17420d6f"
          }
        },
        "2e1accdf7e384500acfe20f6596beefb": {
          "model_module": "@jupyter-widgets/controls",
          "model_name": "ProgressStyleModel",
          "state": {
            "_view_name": "StyleView",
            "_model_name": "ProgressStyleModel",
            "description_width": "initial",
            "_view_module": "@jupyter-widgets/base",
            "_model_module_version": "1.5.0",
            "_view_count": null,
            "_view_module_version": "1.2.0",
            "bar_color": null,
            "_model_module": "@jupyter-widgets/controls"
          }
        },
        "8515b510e26348349539a3b41eeb504e": {
          "model_module": "@jupyter-widgets/base",
          "model_name": "LayoutModel",
          "state": {
            "_view_name": "LayoutView",
            "grid_template_rows": null,
            "right": null,
            "justify_content": null,
            "_view_module": "@jupyter-widgets/base",
            "overflow": null,
            "_model_module_version": "1.2.0",
            "_view_count": null,
            "flex_flow": null,
            "width": null,
            "min_width": null,
            "border": null,
            "align_items": null,
            "bottom": null,
            "_model_module": "@jupyter-widgets/base",
            "top": null,
            "grid_column": null,
            "overflow_y": null,
            "overflow_x": null,
            "grid_auto_flow": null,
            "grid_area": null,
            "grid_template_columns": null,
            "flex": null,
            "_model_name": "LayoutModel",
            "justify_items": null,
            "grid_row": null,
            "max_height": null,
            "align_content": null,
            "visibility": null,
            "align_self": null,
            "height": null,
            "min_height": null,
            "padding": null,
            "grid_auto_rows": null,
            "grid_gap": null,
            "max_width": null,
            "order": null,
            "_view_module_version": "1.2.0",
            "grid_template_areas": null,
            "object_position": null,
            "object_fit": null,
            "grid_auto_columns": null,
            "margin": null,
            "display": null,
            "left": null
          }
        },
        "3bdca83e644b4ef5a4d0f3ae1f62a3ba": {
          "model_module": "@jupyter-widgets/controls",
          "model_name": "DescriptionStyleModel",
          "state": {
            "_view_name": "StyleView",
            "_model_name": "DescriptionStyleModel",
            "description_width": "",
            "_view_module": "@jupyter-widgets/base",
            "_model_module_version": "1.5.0",
            "_view_count": null,
            "_view_module_version": "1.2.0",
            "_model_module": "@jupyter-widgets/controls"
          }
        },
        "706cb49bcf0c41ae83074c7f17420d6f": {
          "model_module": "@jupyter-widgets/base",
          "model_name": "LayoutModel",
          "state": {
            "_view_name": "LayoutView",
            "grid_template_rows": null,
            "right": null,
            "justify_content": null,
            "_view_module": "@jupyter-widgets/base",
            "overflow": null,
            "_model_module_version": "1.2.0",
            "_view_count": null,
            "flex_flow": null,
            "width": null,
            "min_width": null,
            "border": null,
            "align_items": null,
            "bottom": null,
            "_model_module": "@jupyter-widgets/base",
            "top": null,
            "grid_column": null,
            "overflow_y": null,
            "overflow_x": null,
            "grid_auto_flow": null,
            "grid_area": null,
            "grid_template_columns": null,
            "flex": null,
            "_model_name": "LayoutModel",
            "justify_items": null,
            "grid_row": null,
            "max_height": null,
            "align_content": null,
            "visibility": null,
            "align_self": null,
            "height": null,
            "min_height": null,
            "padding": null,
            "grid_auto_rows": null,
            "grid_gap": null,
            "max_width": null,
            "order": null,
            "_view_module_version": "1.2.0",
            "grid_template_areas": null,
            "object_position": null,
            "object_fit": null,
            "grid_auto_columns": null,
            "margin": null,
            "display": null,
            "left": null
          }
        }
      }
    }
  },
  "cells": [
    {
      "cell_type": "markdown",
      "metadata": {
        "id": "mOKhN30KNRg_",
        "colab_type": "text"
      },
      "source": [
        "# Questo notebook importa le raccomandazioni degli analisti da marketscreener, di default il link è di intesa san paolo ma può essere cambiato come riportato sotto"
      ]
    },
    {
      "cell_type": "code",
      "metadata": {
        "id": "JtlRaxiuyqpA",
        "colab_type": "code",
        "colab": {
          "base_uri": "https://localhost:8080/",
          "height": 50
        },
        "outputId": "fc3ac292-929c-4b4a-f46c-8ad29a57de6e"
      },
      "source": [
        "#mounts current gdrive in colab after providing success code\n",
        "#INSERISCI IL CODICE DI SUCCESSO O NON FUNZIONERA'\n",
        "from google.colab import drive\n",
        "drive.mount('/content/gdrive')\n",
        "%cd '/content/gdrive/My Drive/INVEST-IO/'"
      ],
      "execution_count": 207,
      "outputs": [
        {
          "output_type": "stream",
          "text": [
            "Drive already mounted at /content/gdrive; to attempt to forcibly remount, call drive.mount(\"/content/gdrive\", force_remount=True).\n",
            "/content/gdrive/My Drive/INVEST-IO\n"
          ],
          "name": "stdout"
        }
      ]
    },
    {
      "cell_type": "code",
      "metadata": {
        "id": "O3ucYmplZ27e",
        "colab_type": "code",
        "colab": {
          "base_uri": "https://localhost:8080/",
          "height": 375
        },
        "outputId": "39b49e41-ab4d-4fad-b292-ce6f32c22eba"
      },
      "source": [
        "!pip install selenium\n",
        "!apt-get update\n",
        "!apt install chromium-chromedriver\n",
        "!cp /usr/lib/chromium-browser/chromedriver /usr/bin\n",
        "\n",
        "import sys\n",
        "from selenium import webdriver\n",
        "from tqdm import tqdm_notebook as tqdm\n",
        "import pandas as pd\n",
        "import json\n",
        "import pprint\n",
        "import numpy as np\n",
        "\n",
        "chrome_options = webdriver.ChromeOptions()\n",
        "chrome_options.add_argument('--headless')\n",
        "chrome_options.add_argument('--no-sandbox')\n",
        "chrome_options.add_argument('--disable-dev-shm-usage')\n",
        "\n",
        "sys.path.insert(0,'/usr/lib/chromium-browser/chromedriver')\n",
        "wd = webdriver.Chrome('chromedriver',chrome_options=chrome_options)"
      ],
      "execution_count": 208,
      "outputs": [
        {
          "output_type": "stream",
          "text": [
            "Requirement already satisfied: selenium in /usr/local/lib/python3.6/dist-packages (3.141.0)\n",
            "Requirement already satisfied: urllib3 in /usr/local/lib/python3.6/dist-packages (from selenium) (1.24.3)\n",
            "Ign:1 https://developer.download.nvidia.com/compute/cuda/repos/ubuntu1804/x86_64  InRelease\n",
            "Get:2 http://security.ubuntu.com/ubuntu bionic-security InRelease [88.7 kB]\n",
            "Ign:3 https://developer.download.nvidia.com/compute/machine-learning/repos/ubuntu1804/x86_64  InRelease\n",
            "Hit:4 https://developer.download.nvidia.com/compute/cuda/repos/ubuntu1804/x86_64  Release\n",
            "Hit:5 https://developer.download.nvidia.com/compute/machine-learning/repos/ubuntu1804/x86_64  Release\n",
            "Hit:6 http://archive.ubuntu.com/ubuntu bionic InRelease\n",
            "Hit:7 http://ppa.launchpad.net/graphics-drivers/ppa/ubuntu bionic InRelease\n",
            "Hit:8 https://cloud.r-project.org/bin/linux/ubuntu bionic-cran35/ InRelease\n",
            "Get:10 http://archive.ubuntu.com/ubuntu bionic-updates InRelease [88.7 kB]\n",
            "Hit:12 http://ppa.launchpad.net/marutter/c2d4u3.5/ubuntu bionic InRelease\n",
            "Get:13 http://archive.ubuntu.com/ubuntu bionic-backports InRelease [74.6 kB]\n",
            "Fetched 252 kB in 2s (109 kB/s)\n",
            "Reading package lists... Done\n",
            "Reading package lists... Done\n",
            "Building dependency tree       \n",
            "Reading state information... Done\n",
            "chromium-chromedriver is already the newest version (85.0.4183.83-0ubuntu0.18.04.2).\n",
            "0 upgraded, 0 newly installed, 0 to remove and 12 not upgraded.\n",
            "cp: '/usr/lib/chromium-browser/chromedriver' and '/usr/bin/chromedriver' are the same file\n"
          ],
          "name": "stdout"
        },
        {
          "output_type": "stream",
          "text": [
            "/usr/local/lib/python3.6/dist-packages/ipykernel_launcher.py:20: DeprecationWarning: use options instead of chrome_options\n"
          ],
          "name": "stderr"
        }
      ]
    },
    {
      "cell_type": "code",
      "metadata": {
        "id": "ct2U2j_JoK5E",
        "colab_type": "code",
        "colab": {}
      },
      "source": [
        "import importlib\n",
        "from textblob import TextBlob\n",
        "# re = python module for regular expression\n",
        "import re\n",
        "from datetime import datetime, timedelta\n",
        "from google.colab import files\n",
        "\n",
        "# # # # TWITTER STREAM LISTENER - Analyzer # # # #\n",
        "# we can use TextBlob for tweet sentiment analysis and determine the polarity of tweet, from -3 to 3;\n",
        "# -3 = negative, 0 = neutral, 3 = positive\n",
        "\n",
        " \n",
        "class DescAnalyzer():\n",
        "    \"\"\"\n",
        "    Functionality for analyzing and categorizing content from tweets.\n",
        "    \"\"\"\n",
        "    # claen_tweet using the re module to clean tweets text \n",
        "    def clean_tweet(self, desc_text):\n",
        "        return ' '.join(re.sub(\"(@[A-Za-z0-9]+)|([^0-9A-Za-z \\t])|(\\w+:\\/\\/\\S+)\", \" \", desc_text).split())\n",
        "    def analyze_sentiment(self, desc_text):\n",
        "        analysis = TextBlob(self.clean_tweet(desc_text))\n",
        "        \n",
        "        if analysis.sentiment.polarity > 0:\n",
        "            return 3\n",
        "        elif analysis.sentiment.polarity == 0:\n",
        "            return 0\n",
        "        else:\n",
        "            return -3"
      ],
      "execution_count": 209,
      "outputs": []
    },
    {
      "cell_type": "code",
      "metadata": {
        "id": "BSk9rQ_tG6u0",
        "colab_type": "code",
        "colab": {}
      },
      "source": [
        "def get_tds():\n",
        "  wd.execute_script(\"window.scrollTo(0, document.body.scrollHeight);\")\n",
        "  #loop sulle raccomandazioni dalla pagina principale\n",
        "  for i in wd.find_elements_by_css_selector('table#ALNI4.tabBody >* tr'):\n",
        "    date = i.find_elements_by_css_selector('.pleft5.pright5.large30')[0].text\n",
        "    reccom = i.find_elements_by_css_selector('.newsColCT.ptop3')[0].text\n",
        "    link = i.find_elements_by_css_selector('.newsColCT.ptop3 > a')[0].get_attribute('href')\n",
        "    output.append({'date': date, 'reccom' : reccom , 'link' : link})"
      ],
      "execution_count": 210,
      "outputs": []
    },
    {
      "cell_type": "code",
      "metadata": {
        "id": "XuaHsMhGQy5O",
        "colab_type": "code",
        "colab": {}
      },
      "source": [
        "def click_on_button(x):\n",
        "  element = wd.find_element_by_css_selector(x)\n",
        "  wd.execute_script(\"arguments[0].click();\", element)"
      ],
      "execution_count": 211,
      "outputs": []
    },
    {
      "cell_type": "code",
      "metadata": {
        "id": "i48E1Xbps5v6",
        "colab_type": "code",
        "colab": {}
      },
      "source": [
        "#MAIN\n",
        "url = 'https://www.marketscreener.com/quote/stock/APPLE-INC-4849/news-broker-research/' #< sostituisci qui il link\n",
        "wd.set_window_size(1920,1080)\n",
        "wd.maximize_window()\n",
        "wd.get(url)\n",
        "\n",
        "output = []\n",
        "next_button = 1\n",
        "\n",
        "while next_button > 0:\n",
        "  get_tds()\n",
        "  try:\n",
        "    button_container = 'a.nPageEndTab'\n",
        "    wd.find_element_by_css_selector(button_container)\n",
        "    click_on_button(button_container)\n",
        "  except:\n",
        "    next_button = 0"
      ],
      "execution_count": 212,
      "outputs": []
    },
    {
      "cell_type": "code",
      "metadata": {
        "id": "ifsauE3V7uvw",
        "colab_type": "code",
        "colab": {
          "base_uri": "https://localhost:8080/",
          "height": 150,
          "referenced_widgets": [
            "86e14acf2bbe495a9ff6a8e37755bf7f",
            "ab15301ea7274f5097985bd7e357a1cc",
            "94d06a3fbc6040db91be0f881284bbcf",
            "899f15bb95b340b7a2718736c1723323",
            "2e1accdf7e384500acfe20f6596beefb",
            "8515b510e26348349539a3b41eeb504e",
            "3bdca83e644b4ef5a4d0f3ae1f62a3ba",
            "706cb49bcf0c41ae83074c7f17420d6f"
          ]
        },
        "outputId": "2b74da1f-ace3-4fb0-95f6-39fcf6f8423c"
      },
      "source": [
        "full_output = []\n",
        "import time\n",
        "def loop_single_reccomm(k):\n",
        "  url = k['link']\n",
        "  date = k['date']\n",
        "  title = k['reccom']\n",
        "  wd.get(url)\n",
        "  time.sleep(abs(np.random.normal(2,1)))\n",
        "  time_published = wd.find_element_by_css_selector('meta[itemprop=\"datePublished\"]').get_attribute('content')\n",
        "  desc = wd.find_element_by_id('grantexto').text\n",
        "  full_output.append({'date_short' : date, 'title' : title, 'url': url, 'date_long' : time_published, 'desc' : desc})\n",
        "  return full_output\n",
        "\n",
        "for i in tqdm(output):\n",
        "  loop_single_reccomm(i)\n",
        "print (full_output)"
      ],
      "execution_count": 213,
      "outputs": [
        {
          "output_type": "stream",
          "text": [
            "/usr/local/lib/python3.6/dist-packages/ipykernel_launcher.py:14: TqdmDeprecationWarning: This function will be removed in tqdm==5.0.0\n",
            "Please use `tqdm.notebook.tqdm` instead of `tqdm.tqdm_notebook`\n",
            "  \n"
          ],
          "name": "stderr"
        },
        {
          "output_type": "display_data",
          "data": {
            "application/vnd.jupyter.widget-view+json": {
              "model_id": "86e14acf2bbe495a9ff6a8e37755bf7f",
              "version_minor": 0,
              "version_major": 2
            },
            "text/plain": [
              "HBox(children=(FloatProgress(value=0.0, max=66.0), HTML(value='')))"
            ]
          },
          "metadata": {
            "tags": []
          }
        },
        {
          "output_type": "stream",
          "text": [
            "\n",
            "[{'date_short': '09/16', 'title': 'APPLE INC : Bernstein sticks Neutral', 'url': 'https://www.marketscreener.com/quote/stock/APPLE-INC-4849/news/APPLE-INC-Bernstein-sticks-Neutral-31308050/', 'date_long': '2020-09-16T13:38:03-04:00', 'desc': 'Bernstein analyst Toni Sacconaghi maintains his Neutral opinion on the stock. The target price is unchanged at USD 100.'}, {'date_short': '09/16', 'title': 'APPLE INC : Barclays reaffirms its Neutral rating', 'url': 'https://www.marketscreener.com/quote/stock/APPLE-INC-4849/news/APPLE-INC-Barclays-reaffirms-its-Neutral-rating-31305489/', 'date_long': '2020-09-16T08:13:04-04:00', 'desc': 'In a research note, Barclays analyst Tim Long has maintained his recommendation on the stock with a Neutral rating. The target price continues to be set at USD 100.'}, {'date_short': '09/16', 'title': 'APPLE INC : Credit Suisse reiterates its Neutral rating', 'url': 'https://www.marketscreener.com/quote/stock/APPLE-INC-4849/news/APPLE-INC-Credit-Suisse-reiterates-its-Neutral-rating-31303199/', 'date_long': '2020-09-16T02:44:04-04:00', 'desc': 'Analyst Matthew Cabral from Credit Suisse research gives the stock a Neutral rating. The target price continues to be set at USD 95.'}, {'date_short': '09/16', 'title': 'APPLE INC : JP Morgan gives a Buy rating', 'url': 'https://www.marketscreener.com/quote/stock/APPLE-INC-4849/news/APPLE-INC-JP-Morgan-gives-a-Buy-rating-31303160/', 'date_long': '2020-09-16T02:35:03-04:00', 'desc': 'Samik Chatterjee from JP Morgan retains his positive opinion on the stock with a Buy rating.'}, {'date_short': '09/16', 'title': 'APPLE INC : Goldman Sachs reaffirms its Sell rating', 'url': 'https://www.marketscreener.com/quote/stock/APPLE-INC-4849/news/APPLE-INC-Goldman-Sachs-reaffirms-its-Sell-rating-31303100/', 'date_long': '2020-09-16T02:25:03-04:00', 'desc': 'Rod Hall from Goldman Sachs retains his negative opinion on the stock with a Sell rating. The target price remains unchanged at USD 80.'}, {'date_short': '09/09', 'title': 'APPLE INC : Buy rating from JP Morgan', 'url': 'https://www.marketscreener.com/quote/stock/APPLE-INC-4849/news/APPLE-INC-Buy-rating-from-JP-Morgan-31260474/', 'date_long': '2020-09-09T12:05:03-04:00', 'desc': 'In a research note published by Samik Chatterjee, JP Morgan advises its customers to buy the stock. The target price is unchanged at USD 150.'}, {'date_short': '09/08', 'title': 'APPLE INC : Goldman Sachs reiterates its Sell rating', 'url': 'https://www.marketscreener.com/quote/stock/APPLE-INC-4849/news/APPLE-INC-Goldman-Sachs-reiterates-its-Sell-rating-31251265/', 'date_long': '2020-09-08T09:02:03-04:00', 'desc': 'Goldman Sachs analyst Rod Hall maintains his Sell rating on APPLE INC. The target price is still set at USD 80.'}, {'date_short': '09/01', 'title': 'APPLE INC : JP Morgan remains its Buy rating', 'url': 'https://www.marketscreener.com/quote/stock/APPLE-INC-4849/news/APPLE-INC-JP-Morgan-remains-its-Buy-rating-31213273/', 'date_long': '2020-09-01T03:32:03-04:00', 'desc': 'In a research note published by Samik Chatterjee, JP Morgan advises its customers to buy the stock. The target price is revised upwards from USD 150 to USD 115.'}, {'date_short': '08/31', 'title': 'APPLE INC : DZ Bank remains its Buy rating', 'url': 'https://www.marketscreener.com/quote/stock/APPLE-INC-4849/news/APPLE-INC-DZ-Bank-remains-its-Buy-rating-31207949/', 'date_long': '2020-08-31T07:24:02-04:00', 'desc': 'Ingo Wermann from DZ Bank retains his positive opinion on the stock with a Buy rating.'}, {'date_short': '08/31', 'title': 'APPLE INC : Barclays reaffirms its Neutral rating', 'url': 'https://www.marketscreener.com/quote/stock/APPLE-INC-4849/news/APPLE-INC-Barclays-reaffirms-its-Neutral-rating-31206412/', 'date_long': '2020-08-31T02:18:04-04:00', 'desc': \"Barclays's research confirms his advice and maintains his neutral opinion on the stock. The target price remains set at USD 400.\"}, {'date_short': '08/24', 'title': 'APPLE INC : Morgan Stanley reiterates its Buy rating', 'url': 'https://www.marketscreener.com/quote/stock/APPLE-INC-4849/news/APPLE-INC-Morgan-Stanley-reiterates-its-Buy-rating-31166575/', 'date_long': '2020-08-24T08:11:53-04:00', 'desc': 'In his latest research note, analyst Kathryn Huberty confirms his positive recommendation. The broker Morgan Stanley is keeping its Buy rating. The target price has been revised upwards and is now set at USD 520, compared with USD 431 previously.'}, {'date_short': '07/31', 'title': 'APPLE INC : RBC gives a Buy rating', 'url': 'https://www.marketscreener.com/quote/stock/APPLE-INC-4849/news/APPLE-INC-RBC-gives-a-Buy-rating-31032957/', 'date_long': '2020-07-31T13:49:49-04:00', 'desc': 'Already positive, the research from RBC and its analyst Robert Muller still consider the stock as a Buy opportunity. The target price is increased from USD 390 to USD 445.'}, {'date_short': '07/31', 'title': 'APPLE INC : Barclays reaffirms its Neutral rating', 'url': 'https://www.marketscreener.com/quote/stock/APPLE-INC-4849/news/APPLE-INC-Barclays-reaffirms-its-Neutral-rating-31032304/', 'date_long': '2020-07-31T11:13:21-04:00', 'desc': 'In a research note published by Tim Long, Barclays gives a Neutral rating to the stock. The target price has been lifted and is now set at USD 400 compared to USD 326 before.'}, {'date_short': '07/31', 'title': 'APPLE INC : UBS gives a Buy rating', 'url': 'https://www.marketscreener.com/quote/stock/APPLE-INC-4849/news/APPLE-INC-UBS-gives-a-Buy-rating-31032211/', 'date_long': '2020-07-31T10:59:30-04:00', 'desc': 'In a research note, UBS analyst Timothy Arcuri has maintained his recommendation on the stock with a Buy rating. The target price has been revised upwards and is now set at USD 425, compared with USD 400 previously.'}, {'date_short': '07/31', 'title': 'APPLE INC : Gets a Buy rating from JP Morgan', 'url': 'https://www.marketscreener.com/quote/stock/APPLE-INC-4849/news/APPLE-INC-Gets-a-Buy-rating-from-JP-Morgan-31028207/', 'date_long': '2020-07-31T02:17:19-04:00', 'desc': 'Samik Chatterjee from JP Morgan retains his positive opinion on the stock with a Buy rating. The target price is revised upwards from USD 460 to USD 425.'}, {'date_short': '07/31', 'title': 'APPLE INC : Goldman Sachs gives a Sell rating', 'url': 'https://www.marketscreener.com/quote/stock/APPLE-INC-4849/news/APPLE-INC-Goldman-Sachs-gives-a-Sell-rating-31027936/', 'date_long': '2020-07-31T01:52:56-04:00', 'desc': 'Goldman Sachs reiterate its Sell rating. The target price is being increased from USD 299 to USD 314.'}, {'date_short': '07/31', 'title': 'APPLE INC : Deutsche Bank gives a Buy rating', 'url': 'https://www.marketscreener.com/quote/stock/APPLE-INC-4849/news/APPLE-INC-Deutsche-Bank-gives-a-Buy-rating-31027853/', 'date_long': '2020-07-31T01:42:36-04:00', 'desc': 'Analyst Jeriel Ong from Deutsche Bank research considers the stock attractive and recommends it with a Buy rating. Previously set at USD 400, the target price has been raised to USD 440.'}, {'date_short': '07/29', 'title': 'APPLE INC : Credit Suisse gives a Neutral rating', 'url': 'https://www.marketscreener.com/quote/stock/APPLE-INC-4849/news/APPLE-INC-Credit-Suisse-gives-a-Neutral-rating-31009031/', 'date_long': '2020-07-29T01:38:49-04:00', 'desc': \"Credit Suisse's research confirms his advice and maintains his neutral opinion on the stock. The target price has been raised to USD 340 from USD 295.\"}, {'date_short': '07/28', 'title': 'APPLE INC : RBC reiterates its Buy rating', 'url': 'https://www.marketscreener.com/quote/stock/APPLE-INC-4849/news/APPLE-INC-RBC-reiterates-its-Buy-rating-31003432/', 'date_long': '2020-07-28T07:26:58-04:00', 'desc': 'RBC is positive on the stock with a Buy rating. The target price remains set at USD 390.'}, {'date_short': '07/27', 'title': 'APPLE INC : JP Morgan reaffirms its Buy rating', 'url': 'https://www.marketscreener.com/quote/stock/APPLE-INC-4849/news/APPLE-INC-JP-Morgan-reaffirms-its-Buy-rating-30994760/', 'date_long': '2020-07-27T04:03:23-04:00', 'desc': 'Analyst Samik Chatterjee from JP Morgan research considers the stock attractive and recommends it with a Buy rating. The target price has been raised to USD 425 from USD 365.'}, {'date_short': '07/13', 'title': 'APPLE INC : Buy rating from UBS', 'url': 'https://www.marketscreener.com/quote/stock/APPLE-INC-4849/news/APPLE-INC-Buy-rating-from-UBS-30915393/', 'date_long': '2020-07-13T06:18:53-04:00', 'desc': 'In a research note published by Alice Chen, UBS advises its customers to buy the stock.'}, {'date_short': '07/10', 'title': 'APPLE INC : JP Morgan reaffirms its Buy rating', 'url': 'https://www.marketscreener.com/quote/stock/APPLE-INC-4849/news/APPLE-INC-JP-Morgan-reaffirms-its-Buy-rating-30907076/', 'date_long': '2020-07-10T09:41:28-04:00', 'desc': 'In his latest research note, analyst Samik Chatterjee confirms his positive recommendation. The broker JP Morgan is keeping its Buy rating. The target price remains unchanged at USD 365.'}, {'date_short': '06/26', 'title': 'APPLE INC : Gets a Neutral rating from Barclays', 'url': 'https://www.marketscreener.com/quote/stock/APPLE-INC-4849/news/APPLE-INC-Gets-a-Neutral-rating-from-Barclays-30829037/', 'date_long': '2020-06-26T07:10:06-04:00', 'desc': \"Initially Neutral on the company, Barclays's analyst Tim Long maintained his recommendation.. The target price has been revised upwards and is now set at USD 326, compared with USD 288 previously.\"}, {'date_short': '06/23', 'title': 'APPLE INC : Bernstein gives a Neutral rating', 'url': 'https://www.marketscreener.com/quote/stock/APPLE-INC-4849/news/APPLE-INC-Bernstein-gives-a-Neutral-rating-30812070/', 'date_long': '2020-06-23T09:45:56-04:00', 'desc': 'In a research note published by Toni Sacconaghi, Bernstein gives a Neutral rating to the stock.. The target price is being increased from USD 285 to USD 370.'}, {'date_short': '06/23', 'title': 'APPLE INC : UBS gives a Buy rating', 'url': 'https://www.marketscreener.com/quote/stock/APPLE-INC-4849/news/APPLE-INC-UBS-gives-a-Buy-rating-30810149/', 'date_long': '2020-06-23T06:03:05-04:00', 'desc': 'UBS analyst Timothy Arcuri maintains his Buy rating on the stock. Previously set at USD 325, the target price has been raised to USD 400.'}, {'date_short': '06/23', 'title': 'APPLE INC : Credit Suisse sticks Neutral', 'url': 'https://www.marketscreener.com/quote/stock/APPLE-INC-4849/news/APPLE-INC-Credit-Suisse-sticks-Neutral-30809781/', 'date_long': '2020-06-23T04:27:06-04:00', 'desc': 'Credit Suisse analyst Matthew Cabral maintains his Neutral opinion on the stock. The target price is still set at USD 295.'}, {'date_short': '06/23', 'title': 'APPLE INC : Sell rating from Goldman Sachs', 'url': 'https://www.marketscreener.com/quote/stock/APPLE-INC-4849/news/APPLE-INC-Sell-rating-from-Goldman-Sachs-30809760/', 'date_long': '2020-06-23T04:24:04-04:00', 'desc': 'In a research note published by Rod Hall, Goldman Sachs advises its customers to Sell the stock. The target price remains set at USD 263.'}, {'date_short': '06/17', 'title': 'APPLE INC : RBC reaffirms its Buy rating', 'url': 'https://www.marketscreener.com/quote/stock/APPLE-INC-4849/news/APPLE-INC-RBC-reaffirms-its-Buy-rating-30782271/', 'date_long': '2020-06-17T03:19:03-04:00', 'desc': 'RBC is positive on the stock with a Buy rating. The target price has been lifted and is now set at USD 390 compared to USD 345 before.'}, {'date_short': '06/10', 'title': 'APPLE INC : JP Morgan maintains a Buy rating', 'url': 'https://www.marketscreener.com/quote/stock/APPLE-INC-4849/news/APPLE-INC-JP-Morgan-maintains-a-Buy-rating-30752412/', 'date_long': '2020-06-10T11:44:04-04:00', 'desc': 'In a research note, JP Morgan analyst Samik Chatterjee has maintained his recommendation on the stock with a Buy rating.. The target price remains unchanged at USD 365.'}, {'date_short': '06/05', 'title': 'APPLE INC : Gets a Neutral rating from Credit Suisse', 'url': 'https://www.marketscreener.com/quote/stock/APPLE-INC-4849/news/APPLE-INC-Gets-a-Neutral-rating-from-Credit-Suisse-30726296/', 'date_long': '2020-06-05T02:19:03-04:00', 'desc': 'In a research note published by Achal Sultania, Credit Suisse gives a Neutral rating to the stock.. The target price is being increased from USD 260 to USD 295.'}, {'date_short': '06/03', 'title': 'APPLE INC : DZ Bank keeps its Buy rating', 'url': 'https://www.marketscreener.com/quote/stock/APPLE-INC-4849/news/APPLE-INC-DZ-Bank-keeps-its-Buy-rating-30715942/', 'date_long': '2020-06-03T09:05:04-04:00', 'desc': 'In a research note published by Ingo Wermann, DZ Bank advises its customers to buy the stock.'}, {'date_short': '05/12', 'title': 'APPLE INC : JP Morgan reiterates its Buy rating', 'url': 'https://www.marketscreener.com/quote/stock/APPLE-INC-4849/news/APPLE-INC-JP-Morgan-reiterates-its-Buy-rating-30590082/', 'date_long': '2020-05-12T14:56:03-04:00', 'desc': 'In a research note published by Samik Chatterjee, JP Morgan advises its customers to buy the stock. The target price remains set at USD 350.'}, {'date_short': '05/12', 'title': 'APPLE INC : UBS keeps its Buy rating', 'url': 'https://www.marketscreener.com/quote/stock/APPLE-INC-4849/news/APPLE-INC-UBS-keeps-its-Buy-rating-30587967/', 'date_long': '2020-05-12T08:35:04-04:00', 'desc': 'Timothy Arcuri from UBS retains his positive opinion on the stock with a Buy rating. The target price remains unchanged at USD 325.'}, {'date_short': '05/04', 'title': 'APPLE INC : DZ Bank reiterates its Buy rating', 'url': 'https://www.marketscreener.com/quote/stock/APPLE-INC-4849/news/APPLE-INC-DZ-Bank-reiterates-its-Buy-rating-30535031/', 'date_long': '2020-05-04T11:33:04-04:00', 'desc': 'Already positive, the research from DZ Bank and its analyst Ingo Wermann still consider the stock as a Buy opportunity..'}, {'date_short': '05/01', 'title': 'APPLE INC : Goldman Sachs maintains a Sell rating', 'url': 'https://www.marketscreener.com/quote/stock/APPLE-INC-4849/news/APPLE-INC-Goldman-Sachs-maintains-a-Sell-rating-30511744/', 'date_long': '2020-05-01T09:49:03-04:00', 'desc': 'Goldman Sachs analyst reiterate his Sell rating on the stock. The target price is lowered from USD 236 to USD 243.'}, {'date_short': '05/01', 'title': 'APPLE INC : Bernstein remains Neutral', 'url': 'https://www.marketscreener.com/quote/stock/APPLE-INC-4849/news/APPLE-INC-Bernstein-remains-Neutral-30511469/', 'date_long': '2020-05-01T08:55:04-04:00', 'desc': 'In a research note published by Toni Sacconaghi, Bernstein gives a Neutral rating to the stock.. The target price remains set at USD 285.'}, {'date_short': '05/01', 'title': 'APPLE INC : RBC remains its Buy rating', 'url': 'https://www.marketscreener.com/quote/stock/APPLE-INC-4849/news/APPLE-INC-RBC-remains-its-Buy-rating-30511147/', 'date_long': '2020-05-01T08:02:03-04:00', 'desc': 'RBC is positive on the stock with a Buy rating. The target price is still set at USD 345.'}, {'date_short': '05/01', 'title': 'APPLE INC : Buy rating from JP Morgan', 'url': 'https://www.marketscreener.com/quote/stock/APPLE-INC-4849/news/APPLE-INC-Buy-rating-from-JP-Morgan-30511099/', 'date_long': '2020-05-01T07:59:03-04:00', 'desc': 'Analyst Samik Chatterjee from JP Morgan research considers the stock attractive and recommends it with a Buy rating. The target price is being increased from USD 335 to USD 350.'}, {'date_short': '05/01', 'title': 'APPLE INC : UBS reaffirms its Buy rating', 'url': 'https://www.marketscreener.com/quote/stock/APPLE-INC-4849/news/APPLE-INC-UBS-reaffirms-its-Buy-rating-30510246/', 'date_long': '2020-05-01T04:16:04-04:00', 'desc': 'Analyst Timothy Arcuri from UBS research considers the stock attractive and recommends it with a Buy rating. The target price has been raised from USD 290 to USD 325.'}, {'date_short': '04/27', 'title': 'APPLE INC : Receives a Buy rating from JP Morgan', 'url': 'https://www.marketscreener.com/quote/stock/APPLE-INC-4849/news/APPLE-INC-Receives-a-Buy-rating-from-JP-Morgan-30480427/', 'date_long': '2020-04-27T09:47:07-04:00', 'desc': 'JP Morgan analyst Samik Chatterjee maintains his Buy rating on the stock. The target price remains unchanged at USD 335.'}, {'date_short': '04/27', 'title': 'APPLE INC : UBS reaffirms its Buy rating', 'url': 'https://www.marketscreener.com/quote/stock/APPLE-INC-4849/news/APPLE-INC-UBS-reaffirms-its-Buy-rating-30479102/', 'date_long': '2020-04-27T07:28:04-04:00', 'desc': 'In a research note published by Timothy Arcuri, UBS advises its customers to buy the stock. The target price continues to be set at USD 290.'}, {'date_short': '04/24', 'title': 'APPLE INC : Goldman Sachs maintains a Sell rating', 'url': 'https://www.marketscreener.com/quote/stock/APPLE-INC-4849/news/APPLE-INC-Goldman-Sachs-maintains-a-Sell-rating-30472676/', 'date_long': '2020-04-24T10:03:03-04:00', 'desc': 'Rod Hall from Goldman Sachs retains his negative opinion on the stock with a Sell rating. The target price is lowered from USD 233 to USD 236.'}, {'date_short': '04/22', 'title': 'APPLE INC : Bernstein reaffirms its Neutral rating', 'url': 'https://www.marketscreener.com/quote/stock/APPLE-INC-4849/news/APPLE-INC-Bernstein-reaffirms-its-Neutral-rating-30459971/', 'date_long': '2020-04-22T14:54:03-04:00', 'desc': 'In a research note, Bernstein analyst Toni Sacconaghi has maintained his recommendation on the stock with a Neutral rating.'}, {'date_short': '04/17', 'title': 'APPLE INC : Goldman Sachs gives a Sell rating', 'url': 'https://www.marketscreener.com/quote/stock/APPLE-INC-4849/news/APPLE-INC-Goldman-Sachs-gives-a-Sell-rating-30426644/', 'date_long': '2020-04-17T05:32:03-04:00', 'desc': \"Goldman Sachs's analyst Rod Hall downgrades rating of APPLE INC from Neutral to Sell. The target price is lowered from USD 250 to USD 233.\"}, {'date_short': '04/14', 'title': 'APPLE INC : Receives a Buy rating from JP Morgan', 'url': 'https://www.marketscreener.com/quote/stock/APPLE-INC-4849/news/APPLE-INC-Receives-a-Buy-rating-from-JP-Morgan-30410628/', 'date_long': '2020-04-14T16:00:04-04:00', 'desc': 'In his latest research note, analyst Samik Chatterjee confirms his positive recommendation. The broker JP Morgan is keeping its Buy rating. The target price is unchanged and still at USD 335.'}, {'date_short': '04/14', 'title': 'APPLE INC : UBS remains its Buy rating', 'url': 'https://www.marketscreener.com/quote/stock/APPLE-INC-4849/news/APPLE-INC-UBS-remains-its-Buy-rating-30407557/', 'date_long': '2020-04-14T06:20:05-04:00', 'desc': 'Analyst Timothy Arcuri from UBS research considers the stock attractive and recommends it with a Buy rating. The target price is still set at USD 290.'}, {'date_short': '04/08', 'title': 'APPLE INC : Buy rating from JP Morgan', 'url': 'https://www.marketscreener.com/quote/stock/APPLE-INC-4849/news/APPLE-INC-Buy-rating-from-JP-Morgan-30383978/', 'date_long': '2020-04-08T07:24:04-04:00', 'desc': 'Samik Chatterjee from JP Morgan retains his positive opinion on the stock with a Buy rating. The target price has been revised downwards and is now set at USD 335 as compared to USD 350 previously..'}, {'date_short': '04/03', 'title': 'APPLE INC : Credit Suisse reiterates its Neutral rating', 'url': 'https://www.marketscreener.com/quote/stock/APPLE-INC-4849/news/APPLE-INC-Credit-Suisse-reiterates-its-Neutral-rating-30302150/', 'date_long': '2020-04-03T07:03:10-04:00', 'desc': \"Credit Suisse's research confirms his advice and maintains his neutral opinion on the stock.. The target price is lowered from USD 290 to USD 260.\"}, {'date_short': '03/30', 'title': 'APPLE INC : Buy rating from UBS', 'url': 'https://www.marketscreener.com/quote/stock/APPLE-INC-4849/news/APPLE-INC-Buy-rating-from-UBS-30338668/', 'date_long': '2020-03-30T02:19:09-04:00', 'desc': 'In his latest research note, analyst Timothy Arcuri confirms his positive recommendation. The broker UBS is keeping its Buy rating. The target price is revised downwards from USD 335 to USD 290.'}, {'date_short': '03/26', 'title': 'APPLE INC : Barclays gives a Neutral rating', 'url': 'https://www.marketscreener.com/quote/stock/APPLE-INC-4849/news/APPLE-INC-Barclays-gives-a-Neutral-rating-30338385/', 'date_long': '2020-03-26T07:14:02-04:00', 'desc': 'Tim Long from Barclays retains his Neutral opinion on the stock. The target price is reduced from USD 297 to USD 268.'}, {'date_short': '03/23', 'title': 'APPLE INC : DZ Bank reiterates its Buy rating', 'url': 'https://www.marketscreener.com/quote/stock/APPLE-INC-4849/news/APPLE-INC-DZ-Bank-reiterates-its-Buy-rating-30337737/', 'date_long': '2020-03-23T10:14:02-04:00', 'desc': 'DZ Bank is positive on the stock with a Buy rating.'}, {'date_short': '03/17', 'title': 'APPLE INC : Jefferies gives a Buy rating', 'url': 'https://www.marketscreener.com/quote/stock/APPLE-INC-4849/news/APPLE-INC-Jefferies-gives-a-Buy-rating-30336858/', 'date_long': '2020-03-17T09:20:04-04:00', 'desc': 'In a research note, Jefferies analyst Kyle McNealy has maintained his recommendation on the stock with a Buy rating.. Previously set at USD 370, the target price is lowered to USD 320.'}, {'date_short': '03/16', 'title': 'APPLE INC : Credit Suisse sticks Neutral', 'url': 'https://www.marketscreener.com/quote/stock/APPLE-INC-4849/news/APPLE-INC-Credit-Suisse-sticks-Neutral-30336583/', 'date_long': '2020-03-16T07:53:49-04:00', 'desc': 'Matthew Cabral from Credit Suisse retains his Neutral opinion on the stock. The target price remains set at USD 290.'}, {'date_short': '03/16', 'title': 'APPLE INC : JP Morgan gives a Buy rating', 'url': 'https://www.marketscreener.com/quote/stock/APPLE-INC-4849/news/APPLE-INC-JP-Morgan-gives-a-Buy-rating-30336485/', 'date_long': '2020-03-16T02:32:35-04:00', 'desc': 'JP Morgan is positive on the stock with a Buy rating. The target price remains unchanged at USD 350.'}, {'date_short': '03/09', 'title': 'APPLE INC : UBS remains its Buy rating', 'url': 'https://www.marketscreener.com/quote/stock/APPLE-INC-4849/news/APPLE-INC-UBS-remains-its-Buy-rating-30335830/', 'date_long': '2020-03-09T17:50:15-04:00', 'desc': 'Already positive, the research from UBS and its analyst Timothy Arcuri still consider the stock as a Buy opportunity.. The target price is lowered from USD 355 to USD 335.'}, {'date_short': '03/06', 'title': 'APPLE INC : UBS reiterates its Buy rating', 'url': 'https://www.marketscreener.com/quote/stock/APPLE-INC-4849/news/APPLE-INC-UBS-reiterates-its-Buy-rating-30335674/', 'date_long': '2020-03-06T08:08:23-05:00', 'desc': 'Timothy Arcuri from UBS retains his positive opinion on the stock with a Buy rating. The target price continues to be set at USD 355.'}, {'date_short': '03/06', 'title': 'APPLE INC : Deutsche Bank sticks Neutral', 'url': 'https://www.marketscreener.com/quote/stock/APPLE-INC-4849/news/APPLE-INC-Deutsche-Bank-sticks-Neutral-30335587/', 'date_long': '2020-03-06T02:32:42-05:00', 'desc': 'Deutsche Bank confirms his opinion on the stock and remains Neutral. The target price has been revised downwards and is now set at USD 295 as compared to USD 305 previously..'}, {'date_short': '02/24', 'title': 'APPLE INC : UBS reiterates its Buy rating', 'url': 'https://www.marketscreener.com/quote/stock/APPLE-INC-4849/news/APPLE-INC-UBS-reiterates-its-Buy-rating-30341542/', 'date_long': '2020-02-24T15:20:25-05:00', 'desc': 'UBS analyst Timothy Arcuri maintains his Buy rating on the stock. The target price is unchanged at USD 355.'}, {'date_short': '02/19', 'title': 'APPLE INC : Credit Suisse reiterates its Neutral rating', 'url': 'https://www.marketscreener.com/quote/stock/APPLE-INC-4849/news/APPLE-INC-Credit-Suisse-reiterates-its-Neutral-rating-30341070/', 'date_long': '2020-02-19T07:09:41-05:00', 'desc': 'In a research note, Credit Suisse analyst Matthew Cabral has maintained his recommendation on the stock with a Neutral rating. The target price is still set at USD 290.'}, {'date_short': '02/18', 'title': 'APPLE INC : Bernstein remains Neutral', 'url': 'https://www.marketscreener.com/quote/stock/APPLE-INC-4849/news/APPLE-INC-Bernstein-remains-Neutral-30340960/', 'date_long': '2020-02-18T16:39:36-05:00', 'desc': 'In a research note, Bernstein analyst Toni Sacconaghi has maintained his recommendation on the stock with a Neutral rating. The target price is still set at USD 300.'}, {'date_short': '02/18', 'title': 'APPLE INC : Receives a Buy rating from RBC', 'url': 'https://www.marketscreener.com/quote/stock/APPLE-INC-4849/news/APPLE-INC-Receives-a-Buy-rating-from-RBC-30340958/', 'date_long': '2020-02-18T16:38:50-05:00', 'desc': 'In a research note published by Robert Muller, RBC advises its customers to buy the stock. The target price remains unchanged at USD 358.'}, {'date_short': '02/18', 'title': 'APPLE INC : Receives a Buy rating from UBS', 'url': 'https://www.marketscreener.com/quote/stock/APPLE-INC-4849/news/APPLE-INC-Receives-a-Buy-rating-from-UBS-30340956/', 'date_long': '2020-02-18T16:37:51-05:00', 'desc': 'Timothy Arcuri from UBS retains his positive opinion on the stock with a Buy rating. The target price continues to be set at USD 355.'}, {'date_short': '02/18', 'title': 'APPLE INC : Goldman Sachs reiterates its Neutral rating', 'url': 'https://www.marketscreener.com/quote/stock/APPLE-INC-4849/news/APPLE-INC-Goldman-Sachs-reiterates-its-Neutral-rating-30340930/', 'date_long': '2020-02-18T10:24:06-05:00', 'desc': \"Initially Neutral on the company, Goldman Sachs's analyst Rod Hall maintained his recommendation.. The target price is unchanged and still at USD 300.\"}, {'date_short': '02/18', 'title': 'APPLE INC : Morgan Stanley keeps its Buy rating', 'url': 'https://www.marketscreener.com/quote/stock/APPLE-INC-4849/news/APPLE-INC-Morgan-Stanley-keeps-its-Buy-rating-30340910/', 'date_long': '2020-02-18T06:24:13-05:00', 'desc': 'Kathryn Huberty from Morgan Stanley retains his positive opinion on the stock with a Buy rating. The target price is still set at USD 368.'}, {'date_short': '02/18', 'title': 'APPLE INC : JP Morgan remains its Buy rating', 'url': 'https://www.marketscreener.com/quote/stock/APPLE-INC-4849/news/APPLE-INC-JP-Morgan-remains-its-Buy-rating-30340824/', 'date_long': '2020-02-18T01:25:57-05:00', 'desc': 'In a research note, JP Morgan analyst Samik Chatterjee has maintained his recommendation on the stock with a Buy rating.. The target price continues to be set at USD 350.'}, {'date_short': '02/03', 'title': 'APPLE INC : Deutsche Bank sticks Neutral', 'url': 'https://www.marketscreener.com/quote/stock/APPLE-INC-4849/news/APPLE-INC-Deutsche-Bank-sticks-Neutral-30338902/', 'date_long': '2020-02-03T03:14:50-05:00', 'desc': 'Deutsche Bank confirms his opinion on the stock and remains Neutral. The target price is unchanged at USD 305.'}]\n"
          ],
          "name": "stdout"
        }
      ]
    },
    {
      "cell_type": "code",
      "metadata": {
        "id": "MslmjQ7qXXq3",
        "colab_type": "code",
        "colab": {}
      },
      "source": [
        "from pandas import DataFrame\n",
        "dataset = DataFrame (full_output)\n",
        "from tqdm import tqdm # This is an awesome package for tracking for loops\n",
        "import pandas as pd"
      ],
      "execution_count": 214,
      "outputs": []
    },
    {
      "cell_type": "code",
      "metadata": {
        "id": "kMyDC-OAocU_",
        "colab_type": "code",
        "colab": {
          "base_uri": "https://localhost:8080/",
          "height": 17
        },
        "outputId": "f3154944-8618-40e2-ca0f-831acc0cfcc6"
      },
      "source": [
        "#add the new column 'sentiment' by passing the class TwitterAnalyzer\n",
        "desc_analyzer = DescAnalyzer()\n",
        "\n",
        "#sentiment analysis\n",
        "\n",
        "polarity = lambda x: TextBlob(x).sentiment.polarity\n",
        "subjectivity = lambda x: TextBlob(x).sentiment.subjectivity\n",
        "\n",
        "dataset['polarity'] = dataset['desc'].astype(str).apply(polarity)\n",
        "dataset['subjectivity'] = dataset['desc'].astype(str).apply(subjectivity)\n",
        "dataset['sentiment'] = np.array([desc_analyzer.analyze_sentiment(text_desc) for text_desc in dataset['desc']])\n",
        "\n",
        "dataset.head()\n",
        "\n",
        "dataset.to_csv('sr_market_screener_reccom' + '_AAPL_YTD' + '.csv', index=False)\n",
        "files.download('sr_market_screener_reccom' + '_AAPL_YTD' + '.csv')"
      ],
      "execution_count": 218,
      "outputs": [
        {
          "output_type": "display_data",
          "data": {
            "application/javascript": [
              "\n",
              "    async function download(id, filename, size) {\n",
              "      if (!google.colab.kernel.accessAllowed) {\n",
              "        return;\n",
              "      }\n",
              "      const div = document.createElement('div');\n",
              "      const label = document.createElement('label');\n",
              "      label.textContent = `Downloading \"${filename}\": `;\n",
              "      div.appendChild(label);\n",
              "      const progress = document.createElement('progress');\n",
              "      progress.max = size;\n",
              "      div.appendChild(progress);\n",
              "      document.body.appendChild(div);\n",
              "\n",
              "      const buffers = [];\n",
              "      let downloaded = 0;\n",
              "\n",
              "      const channel = await google.colab.kernel.comms.open(id);\n",
              "      // Send a message to notify the kernel that we're ready.\n",
              "      channel.send({})\n",
              "\n",
              "      for await (const message of channel.messages) {\n",
              "        // Send a message to notify the kernel that we're ready.\n",
              "        channel.send({})\n",
              "        if (message.buffers) {\n",
              "          for (const buffer of message.buffers) {\n",
              "            buffers.push(buffer);\n",
              "            downloaded += buffer.byteLength;\n",
              "            progress.value = downloaded;\n",
              "          }\n",
              "        }\n",
              "      }\n",
              "      const blob = new Blob(buffers, {type: 'application/binary'});\n",
              "      const a = document.createElement('a');\n",
              "      a.href = window.URL.createObjectURL(blob);\n",
              "      a.download = filename;\n",
              "      div.appendChild(a);\n",
              "      a.click();\n",
              "      div.remove();\n",
              "    }\n",
              "  "
            ],
            "text/plain": [
              "<IPython.core.display.Javascript object>"
            ]
          },
          "metadata": {
            "tags": []
          }
        },
        {
          "output_type": "display_data",
          "data": {
            "application/javascript": [
              "download(\"download_eb27db8b-bcc6-478d-a4ea-ea7263c6b545\", \"sr_market_screener_reccom_AAPL_YTD.csv\", 23766)"
            ],
            "text/plain": [
              "<IPython.core.display.Javascript object>"
            ]
          },
          "metadata": {
            "tags": []
          }
        }
      ]
    }
  ]
}