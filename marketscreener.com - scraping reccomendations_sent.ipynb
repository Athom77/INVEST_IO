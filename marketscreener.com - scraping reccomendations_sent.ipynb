{
  "nbformat": 4,
  "nbformat_minor": 0,
  "metadata": {
    "colab": {
      "name": "market_screener_reccom_01.ipynb",
      "provenance": [],
      "collapsed_sections": [],
      "toc_visible": true
    },
    "kernelspec": {
      "name": "python3",
      "display_name": "Python 3"
    },
    "widgets": {
      "application/vnd.jupyter.widget-state+json": {
        "843e861ff2fe4397867b5e3e18e0589f": {
          "model_module": "@jupyter-widgets/controls",
          "model_name": "HBoxModel",
          "state": {
            "_view_name": "HBoxView",
            "_dom_classes": [],
            "_model_name": "HBoxModel",
            "_view_module": "@jupyter-widgets/controls",
            "_model_module_version": "1.5.0",
            "_view_count": null,
            "_view_module_version": "1.5.0",
            "box_style": "",
            "layout": "IPY_MODEL_a6ac7e0fb3904b14bfaeded9a846b38e",
            "_model_module": "@jupyter-widgets/controls",
            "children": [
              "IPY_MODEL_a44616242bd749e99bbc151022ca5d09",
              "IPY_MODEL_5ffee226798d412faaa09b276808921e"
            ]
          }
        },
        "a6ac7e0fb3904b14bfaeded9a846b38e": {
          "model_module": "@jupyter-widgets/base",
          "model_name": "LayoutModel",
          "state": {
            "_view_name": "LayoutView",
            "grid_template_rows": null,
            "right": null,
            "justify_content": null,
            "_view_module": "@jupyter-widgets/base",
            "overflow": null,
            "_model_module_version": "1.2.0",
            "_view_count": null,
            "flex_flow": null,
            "width": null,
            "min_width": null,
            "border": null,
            "align_items": null,
            "bottom": null,
            "_model_module": "@jupyter-widgets/base",
            "top": null,
            "grid_column": null,
            "overflow_y": null,
            "overflow_x": null,
            "grid_auto_flow": null,
            "grid_area": null,
            "grid_template_columns": null,
            "flex": null,
            "_model_name": "LayoutModel",
            "justify_items": null,
            "grid_row": null,
            "max_height": null,
            "align_content": null,
            "visibility": null,
            "align_self": null,
            "height": null,
            "min_height": null,
            "padding": null,
            "grid_auto_rows": null,
            "grid_gap": null,
            "max_width": null,
            "order": null,
            "_view_module_version": "1.2.0",
            "grid_template_areas": null,
            "object_position": null,
            "object_fit": null,
            "grid_auto_columns": null,
            "margin": null,
            "display": null,
            "left": null
          }
        },
        "a44616242bd749e99bbc151022ca5d09": {
          "model_module": "@jupyter-widgets/controls",
          "model_name": "FloatProgressModel",
          "state": {
            "_view_name": "ProgressView",
            "style": "IPY_MODEL_1909ed12ab1444b3b9d49f272692cdc1",
            "_dom_classes": [],
            "description": "100%",
            "_model_name": "FloatProgressModel",
            "bar_style": "success",
            "max": 64,
            "_view_module": "@jupyter-widgets/controls",
            "_model_module_version": "1.5.0",
            "value": 64,
            "_view_count": null,
            "_view_module_version": "1.5.0",
            "orientation": "horizontal",
            "min": 0,
            "description_tooltip": null,
            "_model_module": "@jupyter-widgets/controls",
            "layout": "IPY_MODEL_a2ca59da51b949be99e6366f18fe71a2"
          }
        },
        "5ffee226798d412faaa09b276808921e": {
          "model_module": "@jupyter-widgets/controls",
          "model_name": "HTMLModel",
          "state": {
            "_view_name": "HTMLView",
            "style": "IPY_MODEL_87c3846928654d8b8a4f12981982c662",
            "_dom_classes": [],
            "description": "",
            "_model_name": "HTMLModel",
            "placeholder": "​",
            "_view_module": "@jupyter-widgets/controls",
            "_model_module_version": "1.5.0",
            "value": " 64/64 [11:16&lt;00:00, 10.58s/it]",
            "_view_count": null,
            "_view_module_version": "1.5.0",
            "description_tooltip": null,
            "_model_module": "@jupyter-widgets/controls",
            "layout": "IPY_MODEL_bc5a370523614b6d8ce19fe53c517595"
          }
        },
        "1909ed12ab1444b3b9d49f272692cdc1": {
          "model_module": "@jupyter-widgets/controls",
          "model_name": "ProgressStyleModel",
          "state": {
            "_view_name": "StyleView",
            "_model_name": "ProgressStyleModel",
            "description_width": "initial",
            "_view_module": "@jupyter-widgets/base",
            "_model_module_version": "1.5.0",
            "_view_count": null,
            "_view_module_version": "1.2.0",
            "bar_color": null,
            "_model_module": "@jupyter-widgets/controls"
          }
        },
        "a2ca59da51b949be99e6366f18fe71a2": {
          "model_module": "@jupyter-widgets/base",
          "model_name": "LayoutModel",
          "state": {
            "_view_name": "LayoutView",
            "grid_template_rows": null,
            "right": null,
            "justify_content": null,
            "_view_module": "@jupyter-widgets/base",
            "overflow": null,
            "_model_module_version": "1.2.0",
            "_view_count": null,
            "flex_flow": null,
            "width": null,
            "min_width": null,
            "border": null,
            "align_items": null,
            "bottom": null,
            "_model_module": "@jupyter-widgets/base",
            "top": null,
            "grid_column": null,
            "overflow_y": null,
            "overflow_x": null,
            "grid_auto_flow": null,
            "grid_area": null,
            "grid_template_columns": null,
            "flex": null,
            "_model_name": "LayoutModel",
            "justify_items": null,
            "grid_row": null,
            "max_height": null,
            "align_content": null,
            "visibility": null,
            "align_self": null,
            "height": null,
            "min_height": null,
            "padding": null,
            "grid_auto_rows": null,
            "grid_gap": null,
            "max_width": null,
            "order": null,
            "_view_module_version": "1.2.0",
            "grid_template_areas": null,
            "object_position": null,
            "object_fit": null,
            "grid_auto_columns": null,
            "margin": null,
            "display": null,
            "left": null
          }
        },
        "87c3846928654d8b8a4f12981982c662": {
          "model_module": "@jupyter-widgets/controls",
          "model_name": "DescriptionStyleModel",
          "state": {
            "_view_name": "StyleView",
            "_model_name": "DescriptionStyleModel",
            "description_width": "",
            "_view_module": "@jupyter-widgets/base",
            "_model_module_version": "1.5.0",
            "_view_count": null,
            "_view_module_version": "1.2.0",
            "_model_module": "@jupyter-widgets/controls"
          }
        },
        "bc5a370523614b6d8ce19fe53c517595": {
          "model_module": "@jupyter-widgets/base",
          "model_name": "LayoutModel",
          "state": {
            "_view_name": "LayoutView",
            "grid_template_rows": null,
            "right": null,
            "justify_content": null,
            "_view_module": "@jupyter-widgets/base",
            "overflow": null,
            "_model_module_version": "1.2.0",
            "_view_count": null,
            "flex_flow": null,
            "width": null,
            "min_width": null,
            "border": null,
            "align_items": null,
            "bottom": null,
            "_model_module": "@jupyter-widgets/base",
            "top": null,
            "grid_column": null,
            "overflow_y": null,
            "overflow_x": null,
            "grid_auto_flow": null,
            "grid_area": null,
            "grid_template_columns": null,
            "flex": null,
            "_model_name": "LayoutModel",
            "justify_items": null,
            "grid_row": null,
            "max_height": null,
            "align_content": null,
            "visibility": null,
            "align_self": null,
            "height": null,
            "min_height": null,
            "padding": null,
            "grid_auto_rows": null,
            "grid_gap": null,
            "max_width": null,
            "order": null,
            "_view_module_version": "1.2.0",
            "grid_template_areas": null,
            "object_position": null,
            "object_fit": null,
            "grid_auto_columns": null,
            "margin": null,
            "display": null,
            "left": null
          }
        }
      }
    }
  },
  "cells": [
    {
      "cell_type": "markdown",
      "metadata": {
        "id": "mOKhN30KNRg_",
        "colab_type": "text"
      },
      "source": [
        "# Questo notebook importa le raccomandazioni degli analisti da marketscreener, di default il link è di intesa san paolo ma può essere cambiato come riportato sotto"
      ]
    },
    {
      "cell_type": "code",
      "metadata": {
        "id": "JtlRaxiuyqpA",
        "colab_type": "code",
        "colab": {
          "base_uri": "https://localhost:8080/",
          "height": 50
        },
        "outputId": "d52dcded-a2ea-418f-a39f-329ac5cc0af3"
      },
      "source": [
        "#mounts current gdrive in colab after providing success code\n",
        "#INSERISCI IL CODICE DI SUCCESSO O NON FUNZIONERA'\n",
        "from google.colab import drive\n",
        "drive.mount('/content/gdrive')\n",
        "%cd '/content/gdrive/My Drive/INVEST-IO/'"
      ],
      "execution_count": 255,
      "outputs": [
        {
          "output_type": "stream",
          "text": [
            "Drive already mounted at /content/gdrive; to attempt to forcibly remount, call drive.mount(\"/content/gdrive\", force_remount=True).\n",
            "/content/gdrive/My Drive/INVEST-IO\n"
          ],
          "name": "stdout"
        }
      ]
    },
    {
      "cell_type": "code",
      "metadata": {
        "id": "O3ucYmplZ27e",
        "colab_type": "code",
        "colab": {
          "base_uri": "https://localhost:8080/",
          "height": 375
        },
        "outputId": "62200dc2-7e3b-4363-ff82-96e0135e9711"
      },
      "source": [
        "!pip install selenium\n",
        "!apt-get update\n",
        "!apt install chromium-chromedriver\n",
        "!cp /usr/lib/chromium-browser/chromedriver /usr/bin\n",
        "\n",
        "import sys\n",
        "from selenium import webdriver\n",
        "from tqdm import tqdm_notebook as tqdm\n",
        "import pandas as pd\n",
        "import json\n",
        "import pprint\n",
        "import numpy as np\n",
        "\n",
        "chrome_options = webdriver.ChromeOptions()\n",
        "chrome_options.add_argument('--headless')\n",
        "chrome_options.add_argument('--no-sandbox')\n",
        "chrome_options.add_argument('--disable-dev-shm-usage')\n",
        "\n",
        "sys.path.insert(0,'/usr/lib/chromium-browser/chromedriver')\n",
        "wd = webdriver.Chrome('chromedriver',chrome_options=chrome_options)"
      ],
      "execution_count": 256,
      "outputs": [
        {
          "output_type": "stream",
          "text": [
            "Requirement already satisfied: selenium in /usr/local/lib/python3.6/dist-packages (3.141.0)\n",
            "Requirement already satisfied: urllib3 in /usr/local/lib/python3.6/dist-packages (from selenium) (1.24.3)\n",
            "Hit:1 https://cloud.r-project.org/bin/linux/ubuntu bionic-cran35/ InRelease\n",
            "Ign:2 https://developer.download.nvidia.com/compute/cuda/repos/ubuntu1804/x86_64  InRelease\n",
            "Ign:3 https://developer.download.nvidia.com/compute/machine-learning/repos/ubuntu1804/x86_64  InRelease\n",
            "Hit:4 https://developer.download.nvidia.com/compute/cuda/repos/ubuntu1804/x86_64  Release\n",
            "Hit:5 https://developer.download.nvidia.com/compute/machine-learning/repos/ubuntu1804/x86_64  Release\n",
            "Get:6 http://security.ubuntu.com/ubuntu bionic-security InRelease [88.7 kB]\n",
            "Hit:7 http://ppa.launchpad.net/graphics-drivers/ppa/ubuntu bionic InRelease\n",
            "Hit:9 http://archive.ubuntu.com/ubuntu bionic InRelease\n",
            "Hit:11 http://ppa.launchpad.net/marutter/c2d4u3.5/ubuntu bionic InRelease\n",
            "Get:12 http://archive.ubuntu.com/ubuntu bionic-updates InRelease [88.7 kB]\n",
            "Get:13 http://archive.ubuntu.com/ubuntu bionic-backports InRelease [74.6 kB]\n",
            "Fetched 252 kB in 2s (124 kB/s)\n",
            "Reading package lists... Done\n",
            "Reading package lists... Done\n",
            "Building dependency tree       \n",
            "Reading state information... Done\n",
            "chromium-chromedriver is already the newest version (85.0.4183.83-0ubuntu0.18.04.2).\n",
            "0 upgraded, 0 newly installed, 0 to remove and 22 not upgraded.\n",
            "cp: '/usr/lib/chromium-browser/chromedriver' and '/usr/bin/chromedriver' are the same file\n"
          ],
          "name": "stdout"
        },
        {
          "output_type": "stream",
          "text": [
            "/usr/local/lib/python3.6/dist-packages/ipykernel_launcher.py:20: DeprecationWarning: use options instead of chrome_options\n"
          ],
          "name": "stderr"
        }
      ]
    },
    {
      "cell_type": "code",
      "metadata": {
        "id": "ct2U2j_JoK5E",
        "colab_type": "code",
        "colab": {}
      },
      "source": [
        "import importlib\n",
        "from textblob import TextBlob\n",
        "# re = python module for regular expression\n",
        "import re\n",
        "from datetime import datetime, timedelta\n",
        "from google.colab import files\n",
        "\n",
        "DescAnalyzer # # # #\n",
        "# we can use TextBlob for Analyst recommendation sentiment analysis and determine the polarity of the title, from -3 to 3;\n",
        "# -3 = negative, 0 = neutral, 3 = positive\n",
        "\n",
        " \n",
        "class DescAnalyzer():\n",
        "    \"\"\"\n",
        "    Functionality for analyzing and categorizing content from tweets.\n",
        "    \"\"\"\n",
        "    # claen_tweet using the re module to clean tweets text \n",
        "    def clean_tweet(self, desc_text):\n",
        "        return ' '.join(re.sub(\"(@[A-Za-z0-9]+)|([^0-9A-Za-z \\t])|(\\w+:\\/\\/\\S+)\", \" \", desc_text).split())\n",
        "    def analyze_sentiment(self, desc_text):\n",
        "        analysis = TextBlob(self.clean_tweet(desc_text))\n",
        "        \n",
        "        if analysis.sentiment.polarity > 0:\n",
        "            return 3\n",
        "        elif analysis.sentiment.polarity == 0:\n",
        "            return 0\n",
        "        else:\n",
        "            return -3"
      ],
      "execution_count": 257,
      "outputs": []
    },
    {
      "cell_type": "code",
      "metadata": {
        "id": "BSk9rQ_tG6u0",
        "colab_type": "code",
        "colab": {}
      },
      "source": [
        "def get_tds():\n",
        "  wd.execute_script(\"window.scrollTo(0, document.body.scrollHeight);\")\n",
        "  #loop sulle raccomandazioni dalla pagina principale\n",
        "  for i in wd.find_elements_by_css_selector('table#ALNI4.tabBody >* tr'):\n",
        "    date = i.find_elements_by_css_selector('.pleft5.pright5.large30')[0].text\n",
        "    reccom = i.find_elements_by_css_selector('.newsColCT.ptop3')[0].text\n",
        "    link = i.find_elements_by_css_selector('.newsColCT.ptop3 > a')[0].get_attribute('href')\n",
        "    output.append({'date': date, 'reccom' : reccom , 'link' : link})"
      ],
      "execution_count": 258,
      "outputs": []
    },
    {
      "cell_type": "code",
      "metadata": {
        "id": "XuaHsMhGQy5O",
        "colab_type": "code",
        "colab": {}
      },
      "source": [
        "def click_on_button(x):\n",
        "  element = wd.find_element_by_css_selector(x)\n",
        "  wd.execute_script(\"arguments[0].click();\", element)"
      ],
      "execution_count": 259,
      "outputs": []
    },
    {
      "cell_type": "code",
      "metadata": {
        "id": "i48E1Xbps5v6",
        "colab_type": "code",
        "colab": {}
      },
      "source": [
        "#MAIN\n",
        "# securties portfolio: \n",
        "#APPLE-INC-4849/; AAPL;\n",
        "#AMAZON-COM-INC-12864605 ; AMZN;\n",
        "#MICROSOFT-CORPORATION-4835 ;  MSFT;\n",
        "#ALPHABET-INC-24203373; GOOGL;\n",
        "#FACEBOOK-10547141; FB\n",
        "\n",
        "url = 'https://www.marketscreener.com/quote/stock/FACEBOOK-10547141/news-broker-research/' #< sostituisci qui il link\n",
        "wd.set_window_size(1920,1080)\n",
        "wd.maximize_window()\n",
        "wd.get(url)\n",
        "\n",
        "output = []\n",
        "next_button = 1\n",
        "\n",
        "while next_button > 0:\n",
        "  get_tds()\n",
        "  try:\n",
        "    button_container = 'a.nPageEndTab'\n",
        "    wd.find_element_by_css_selector(button_container)\n",
        "    click_on_button(button_container)\n",
        "  except:\n",
        "    next_button = 0"
      ],
      "execution_count": 260,
      "outputs": []
    },
    {
      "cell_type": "code",
      "metadata": {
        "id": "ifsauE3V7uvw",
        "colab_type": "code",
        "colab": {
          "base_uri": "https://localhost:8080/",
          "height": 150,
          "referenced_widgets": [
            "843e861ff2fe4397867b5e3e18e0589f",
            "a6ac7e0fb3904b14bfaeded9a846b38e",
            "a44616242bd749e99bbc151022ca5d09",
            "5ffee226798d412faaa09b276808921e",
            "1909ed12ab1444b3b9d49f272692cdc1",
            "a2ca59da51b949be99e6366f18fe71a2",
            "87c3846928654d8b8a4f12981982c662",
            "bc5a370523614b6d8ce19fe53c517595"
          ]
        },
        "outputId": "5e771cb2-e5cf-45e4-a4ad-985ace3fc0d9"
      },
      "source": [
        "full_output = []\n",
        "import time\n",
        "def loop_single_reccomm(k):\n",
        "  url = k['link']\n",
        "  date = k['date']\n",
        "  title = k['reccom']\n",
        "  wd.get(url)\n",
        "  time.sleep(abs(np.random.normal(2,1)))\n",
        "  time_published = wd.find_element_by_css_selector('meta[itemprop=\"datePublished\"]').get_attribute('content')\n",
        "  desc = wd.find_element_by_id('grantexto').text\n",
        "  full_output.append({'date_short' : date, 'title' : title, 'url': url, 'date_long' : time_published, 'desc' : desc})\n",
        "  return full_output\n",
        "\n",
        "for i in tqdm(output):\n",
        "  loop_single_reccomm(i)\n",
        "print (full_output)"
      ],
      "execution_count": 261,
      "outputs": [
        {
          "output_type": "stream",
          "text": [
            "/usr/local/lib/python3.6/dist-packages/ipykernel_launcher.py:14: TqdmDeprecationWarning: This function will be removed in tqdm==5.0.0\n",
            "Please use `tqdm.notebook.tqdm` instead of `tqdm.tqdm_notebook`\n",
            "  \n"
          ],
          "name": "stderr"
        },
        {
          "output_type": "display_data",
          "data": {
            "application/vnd.jupyter.widget-view+json": {
              "model_id": "843e861ff2fe4397867b5e3e18e0589f",
              "version_minor": 0,
              "version_major": 2
            },
            "text/plain": [
              "HBox(children=(FloatProgress(value=0.0, max=64.0), HTML(value='')))"
            ]
          },
          "metadata": {
            "tags": []
          }
        },
        {
          "output_type": "stream",
          "text": [
            "\n",
            "[{'date_short': '08/25', 'title': 'FACEBOOK INC : UBS keeps its Buy rating', 'url': 'https://www.marketscreener.com/quote/stock/FACEBOOK-10547141/news/FACEBOOK-INC-UBS-keeps-its-Buy-rating-31170968/', 'date_long': '2020-08-25T06:14:28-04:00', 'desc': 'In a research note published by Eric Sheridan, UBS advises its customers to buy the stock. The target price is reviewed upwards from USD 242 to USD 330.'}, {'date_short': '08/24', 'title': 'FACEBOOK INC : Jefferies reaffirms its Buy rating', 'url': 'https://www.marketscreener.com/quote/stock/FACEBOOK-10547141/news/FACEBOOK-INC-Jefferies-reaffirms-its-Buy-rating-31165633/', 'date_long': '2020-08-24T04:57:11-04:00', 'desc': 'Brent Thill from Jefferies retains his positive opinion on the stock with a Buy rating. The target price is reviewed upwards from USD 300 to USD 310.'}, {'date_short': '07/31', 'title': 'FACEBOOK INC : RBC reiterates its Buy rating', 'url': 'https://www.marketscreener.com/quote/stock/FACEBOOK-10547141/news/FACEBOOK-INC-RBC-reiterates-its-Buy-rating-31033016/', 'date_long': '2020-07-31T14:01:02-04:00', 'desc': 'Analyst Mark Mahaney from RBC research considers the stock attractive and recommends it with a Buy rating. The target price is increased from USD 271 to USD 320.'}, {'date_short': '07/31', 'title': 'FACEBOOK INC : Barclays maintains a Buy rating', 'url': 'https://www.marketscreener.com/quote/stock/FACEBOOK-10547141/news/FACEBOOK-INC-Barclays-maintains-a-Buy-rating-31032294/', 'date_long': '2020-07-31T11:11:46-04:00', 'desc': 'Barclays is positive on the stock with a Buy rating. The target price has been raised from USD 275 to USD 285.'}, {'date_short': '07/31', 'title': 'FACEBOOK INC : UBS remains its Buy rating', 'url': 'https://www.marketscreener.com/quote/stock/FACEBOOK-10547141/news/FACEBOOK-INC-UBS-remains-its-Buy-rating-31032263/', 'date_long': '2020-07-31T11:05:29-04:00', 'desc': 'Already positive, the research from UBS and its analyst Eric Sheridan still consider the stock as a Buy opportunity. The target price remains set at USD 242.'}, {'date_short': '07/31', 'title': 'FACEBOOK INC : Buy rating from Credit Suisse', 'url': 'https://www.marketscreener.com/quote/stock/FACEBOOK-10547141/news/FACEBOOK-INC-Buy-rating-from-Credit-Suisse-31031096/', 'date_long': '2020-07-31T08:16:52-04:00', 'desc': 'Stephen Ju from Credit Suisse retains his positive opinion on the stock with a Buy rating. The target price has been revised upwards and is now set at USD 315, compared with USD 305 previously.'}, {'date_short': '07/31', 'title': 'FACEBOOK INC : JP Morgan reiterates its Buy rating', 'url': 'https://www.marketscreener.com/quote/stock/FACEBOOK-10547141/news/FACEBOOK-INC-JP-Morgan-reiterates-its-Buy-rating-31029154/', 'date_long': '2020-07-31T04:37:40-04:00', 'desc': 'Analyst Douglas Anmuth from JP Morgan research considers the stock attractive and recommends it with a Buy rating. The target price is revised upwards from USD 300 to USD 290.'}, {'date_short': '07/22', 'title': 'FACEBOOK INC : Gets a Buy rating from Goldman Sachs', 'url': 'https://www.marketscreener.com/quote/stock/FACEBOOK-10547141/news/FACEBOOK-INC-Gets-a-Buy-rating-from-Goldman-Sachs-30968187/', 'date_long': '2020-07-22T04:10:15-04:00', 'desc': 'Heather Bellini from Goldman Sachs retains his positive opinion on the stock with a Buy rating. The target price is still set at USD 265.'}, {'date_short': '07/20', 'title': 'FACEBOOK INC : Gets a Buy rating from Credit Suisse', 'url': 'https://www.marketscreener.com/quote/stock/FACEBOOK-10547141/news/FACEBOOK-INC-Gets-a-Buy-rating-from-Credit-Suisse-30957048/', 'date_long': '2020-07-20T09:27:55-04:00', 'desc': 'In a research note, Credit Suisse analyst Stephen Ju has maintained his recommendation on the stock with a Buy rating. The target price is revised upwards from USD 305 to USD 258.'}, {'date_short': '07/07', 'title': 'FACEBOOK INC : Goldman Sachs reiterates its Buy rating', 'url': 'https://www.marketscreener.com/quote/stock/FACEBOOK-10547141/news/FACEBOOK-INC-Goldman-Sachs-reiterates-its-Buy-rating-30886860/', 'date_long': '2020-07-07T06:27:27-04:00', 'desc': 'Heather Bellini from Goldman Sachs retains his positive opinion on the stock with a Buy rating. The target price is still set at USD 265.'}, {'date_short': '06/29', 'title': 'FACEBOOK INC : JP Morgan remains its Buy rating', 'url': 'https://www.marketscreener.com/quote/stock/FACEBOOK-10547141/news/FACEBOOK-INC-JP-Morgan-remains-its-Buy-rating-30842244/', 'date_long': '2020-06-29T08:13:01-04:00', 'desc': 'In a research note published by Douglas Anmuth, JP Morgan advises its customers to buy the stock. The target price remains set at USD 245.'}, {'date_short': '06/09', 'title': 'FACEBOOK INC : Receives a Buy rating from Goldman Sachs', 'url': 'https://www.marketscreener.com/quote/stock/FACEBOOK-10547141/news/FACEBOOK-INC-Receives-a-Buy-rating-from-Goldman-Sachs-30745039/', 'date_long': '2020-06-09T08:03:07-04:00', 'desc': 'Already positive, the research from Goldman Sachs and its analyst Heather Bellini still consider the stock as a Buy opportunity.. The target price is reviewed upwards from USD 220 to USD 250.'}, {'date_short': '05/21', 'title': 'FACEBOOK INC : Jefferies reiterates its Buy rating', 'url': 'https://www.marketscreener.com/quote/stock/FACEBOOK-10547141/news/FACEBOOK-INC-Jefferies-reiterates-its-Buy-rating-30647206/', 'date_long': '2020-05-21T05:02:05-04:00', 'desc': 'Analyst Brent Thill from Jefferies research considers the stock attractive and recommends it with a Buy rating. The target price is unchanged at USD 250.'}, {'date_short': '05/20', 'title': 'FACEBOOK INC : DZ Bank reiterates its Buy rating', 'url': 'https://www.marketscreener.com/quote/stock/FACEBOOK-10547141/news/FACEBOOK-INC-DZ-Bank-reiterates-its-Buy-rating-30641833/', 'date_long': '2020-05-20T08:54:03-04:00', 'desc': 'DZ Bank is positive on the stock with a Buy rating.'}, {'date_short': '05/20', 'title': 'FACEBOOK INC : UBS reiterates its Buy rating', 'url': 'https://www.marketscreener.com/quote/stock/FACEBOOK-10547141/news/FACEBOOK-INC-UBS-reiterates-its-Buy-rating-30639201/', 'date_long': '2020-05-20T01:48:05-04:00', 'desc': 'Analyst Eric Sheridan from UBS research considers the stock attractive and recommends it with a Buy rating. The target price is still set at USD 242.'}, {'date_short': '05/04', 'title': 'FACEBOOK INC : Buy rating from Jefferies', 'url': 'https://www.marketscreener.com/quote/stock/FACEBOOK-10547141/news/FACEBOOK-INC-Buy-rating-from-Jefferies-30533101/', 'date_long': '2020-05-04T07:26:10-04:00', 'desc': 'In a research note, Jefferies analyst Brent Thill has maintained his recommendation on the stock with a Buy rating.. The target price is still set at USD 250.'}, {'date_short': '04/30', 'title': 'FACEBOOK INC : Receives a Buy rating from Goldman Sachs', 'url': 'https://www.marketscreener.com/quote/stock/FACEBOOK-10547141/news/FACEBOOK-INC-Receives-a-Buy-rating-from-Goldman-Sachs-30506509/', 'date_long': '2020-04-30T12:36:04-04:00', 'desc': 'Already positive, the research from Goldman Sachs and its analyst Heather Bellini still consider the stock as a Buy opportunity.. The target price has been revised upwards and is now set at USD 220, compared with USD 170 previously.'}, {'date_short': '04/30', 'title': 'FACEBOOK INC : RBC gives a Buy rating', 'url': 'https://www.marketscreener.com/quote/stock/FACEBOOK-10547141/news/FACEBOOK-INC-RBC-gives-a-Buy-rating-30505151/', 'date_long': '2020-04-30T09:38:03-04:00', 'desc': 'In a research note, RBC analyst Mark Mahaney has maintained his recommendation on the stock with a Buy rating.. The target price is increased from USD 238 to USD 271.'}, {'date_short': '04/30', 'title': 'FACEBOOK INC : UBS reiterates its Buy rating', 'url': 'https://www.marketscreener.com/quote/stock/FACEBOOK-10547141/news/FACEBOOK-INC-UBS-reiterates-its-Buy-rating-30503586/', 'date_long': '2020-04-30T07:45:08-04:00', 'desc': 'UBS analyst Eric Sheridan maintains his Buy rating on the stock. The target price is increased from USD 223 to USD 242.'}, {'date_short': '04/29', 'title': 'FACEBOOK INC : Jefferies reaffirms its Buy rating', 'url': 'https://www.marketscreener.com/quote/stock/FACEBOOK-10547141/news/FACEBOOK-INC-Jefferies-reaffirms-its-Buy-rating-30499332/', 'date_long': '2020-04-29T17:19:02-04:00', 'desc': 'Jefferies analyst Brent Thill maintains his Buy rating on the stock. The target price is unchanged and still at USD 225.'}, {'date_short': '04/06', 'title': 'FACEBOOK INC : Jefferies reiterates its Buy rating', 'url': 'https://www.marketscreener.com/quote/stock/FACEBOOK-10547141/news/FACEBOOK-INC-Jefferies-reiterates-its-Buy-rating-30334672/', 'date_long': '2020-04-06T10:35:42-04:00', 'desc': 'Already positive, the research from Jefferies and its analyst Brent Thill still consider the stock as a Buy opportunity.. The target price is lowered from USD 235 to USD 225.'}, {'date_short': '03/26', 'title': 'FACEBOOK INC : Goldman Sachs keeps its Buy rating', 'url': 'https://www.marketscreener.com/quote/stock/FACEBOOK-10547141/news/FACEBOOK-INC-Goldman-Sachs-keeps-its-Buy-rating-30338465/', 'date_long': '2020-03-26T09:53:35-04:00', 'desc': 'Goldman Sachs analyst Heather Bellini maintains his Buy rating on the stock. The target price has been revised downwards and is now set at USD 170 as compared to USD 249 previously..'}, {'date_short': '03/19', 'title': 'FACEBOOK INC : Jefferies maintains a Buy rating', 'url': 'https://www.marketscreener.com/quote/stock/FACEBOOK-10547141/news/FACEBOOK-INC-Jefferies-maintains-a-Buy-rating-30337275/', 'date_long': '2020-03-19T08:49:10-04:00', 'desc': 'Brent Thill from Jefferies retains his positive opinion on the stock with a Buy rating. The target price is decreased from USD 245 to USD 235.'}, {'date_short': '03/18', 'title': 'FACEBOOK INC : Receives a Buy rating from JP Morgan', 'url': 'https://www.marketscreener.com/quote/stock/FACEBOOK-10547141/news/FACEBOOK-INC-Receives-a-Buy-rating-from-JP-Morgan-30336997/', 'date_long': '2020-03-18T06:55:05-04:00', 'desc': 'Analyst Douglas Anmuth from JP Morgan research considers the stock attractive and recommends it with a Buy rating. The target price is revised downwards from USD 255 to USD 225.'}, {'date_short': '01/30', 'title': 'FACEBOOK INC : Receives a Buy rating from RBC', 'url': 'https://www.marketscreener.com/quote/stock/FACEBOOK-10547141/news/FACEBOOK-INC-Receives-a-Buy-rating-from-RBC-30345704/', 'date_long': '2020-01-30T11:13:45-05:00', 'desc': 'In his latest research note, analyst Mark Mahaney confirms his positive recommendation. The broker RBC is keeping its Buy rating. The target price is revised downwards from USD 270 to USD 255.'}, {'date_short': '01/30', 'title': 'FACEBOOK INC : Credit Suisse reiterates its Buy rating', 'url': 'https://www.marketscreener.com/quote/stock/FACEBOOK-10547141/news/FACEBOOK-INC-Credit-Suisse-reiterates-its-Buy-rating-30345696/', 'date_long': '2020-01-30T09:23:28-05:00', 'desc': 'In a research note published by Stephen Ju, Credit Suisse advises its customers to buy the stock. The target price has been revised downwards and is now set at USD 272 as compared to USD 274 previously..'}, {'date_short': '01/30', 'title': 'FACEBOOK INC : Gets a Buy rating from UBS', 'url': 'https://www.marketscreener.com/quote/stock/FACEBOOK-10547141/news/FACEBOOK-INC-Gets-a-Buy-rating-from-UBS-30345688/', 'date_long': '2020-01-30T07:44:25-05:00', 'desc': 'In a research note, UBS analyst Eric Sheridan has maintained his recommendation on the stock with a Buy rating.. The target price is reduced from USD 250 to USD 246.'}, {'date_short': '01/30', 'title': 'FACEBOOK INC : Barclays reaffirms its Buy rating', 'url': 'https://www.marketscreener.com/quote/stock/FACEBOOK-10547141/news/FACEBOOK-INC-Barclays-reaffirms-its-Buy-rating-30345684/', 'date_long': '2020-01-30T07:19:16-05:00', 'desc': 'Ross Sandler from Barclays retains his positive opinion on the stock with a Buy rating. The target price continues to be set at USD 260.'}, {'date_short': '01/30', 'title': 'FACEBOOK INC : Buy rating from JP Morgan', 'url': 'https://www.marketscreener.com/quote/stock/FACEBOOK-10547141/news/FACEBOOK-INC-Buy-rating-from-JP-Morgan-30345648/', 'date_long': '2020-01-30T06:37:13-05:00', 'desc': 'JP Morgan is positive on the stock with a Buy rating. The target price is unchanged at USD 255.'}, {'date_short': '01/28', 'title': 'FACEBOOK INC : Jefferies reaffirms its Buy rating', 'url': 'https://www.marketscreener.com/quote/stock/FACEBOOK-10547141/news/FACEBOOK-INC-Jefferies-reaffirms-its-Buy-rating-30345199/', 'date_long': '2020-01-28T05:31:11-05:00', 'desc': 'Brent Thill from Jefferies retains his positive opinion on the stock with a Buy rating. The target price is unchanged and still at USD 250.'}, {'date_short': '01/22', 'title': 'FACEBOOK INC : Buy rating from Barclays', 'url': 'https://www.marketscreener.com/quote/stock/FACEBOOK-10547141/news/FACEBOOK-INC-Buy-rating-from-Barclays-30344523/', 'date_long': '2020-01-22T06:37:24-05:00', 'desc': 'In his latest research note, analyst Ross Sandler confirms his positive recommendation. The broker Barclays is keeping its Buy rating. The target price has been revised upwards and is now set at USD 260, compared with USD 220 previously.'}, {'date_short': '01/21', 'title': 'With Tariff Threats, Trump Again Wields Economic Clout to Solve Disputes', 'url': 'https://www.marketscreener.com/news/latest/With-Tariff-Threats-Trump-Again-Wields-Economic-Clout-to-Solve-Disputes--29871215/', 'date_long': '2020-01-21T17:49:00-05:00', 'desc': 'By Andrew Restuccia and Greg Ip\\nDAVOS, Switzerland -- Fresh threats by the U.S. to place tariffs on some of its closest allies -- just days after reaching an initial trade deal with China -- show that economic pressure remains President Trump\\'s weapon of choice in international disputes.\\nEven as he lauded the phase-one deal the U.S. signed with China last week, Mr. Trump on Tuesday threatened another trade fight with Europe. Mr. Trump, in an interview on the sidelines of the World Economic Forum, said he would impose new tariffs on European car imports if the European Union didn\\'t agree to a new trade agreement.\\nHours earlier, U.S. Treasury Secretary Steven Mnuchin warned that Italy and Britain would face U.S. levies if they proceeded with a tax on American digital giants such as Alphabet Inc.\\'s Google and Facebook Inc.\\nThe double salvo shows Washington will continue efforts to bend other nations to its will by applying economic pressure on allies and adversaries alike -- everything from sanctions on longtime adversary Iran to possible tariffs for longtime partners in Europe.\\nFrance agreed Monday to delay the imposition of a digital tax in the face of threats of U.S. tariffs on French exports. In an interview at Davos on Tuesday morning, Mr. Mnuchin said French President Emmanuel Macron had agreed to hold off on the tax through the end of the year while the two countries worked out a permanent resolution.\\nSome U.S. officials view Mr. Macron\\'s move as a climb-down under pressure from the administration, which had threatened a 100% tax on French wine if the digital tax wasn\\'t paused.\\nIf the U.K. and Italy proceed with planned digital taxes on American companies, \"they\\'ll find themselves faced with President Trump\\'s tariffs, \" Mr. Mnuchin said. \"We\\'ll be having similar conversations with them.\"\\nIn response, the U.K. said it would go ahead with its digital-services tax in April if no comprehensive, multilateral deal on how tech companies should be taxed was found. The Italian government declined to comment on whether it would proceed with a similar tax last year that was to take effect in 2020.\\nIn Tuesday\\'s interview with The Wall Street Journal, Mr. Trump, who railed against the large trade deficits European countries hold with the U.S., said he would impose tariffs on some $60 billion worth of European automobiles and car parts if he couldn\\'t strike a trade pact with the EU.\\n\"They know that I\\'m going to put tariffs on them if they don\\'t make a deal that\\'s a fair deal,\" said Mr. Trump, who declined to say what deadline he was imposing. \"They know what the deadline is,\" he said, adding that he would reveal it publicly soon.\\nThe EU has promised to respond to U.S. tariffs with levies on about $100 billion of trans-Atlantic trade. Talks on removing barriers to U.S.-EU trade have stumbled on several issues, notably pressure by the U.S. on Europeans to open their agricultural markets to U.S. companies.\\nThe administration believes that there is a fundamental imbalance in the openness of the U.S. to European imports and Europe\\'s openness to U.S. imports, said Peter Chase, a former U.S. diplomat who is now a Brussels-based fellow at the German Marshall Fund. \"They feel that simply trying to reason with Europe -- just like simply trying to reason with China and Japan -- has not worked,\" he said. \"So, they will look for other sources to force Europe to think about that fundamental imbalance.\"\\nTuesday\\'s threats could herald months or years of economic tensions. Indeed, even with a phase-one trade deal with China in place, Mr. Mnuchin said a second phase wouldn\\'t necessarily be a \"big bang\" that removed all tariffs. \"We may do 2A and some of the tariffs come off,\" he said. \"We can do this sequentially along the way.\"\\nFriction over the question of taxing U.S. tech giants is also likely to continue.\\nCountries working through the Organization for Economic Cooperation and Development recently arrived at a plan for apportioning taxes paid by multinational companies on activity that spans borders and isn\\'t easily captured by existing rules, including digital activity. The U.S. has signaled it objects to the plan.\\nFrustrated with progress on the OECD talks, France announced the tax last year as a way of collecting revenue from web-based companies that pay little or no tax on substantial sales in France.\\nThe OECD is set next week to publish an update on the talks, ahead of a meeting of finance ministers from the Group of 20 leading economies Feb. 22-23 in Riyadh. The prospect for success in those talks is uncertain.\\nThe stakes are high for Europe. Without a change to the tax rules, European governments face the prospect of a steady slide in their corporate tax revenues.\\nThe Trump administration\\'s unilateral moves, including the tariffs threats, reflect the enduring skepticism with which it views multilateral solutions to pressing international problems.\\nIn his speech, Mr. Trump touted the power of unilateral action, arguing that his bold approach to China helped resolve problems that had plagued the international trading system for years. \"Before I was elected, China\\'s predatory practices were undermining trade for everyone,\" he said. \"Under my leadership, we confronted the problem head on.... China has agreed to do things they would not have done.\"\\nChina\\'s Vice Premier Han Zheng said Tuesday that Beijing would keep promoting multilateral cooperation, including reforms to global-governance institutions. In a speech in Davos following President Trump\\'s remarks, Mr. Han said \"International affairs shouldn\\'t be dictated by any one country or a small group of countries.\"\\n--Paul Hannon and Emre Peker contributed to this article.\\nWrite to Andrew Restuccia at Andrew.Restuccia@wsj.com and Greg Ip at greg.ip@wsj.com'}, {'date_short': '01/21', 'title': 'Mnuchin Warns U.K., Italy Over Digital-Tax Plans -- Update', 'url': 'https://www.marketscreener.com/news/latest/Mnuchin-Warns-U-K-Italy-Over-Digital-Tax-Plans-Update--29869143/', 'date_long': '2020-01-21T10:07:01-05:00', 'desc': 'By Greg Ip\\nDAVOS, Switzerland -- Italy and Britain will face U.S. tariffs if they proceed with a tax on digital companies such as Alphabet Inc.\\'s Google and Facebook Inc., U.S. Treasury Secretary Steven Mnuchin warned.\\nMr. Mnuchin issued the warning after France agreed to delay the imposition of its own digital tax in the face of threats of steep U.S. tariffs on French exports. Mr. Mnuchin said French President Emmanuel Macron agreed to hold off on the tax through the end of the year while the two countries work out a permanent resolution.\\nThe truce is \"the beginning of a solution,\" Mr. Mnuchin said an interview with The Wall Street Journal at a Journal-sponsored event on the sidelines of the World Economic Forum in Davos.\\nFrance announced the tax last year as a way of collecting revenue from web-based companies that pay little or no tax on substantial sales in France. Italy\\'s parliament passed a similar tax last year that was set to take effect this year. Britain is scheduled to implement a similar tax this year.\\nMr. Mnuchin said the U.S. was clear it thought France\\'s digital tax was an unfair levy on gross revenue and hoped Britain and Italy would suspend their plans. \"If not they\\'ll find themselves faced with President Trump\\'s tariffs. We\\'ll be having similar conversations with them.\"\\nCountries working through the Organization for Economic Cooperation and Development recently arrived at a plan for apportioning taxes paid by multinational companies on activity that spans borders and isn\\'t easily captured by existing income tax schemes, including digital activity. The U.S. has signaled it objects to the plan but supports a mechanism to resolve global tax disputes that would give multinational companies a safe harbor.\\nWith a \"phase one\" trade deal with China in place, Mr. Mnuchin said phase two wouldn\\'t necessarily be a \"big bang\" that removes all existing tariffs. \"We may do 2A and some of the tariffs come off. We can do this sequentially along the way.\"\\nMr. Mnuchin also said the Trump administration would propose a new middle-class tax cut later this year. \"We are working on what we call tax cut 2.0...which will be additional middle-class tax cuts. We are in the process of designing it and will be rolling it out shortly.\" Mr. Trump is set to deliver his State of the Union address early next month. The administration\\'s budget is expected to follow shortly afterward.\\nMr. Mnuchin said the U.S. would run deficits of about $1 trillion for the next two years, because of some provisions of the tax cut such as expensing of investment, and increased government spending agreed to as part of an agreement with congressional Democrats. But \"I\\'ll stick with my projections that the tax deal will pay for itself,\" he said.\\nAt a separate panel Tuesday, Mr. Mnuchin said the Trump administration will focus this year on efforts to deregulate energy pipelines and infrastructure as part of a broader effort to boost U.S. economic growth.\\nHe also said that while regulators are monitoring rising corporate debt levels, corporate leverage doesn\\'t pose a major risk to the U.S. economy. The biggest risk to the outlook is political, he said, adding that some Democratic presidential candidates would likely support stricter regulation that would dramatically change the economic outlook.\\nKate Davidson contributed to this article.\\nWrite to Greg Ip at greg.ip@wsj.com'}, {'date_short': '01/21', 'title': 'Mnuchin Warns U.K., Italy Over Digital-Tax Plans', 'url': 'https://www.marketscreener.com/news/latest/Mnuchin-Warns-U-K-Italy-Over-Digital-Tax-Plans--29867081/', 'date_long': '2020-01-21T04:45:02-05:00', 'desc': 'By Greg Ip\\nDAVOS, Switzerland -- Italy and Britain will face U.S. tariffs if they proceed with a tax on digital companies such as Alphabet Inc.\\'s Google and Facebook Inc., U.S. Treasury Secretary Steven Mnuchin warned.\\nMr. Mnuchin issued the warning after France agreed to delay the imposition of its own digital tax in the face of threats of steep U.S. tariffs on French exports. Mr. Mnuchin said French President Emmanuel Macron agreed to hold off on the tax through the end of the year while the two countries work out a permanent resolution.\\nThe truce is \"the beginning of a solution,\" Mr. Mnuchin said an interview with The Wall Street Journal at a Journal-sponsored event on the sidelines of the World Economic Forum in Davos.\\nFrance announced the tax last year as a way of collecting revenue from web-based companies that pay little or no tax on substantial sales in France. Italy\\'s parliament passed a similar tax last year that was set to take effect this year. Britain is scheduled to implement a similar tax this year.\\nMr. Mnuchin said the U.S. was clear it thought France\\'s digital tax was an unfair levy on gross revenue and hoped Britain and Italy would suspend their plans. \"If not they\\'ll find themselves faced with President Trump\\'s tariffs. We\\'ll be having similar conversations with them.\"\\nCountries working through the Organization for Economic Cooperation and Development recently arrived at a plan for apportioning taxes paid by multinational companies on activity that spans borders and isn\\'t easily captured by existing income tax schemes, including digital activity. The U.S. has signaled it objects to the plan but supports a mechanism to resolve global tax disputes that would give multinational companies a safe harbor.\\nWith a \"phase one\" trade deal with China in place, Mr. Mnuchin said phase two wouldn\\'t necessarily be a \"big bang\" that removes all existing tariffs. \"We may do 2A and some of the tariffs come off. We can do this sequentially along the way.\"\\nMr. Mnuchin also said the Trump administration would propose a new middle-class tax cut later this year. \"We are working on what we call tax cut 2.0...which will be additional middle-class tax cuts. We are in the process of designing it and will be rolling it out shortly.\" Mr. Trump is set to deliver his State of the Union address early next month. The administration\\'s budget is expected to follow shortly afterward.\\nMr. Mnuchin said the U.S. would run deficits of about $1 trillion for the next two years, because of some provisions of the tax cut such as expensing of investment, and increased government spending agreed to as part of an agreement with congressional Democrats. But \"I\\'ll stick with my projections that the tax deal will pay for itself,\" he said.\\nWrite to Greg Ip at greg.ip@wsj.com'}, {'date_short': '2019', 'title': 'FACEBOOK INC : HSBC gives a Sell rating', 'url': 'https://www.marketscreener.com/quote/stock/FACEBOOK-10547141/news/FACEBOOK-INC-HSBC-gives-a-Sell-rating-30349952/', 'date_long': '2019-12-05T01:08:42-05:00', 'desc': \"FACEBOOK INC downgraded by HSBC's analyst from Neutral to Sell. The target price is still set at USD 178.\"}, {'date_short': '2019', 'title': 'FACEBOOK INC : DZ Bank remains its Buy rating', 'url': 'https://www.marketscreener.com/quote/stock/FACEBOOK-10547141/news/FACEBOOK-INC-DZ-Bank-remains-its-Buy-rating-30359637/', 'date_long': '2019-10-31T08:10:03-04:00', 'desc': 'In a research note published by Ingo Wermann, DZ Bank advises its customers to buy the stock.'}, {'date_short': '2019', 'title': 'FACEBOOK INC : Buy rating from Credit Suisse', 'url': 'https://www.marketscreener.com/quote/stock/FACEBOOK-10547141/news/FACEBOOK-INC-Buy-rating-from-Credit-Suisse-30359623/', 'date_long': '2019-10-31T07:54:54-04:00', 'desc': 'Credit Suisse is positive on the stock with a Buy rating. The target price is increased from USD 260 to USD 270.'}, {'date_short': '2019', 'title': 'FACEBOOK INC : UBS reiterates its Buy rating', 'url': 'https://www.marketscreener.com/quote/stock/FACEBOOK-10547141/news/FACEBOOK-INC-UBS-reiterates-its-Buy-rating-30359367/', 'date_long': '2019-10-31T01:28:56-04:00', 'desc': 'Analyst Eric Sheridan from UBS research considers the stock attractive and recommends it with a Buy rating. The target price continues to be set at USD 240.'}, {'date_short': '2019', 'title': 'FACEBOOK INC : Jefferies reiterates its Buy rating', 'url': 'https://www.marketscreener.com/quote/stock/FACEBOOK-10547141/news/FACEBOOK-INC-Jefferies-reiterates-its-Buy-rating-30359359/', 'date_long': '2019-10-31T01:17:31-04:00', 'desc': 'Brent Thill from Jefferies retains his positive opinion on the stock with a Buy rating. The target price is unchanged at USD 250.'}, {'date_short': '2019', 'title': 'FACEBOOK INC : Goldman Sachs keeps its Buy rating', 'url': 'https://www.marketscreener.com/quote/stock/FACEBOOK-10547141/news/FACEBOOK-INC-Goldman-Sachs-keeps-its-Buy-rating-30359357/', 'date_long': '2019-10-31T01:12:49-04:00', 'desc': 'Heather Bellini from Goldman Sachs retains his positive opinion on the stock with a Buy rating. The target price is revised upwards from USD 243 to USD 231.'}, {'date_short': '2019', 'title': 'FACEBOOK INC : Gets a Buy rating from JP Morgan', 'url': 'https://www.marketscreener.com/quote/stock/FACEBOOK-10547141/news/FACEBOOK-INC-Gets-a-Buy-rating-from-JP-Morgan-30359353/', 'date_long': '2019-10-31T01:06:42-04:00', 'desc': 'In a research note published by Douglas Anmuth, JP Morgan advises its customers to buy the stock. The target price continues to be set at USD 255.'}, {'date_short': '2019', 'title': 'FACEBOOK INC : Goldman Sachs reaffirms its Buy rating', 'url': 'https://www.marketscreener.com/quote/stock/FACEBOOK-10547141/news/FACEBOOK-INC-Goldman-Sachs-reaffirms-its-Buy-rating-30359341/', 'date_long': '2019-10-30T14:35:57-04:00', 'desc': 'In his latest research note, analyst Heather Bellini confirms his positive recommendation. The broker Goldman Sachs is keeping its Buy rating. The target price is still set at USD 231.'}, {'date_short': '2019', 'title': 'FACEBOOK INC : Credit Suisse gives a Buy rating', 'url': 'https://www.marketscreener.com/quote/stock/FACEBOOK-10547141/news/FACEBOOK-INC-Credit-Suisse-gives-a-Buy-rating-30358783/', 'date_long': '2019-10-29T01:48:08-04:00', 'desc': 'In a research note published by Stephen Ju, Credit Suisse advises its customers to buy the stock. The target price has been lifted and is now set at USD 260 compared to USD 250 before.'}, {'date_short': '2019', 'title': 'FACEBOOK INC : Goldman Sachs reiterates its Buy rating', 'url': 'https://www.marketscreener.com/quote/stock/FACEBOOK-10547141/news/FACEBOOK-INC-Goldman-Sachs-reiterates-its-Buy-rating-30357526/', 'date_long': '2019-10-18T08:29:43-04:00', 'desc': 'In his latest research note, analyst Heather Bellini confirms his positive recommendation. The broker Goldman Sachs is keeping its Buy rating. The target price is still set at USD 231.'}, {'date_short': '2019', 'title': 'FACEBOOK INC : Deutsche Bank maintains a Buy rating', 'url': 'https://www.marketscreener.com/quote/stock/FACEBOOK-10547141/news/FACEBOOK-INC-Deutsche-Bank-maintains-a-Buy-rating-30356146/', 'date_long': '2019-10-09T04:28:40-04:00', 'desc': 'Already positive, the research from Deutsche Bank and its analyst Lloyd Walmsley still consider the stock as a Buy opportunity.. The target price is lowered from USD 235 to USD 230.'}, {'date_short': '2019', 'title': 'FACEBOOK INC : UBS remains its Buy rating', 'url': 'https://www.marketscreener.com/quote/stock/FACEBOOK-10547141/news/FACEBOOK-INC-UBS-remains-its-Buy-rating-30369105/', 'date_long': '2019-07-25T15:22:21-04:00', 'desc': 'UBS is positive on the stock with a Buy rating. The target price continues to be set at USD 240.'}, {'date_short': '2019', 'title': 'FACEBOOK INC : Receives a Buy rating from JP Morgan', 'url': 'https://www.marketscreener.com/quote/stock/FACEBOOK-10547141/news/FACEBOOK-INC-Receives-a-Buy-rating-from-JP-Morgan-30368904/', 'date_long': '2019-07-25T06:28:11-04:00', 'desc': 'JP Morgan is positive on the stock with a Buy rating. The target price has been raised to USD 255 from USD 245.'}, {'date_short': '2019', 'title': 'FACEBOOK INC : RBC gives a Buy rating', 'url': 'https://www.marketscreener.com/quote/stock/FACEBOOK-10547141/news/FACEBOOK-INC-RBC-gives-a-Buy-rating-30368697/', 'date_long': '2019-07-25T03:18:43-04:00', 'desc': 'RBC analyst Mark Mahaney maintains his Buy rating on the stock. The target price is revised upwards from USD 260 to USD 250.'}, {'date_short': '2019', 'title': 'FACEBOOK INC : Buy rating from Goldman Sachs', 'url': 'https://www.marketscreener.com/quote/stock/FACEBOOK-10547141/news/FACEBOOK-INC-Buy-rating-from-Goldman-Sachs-30368679/', 'date_long': '2019-07-25T03:00:02-04:00', 'desc': 'Heather Bellini from Goldman Sachs retains his positive opinion on the stock with a Buy rating. The target price has been revised downwards and is now set at USD 231 as compared to USD 228 previously..'}, {'date_short': '2019', 'title': 'FACEBOOK INC : Deutsche Bank reaffirms its Buy rating', 'url': 'https://www.marketscreener.com/quote/stock/FACEBOOK-10547141/news/FACEBOOK-INC-Deutsche-Bank-reaffirms-its-Buy-rating-30368469/', 'date_long': '2019-07-24T02:59:35-04:00', 'desc': 'Lloyd Walmsley from Deutsche Bank retains his positive opinion on the stock with a Buy rating. The target price is unchanged and still at USD 230.'}, {'date_short': '2019', 'title': 'FACEBOOK INC : Buy rating from Goldman Sachs', 'url': 'https://www.marketscreener.com/quote/stock/FACEBOOK-10547141/news/FACEBOOK-INC-Buy-rating-from-Goldman-Sachs-30368397/', 'date_long': '2019-07-23T07:09:43-04:00', 'desc': 'In a research note published by Heather Bellini, Goldman Sachs advises its customers to buy the stock. The target price is unchanged at USD 228.'}, {'date_short': '2019', 'title': 'FACEBOOK INC : Buy rating from Goldman Sachs', 'url': 'https://www.marketscreener.com/quote/stock/FACEBOOK-10547141/news/FACEBOOK-INC-Buy-rating-from-Goldman-Sachs-30367283/', 'date_long': '2019-07-12T07:50:02-04:00', 'desc': 'Already positive, the research from Goldman Sachs and its analyst Heath Terry still consider the stock as a Buy opportunity.. The target price is still set at USD 228.'}, {'date_short': '2019', 'title': 'FACEBOOK INC : Deutsche Bank keeps its Buy rating', 'url': 'https://www.marketscreener.com/quote/stock/FACEBOOK-10547141/news/FACEBOOK-INC-Deutsche-Bank-keeps-its-Buy-rating-30372014/', 'date_long': '2019-06-27T08:36:57-04:00', 'desc': 'Lloyd Walmsley from Deutsche Bank retains his positive opinion on the stock with a Buy rating. The target price is increased from USD 220 to USD 230.'}, {'date_short': '2019', 'title': 'FACEBOOK INC : Gets a Buy rating from RBC', 'url': 'https://www.marketscreener.com/quote/stock/FACEBOOK-10547141/news/FACEBOOK-INC-Gets-a-Buy-rating-from-RBC-30371303/', 'date_long': '2019-06-18T11:12:02-04:00', 'desc': 'RBC analyst Mark Mahaney maintains his Buy rating on the stock. The target price is still set at USD 250.'}, {'date_short': '2019', 'title': 'FACEBOOK INC : JP Morgan keeps its Buy rating', 'url': 'https://www.marketscreener.com/quote/stock/FACEBOOK-10547141/news/FACEBOOK-INC-JP-Morgan-keeps-its-Buy-rating-30371301/', 'date_long': '2019-06-18T11:10:32-04:00', 'desc': 'Already positive, the research from JP Morgan and its analyst Douglas Anmuth still consider the stock as a Buy opportunity.. The target price is unchanged and still at USD 245.'}, {'date_short': '2019', 'title': 'FACEBOOK INC : RBC reaffirms its Buy rating', 'url': 'https://www.marketscreener.com/quote/stock/FACEBOOK-10547141/news/FACEBOOK-INC-RBC-reaffirms-its-Buy-rating-30370849/', 'date_long': '2019-06-14T07:45:13-04:00', 'desc': 'In a research note, RBC analyst Mark Mahaney has maintained his recommendation on the stock with a Buy rating.. The target price continues to be set at USD 250.'}, {'date_short': '2019', 'title': 'FACEBOOK INC : Deutsche Bank reiterates its Buy rating', 'url': 'https://www.marketscreener.com/quote/stock/FACEBOOK-10547141/news/FACEBOOK-INC-Deutsche-Bank-reiterates-its-Buy-rating-30333664/', 'date_long': '2019-04-25T08:21:16-04:00', 'desc': 'In a research note published by Lloyd Walmsley, Deutsche Bank advises its customers to buy the stock. The target price is reviewed upwards from USD 205 to USD 220.'}, {'date_short': '2019', 'title': 'FACEBOOK INC : JP Morgan remains its Buy rating', 'url': 'https://www.marketscreener.com/quote/stock/FACEBOOK-10547141/news/FACEBOOK-INC-JP-Morgan-remains-its-Buy-rating-30333620/', 'date_long': '2019-04-25T07:40:10-04:00', 'desc': 'JP Morgan analyst Douglas Anmuth maintains his Buy rating on the stock. The target price is revised upwards from USD 245 to USD 210.'}, {'date_short': '2019', 'title': 'FACEBOOK INC : From Neutral to Buy by UBS', 'url': 'https://www.marketscreener.com/quote/stock/FACEBOOK-10547141/news/FACEBOOK-INC-From-Neutral-to-Buy-by-UBS-30333536/', 'date_long': '2019-04-25T05:42:54-04:00', 'desc': 'UBS increases his rating from Neutral to Buy. The target price has been raised to USD 240 from USD 170.'}, {'date_short': '2019', 'title': 'FACEBOOK INC : Gets a Buy rating from RBC', 'url': 'https://www.marketscreener.com/quote/stock/FACEBOOK-10547141/news/FACEBOOK-INC-Gets-a-Buy-rating-from-RBC-30333522/', 'date_long': '2019-04-25T05:32:09-04:00', 'desc': 'In his latest research note, analyst Mark Mahaney confirms his positive recommendation. The broker RBC is keeping its Buy rating. The target price has been lifted and is now set at USD 250 compared to USD 200 before.'}, {'date_short': '2019', 'title': 'FACEBOOK INC : Goldman Sachs remains its Buy rating', 'url': 'https://www.marketscreener.com/quote/stock/FACEBOOK-10547141/news/FACEBOOK-INC-Goldman-Sachs-remains-its-Buy-rating-30333412/', 'date_long': '2019-04-24T15:06:40-04:00', 'desc': 'In a research note, Goldman Sachs analyst Heather Bellini has maintained his recommendation on the stock with a Buy rating.. The target price is unchanged at USD 200.'}, {'date_short': '2019', 'title': 'FACEBOOK INC : RBC gives a Buy rating', 'url': 'https://www.marketscreener.com/quote/stock/FACEBOOK-10547141/news/FACEBOOK-INC-RBC-gives-a-Buy-rating-30333178/', 'date_long': '2019-04-23T16:29:49-04:00', 'desc': 'Mark Mahaney from RBC retains his positive opinion on the stock with a Buy rating. The target price continues to be set at USD 200.'}, {'date_short': '2019', 'title': \"New York's iconic Chrysler Building put up for sale\", 'url': 'https://www.marketscreener.com/quote/stock/JPMORGAN-CHASE-CO-37468997/news/New-York-s-iconic-Chrysler-Building-put-up-for-sale-27843302/', 'date_long': '2019-01-09T15:13:08-05:00', 'desc': 'The 77-story stainless steel-clad skyscraper, briefly the world\\'s tallest building after it was finished in 1930, is 90 percent owned by the Abu Dhabi Investment Council, a sovereign wealth fund, with developer Tishman Speyer owning the remainder.\\n\"It\\'s exciting. I\\'m getting inquiries from all over the world,\" said Darcy Stacom, chairman and head of New York City Capital Markets at brokerage CBRE Group Inc.\\nThe 1.26 million square foot building underwent a $100 million renovation after Tishman acquired the property in 1997. Tishman later reduced its holding. The sovereign wealth fund paid $800 million when it bought its stake in 2008.\\nThe building\\'s brand and its location on 42nd Street just east of Grand Central Terminal, a major Manhattan transportation hub, are ripe for greater retail exploitation, Stacom said.\\nThe building\\'s occupancy rate is in the low 80 percent range, below the city average, according to CBRE. Stacom declined to reveal the asking price for the building.\\nStacom declined to give the building\\'s asking price.\\nBuildings on average are 50 years old in Midtown and many store-fronts are empty, hard hit by e-commerce. With the new Hudson Yards district on the far West Side attracting major corporations, concerns have been raised about Midtown\\'s appeal.\\nBut Midtown remains a favored business destination. JPMorgan Chase & Co plans to build a new headquarters on nearby Park Avenue. One Vanderbilt, a marquee office tower, is rising just west of Grand Central.\\nAge could be a selling point, too, as seen by the popularity of Midtown South, which has the city\\'s lowest vacancy rate and companies such as Alphabet Inc Google and Facebook Inc occupy century-old structures.\\nThe decision to sell a property is driven by numerous factors, not often due to unsatisfactory performance, said Patrice Derrington, director of the real estate development program at Columbia University.\\n\"New York City constantly offers an appropriately varied array of formats for office tenants, creating a complementary ecosystem,\" she said.\\n(Reporting by Herbert Lash; Additional reporting by Uday Sampath in Bengaluru; Editing by Arun Koyyur and Lisa Shumaker)\\nBy Herbert Lash'}, {'date_short': '2019', 'title': \"New York's iconic Chrysler Building put up for sale\", 'url': 'https://www.marketscreener.com/quote/stock/JPMORGAN-CHASE-CO-37468997/news/New-York-s-iconic-Chrysler-Building-put-up-for-sale-27843312/', 'date_long': '2019-01-09T15:09:27-05:00', 'desc': 'The 77-story stainless steel-clad skyscraper, briefly the world\\'s tallest building after it was finished in 1930, is 90 percent owned by the Abu Dhabi Investment Council, a sovereign wealth fund, with developer Tishman Speyer owning the remainder.\\n\"It\\'s exciting. I\\'m getting inquiries from all over the world,\" said Darcy Stacom, chairman and head of New York City Capital Markets at brokerage CBRE Group Inc.\\nThe 1.26 million square foot building underwent a $100 million renovation after Tishman acquired the property in 1997. Tishman later reduced its holding. The sovereign wealth fund paid $800 million (626 million pounds) when it bought its stake in 2008.\\nThe building\\'s brand and its location on 42nd Street just east of Grand Central Terminal, a major Manhattan transportation hub, are ripe for greater retail exploitation, Stacom said.\\nThe building\\'s occupancy rate is in the low 80 percent range, below the city average, according to CBRE. Stacom declined to reveal the asking price for the building.\\nStacom declined to give the building\\'s asking price.\\nBuildings on average are 50 years old in Midtown and many store-fronts are empty, hard hit by e-commerce. With the new Hudson Yards district on the far West Side attracting major corporations, concerns have been raised about Midtown\\'s appeal.\\nBut Midtown remains a favored business destination. JPMorgan Chase & Co plans to build a new headquarters on nearby Park Avenue. One Vanderbilt, a marquee office tower, is rising just west of Grand Central.\\nAge could be a selling point, too, as seen by the popularity of Midtown South, which has the city\\'s lowest vacancy rate and companies such as Alphabet Inc Google and Facebook Inc occupy century-old structures.\\nThe decision to sell a property is driven by numerous factors, not often due to unsatisfactory performance, said Patrice Derrington, director of the real estate development program at Columbia University.\\n\"New York City constantly offers an appropriately varied array of formats for office tenants, creating a complementary ecosystem,\" she said.\\n(Reporting by Herbert Lash; Additional reporting by Uday Sampath in Bengaluru; Editing by Arun Koyyur and Lisa Shumaker)\\nBy Herbert Lash'}]\n"
          ],
          "name": "stdout"
        }
      ]
    },
    {
      "cell_type": "code",
      "metadata": {
        "id": "MslmjQ7qXXq3",
        "colab_type": "code",
        "colab": {}
      },
      "source": [
        "from pandas import DataFrame\n",
        "dataset = DataFrame (full_output)\n",
        "from tqdm import tqdm # This is an awesome package for tracking for loops\n",
        "import pandas as pd"
      ],
      "execution_count": 262,
      "outputs": []
    },
    {
      "cell_type": "code",
      "metadata": {
        "id": "kMyDC-OAocU_",
        "colab_type": "code",
        "colab": {
          "base_uri": "https://localhost:8080/",
          "height": 17
        },
        "outputId": "f7a4c72e-3ad3-4067-86d7-306e213f8e01"
      },
      "source": [
        "#add the new column 'sentiment' by passing the class TwitterAnalyzer\n",
        "desc_analyzer = DescAnalyzer()\n",
        "\n",
        "#sentiment analysis\n",
        "\n",
        "polarity = lambda x: TextBlob(x).sentiment.polarity\n",
        "subjectivity = lambda x: TextBlob(x).sentiment.subjectivity\n",
        "\n",
        "dataset['polarity'] = dataset['desc'].astype(str).apply(polarity)\n",
        "dataset['subjectivity'] = dataset['desc'].astype(str).apply(subjectivity)\n",
        "dataset['sentiment'] = np.array([desc_analyzer.analyze_sentiment(text_desc) for text_desc in dataset['desc']])\n",
        "\n",
        "dataset.head()\n",
        "\n",
        "dataset.to_csv('sr_market_screener_reccom' + '_FB_YTD' + '.csv', index=False)\n",
        "files.download('sr_market_screener_reccom' + '_FB_YTD' + '.csv')"
      ],
      "execution_count": 263,
      "outputs": [
        {
          "output_type": "display_data",
          "data": {
            "application/javascript": [
              "\n",
              "    async function download(id, filename, size) {\n",
              "      if (!google.colab.kernel.accessAllowed) {\n",
              "        return;\n",
              "      }\n",
              "      const div = document.createElement('div');\n",
              "      const label = document.createElement('label');\n",
              "      label.textContent = `Downloading \"${filename}\": `;\n",
              "      div.appendChild(label);\n",
              "      const progress = document.createElement('progress');\n",
              "      progress.max = size;\n",
              "      div.appendChild(progress);\n",
              "      document.body.appendChild(div);\n",
              "\n",
              "      const buffers = [];\n",
              "      let downloaded = 0;\n",
              "\n",
              "      const channel = await google.colab.kernel.comms.open(id);\n",
              "      // Send a message to notify the kernel that we're ready.\n",
              "      channel.send({})\n",
              "\n",
              "      for await (const message of channel.messages) {\n",
              "        // Send a message to notify the kernel that we're ready.\n",
              "        channel.send({})\n",
              "        if (message.buffers) {\n",
              "          for (const buffer of message.buffers) {\n",
              "            buffers.push(buffer);\n",
              "            downloaded += buffer.byteLength;\n",
              "            progress.value = downloaded;\n",
              "          }\n",
              "        }\n",
              "      }\n",
              "      const blob = new Blob(buffers, {type: 'application/binary'});\n",
              "      const a = document.createElement('a');\n",
              "      a.href = window.URL.createObjectURL(blob);\n",
              "      a.download = filename;\n",
              "      div.appendChild(a);\n",
              "      a.click();\n",
              "      div.remove();\n",
              "    }\n",
              "  "
            ],
            "text/plain": [
              "<IPython.core.display.Javascript object>"
            ]
          },
          "metadata": {
            "tags": []
          }
        },
        {
          "output_type": "display_data",
          "data": {
            "application/javascript": [
              "download(\"download_4dd9e92a-3e71-4f40-8114-5c42c406923b\", \"sr_market_screener_reccom_FB_YTD.csv\", 40326)"
            ],
            "text/plain": [
              "<IPython.core.display.Javascript object>"
            ]
          },
          "metadata": {
            "tags": []
          }
        }
      ]
    }
  ]
}