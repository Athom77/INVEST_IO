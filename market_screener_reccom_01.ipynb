{
  "nbformat": 4,
  "nbformat_minor": 0,
  "metadata": {
    "colab": {
      "name": "market_screener_reccom_01.ipynb",
      "provenance": [],
      "collapsed_sections": [],
      "include_colab_link": true
    },
    "kernelspec": {
      "name": "python3",
      "display_name": "Python 3"
    }
  },
  "cells": [
    {
      "cell_type": "markdown",
      "metadata": {
        "id": "view-in-github",
        "colab_type": "text"
      },
      "source": [
        "<a href=\"https://colab.research.google.com/github/Athom77/INVEST_IO/blob/master/market_screener_reccom_01.ipynb\" target=\"_parent\"><img src=\"https://colab.research.google.com/assets/colab-badge.svg\" alt=\"Open In Colab\"/></a>"
      ]
    },
    {
      "cell_type": "code",
      "metadata": {
        "id": "O3ucYmplZ27e",
        "colab_type": "code",
        "colab": {
          "base_uri": "https://localhost:8080/",
          "height": 1000
        },
        "outputId": "8d84b648-7f0e-47b7-aceb-ea5dc9de5dfa"
      },
      "source": [
        "!pip install selenium\n",
        "!apt-get update\n",
        "!apt install chromium-chromedriver\n",
        "!cp /usr/lib/chromium-browser/chromedriver /usr/bin\n",
        "\n",
        "import sys\n",
        "sys.path.insert(0,'/usr/lib/chromium-browser/chromedriver')\n",
        "from selenium import webdriver\n",
        "from tqdm import tqdm_notebook as tqdm\n",
        "import pandas\n",
        "import json\n",
        "import pprint\n",
        "\n",
        "chrome_options = webdriver.ChromeOptions()\n",
        "chrome_options.add_argument('--headless')\n",
        "chrome_options.add_argument('--no-sandbox')\n",
        "chrome_options.add_argument('--disable-dev-shm-usage')\n",
        "\n",
        "wd = webdriver.Chrome('chromedriver',chrome_options=chrome_options)"
      ],
      "execution_count": 1,
      "outputs": [
        {
          "output_type": "stream",
          "text": [
            "Collecting selenium\n",
            "\u001b[?25l  Downloading https://files.pythonhosted.org/packages/80/d6/4294f0b4bce4de0abf13e17190289f9d0613b0a44e5dd6a7f5ca98459853/selenium-3.141.0-py2.py3-none-any.whl (904kB)\n",
            "\u001b[K     |████████████████████████████████| 911kB 4.5MB/s \n",
            "\u001b[?25hRequirement already satisfied: urllib3 in /usr/local/lib/python3.6/dist-packages (from selenium) (1.24.3)\n",
            "Installing collected packages: selenium\n",
            "Successfully installed selenium-3.141.0\n",
            "Get:1 https://cloud.r-project.org/bin/linux/ubuntu bionic-cran35/ InRelease [3,626 B]\n",
            "Ign:2 https://developer.download.nvidia.com/compute/cuda/repos/ubuntu1804/x86_64  InRelease\n",
            "Ign:3 https://developer.download.nvidia.com/compute/machine-learning/repos/ubuntu1804/x86_64  InRelease\n",
            "Get:4 https://developer.download.nvidia.com/compute/cuda/repos/ubuntu1804/x86_64  Release [697 B]\n",
            "Get:5 https://developer.download.nvidia.com/compute/machine-learning/repos/ubuntu1804/x86_64  Release [564 B]\n",
            "Get:6 https://developer.download.nvidia.com/compute/cuda/repos/ubuntu1804/x86_64  Release.gpg [836 B]\n",
            "Get:7 https://developer.download.nvidia.com/compute/machine-learning/repos/ubuntu1804/x86_64  Release.gpg [833 B]\n",
            "Get:8 http://security.ubuntu.com/ubuntu bionic-security InRelease [88.7 kB]\n",
            "Get:9 http://ppa.launchpad.net/graphics-drivers/ppa/ubuntu bionic InRelease [21.3 kB]\n",
            "Hit:10 http://archive.ubuntu.com/ubuntu bionic InRelease\n",
            "Ign:11 https://developer.download.nvidia.com/compute/cuda/repos/ubuntu1804/x86_64  Packages\n",
            "Get:11 https://developer.download.nvidia.com/compute/cuda/repos/ubuntu1804/x86_64  Packages [232 kB]\n",
            "Get:12 http://archive.ubuntu.com/ubuntu bionic-updates InRelease [88.7 kB]\n",
            "Get:13 https://developer.download.nvidia.com/compute/machine-learning/repos/ubuntu1804/x86_64  Packages [43.7 kB]\n",
            "Get:14 http://ppa.launchpad.net/marutter/c2d4u3.5/ubuntu bionic InRelease [15.4 kB]\n",
            "Get:15 http://archive.ubuntu.com/ubuntu bionic-backports InRelease [74.6 kB]\n",
            "Get:16 http://ppa.launchpad.net/graphics-drivers/ppa/ubuntu bionic/main amd64 Packages [43.3 kB]\n",
            "Get:17 http://security.ubuntu.com/ubuntu bionic-security/restricted amd64 Packages [99.9 kB]\n",
            "Get:18 http://security.ubuntu.com/ubuntu bionic-security/universe amd64 Packages [874 kB]\n",
            "Get:19 http://archive.ubuntu.com/ubuntu bionic-updates/main amd64 Packages [1,334 kB]\n",
            "Get:20 http://ppa.launchpad.net/marutter/c2d4u3.5/ubuntu bionic/main Sources [1,851 kB]\n",
            "Get:21 http://security.ubuntu.com/ubuntu bionic-security/multiverse amd64 Packages [9,555 B]\n",
            "Get:22 http://security.ubuntu.com/ubuntu bionic-security/main amd64 Packages [1,032 kB]\n",
            "Get:23 http://archive.ubuntu.com/ubuntu bionic-updates/universe amd64 Packages [1,413 kB]\n",
            "Get:24 http://archive.ubuntu.com/ubuntu bionic-updates/restricted amd64 Packages [114 kB]\n",
            "Get:25 http://archive.ubuntu.com/ubuntu bionic-updates/multiverse amd64 Packages [13.9 kB]\n",
            "Get:26 http://archive.ubuntu.com/ubuntu bionic-backports/universe amd64 Packages [8,432 B]\n",
            "Get:27 http://ppa.launchpad.net/marutter/c2d4u3.5/ubuntu bionic/main amd64 Packages [893 kB]\n",
            "Fetched 8,256 kB in 4s (2,013 kB/s)\n",
            "Reading package lists... Done\n",
            "Reading package lists... Done\n",
            "Building dependency tree       \n",
            "Reading state information... Done\n",
            "The following package was automatically installed and is no longer required:\n",
            "  libnvidia-common-440\n",
            "Use 'apt autoremove' to remove it.\n",
            "The following additional packages will be installed:\n",
            "  chromium-browser chromium-browser-l10n chromium-codecs-ffmpeg-extra\n",
            "Suggested packages:\n",
            "  webaccounts-chromium-extension unity-chromium-extension adobe-flashplugin\n",
            "The following NEW packages will be installed:\n",
            "  chromium-browser chromium-browser-l10n chromium-chromedriver\n",
            "  chromium-codecs-ffmpeg-extra\n",
            "0 upgraded, 4 newly installed, 0 to remove and 114 not upgraded.\n",
            "Need to get 75.5 MB of archives.\n",
            "After this operation, 256 MB of additional disk space will be used.\n",
            "Get:1 http://archive.ubuntu.com/ubuntu bionic-updates/universe amd64 chromium-codecs-ffmpeg-extra amd64 83.0.4103.61-0ubuntu0.18.04.1 [1,119 kB]\n",
            "Get:2 http://archive.ubuntu.com/ubuntu bionic-updates/universe amd64 chromium-browser amd64 83.0.4103.61-0ubuntu0.18.04.1 [66.7 MB]\n",
            "Get:3 http://archive.ubuntu.com/ubuntu bionic-updates/universe amd64 chromium-browser-l10n all 83.0.4103.61-0ubuntu0.18.04.1 [3,378 kB]\n",
            "Get:4 http://archive.ubuntu.com/ubuntu bionic-updates/universe amd64 chromium-chromedriver amd64 83.0.4103.61-0ubuntu0.18.04.1 [4,294 kB]\n",
            "Fetched 75.5 MB in 5s (14.8 MB/s)\n",
            "Selecting previously unselected package chromium-codecs-ffmpeg-extra.\n",
            "(Reading database ... 144465 files and directories currently installed.)\n",
            "Preparing to unpack .../chromium-codecs-ffmpeg-extra_83.0.4103.61-0ubuntu0.18.04.1_amd64.deb ...\n",
            "Unpacking chromium-codecs-ffmpeg-extra (83.0.4103.61-0ubuntu0.18.04.1) ...\n",
            "Selecting previously unselected package chromium-browser.\n",
            "Preparing to unpack .../chromium-browser_83.0.4103.61-0ubuntu0.18.04.1_amd64.deb ...\n",
            "Unpacking chromium-browser (83.0.4103.61-0ubuntu0.18.04.1) ...\n",
            "Selecting previously unselected package chromium-browser-l10n.\n",
            "Preparing to unpack .../chromium-browser-l10n_83.0.4103.61-0ubuntu0.18.04.1_all.deb ...\n",
            "Unpacking chromium-browser-l10n (83.0.4103.61-0ubuntu0.18.04.1) ...\n",
            "Selecting previously unselected package chromium-chromedriver.\n",
            "Preparing to unpack .../chromium-chromedriver_83.0.4103.61-0ubuntu0.18.04.1_amd64.deb ...\n",
            "Unpacking chromium-chromedriver (83.0.4103.61-0ubuntu0.18.04.1) ...\n",
            "Setting up chromium-codecs-ffmpeg-extra (83.0.4103.61-0ubuntu0.18.04.1) ...\n",
            "Setting up chromium-browser (83.0.4103.61-0ubuntu0.18.04.1) ...\n",
            "update-alternatives: using /usr/bin/chromium-browser to provide /usr/bin/x-www-browser (x-www-browser) in auto mode\n",
            "update-alternatives: using /usr/bin/chromium-browser to provide /usr/bin/gnome-www-browser (gnome-www-browser) in auto mode\n",
            "Setting up chromium-chromedriver (83.0.4103.61-0ubuntu0.18.04.1) ...\n",
            "Setting up chromium-browser-l10n (83.0.4103.61-0ubuntu0.18.04.1) ...\n",
            "Processing triggers for hicolor-icon-theme (0.17-2) ...\n",
            "Processing triggers for mime-support (3.60ubuntu1) ...\n",
            "Processing triggers for man-db (2.8.3-2ubuntu0.1) ...\n",
            "cp: '/usr/lib/chromium-browser/chromedriver' and '/usr/bin/chromedriver' are the same file\n"
          ],
          "name": "stdout"
        },
        {
          "output_type": "stream",
          "text": [
            "/usr/local/lib/python3.6/dist-packages/ipykernel_launcher.py:19: DeprecationWarning: use options instead of chrome_options\n"
          ],
          "name": "stderr"
        }
      ]
    },
    {
      "cell_type": "code",
      "metadata": {
        "id": "M5TNTVpHZ3xn",
        "colab_type": "code",
        "colab": {
          "base_uri": "https://localhost:8080/",
          "height": 1000
        },
        "outputId": "534c1120-221a-4684-f89a-f0c458a75af4"
      },
      "source": [
        "#CALENDARIO ECONOMICO\n",
        "#eventRowId_410946 > td.left.textNum.sentiment.noWrap\n",
        "#wd.get('https://www.investing.com/economic-calendar/')\n",
        "\n",
        "url = 'https://www.marketscreener.com/INTESA-SANPAOLO-SPA-68944/news-broker-research/'\n",
        "import time\n",
        "import numpy as np\n",
        "\n",
        "from selenium import webdriver\n",
        "wd.get(url)\n",
        "\n",
        "for tr in wd.find_elements_by_xpath('//*[@id=\"ALNI4\"]/tbody/tr'):\n",
        "    tds = tr.find_elements_by_tag_name('td')\n",
        "    print ([td.text for td in tds])\n",
        "    time.sleep(2+np.random.randn()*0.2)\n",
        "\n",
        "#Extract Message for each user on a page //*[@id=\"eventRowId_410946\"]/td[3]\n",
        "#volatility = wd.find_element_by_xpath('//*[@id=\"eventRowId_410946\"]/td[3]')[0]\n",
        "#volatility_lvl = volatility.text\n",
        "#print(volatility_lvl)"
      ],
      "execution_count": 2,
      "outputs": [
        {
          "output_type": "stream",
          "text": [
            "['07/20', 'INTESA SANPAOLO S.P.A. : UBS remains Neutral', 'MD']\n",
            "['07/10', 'INTESA SANPAOLO S.P.A. : UBS sticks Neutral', 'MD']\n",
            "['07/08', 'INTESA SANPAOLO S.P.A. : Kepler Cheuvreux reiterates its Buy rating', 'MD']\n",
            "['07/01', 'INTESA SANPAOLO S.P.A. : Upgraded to Buy by Jefferies', 'MD']\n",
            "['06/15', 'INTESA SANPAOLO S.P.A. : UBS reiterates its Neutral rating', 'MD']\n",
            "['05/13', 'INTESA SANPAOLO S.P.A. : HSBC reiterates its Buy rating', 'MD']\n",
            "['05/06', 'INTESA SANPAOLO S.P.A. : Gets a Neutral rating from UBS', 'MD']\n",
            "['05/06', 'INTESA SANPAOLO S.P.A. : Gets a Buy rating from Deutsche Bank', 'MD']\n",
            "['04/23', 'INTESA SANPAOLO S.P.A. : Deutsche Bank reiterates its Buy rating', 'MD']\n",
            "['04/16', 'INTESA SANPAOLO S.P.A. : Oddo gives a Sell rating', 'MD']\n",
            "['04/13', 'INTESA SANPAOLO S.P.A. : UBS remains Neutral', 'MD']\n",
            "['04/03', 'INTESA SANPAOLO S.P.A. : Jefferies from Sell to Neutral', 'MD']\n",
            "['03/26', 'INTESA SANPAOLO S.P.A. : Berenberg maintains a Sell rating', 'MD']\n",
            "['03/19', 'INTESA SANPAOLO S.P.A. : Buy rating from HSBC', 'MD']\n",
            "['02/21', 'INTESA SANPAOLO S.P.A. : Gets a Neutral rating from UBS', 'MD']\n",
            "['02/18', 'INTESA SANPAOLO S.P.A. : UBS reaffirms its Neutral rating', 'MD']\n",
            "['02/18', 'INTESA SANPAOLO S.P.A. : JP Morgan reiterates its Neutral rating', 'MD']\n",
            "['02/06', 'INTESA SANPAOLO S.P.A. : UBS remains Neutral', 'MD']\n",
            "['02/05', 'INTESA SANPAOLO S.P.A. : Jefferies reaffirms its Sell rating', 'MD']\n",
            "['02/05', 'INTESA SANPAOLO S.P.A. : Receives a Buy rating from Deutsche Bank', 'MD']\n",
            "['02/05', 'INTESA SANPAOLO S.P.A. : JP Morgan gives a Neutral rating', 'MD']\n",
            "['02/04', 'INTESA SANPAOLO S.P.A. : Sell rating from Jefferies', 'MD']\n",
            "['02/04', 'INTESA SANPAOLO S.P.A. : JP Morgan remains Neutral', 'MD']\n",
            "['02/04', 'INTESA SANPAOLO S.P.A. : Goldman Sachs remains a Sell rating', 'MD']\n",
            "['01/30', 'INTESA SANPAOLO S.P.A. : Sell rating from Goldman Sachs', 'MD']\n",
            "['01/28', 'INTESA SANPAOLO S.P.A. : UBS gives a Neutral rating', 'MD']\n",
            "['01/27', 'INTESA SANPAOLO S.P.A. : JP Morgan gives a Neutral rating', 'MD']\n",
            "['01/24', 'INTESA SANPAOLO S.P.A. : Credit Suisse remains a Sell rating', 'MD']\n",
            "['01/22', 'INTESA SANPAOLO S.P.A. : Deutsche Bank keeps its Buy rating', 'MD']\n",
            "['01/16', 'INTESA SANPAOLO S.P.A. : Goldman Sachs reiterates its Sell rating', 'MD']\n",
            "['01/03', 'INTESA SANPAOLO S.P.A. : JP Morgan gives a Neutral rating', 'MD']\n",
            "['2019', 'INTESA SANPAOLO S.P.A. : UBS reaffirms its Neutral rating', 'MD']\n",
            "['2019', 'INTESA SANPAOLO S.P.A. : Kepler Chevreux reiterates its Buy rating', 'MD']\n",
            "['2019', 'INTESA SANPAOLO S.P.A. : Jefferies keeps a Sell rating', 'MD']\n",
            "['2019', 'INTESA SANPAOLO S.P.A. : Sell rating from RBC', 'MD']\n",
            "['2019', 'INTESA SANPAOLO S.P.A. : UBS gives a Neutral rating', 'MD']\n",
            "['2019', 'INTESA SANPAOLO S.P.A. : HSBC maintains a Buy rating', 'MD']\n",
            "['2019', 'INTESA SANPAOLO S.P.A. : Credit Suisse maintains a Sell rating', 'MD']\n",
            "['2019', 'INTESA SANPAOLO S.P.A. : Credit Suisse maintains a Sell rating', 'MD']\n",
            "['2019', 'INTESA SANPAOLO S.P.A. : JP Morgan sticks Neutral', 'MD']\n",
            "['2019', 'INTESA SANPAOLO S.P.A. : Kepler Chevreux reiterates its Buy rating', 'MD']\n",
            "['2019', 'INTESA SANPAOLO S.P.A. : Buy rating from HSBC', 'MD']\n",
            "['2019', 'INTESA SANPAOLO S.P.A. : RBC keeps a Sell rating', 'MD']\n",
            "['2019', 'INTESA SANPAOLO S.P.A. : Gets a Neutral rating from JP Morgan', 'MD']\n",
            "['2019', 'INTESA SANPAOLO S.P.A. : Jefferies reiterates its Sell rating', 'MD']\n",
            "['2019', 'INTESA SANPAOLO S.P.A. : Sell rating from Goldman Sachs', 'MD']\n",
            "['2019', 'INTESA SANPAOLO S.P.A. : RBC lowers to Sell rating', 'MD']\n",
            "['2019', 'INTESA SANPAOLO S.P.A. : Goldman Sachs remains a Sell rating', 'MD']\n",
            "['2019', 'INTESA SANPAOLO S.P.A. : Gets a Sell rating from Credit Suisse', 'MD']\n",
            "['2019', 'INTESA SANPAOLO S.P.A. : JP Morgan reaffirms its Neutral rating', 'MD']\n",
            "['2019', 'INTESA SANPAOLO S.P.A. : UBS sticks Neutral', 'MD']\n",
            "['2019', 'INTESA SANPAOLO S.P.A. : UBS remains Neutral', 'MD']\n",
            "['2019', 'INTESA SANPAOLO S.P.A. : Gets a Buy rating from HSBC', 'MD']\n",
            "['2019', 'INTESA SANPAOLO S.P.A. : Goldman Sachs keeps a Sell rating', 'MD']\n",
            "['2019', 'INTESA SANPAOLO S.P.A. : Jefferies gives a Sell rating', 'MD']\n",
            "['2019', 'INTESA SANPAOLO S.P.A. : JP Morgan gives a Neutral rating', 'MD']\n",
            "['2019', 'INTESA SANPAOLO S.P.A. : Goldman Sachs remains a Sell rating', 'MD']\n",
            "['2019', 'INTESA SANPAOLO S.P.A. : JP Morgan sticks Neutral', 'MD']\n",
            "['2019', 'INTESA SANPAOLO S.P.A. : UBS sticks Neutral', 'MD']\n",
            "['2019', 'INTESA SANPAOLO S.P.A. : HSBC keeps its Buy rating', 'MD']\n",
            "['2019', 'INTESA SANPAOLO S.P.A. : Gets a Sell rating from Credit Suisse', 'MD']\n",
            "['2019', 'INTESA SANPAOLO S.P.A. : JP Morgan reiterates its Neutral rating', 'MD']\n",
            "['2019', 'INTESA SANPAOLO S.P.A. : RBC reiterates its Neutral rating', 'MD']\n",
            "['2019', 'INTESA SANPAOLO S.P.A. : Morgan Stanley reaffirms its Neutral rating', 'MD']\n",
            "['2019', 'INTESA SANPAOLO S.P.A. : UBS reiterates its Neutral rating', 'MD']\n",
            "['2019', 'INTESA SANPAOLO S.P.A. : Goldman Sachs remains a Sell rating', 'MD']\n"
          ],
          "name": "stdout"
        }
      ]
    },
    {
      "cell_type": "code",
      "metadata": {
        "id": "w_MF_JI3eSQ3",
        "colab_type": "code",
        "colab": {}
      },
      "source": [
        "#ELENCO NEWS\n",
        "#eventRowId_410946 > td.left.textNum.sentiment.noWrap\n",
        "#wd.get('https://www.investing.com/economic-calendar/')\n",
        "\n",
        "url = 'https://www.marketscreener.com/INTESA-SANPAOLO-SPA-68944/news/'\n",
        "import time\n",
        "import numpy as np\n",
        "\n",
        "from selenium import webdriver\n",
        "wd.get(url)\n",
        "\n",
        "\n",
        "\n",
        "all_rows = wd.find_elements_by_xpath('//*[@id=\"ALNI4\"]/tbody/tr')\n",
        "list_of_news=[]\n",
        "for row in all_rows:\n",
        "    \n",
        "      td_1 = row.find_elements_by_css_selector(\"td\")[0].text\n",
        "      td_2 = row.find_elements_by_css_selector(\"td\")[1].text\n",
        "      list_of_news.append({'c': td_1,\n",
        "                  'd': td_2})\n",
        "\n",
        "#Extract Message for each user on a page //*[@id=\"eventRowId_410946\"]/td[3]\n",
        "#volatility = wd.find_element_by_xpath('//*[@id=\"eventRowId_410946\"]/td[3]')[0]\n",
        "#volatility_lvl = volatility.text\n",
        "#print(volatility_lvl)"
      ],
      "execution_count": 5,
      "outputs": []
    },
    {
      "cell_type": "code",
      "metadata": {
        "id": "QWxot-CvHrL-",
        "colab_type": "code",
        "colab": {
          "base_uri": "https://localhost:8080/",
          "height": 301
        },
        "outputId": "3561df11-1b57-4d9d-a4a1-d062272b07d9"
      },
      "source": [
        "import numpy as np\n",
        "import pandas as pd\n",
        "\n",
        "df = pd.DataFrame(list_of_news)\n",
        "print(df)"
      ],
      "execution_count": 6,
      "outputs": [
        {
          "output_type": "stream",
          "text": [
            "         c                                                  d\n",
            "0   02:44p  Intesa secures full control in takeover battle...\n",
            "1   01:10p  INTESA SANPAOLO : May Have Secured More Than 8...\n",
            "2   12:51p  Intesa secures full control in takeover battle...\n",
            "3   01:55a  INTESA SANPAOLO : Expects UBI's Takeover to Be...\n",
            "4    07/27  Italy's Intesa Sees Takeover Bid For UBI Desti...\n",
            "5    07/27  Italy's Consob says Intesa's bid for UBI exten...\n",
            "6    07/27  Italy's Intesa says UBI bid to succeed as dead...\n",
            "7    07/27  INTESA SANPAOLO : Shares in Ubi Banca fall as ...\n",
            "8    07/27  &LDQUO;INIZIATIVA SOLLIEVO&RDQUO; : new 60 and...\n",
            "9    07/24  INTESA SANPAOLO : Bid For UBI Reaches 32.662% ...\n",
            "10   07/24  INTESA SANPAOLO : Italian bank Intesa expects ...\n",
            "11   07/24  INTESA SANPAOLO : Exetra in support of Scotta ...\n",
            "12   07/23  INTESA SANPAOLO : Italy's UBI rejects Intesa's...\n",
            "13   07/23  INTESA SANPAOLO : Bid For UBI Reaches 26.406% ...\n",
            "14   07/22  INTESA SANPAOLO : Take-up in Intesa's bid for ...\n"
          ],
          "name": "stdout"
        }
      ]
    }
  ]
}