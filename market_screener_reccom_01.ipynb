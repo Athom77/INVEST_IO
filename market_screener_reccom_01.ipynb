{
  "nbformat": 4,
  "nbformat_minor": 0,
  "metadata": {
    "colab": {
      "name": "market_screener_reccom_01.ipynb",
      "provenance": [],
      "collapsed_sections": [],
      "include_colab_link": true
    },
    "kernelspec": {
      "name": "python3",
      "display_name": "Python 3"
    }
  },
  "cells": [
    {
      "cell_type": "markdown",
      "metadata": {
        "id": "view-in-github",
        "colab_type": "text"
      },
      "source": [
        "<a href=\"https://colab.research.google.com/github/szambetti/INVEST_IO/blob/master/market_screener_reccom_01.ipynb\" target=\"_parent\"><img src=\"https://colab.research.google.com/assets/colab-badge.svg\" alt=\"Open In Colab\"/></a>"
      ]
    },
    {
      "cell_type": "code",
      "metadata": {
        "id": "O3ucYmplZ27e",
        "colab_type": "code",
        "colab": {
          "base_uri": "https://localhost:8080/",
          "height": 476
        },
        "outputId": "c65183b6-f99f-4cbe-c928-e6d4e00714e0"
      },
      "source": [
        "!pip install selenium\n",
        "!apt-get update\n",
        "!apt install chromium-chromedriver\n",
        "!cp /usr/lib/chromium-browser/chromedriver /usr/bin\n",
        "\n",
        "import sys\n",
        "from selenium import webdriver\n",
        "from tqdm import tqdm_notebook as tqdm\n",
        "import pandas as pd\n",
        "import json\n",
        "import pprint\n",
        "import numpy as np\n",
        "\n",
        "chrome_options = webdriver.ChromeOptions()\n",
        "chrome_options.add_argument('--headless')\n",
        "chrome_options.add_argument('--no-sandbox')\n",
        "chrome_options.add_argument('--disable-dev-shm-usage')\n",
        "\n",
        "sys.path.insert(0,'/usr/lib/chromium-browser/chromedriver')\n",
        "wd = webdriver.Chrome('chromedriver',chrome_options=chrome_options)"
      ],
      "execution_count": 35,
      "outputs": [
        {
          "output_type": "stream",
          "text": [
            "Requirement already satisfied: selenium in /usr/local/lib/python3.6/dist-packages (3.141.0)\n",
            "Requirement already satisfied: urllib3 in /usr/local/lib/python3.6/dist-packages (from selenium) (1.24.3)\n",
            "Hit:1 https://cloud.r-project.org/bin/linux/ubuntu bionic-cran35/ InRelease\n",
            "Ign:2 https://developer.download.nvidia.com/compute/cuda/repos/ubuntu1804/x86_64  InRelease\n",
            "Hit:3 http://ppa.launchpad.net/graphics-drivers/ppa/ubuntu bionic InRelease\n",
            "Hit:4 http://archive.ubuntu.com/ubuntu bionic InRelease\n",
            "Get:5 http://security.ubuntu.com/ubuntu bionic-security InRelease [88.7 kB]\n",
            "Ign:6 https://developer.download.nvidia.com/compute/machine-learning/repos/ubuntu1804/x86_64  InRelease\n",
            "Hit:7 https://developer.download.nvidia.com/compute/cuda/repos/ubuntu1804/x86_64  Release\n",
            "Hit:8 https://developer.download.nvidia.com/compute/machine-learning/repos/ubuntu1804/x86_64  Release\n",
            "Get:9 http://archive.ubuntu.com/ubuntu bionic-updates InRelease [88.7 kB]\n",
            "Hit:10 http://ppa.launchpad.net/marutter/c2d4u3.5/ubuntu bionic InRelease\n",
            "Get:11 http://archive.ubuntu.com/ubuntu bionic-backports InRelease [74.6 kB]\n",
            "Fetched 252 kB in 2s (121 kB/s)\n",
            "Reading package lists... Done\n",
            "Reading package lists... Done\n",
            "Building dependency tree       \n",
            "Reading state information... Done\n",
            "chromium-chromedriver is already the newest version (84.0.4147.105-0ubuntu0.18.04.1).\n",
            "The following package was automatically installed and is no longer required:\n",
            "  libnvidia-common-440\n",
            "Use 'apt autoremove' to remove it.\n",
            "0 upgraded, 0 newly installed, 0 to remove and 49 not upgraded.\n",
            "cp: '/usr/lib/chromium-browser/chromedriver' and '/usr/bin/chromedriver' are the same file\n"
          ],
          "name": "stdout"
        },
        {
          "output_type": "stream",
          "text": [
            "/usr/local/lib/python3.6/dist-packages/ipykernel_launcher.py:20: DeprecationWarning: use options instead of chrome_options\n"
          ],
          "name": "stderr"
        }
      ]
    },
    {
      "cell_type": "code",
      "metadata": {
        "id": "M5TNTVpHZ3xn",
        "colab_type": "code",
        "colab": {}
      },
      "source": [
        "# RACCOMANDAZIONI\n",
        "url = 'https://www.marketscreener.com/INTESA-SANPAOLO-SPA-68944/news-broker-research/'\n",
        "wd.set_window_size\n",
        "wd.get(url)\n",
        "\n",
        "# fai uno screenshot iniziale\n",
        "wd.save_screenshot('initial_screenshot.png')\n",
        "\n",
        "output = []\n",
        "\n",
        "#loop sulle raccomandazioni dalla pagina principale\n",
        "for i in wd.find_elements_by_css_selector('table#ALNI4.tabBody >* tr'):\n",
        "  date = i.find_elements_by_css_selector('.pleft5.pright5.large30')[0].text\n",
        "  reccom = i.find_elements_by_css_selector('.newsColCT.ptop3')[0].text\n",
        "  link = i.find_elements_by_css_selector('.newsColCT.ptop3 > a')[0].get_attribute('href')\n",
        "  output.append({'date': date, 'reccom' : reccom , 'link' : link})"
      ],
      "execution_count": 41,
      "outputs": []
    },
    {
      "cell_type": "code",
      "metadata": {
        "id": "BSk9rQ_tG6u0",
        "colab_type": "code",
        "colab": {
          "base_uri": "https://localhost:8080/",
          "height": 338
        },
        "outputId": "0dfdfcdc-207b-41eb-f77c-12368eb1d0ec"
      },
      "source": [
        "def scraping_loop():\n",
        "  #loop sulle raccomandazioni dalla pagina principale\n",
        "  for i in wd.find_elements_by_css_selector('table#ALNI4.tabBody >* tr'):\n",
        "    date = i.find_elements_by_css_selector('.pleft5.pright5.large30')[0].text\n",
        "    reccom = i.find_elements_by_css_selector('.newsColCT.ptop3')[0].text\n",
        "    link = i.find_elements_by_css_selector('.newsColCT.ptop3 > a')[0].get_attribute('href')\n",
        "    output.append({'date': date, 'reccom' : reccom , 'link' : link})\n",
        "  try:\n",
        "    next_button = wd.find_elements_by_css_selector('.nPageEndTab')\n",
        "    next_button.click()\n",
        "  except:\n",
        "    scraping_end = 0\n",
        "\n"
      ],
      "execution_count": 46,
      "outputs": [
        {
          "output_type": "error",
          "ename": "NameError",
          "evalue": "ignored",
          "traceback": [
            "\u001b[0;31m---------------------------------------------------------------------------\u001b[0m",
            "\u001b[0;31mNameError\u001b[0m                                 Traceback (most recent call last)",
            "\u001b[0;32m<ipython-input-46-a7bedded87f0>\u001b[0m in \u001b[0;36m<module>\u001b[0;34m()\u001b[0m\n\u001b[1;32m     26\u001b[0m     \u001b[0mscraping_loop\u001b[0m\u001b[0;34m(\u001b[0m\u001b[0;34m)\u001b[0m\u001b[0;34m\u001b[0m\u001b[0;34m\u001b[0m\u001b[0m\n\u001b[1;32m     27\u001b[0m \u001b[0;34m\u001b[0m\u001b[0m\n\u001b[0;32m---> 28\u001b[0;31m \u001b[0mloop_reccom\u001b[0m\u001b[0;34m(\u001b[0m\u001b[0;34m)\u001b[0m\u001b[0;34m\u001b[0m\u001b[0;34m\u001b[0m\u001b[0m\n\u001b[0m",
            "\u001b[0;32m<ipython-input-46-a7bedded87f0>\u001b[0m in \u001b[0;36mloop_reccom\u001b[0;34m()\u001b[0m\n\u001b[1;32m     23\u001b[0m   \u001b[0moutput\u001b[0m \u001b[0;34m=\u001b[0m \u001b[0;34m[\u001b[0m\u001b[0;34m]\u001b[0m\u001b[0;34m\u001b[0m\u001b[0;34m\u001b[0m\u001b[0m\n\u001b[1;32m     24\u001b[0m \u001b[0;34m\u001b[0m\u001b[0m\n\u001b[0;32m---> 25\u001b[0;31m   \u001b[0;32mwhile\u001b[0m \u001b[0mscraping_end\u001b[0m \u001b[0;34m>\u001b[0m \u001b[0;36m0\u001b[0m\u001b[0;34m:\u001b[0m\u001b[0;34m\u001b[0m\u001b[0;34m\u001b[0m\u001b[0m\n\u001b[0m\u001b[1;32m     26\u001b[0m     \u001b[0mscraping_loop\u001b[0m\u001b[0;34m(\u001b[0m\u001b[0;34m)\u001b[0m\u001b[0;34m\u001b[0m\u001b[0;34m\u001b[0m\u001b[0m\n\u001b[1;32m     27\u001b[0m \u001b[0;34m\u001b[0m\u001b[0m\n",
            "\u001b[0;31mNameError\u001b[0m: name 'scraping_end' is not defined"
          ]
        }
      ]
    },
    {
      "cell_type": "code",
      "metadata": {
        "id": "XuaHsMhGQy5O",
        "colab_type": "code",
        "colab": {}
      },
      "source": [
        "def loop_reccom():\n",
        "  # RACCOMANDAZIONI\n",
        "  url = 'https://www.marketscreener.com/INTESA-SANPAOLO-SPA-68944/news-broker-research'\n",
        "  wd.set_window_size\n",
        "  wd.get(url)\n",
        "\n",
        "  # fai uno screenshot iniziale\n",
        "  wd.save_screenshot('initial_screenshot.png')\n",
        "\n",
        "  output = []\n",
        "\n",
        "  while scraping_end > 0:\n",
        "    scraping_loop()\n",
        "    \n",
        "loop_reccom()"
      ],
      "execution_count": null,
      "outputs": []
    },
    {
      "cell_type": "code",
      "metadata": {
        "id": "w_MF_JI3eSQ3",
        "colab_type": "code",
        "colab": {}
      },
      "source": [
        "#ELENCO NEWS\n",
        "#eventRowId_410946 > td.left.textNum.sentiment.noWrap\n",
        "#wd.get('https://www.investing.com/economic-calendar/')\n",
        "\n",
        "url = 'https://www.marketscreener.com/INTESA-SANPAOLO-SPA-68944/news/'\n",
        "import time\n",
        "import numpy as np\n",
        "\n",
        "from selenium import webdriver\n",
        "wd.get(url)\n",
        "\n",
        "\n",
        "\n",
        "all_rows = wd.find_elements_by_xpath('//*[@id=\"ALNI4\"]/tbody/tr')\n",
        "list_of_news=[]\n",
        "for row in all_rows:\n",
        "    \n",
        "      td_1 = row.find_elements_by_css_selector(\"td\")[0].text\n",
        "      td_2 = row.find_elements_by_css_selector(\"td\")[1].text\n",
        "      list_of_news.append({'c': td_1,\n",
        "                  'd': td_2})\n",
        "\n",
        "#Extract Message for each user on a page //*[@id=\"eventRowId_410946\"]/td[3]\n",
        "#volatility = wd.find_element_by_xpath('//*[@id=\"eventRowId_410946\"]/td[3]')[0]\n",
        "#volatility_lvl = volatility.text\n",
        "#print(volatility_lvl)"
      ],
      "execution_count": null,
      "outputs": []
    },
    {
      "cell_type": "code",
      "metadata": {
        "id": "QWxot-CvHrL-",
        "colab_type": "code",
        "colab": {
          "base_uri": "https://localhost:8080/",
          "height": 301
        },
        "outputId": "3561df11-1b57-4d9d-a4a1-d062272b07d9"
      },
      "source": [
        ""
      ],
      "execution_count": null,
      "outputs": [
        {
          "output_type": "stream",
          "text": [
            "         c                                                  d\n",
            "0   02:44p  Intesa secures full control in takeover battle...\n",
            "1   01:10p  INTESA SANPAOLO : May Have Secured More Than 8...\n",
            "2   12:51p  Intesa secures full control in takeover battle...\n",
            "3   01:55a  INTESA SANPAOLO : Expects UBI's Takeover to Be...\n",
            "4    07/27  Italy's Intesa Sees Takeover Bid For UBI Desti...\n",
            "5    07/27  Italy's Consob says Intesa's bid for UBI exten...\n",
            "6    07/27  Italy's Intesa says UBI bid to succeed as dead...\n",
            "7    07/27  INTESA SANPAOLO : Shares in Ubi Banca fall as ...\n",
            "8    07/27  &LDQUO;INIZIATIVA SOLLIEVO&RDQUO; : new 60 and...\n",
            "9    07/24  INTESA SANPAOLO : Bid For UBI Reaches 32.662% ...\n",
            "10   07/24  INTESA SANPAOLO : Italian bank Intesa expects ...\n",
            "11   07/24  INTESA SANPAOLO : Exetra in support of Scotta ...\n",
            "12   07/23  INTESA SANPAOLO : Italy's UBI rejects Intesa's...\n",
            "13   07/23  INTESA SANPAOLO : Bid For UBI Reaches 26.406% ...\n",
            "14   07/22  INTESA SANPAOLO : Take-up in Intesa's bid for ...\n"
          ],
          "name": "stdout"
        }
      ]
    }
  ]
}