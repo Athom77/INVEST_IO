{
  "nbformat": 4,
  "nbformat_minor": 0,
  "metadata": {
    "colab": {
      "name": "stock_scraping_investing_01.ipynb",
      "provenance": [],
      "collapsed_sections": [],
      "toc_visible": true,
      "include_colab_link": true
    },
    "kernelspec": {
      "name": "python3",
      "display_name": "Python 3"
    }
  },
  "cells": [
    {
      "cell_type": "markdown",
      "metadata": {
        "id": "view-in-github",
        "colab_type": "text"
      },
      "source": [
        "<a href=\"https://colab.research.google.com/github/szambetti/INVEST_IO/blob/master/stock_scraping_investing_01.ipynb\" target=\"_parent\"><img src=\"https://colab.research.google.com/assets/colab-badge.svg\" alt=\"Open In Colab\"/></a>"
      ]
    },
    {
      "cell_type": "markdown",
      "metadata": {
        "id": "Z6a4gSAeaBKo",
        "colab_type": "text"
      },
      "source": [
        "## Questo notebook scarica i vari calendari da investing, le date sono settabili come riportato sotto\n",
        "\n"
      ]
    },
    {
      "cell_type": "code",
      "metadata": {
        "id": "rZ8k1VD5yHMN",
        "colab_type": "code",
        "colab": {
          "base_uri": "https://localhost:8080/",
          "height": 54
        },
        "outputId": "b60d4b19-bd50-4892-e2cd-364205491492"
      },
      "source": [
        "#mounts current gdrive in colab after providing success code\n",
        "#INSERISCI IL CODICE DI SUCCESSO O NON FUNZIONERA'\n",
        "from google.colab import drive\n",
        "drive.mount('/content/gdrive')\n",
        "%cd '/content/gdrive/My Drive/INVEST-IO/'"
      ],
      "execution_count": 7,
      "outputs": [
        {
          "output_type": "stream",
          "text": [
            "Drive already mounted at /content/gdrive; to attempt to forcibly remount, call drive.mount(\"/content/gdrive\", force_remount=True).\n",
            "/content/gdrive/My Drive/INVEST-IO\n"
          ],
          "name": "stdout"
        }
      ]
    },
    {
      "cell_type": "code",
      "metadata": {
        "id": "4jUmAkArzrJ2",
        "colab_type": "code",
        "colab": {}
      },
      "source": [
        "#apply filter on dates, scarica sempre dallo startdate (da indicare sotto) a enddate\n",
        "#se enddate = today alla viene scaricato fino ad oggi dinamico, altrimenti imposta enddate alla data desiderata\n",
        "#!!! FORMATO DATE US !!!\n",
        "startdate = '01/01/2020'\n",
        "enddate= 'today'\n",
        "\n",
        "#importa la data di oggi nel formato corretto\n",
        "from datetime import date\n",
        "import time\n",
        "if enddate= 'today':\n",
        "  today = date.today()\n",
        "  today_us_format = today.strftime(\"%m/%d/%Y\")\n",
        "else:\n",
        "  today_us_format = enddate"
      ],
      "execution_count": 8,
      "outputs": []
    },
    {
      "cell_type": "code",
      "metadata": {
        "id": "Ll2XyMq9GbbT",
        "colab_type": "code",
        "colab": {
          "base_uri": "https://localhost:8080/",
          "height": 427
        },
        "outputId": "f7e76117-c304-4b68-913b-28503aac0822"
      },
      "source": [
        "%%capture\n",
        "!pip install selenium\n",
        "!apt-get update\n",
        "!apt install chromium-chromedriver\n",
        "!cp /usr/lib/chromium-browser/chromedriver /usr/bin\n",
        "\n",
        "import sys\n",
        "sys.path.insert(0,'/usr/lib/chromium-browser/chromedriver')\n",
        "from selenium import webdriver\n",
        "from tqdm import tqdm_notebook as progress_bar\n",
        "import pandas\n",
        "import json\n",
        "\n",
        "chrome_options = webdriver.ChromeOptions()\n",
        "chrome_options.add_argument('--headless')\n",
        "chrome_options.add_argument('--no-sandbox')\n",
        "chrome_options.add_argument('--disable-dev-shm-usage')\n",
        "\n",
        "wd = webdriver.Chrome('chromedriver',chrome_options=chrome_options)"
      ],
      "execution_count": 9,
      "outputs": [
        {
          "output_type": "error",
          "ename": "KeyboardInterrupt",
          "evalue": "ignored",
          "traceback": [
            "\u001b[0;31m---------------------------------------------------------------------------\u001b[0m",
            "\u001b[0;31mKeyboardInterrupt\u001b[0m                         Traceback (most recent call last)",
            "\u001b[0;32m<ipython-input-9-8759afde9ed9>\u001b[0m in \u001b[0;36m<module>\u001b[0;34m()\u001b[0m\n\u001b[0;32m----> 1\u001b[0;31m \u001b[0mget_ipython\u001b[0m\u001b[0;34m(\u001b[0m\u001b[0;34m)\u001b[0m\u001b[0;34m.\u001b[0m\u001b[0msystem\u001b[0m\u001b[0;34m(\u001b[0m\u001b[0;34m'pip install selenium'\u001b[0m\u001b[0;34m)\u001b[0m\u001b[0;34m\u001b[0m\u001b[0;34m\u001b[0m\u001b[0m\n\u001b[0m\u001b[1;32m      2\u001b[0m \u001b[0mget_ipython\u001b[0m\u001b[0;34m(\u001b[0m\u001b[0;34m)\u001b[0m\u001b[0;34m.\u001b[0m\u001b[0msystem\u001b[0m\u001b[0;34m(\u001b[0m\u001b[0;34m'apt-get update'\u001b[0m\u001b[0;34m)\u001b[0m\u001b[0;34m\u001b[0m\u001b[0;34m\u001b[0m\u001b[0m\n\u001b[1;32m      3\u001b[0m \u001b[0mget_ipython\u001b[0m\u001b[0;34m(\u001b[0m\u001b[0;34m)\u001b[0m\u001b[0;34m.\u001b[0m\u001b[0msystem\u001b[0m\u001b[0;34m(\u001b[0m\u001b[0;34m'apt install chromium-chromedriver'\u001b[0m\u001b[0;34m)\u001b[0m\u001b[0;34m\u001b[0m\u001b[0;34m\u001b[0m\u001b[0m\n\u001b[1;32m      4\u001b[0m \u001b[0mget_ipython\u001b[0m\u001b[0;34m(\u001b[0m\u001b[0;34m)\u001b[0m\u001b[0;34m.\u001b[0m\u001b[0msystem\u001b[0m\u001b[0;34m(\u001b[0m\u001b[0;34m'cp /usr/lib/chromium-browser/chromedriver /usr/bin'\u001b[0m\u001b[0;34m)\u001b[0m\u001b[0;34m\u001b[0m\u001b[0;34m\u001b[0m\u001b[0m\n\u001b[1;32m      5\u001b[0m \u001b[0;34m\u001b[0m\u001b[0m\n",
            "\u001b[0;32m/usr/local/lib/python3.6/dist-packages/google/colab/_shell.py\u001b[0m in \u001b[0;36msystem\u001b[0;34m(self, *args, **kwargs)\u001b[0m\n\u001b[1;32m    100\u001b[0m       \u001b[0mkwargs\u001b[0m\u001b[0;34m.\u001b[0m\u001b[0mupdate\u001b[0m\u001b[0;34m(\u001b[0m\u001b[0;34m{\u001b[0m\u001b[0;34m'also_return_output'\u001b[0m\u001b[0;34m:\u001b[0m \u001b[0;32mTrue\u001b[0m\u001b[0;34m}\u001b[0m\u001b[0;34m)\u001b[0m\u001b[0;34m\u001b[0m\u001b[0;34m\u001b[0m\u001b[0m\n\u001b[1;32m    101\u001b[0m \u001b[0;34m\u001b[0m\u001b[0m\n\u001b[0;32m--> 102\u001b[0;31m     \u001b[0moutput\u001b[0m \u001b[0;34m=\u001b[0m \u001b[0m_system_commands\u001b[0m\u001b[0;34m.\u001b[0m\u001b[0m_system_compat\u001b[0m\u001b[0;34m(\u001b[0m\u001b[0mself\u001b[0m\u001b[0;34m,\u001b[0m \u001b[0;34m*\u001b[0m\u001b[0margs\u001b[0m\u001b[0;34m,\u001b[0m \u001b[0;34m**\u001b[0m\u001b[0mkwargs\u001b[0m\u001b[0;34m)\u001b[0m  \u001b[0;31m# pylint:disable=protected-access\u001b[0m\u001b[0;34m\u001b[0m\u001b[0;34m\u001b[0m\u001b[0m\n\u001b[0m\u001b[1;32m    103\u001b[0m \u001b[0;34m\u001b[0m\u001b[0m\n\u001b[1;32m    104\u001b[0m     \u001b[0;32mif\u001b[0m \u001b[0mpip_warn\u001b[0m\u001b[0;34m:\u001b[0m\u001b[0;34m\u001b[0m\u001b[0;34m\u001b[0m\u001b[0m\n",
            "\u001b[0;32m/usr/local/lib/python3.6/dist-packages/google/colab/_system_commands.py\u001b[0m in \u001b[0;36m_system_compat\u001b[0;34m(shell, cmd, also_return_output)\u001b[0m\n\u001b[1;32m    436\u001b[0m   \u001b[0;31m# stack.\u001b[0m\u001b[0;34m\u001b[0m\u001b[0;34m\u001b[0m\u001b[0;34m\u001b[0m\u001b[0m\n\u001b[1;32m    437\u001b[0m   result = _run_command(\n\u001b[0;32m--> 438\u001b[0;31m       shell.var_expand(cmd, depth=2), clear_streamed_output=False)\n\u001b[0m\u001b[1;32m    439\u001b[0m   \u001b[0mshell\u001b[0m\u001b[0;34m.\u001b[0m\u001b[0muser_ns\u001b[0m\u001b[0;34m[\u001b[0m\u001b[0;34m'_exit_code'\u001b[0m\u001b[0;34m]\u001b[0m \u001b[0;34m=\u001b[0m \u001b[0mresult\u001b[0m\u001b[0;34m.\u001b[0m\u001b[0mreturncode\u001b[0m\u001b[0;34m\u001b[0m\u001b[0;34m\u001b[0m\u001b[0m\n\u001b[1;32m    440\u001b[0m   \u001b[0;32mif\u001b[0m \u001b[0;34m-\u001b[0m\u001b[0mresult\u001b[0m\u001b[0;34m.\u001b[0m\u001b[0mreturncode\u001b[0m \u001b[0;32min\u001b[0m \u001b[0m_INTERRUPTED_SIGNALS\u001b[0m\u001b[0;34m:\u001b[0m\u001b[0;34m\u001b[0m\u001b[0;34m\u001b[0m\u001b[0m\n",
            "\u001b[0;32m/usr/local/lib/python3.6/dist-packages/google/colab/_system_commands.py\u001b[0m in \u001b[0;36m_run_command\u001b[0;34m(cmd, clear_streamed_output)\u001b[0m\n\u001b[1;32m    179\u001b[0m \u001b[0;34m\u001b[0m\u001b[0m\n\u001b[1;32m    180\u001b[0m     with temporary_clearer(), _display_stdin_widget(\n\u001b[0;32m--> 181\u001b[0;31m         delay_millis=500) as update_stdin_widget:\n\u001b[0m\u001b[1;32m    182\u001b[0m       \u001b[0;31m# TODO(b/115531839): Ensure that subprocesses are terminated upon\u001b[0m\u001b[0;34m\u001b[0m\u001b[0;34m\u001b[0m\u001b[0;34m\u001b[0m\u001b[0m\n\u001b[1;32m    183\u001b[0m       \u001b[0;31m# interrupt.\u001b[0m\u001b[0;34m\u001b[0m\u001b[0;34m\u001b[0m\u001b[0;34m\u001b[0m\u001b[0m\n",
            "\u001b[0;32m/usr/lib/python3.6/contextlib.py\u001b[0m in \u001b[0;36m__enter__\u001b[0;34m(self)\u001b[0m\n\u001b[1;32m     79\u001b[0m     \u001b[0;32mdef\u001b[0m \u001b[0m__enter__\u001b[0m\u001b[0;34m(\u001b[0m\u001b[0mself\u001b[0m\u001b[0;34m)\u001b[0m\u001b[0;34m:\u001b[0m\u001b[0;34m\u001b[0m\u001b[0;34m\u001b[0m\u001b[0m\n\u001b[1;32m     80\u001b[0m         \u001b[0;32mtry\u001b[0m\u001b[0;34m:\u001b[0m\u001b[0;34m\u001b[0m\u001b[0;34m\u001b[0m\u001b[0m\n\u001b[0;32m---> 81\u001b[0;31m             \u001b[0;32mreturn\u001b[0m \u001b[0mnext\u001b[0m\u001b[0;34m(\u001b[0m\u001b[0mself\u001b[0m\u001b[0;34m.\u001b[0m\u001b[0mgen\u001b[0m\u001b[0;34m)\u001b[0m\u001b[0;34m\u001b[0m\u001b[0;34m\u001b[0m\u001b[0m\n\u001b[0m\u001b[1;32m     82\u001b[0m         \u001b[0;32mexcept\u001b[0m \u001b[0mStopIteration\u001b[0m\u001b[0;34m:\u001b[0m\u001b[0;34m\u001b[0m\u001b[0;34m\u001b[0m\u001b[0m\n\u001b[1;32m     83\u001b[0m             \u001b[0;32mraise\u001b[0m \u001b[0mRuntimeError\u001b[0m\u001b[0;34m(\u001b[0m\u001b[0;34m\"generator didn't yield\"\u001b[0m\u001b[0;34m)\u001b[0m \u001b[0;32mfrom\u001b[0m \u001b[0;32mNone\u001b[0m\u001b[0;34m\u001b[0m\u001b[0;34m\u001b[0m\u001b[0m\n",
            "\u001b[0;32m/usr/local/lib/python3.6/dist-packages/google/colab/_system_commands.py\u001b[0m in \u001b[0;36m_display_stdin_widget\u001b[0;34m(delay_millis)\u001b[0m\n\u001b[1;32m    339\u001b[0m   \u001b[0mshell\u001b[0m \u001b[0;34m=\u001b[0m \u001b[0m_ipython\u001b[0m\u001b[0;34m.\u001b[0m\u001b[0mget_ipython\u001b[0m\u001b[0;34m(\u001b[0m\u001b[0;34m)\u001b[0m\u001b[0;34m\u001b[0m\u001b[0;34m\u001b[0m\u001b[0m\n\u001b[1;32m    340\u001b[0m   \u001b[0mdisplay_args\u001b[0m \u001b[0;34m=\u001b[0m \u001b[0;34m[\u001b[0m\u001b[0;34m'cell_display_stdin'\u001b[0m\u001b[0;34m,\u001b[0m \u001b[0;34m{\u001b[0m\u001b[0;34m'delayMillis'\u001b[0m\u001b[0;34m:\u001b[0m \u001b[0mdelay_millis\u001b[0m\u001b[0;34m}\u001b[0m\u001b[0;34m]\u001b[0m\u001b[0;34m\u001b[0m\u001b[0;34m\u001b[0m\u001b[0m\n\u001b[0;32m--> 341\u001b[0;31m   \u001b[0m_message\u001b[0m\u001b[0;34m.\u001b[0m\u001b[0mblocking_request\u001b[0m\u001b[0;34m(\u001b[0m\u001b[0;34m*\u001b[0m\u001b[0mdisplay_args\u001b[0m\u001b[0;34m,\u001b[0m \u001b[0mparent\u001b[0m\u001b[0;34m=\u001b[0m\u001b[0mshell\u001b[0m\u001b[0;34m.\u001b[0m\u001b[0mparent_header\u001b[0m\u001b[0;34m)\u001b[0m\u001b[0;34m\u001b[0m\u001b[0;34m\u001b[0m\u001b[0m\n\u001b[0m\u001b[1;32m    342\u001b[0m \u001b[0;34m\u001b[0m\u001b[0m\n\u001b[1;32m    343\u001b[0m   \u001b[0;32mdef\u001b[0m \u001b[0mecho_updater\u001b[0m\u001b[0;34m(\u001b[0m\u001b[0mnew_echo_status\u001b[0m\u001b[0;34m)\u001b[0m\u001b[0;34m:\u001b[0m\u001b[0;34m\u001b[0m\u001b[0;34m\u001b[0m\u001b[0m\n",
            "\u001b[0;32m/usr/local/lib/python3.6/dist-packages/google/colab/_message.py\u001b[0m in \u001b[0;36mblocking_request\u001b[0;34m(request_type, request, timeout_sec, parent)\u001b[0m\n\u001b[1;32m    169\u001b[0m   \u001b[0;31m# unique.\u001b[0m\u001b[0;34m\u001b[0m\u001b[0;34m\u001b[0m\u001b[0;34m\u001b[0m\u001b[0m\n\u001b[1;32m    170\u001b[0m   \u001b[0mrequest_id\u001b[0m \u001b[0;34m=\u001b[0m \u001b[0msend_request\u001b[0m\u001b[0;34m(\u001b[0m\u001b[0mrequest_type\u001b[0m\u001b[0;34m,\u001b[0m \u001b[0mrequest\u001b[0m\u001b[0;34m,\u001b[0m \u001b[0mparent\u001b[0m\u001b[0;34m=\u001b[0m\u001b[0mparent\u001b[0m\u001b[0;34m)\u001b[0m\u001b[0;34m\u001b[0m\u001b[0;34m\u001b[0m\u001b[0m\n\u001b[0;32m--> 171\u001b[0;31m   \u001b[0;32mreturn\u001b[0m \u001b[0mread_reply_from_input\u001b[0m\u001b[0;34m(\u001b[0m\u001b[0mrequest_id\u001b[0m\u001b[0;34m,\u001b[0m \u001b[0mtimeout_sec\u001b[0m\u001b[0;34m)\u001b[0m\u001b[0;34m\u001b[0m\u001b[0;34m\u001b[0m\u001b[0m\n\u001b[0m",
            "\u001b[0;32m/usr/local/lib/python3.6/dist-packages/google/colab/_message.py\u001b[0m in \u001b[0;36mread_reply_from_input\u001b[0;34m(message_id, timeout_sec)\u001b[0m\n\u001b[1;32m     99\u001b[0m     \u001b[0mreply\u001b[0m \u001b[0;34m=\u001b[0m \u001b[0m_read_next_input_message\u001b[0m\u001b[0;34m(\u001b[0m\u001b[0;34m)\u001b[0m\u001b[0;34m\u001b[0m\u001b[0;34m\u001b[0m\u001b[0m\n\u001b[1;32m    100\u001b[0m     \u001b[0;32mif\u001b[0m \u001b[0mreply\u001b[0m \u001b[0;34m==\u001b[0m \u001b[0m_NOT_READY\u001b[0m \u001b[0;32mor\u001b[0m \u001b[0;32mnot\u001b[0m \u001b[0misinstance\u001b[0m\u001b[0;34m(\u001b[0m\u001b[0mreply\u001b[0m\u001b[0;34m,\u001b[0m \u001b[0mdict\u001b[0m\u001b[0;34m)\u001b[0m\u001b[0;34m:\u001b[0m\u001b[0;34m\u001b[0m\u001b[0;34m\u001b[0m\u001b[0m\n\u001b[0;32m--> 101\u001b[0;31m       \u001b[0mtime\u001b[0m\u001b[0;34m.\u001b[0m\u001b[0msleep\u001b[0m\u001b[0;34m(\u001b[0m\u001b[0;36m0.025\u001b[0m\u001b[0;34m)\u001b[0m\u001b[0;34m\u001b[0m\u001b[0;34m\u001b[0m\u001b[0m\n\u001b[0m\u001b[1;32m    102\u001b[0m       \u001b[0;32mcontinue\u001b[0m\u001b[0;34m\u001b[0m\u001b[0;34m\u001b[0m\u001b[0m\n\u001b[1;32m    103\u001b[0m     if (reply.get('type') == 'colab_reply' and\n",
            "\u001b[0;31mKeyboardInterrupt\u001b[0m: "
          ]
        }
      ]
    },
    {
      "cell_type": "markdown",
      "metadata": {
        "id": "GQygExNKO9ay",
        "colab_type": "text"
      },
      "source": [
        "CALENDARIO ECONOMICO"
      ]
    },
    {
      "cell_type": "code",
      "metadata": {
        "id": "rqX5rWYZGehn",
        "colab_type": "code",
        "colab": {}
      },
      "source": [
        "#function per cliccare pulsanti su chrome .click() di selenium non funziona\n",
        "def click_on_button_id(x):\n",
        "  element = wd.find_element_by_id(x)\n",
        "  wd.execute_script(\"arguments[0].click();\", element)"
      ],
      "execution_count": 11,
      "outputs": []
    },
    {
      "cell_type": "code",
      "metadata": {
        "id": "iSh-aOudGtnH",
        "colab_type": "code",
        "colab": {
          "base_uri": "https://localhost:8080/",
          "height": 246
        },
        "outputId": "924048c2-cf71-4dde-ccea-446824483d9c"
      },
      "source": [
        "#CALENDARIO ECONOMICO\n",
        "\n",
        "url = 'https://www.investing.com/economic-calendar'\n",
        "\n",
        "wd.set_window_size(1920,1080)\n",
        "wd.maximize_window()\n",
        "wd.get(url)\n",
        "\n",
        "#clicca sui pulsanti per filtrare la data\n",
        "click_on_button_id('datePickerToggleBtn')\n",
        "click_on_button_id('startDate')\n",
        "wd.find_element_by_id(\"startDate\").clear()\n",
        "wd.find_element_by_id(\"startDate\").send_keys(startdate)\n",
        "click_on_button_id('endDate')\n",
        "wd.find_element_by_id(\"endDate\").clear()\n",
        "wd.find_element_by_id(\"endDate\").send_keys(today_us_format)\n",
        "click_on_button_id(\"applyBtn\")\n",
        "\n",
        "#wait for the apply button to be effective\n",
        "time.sleep(7)\n",
        "\n",
        "\n",
        "#scrolla fino alla fine della pagina, aspetta questo timeout per caricare i dati\n",
        "SCROLL_PAUSE_TIME = 5\n",
        "\n",
        "#scrollare main method\n",
        "last_height = wd.execute_script(\"return document.body.scrollHeight\")\n",
        "while True:\n",
        "    wd.execute_script(\"window.scrollTo(0, document.body.scrollHeight);\")\n",
        "    time.sleep(SCROLL_PAUSE_TIME)\n",
        "    new_height = wd.execute_script(\"return document.body.scrollHeight\")\n",
        "    if new_height == last_height:\n",
        "        break\n",
        "    last_height = new_height\n",
        "\n",
        "\n",
        "list_of_news = []\n",
        "\n",
        "#launch main scraping loop\n",
        "tr_list = wd.find_elements_by_xpath('//*[@id=\"economicCalendarData\"]/tbody//tr')\n",
        "for tr in progress_bar(tr_list):\n",
        "    td_list = tr.find_elements_by_tag_name('td')\n",
        "    list_of_news_data=[]\n",
        "    for td in td_list:\n",
        "      if td.text != '':\n",
        "        list_of_news_data.append(td.text)\n",
        "      elif td.get_attribute('title') != '':\n",
        "        list_of_news_data.append(td.get_attribute('title'))\n",
        "      else:\n",
        "        list_of_news_data.append('')\n",
        "    if len(list_of_news_data) == 1:\n",
        "        date = list_of_news_data[0]\n",
        "    elif len(list_of_news_data) == 4:\n",
        "      list_of_news.append({'date' : date, 'time': list_of_news_data[0], \n",
        "                            'currency' : list_of_news_data[1],\n",
        "                            'importance' : list_of_news_data[2], \n",
        "                            'event' : list_of_news_data[3],\n",
        "                            'actual' : '',\n",
        "                            'expected' : '',\n",
        "                            'previous' : ''})\n",
        "    else:\n",
        "      list_of_news.append({'date' : date, 'time': list_of_news_data[0], \n",
        "                            'currency' : list_of_news_data[1],\n",
        "                            'importance' : list_of_news_data[2], \n",
        "                            'event' : list_of_news_data[3],\n",
        "                            'actual' : list_of_news_data[4],\n",
        "                            'expected' : list_of_news_data[5],\n",
        "                            'previous' : list_of_news_data[6]})"
      ],
      "execution_count": 12,
      "outputs": [
        {
          "output_type": "error",
          "ename": "NameError",
          "evalue": "ignored",
          "traceback": [
            "\u001b[0;31m---------------------------------------------------------------------------\u001b[0m",
            "\u001b[0;31mNameError\u001b[0m                                 Traceback (most recent call last)",
            "\u001b[0;32m<ipython-input-12-1cb38aad21d2>\u001b[0m in \u001b[0;36m<module>\u001b[0;34m()\u001b[0m\n\u001b[1;32m      3\u001b[0m \u001b[0murl\u001b[0m \u001b[0;34m=\u001b[0m \u001b[0;34m'https://www.investing.com/economic-calendar'\u001b[0m\u001b[0;34m\u001b[0m\u001b[0;34m\u001b[0m\u001b[0m\n\u001b[1;32m      4\u001b[0m \u001b[0;34m\u001b[0m\u001b[0m\n\u001b[0;32m----> 5\u001b[0;31m \u001b[0mwd\u001b[0m\u001b[0;34m.\u001b[0m\u001b[0mset_window_size\u001b[0m\u001b[0;34m(\u001b[0m\u001b[0;36m1920\u001b[0m\u001b[0;34m,\u001b[0m\u001b[0;36m1080\u001b[0m\u001b[0;34m)\u001b[0m\u001b[0;34m\u001b[0m\u001b[0;34m\u001b[0m\u001b[0m\n\u001b[0m\u001b[1;32m      6\u001b[0m \u001b[0mwd\u001b[0m\u001b[0;34m.\u001b[0m\u001b[0mmaximize_window\u001b[0m\u001b[0;34m(\u001b[0m\u001b[0;34m)\u001b[0m\u001b[0;34m\u001b[0m\u001b[0;34m\u001b[0m\u001b[0m\n\u001b[1;32m      7\u001b[0m \u001b[0mwd\u001b[0m\u001b[0;34m.\u001b[0m\u001b[0mget\u001b[0m\u001b[0;34m(\u001b[0m\u001b[0murl\u001b[0m\u001b[0;34m)\u001b[0m\u001b[0;34m\u001b[0m\u001b[0;34m\u001b[0m\u001b[0m\n",
            "\u001b[0;31mNameError\u001b[0m: name 'wd' is not defined"
          ]
        }
      ]
    },
    {
      "cell_type": "code",
      "metadata": {
        "id": "p5zEO-oBG_99",
        "colab_type": "code",
        "colab": {}
      },
      "source": [
        "from pandas import DataFrame\n",
        "df = DataFrame (list_of_news)\n",
        "df.head()\n",
        "df.to_csv('sr_economic_calendar.csv')"
      ],
      "execution_count": null,
      "outputs": []
    },
    {
      "cell_type": "code",
      "metadata": {
        "id": "c-lHaEAoH7RC",
        "colab_type": "code",
        "colab": {}
      },
      "source": [
        "df.head(15)"
      ],
      "execution_count": null,
      "outputs": []
    },
    {
      "cell_type": "markdown",
      "metadata": {
        "id": "bHTh8w3NPFFf",
        "colab_type": "text"
      },
      "source": [
        "CALENDARIO EARNINGS"
      ]
    },
    {
      "cell_type": "code",
      "metadata": {
        "id": "23kY_M_OPJQz",
        "colab_type": "code",
        "colab": {}
      },
      "source": [
        "#CALENDARIO EARNINGS\n",
        "\n",
        "url = 'https://www.investing.com/earnings-calendar/'\n",
        "\n",
        "wd.set_window_size(1920,1080)\n",
        "wd.maximize_window()\n",
        "wd.get(url)\n",
        "\n",
        "#clicca sui pulsanti per filtrare la data\n",
        "click_on_button_id('datePickerToggleBtn')\n",
        "click_on_button_id('startDate')\n",
        "wd.find_element_by_id(\"startDate\").clear()\n",
        "wd.find_element_by_id(\"startDate\").send_keys(startdate)\n",
        "click_on_button_id('endDate')\n",
        "wd.find_element_by_id(\"endDate\").clear()\n",
        "wd.find_element_by_id(\"endDate\").send_keys(today_us_format)\n",
        "click_on_button_id(\"applyBtn\")\n",
        "\n",
        "#wait for the apply button to be effective\n",
        "time.sleep(7)\n",
        "\n",
        "\n",
        "#scrolla fino alla fine della pagina, aspetta questo timeout per caricare i dati\n",
        "SCROLL_PAUSE_TIME = 5\n",
        "\n",
        "#scrollare main method\n",
        "last_height = wd.execute_script(\"return document.body.scrollHeight\")\n",
        "while True:\n",
        "    wd.execute_script(\"window.scrollTo(0, document.body.scrollHeight);\")\n",
        "    time.sleep(SCROLL_PAUSE_TIME)\n",
        "    new_height = wd.execute_script(\"return document.body.scrollHeight\")\n",
        "    if new_height == last_height:\n",
        "        break\n",
        "    last_height = new_height\n",
        "\n",
        "output_list = []\n",
        "\n",
        "#main scraper loop\n",
        "tr_list = wd.find_elements_by_xpath('//*[@id=\"earningsCalendarData\"]/tbody//tr')\n",
        "for tr in progress_bar(tr_list):\n",
        "  td_list = tr.find_elements_by_tag_name('td')\n",
        "  temp_list = []\n",
        "  for td in td_list:\n",
        "    if td.text != '':\n",
        "      temp_list.append(td.text)\n",
        "    elif td.get_attribute('title') != '':\n",
        "      temp_list.append(td.get_attribute('title'))\n",
        "    else:\n",
        "      temp_list.append('')\n",
        "  if len(temp_list) > 1:\n",
        "    output_list.append({'date' : date, 'company': temp_list[1], \n",
        "                          'EPS' : temp_list[2],\n",
        "                          'EPS Forecast' : temp_list[3], \n",
        "                          'Revenue' : temp_list[4],\n",
        "                          'Revenue Forecast' : temp_list[5],\n",
        "                          'Market Cap' : temp_list[6]})"
      ],
      "execution_count": null,
      "outputs": []
    },
    {
      "cell_type": "code",
      "metadata": {
        "id": "yzI8mV3hXrf8",
        "colab_type": "code",
        "colab": {}
      },
      "source": [
        "from pandas import DataFrame\n",
        "df = DataFrame (output_list)\n",
        "df.to_csv('sr_earnings_calendar.csv')"
      ],
      "execution_count": null,
      "outputs": []
    },
    {
      "cell_type": "code",
      "metadata": {
        "id": "SKVyA9l5YEEe",
        "colab_type": "code",
        "colab": {}
      },
      "source": [
        "df.head(15)"
      ],
      "execution_count": null,
      "outputs": []
    },
    {
      "cell_type": "markdown",
      "metadata": {
        "id": "wdZdnXwPYTxE",
        "colab_type": "text"
      },
      "source": [
        "CALENDARIO DIVIDENDS"
      ]
    },
    {
      "cell_type": "code",
      "metadata": {
        "id": "3b1cQkIJZwmW",
        "colab_type": "code",
        "colab": {}
      },
      "source": [
        "#CALENDARIO DIVIDENDS\n",
        "\n",
        "url = 'https://www.investing.com/dividends-calendar/'\n",
        "\n",
        "wd.set_window_size(1920,1080)\n",
        "wd.maximize_window()\n",
        "wd.get(url)\n",
        "\n",
        "#clicca sui pulsanti per filtrare la data\n",
        "click_on_button_id('datePickerToggleBtn')\n",
        "click_on_button_id('startDate')\n",
        "wd.find_element_by_id(\"startDate\").clear()\n",
        "wd.find_element_by_id(\"startDate\").send_keys(startdate)\n",
        "click_on_button_id('endDate')\n",
        "wd.find_element_by_id(\"endDate\").clear()\n",
        "wd.find_element_by_id(\"endDate\").send_keys(today_us_format)\n",
        "click_on_button_id(\"applyBtn\")\n",
        "\n",
        "#wait for the apply button to be effective\n",
        "time.sleep(7)\n",
        "\n",
        "\n",
        "#scrolla fino alla fine della pagina, aspetta questo timeout per caricare i dati\n",
        "SCROLL_PAUSE_TIME = 5\n",
        "\n",
        "#scrollare main method\n",
        "last_height = wd.execute_script(\"return document.body.scrollHeight\")\n",
        "while True:\n",
        "    wd.execute_script(\"window.scrollTo(0, document.body.scrollHeight);\")\n",
        "    time.sleep(SCROLL_PAUSE_TIME)\n",
        "    new_height = wd.execute_script(\"return document.body.scrollHeight\")\n",
        "    if new_height == last_height:\n",
        "        break\n",
        "    last_height = new_height\n",
        "\n",
        "output_list = []\n",
        "\n",
        "#main scraper loop\n",
        "tr_list = wd.find_elements_by_xpath('//*[@id=\"dividendsCalendarData\"]/tbody//tr')\n",
        "for tr in progress_bar(tr_list):\n",
        "  tds = tr.find_elements_by_tag_name('td')\n",
        "  temp_list = []\n",
        "  for td in tds:\n",
        "    if td.text != '':\n",
        "      temp_list.append(td.text)\n",
        "    elif td.get_attribute('data-value') != '':\n",
        "      temp_list.append(td.get_attribute('data-value'))\n",
        "    else:\n",
        "      temp_list.append('')\n",
        "  if len(temp_list) > 1:\n",
        "  if temp_list[4] = '1':\n",
        "    div_type = 'Monthly'\n",
        "  elif temp_list[4] = '2':\n",
        "    div_type = 'Quartely'\n",
        "    elif temp_list[4] = '3':\n",
        "    div_type = 'Semi-annual'\n",
        "    elif temp_list[4] = '4':\n",
        "    div_type = 'Annual'\n",
        "    elif temp_list[4] = '5':\n",
        "    div_type = 'Trailing Twelve Months'\n",
        "    output_list.append({'company': temp_list[1], \n",
        "                          'Ex-dividend date' : temp_list[2],\n",
        "                          'Dividend' : temp_list[3], \n",
        "                          'Type' : temp_list[4],\n",
        "                          'Payment date' : temp_list[5],\n",
        "                          'Yield' : temp_list[6]})\n",
        "\n",
        "print(output_list)"
      ],
      "execution_count": null,
      "outputs": []
    },
    {
      "cell_type": "code",
      "metadata": {
        "id": "wCRffe7_dZ0K",
        "colab_type": "code",
        "colab": {}
      },
      "source": [
        "from pandas import DataFrame\n",
        "df = DataFrame (output_list)\n",
        "df.to_csv('sr_dividends_calendar.csv')"
      ],
      "execution_count": null,
      "outputs": []
    },
    {
      "cell_type": "code",
      "metadata": {
        "id": "r_i3q0V1df9Q",
        "colab_type": "code",
        "colab": {}
      },
      "source": [
        "df.head(15)"
      ],
      "execution_count": null,
      "outputs": []
    }
  ]
}