{
  "nbformat": 4,
  "nbformat_minor": 0,
  "metadata": {
    "colab": {
      "name": "stock_scraping_investing_01.ipynb",
      "provenance": [],
      "collapsed_sections": [],
      "include_colab_link": true
    },
    "kernelspec": {
      "name": "python3",
      "display_name": "Python 3"
    }
  },
  "cells": [
    {
      "cell_type": "markdown",
      "metadata": {
        "id": "view-in-github",
        "colab_type": "text"
      },
      "source": [
        "<a href=\"https://colab.research.google.com/github/szambetti/INVEST_IO/blob/master/stock_scraping_investing_01.ipynb\" target=\"_parent\"><img src=\"https://colab.research.google.com/assets/colab-badge.svg\" alt=\"Open In Colab\"/></a>"
      ]
    },
    {
      "cell_type": "markdown",
      "metadata": {
        "id": "Z6a4gSAeaBKo",
        "colab_type": "text"
      },
      "source": [
        "Questo notebook scarica il calendario economico da investing, le dati sono settabili come riportato sotto\n"
      ]
    },
    {
      "cell_type": "code",
      "metadata": {
        "id": "Ll2XyMq9GbbT",
        "colab_type": "code",
        "colab": {}
      },
      "source": [
        "!pip install selenium\n",
        "!apt-get update\n",
        "!apt install chromium-chromedriver\n",
        "!cp /usr/lib/chromium-browser/chromedriver /usr/bin\n",
        "\n",
        "import sys\n",
        "sys.path.insert(0,'/usr/lib/chromium-browser/chromedriver')\n",
        "from selenium import webdriver\n",
        "from tqdm import tqdm_notebook as tqdm\n",
        "import pandas\n",
        "import json\n",
        "import pprint\n",
        "\n",
        "chrome_options = webdriver.ChromeOptions()\n",
        "chrome_options.add_argument('--headless')\n",
        "chrome_options.add_argument('--no-sandbox')\n",
        "chrome_options.add_argument('--disable-dev-shm-usage')\n",
        "\n",
        "wd = webdriver.Chrome('chromedriver',chrome_options=chrome_options)"
      ],
      "execution_count": null,
      "outputs": []
    },
    {
      "cell_type": "code",
      "metadata": {
        "id": "XN8TtQqR6jRM",
        "colab_type": "code",
        "colab": {}
      },
      "source": [
        "#importa la data correte\n",
        "from datetime import date\n",
        "today = date.today()\n",
        "today_us_format = today.strftime(\"%m/%d/%Y\")"
      ],
      "execution_count": 3,
      "outputs": []
    },
    {
      "cell_type": "code",
      "metadata": {
        "id": "rqX5rWYZGehn",
        "colab_type": "code",
        "colab": {}
      },
      "source": [
        "#function per cliccare pulsanti su chrome .click() di selenium non funziona\n",
        "def click_on_button_id(x):\n",
        "  element = wd.find_element_by_id(x)\n",
        "  wd.execute_script(\"arguments[0].click();\", element)"
      ],
      "execution_count": 23,
      "outputs": []
    },
    {
      "cell_type": "code",
      "metadata": {
        "id": "iSh-aOudGtnH",
        "colab_type": "code",
        "colab": {}
      },
      "source": [
        "#CALENDARIO ECONOMICO\n",
        "\n",
        "url = 'https://www.investing.com/economic-calendar'\n",
        "import time\n",
        "import numpy as np\n",
        "\n",
        "from selenium import webdriver\n",
        "wd.set_window_size(1920,1080)\n",
        "wd.maximize_window()\n",
        "wd.get(url)\n",
        "\n",
        "#apply filter on dates, scarica sempre da startdate a oggi, !!! FORMATO DATE US !!!\n",
        "startdate = '08/01/2020'\n",
        "\n",
        "click_on_button_id('datePickerToggleBtn')\n",
        "click_on_button_id('startDate')\n",
        "wd.save_screenshot('screen.png')\n",
        "wd.find_element_by_id(\"startDate\").clear()\n",
        "wd.find_element_by_id(\"startDate\").send_keys(startdate)\n",
        "click_on_button_id('endDate')\n",
        "wd.find_element_by_id(\"endDate\").clear()\n",
        "wd.find_element_by_id(\"endDate\").send_keys(today_us_format)\n",
        "click_on_button_id(\"applyBtn\")\n",
        "#wait for the apply button to be effective\n",
        "time.sleep(5)\n",
        "\n",
        "list_of_news = []\n",
        "\n",
        "#launch main scraping loop\n",
        "for tr in wd.find_elements_by_xpath('//*[@id=\"economicCalendarData\"]/tbody//tr'):\n",
        "    tds = tr.find_elements_by_tag_name('td')\n",
        "    list_of_news_data=[]\n",
        "    for td in tds:\n",
        "      if td.text != '':\n",
        "        list_of_news_data.append(td.text)\n",
        "      elif td.get_attribute('title') != '':\n",
        "        list_of_news_data.append(td.get_attribute('title'))\n",
        "      else:\n",
        "        list_of_news_data.append('')\n",
        "    if len(list_of_news_data) == 1:\n",
        "        date = list_of_news_data[0]\n",
        "    elif len(list_of_news_data) == 4:\n",
        "      list_of_news.append({'date' : date, 'time': list_of_news_data[0], \n",
        "                            'currency' : list_of_news_data[1],\n",
        "                            'importance' : list_of_news_data[2], \n",
        "                            'event' : list_of_news_data[3],\n",
        "                            'actual' : '',\n",
        "                            'expected' : '',\n",
        "                            'previous' : ''})\n",
        "    else:\n",
        "      list_of_news.append({'date' : date, 'time': list_of_news_data[0], \n",
        "                            'currency' : list_of_news_data[1],\n",
        "                            'importance' : list_of_news_data[2], \n",
        "                            'event' : list_of_news_data[3],\n",
        "                            'actual' : list_of_news_data[4],\n",
        "                            'expected' : list_of_news_data[5],\n",
        "                            'previous' : list_of_news_data[6]})"
      ],
      "execution_count": 37,
      "outputs": []
    },
    {
      "cell_type": "code",
      "metadata": {
        "id": "p5zEO-oBG_99",
        "colab_type": "code",
        "colab": {}
      },
      "source": [
        "from pandas import DataFrame\n",
        "df = DataFrame (list_of_news)\n",
        "df.head()\n",
        "df.to_csv('sr_economic_calendar.csv')"
      ],
      "execution_count": 40,
      "outputs": []
    },
    {
      "cell_type": "code",
      "metadata": {
        "id": "c-lHaEAoH7RC",
        "colab_type": "code",
        "colab": {
          "base_uri": "https://localhost:8080/",
          "height": 391
        },
        "outputId": "f8337339-b103-436f-de4e-a634963fc12b"
      },
      "source": [
        "df.head(15)"
      ],
      "execution_count": 35,
      "outputs": [
        {
          "output_type": "execute_result",
          "data": {
            "text/html": [
              "<div>\n",
              "<style scoped>\n",
              "    .dataframe tbody tr th:only-of-type {\n",
              "        vertical-align: middle;\n",
              "    }\n",
              "\n",
              "    .dataframe tbody tr th {\n",
              "        vertical-align: top;\n",
              "    }\n",
              "\n",
              "    .dataframe thead th {\n",
              "        text-align: right;\n",
              "    }\n",
              "</style>\n",
              "<table border=\"1\" class=\"dataframe\">\n",
              "  <thead>\n",
              "    <tr style=\"text-align: right;\">\n",
              "      <th></th>\n",
              "      <th>date</th>\n",
              "      <th>time</th>\n",
              "      <th>currency</th>\n",
              "      <th>importance</th>\n",
              "      <th>event</th>\n",
              "      <th>actual</th>\n",
              "      <th>expected</th>\n",
              "      <th>previous</th>\n",
              "    </tr>\n",
              "  </thead>\n",
              "  <tbody>\n",
              "    <tr>\n",
              "      <th>0</th>\n",
              "      <td>Sunday, August 9, 2020</td>\n",
              "      <td>20:00</td>\n",
              "      <td>SGD</td>\n",
              "      <td>Low Volatility Expected</td>\n",
              "      <td>GDP (YoY) (Q2)</td>\n",
              "      <td></td>\n",
              "      <td></td>\n",
              "      <td>-12.6%</td>\n",
              "    </tr>\n",
              "    <tr>\n",
              "      <th>1</th>\n",
              "      <td>Sunday, August 9, 2020</td>\n",
              "      <td>20:00</td>\n",
              "      <td>SGD</td>\n",
              "      <td>Low Volatility Expected</td>\n",
              "      <td>GDP (QoQ) (Q2)</td>\n",
              "      <td></td>\n",
              "      <td></td>\n",
              "      <td>-41.2%</td>\n",
              "    </tr>\n",
              "    <tr>\n",
              "      <th>2</th>\n",
              "      <td>Sunday, August 9, 2020</td>\n",
              "      <td>21:00</td>\n",
              "      <td>NZD</td>\n",
              "      <td>Moderate Volatility Expected</td>\n",
              "      <td>ANZ Business Confidence (Jul)</td>\n",
              "      <td></td>\n",
              "      <td></td>\n",
              "      <td>-34.4</td>\n",
              "    </tr>\n",
              "    <tr>\n",
              "      <th>3</th>\n",
              "      <td>Sunday, August 9, 2020</td>\n",
              "      <td>21:00</td>\n",
              "      <td>NZD</td>\n",
              "      <td>Low Volatility Expected</td>\n",
              "      <td>NBNZ Own Activity (Jul)</td>\n",
              "      <td></td>\n",
              "      <td></td>\n",
              "      <td>-25.9%</td>\n",
              "    </tr>\n",
              "    <tr>\n",
              "      <th>4</th>\n",
              "      <td>Sunday, August 9, 2020</td>\n",
              "      <td>21:30</td>\n",
              "      <td>CNY</td>\n",
              "      <td>Moderate Volatility Expected</td>\n",
              "      <td>CPI (MoM) (Jul)</td>\n",
              "      <td></td>\n",
              "      <td>0.4%</td>\n",
              "      <td>-0.1%</td>\n",
              "    </tr>\n",
              "    <tr>\n",
              "      <th>5</th>\n",
              "      <td>Sunday, August 9, 2020</td>\n",
              "      <td>21:30</td>\n",
              "      <td>CNY</td>\n",
              "      <td>Moderate Volatility Expected</td>\n",
              "      <td>CPI (YoY) (Jul)</td>\n",
              "      <td></td>\n",
              "      <td>2.6%</td>\n",
              "      <td>2.5%</td>\n",
              "    </tr>\n",
              "    <tr>\n",
              "      <th>6</th>\n",
              "      <td>Sunday, August 9, 2020</td>\n",
              "      <td>21:30</td>\n",
              "      <td>CNY</td>\n",
              "      <td>Moderate Volatility Expected</td>\n",
              "      <td>PPI (YoY) (Jul)</td>\n",
              "      <td></td>\n",
              "      <td>-2.5%</td>\n",
              "      <td>-3.0%</td>\n",
              "    </tr>\n",
              "  </tbody>\n",
              "</table>\n",
              "</div>"
            ],
            "text/plain": [
              "                     date   time currency  ... actual expected previous\n",
              "0  Sunday, August 9, 2020  20:00      SGD  ...                   -12.6%\n",
              "1  Sunday, August 9, 2020  20:00      SGD  ...                   -41.2%\n",
              "2  Sunday, August 9, 2020  21:00      NZD  ...                    -34.4\n",
              "3  Sunday, August 9, 2020  21:00      NZD  ...                   -25.9%\n",
              "4  Sunday, August 9, 2020  21:30      CNY  ...            0.4%    -0.1%\n",
              "5  Sunday, August 9, 2020  21:30      CNY  ...            2.6%     2.5%\n",
              "6  Sunday, August 9, 2020  21:30      CNY  ...           -2.5%    -3.0%\n",
              "\n",
              "[7 rows x 8 columns]"
            ]
          },
          "metadata": {
            "tags": []
          },
          "execution_count": 35
        }
      ]
    }
  ]
}