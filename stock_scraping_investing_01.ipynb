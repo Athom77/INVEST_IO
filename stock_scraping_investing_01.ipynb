{
  "nbformat": 4,
  "nbformat_minor": 0,
  "metadata": {
    "colab": {
      "name": "stock_scraping_investing_01.ipynb",
      "provenance": [],
      "collapsed_sections": [],
      "toc_visible": true,
      "include_colab_link": true
    },
    "kernelspec": {
      "name": "python3",
      "display_name": "Python 3"
    }
  },
  "cells": [
    {
      "cell_type": "markdown",
      "metadata": {
        "id": "view-in-github",
        "colab_type": "text"
      },
      "source": [
        "<a href=\"https://colab.research.google.com/github/szambetti/INVEST_IO/blob/master/stock_scraping_investing_01.ipynb\" target=\"_parent\"><img src=\"https://colab.research.google.com/assets/colab-badge.svg\" alt=\"Open In Colab\"/></a>"
      ]
    },
    {
      "cell_type": "markdown",
      "metadata": {
        "id": "Z6a4gSAeaBKo",
        "colab_type": "text"
      },
      "source": [
        "## Questo notebook scarica i vari calendari da investing, le date sono settabili come riportato sotto\n",
        "\n"
      ]
    },
    {
      "cell_type": "code",
      "metadata": {
        "id": "rZ8k1VD5yHMN",
        "colab_type": "code",
        "colab": {
          "base_uri": "https://localhost:8080/",
          "height": 147
        },
        "outputId": "bb59993c-a917-4831-83ef-ec1c08921f2f"
      },
      "source": [
        "#mounts current gdrive in colab after providing success code\n",
        "#INSERISCI IL CODICE DI SUCCESSO O NON FUNZIONERA'\n",
        "from google.colab import drive\n",
        "drive.mount('/content/gdrive')\n",
        "%cd '/content/gdrive/My Drive/INVEST-IO/'"
      ],
      "execution_count": 1,
      "outputs": [
        {
          "output_type": "stream",
          "text": [
            "Go to this URL in a browser: https://accounts.google.com/o/oauth2/auth?client_id=947318989803-6bn6qk8qdgf4n4g3pfee6491hc0brc4i.apps.googleusercontent.com&redirect_uri=urn%3aietf%3awg%3aoauth%3a2.0%3aoob&scope=email%20https%3a%2f%2fwww.googleapis.com%2fauth%2fdocs.test%20https%3a%2f%2fwww.googleapis.com%2fauth%2fdrive%20https%3a%2f%2fwww.googleapis.com%2fauth%2fdrive.photos.readonly%20https%3a%2f%2fwww.googleapis.com%2fauth%2fpeopleapi.readonly&response_type=code\n",
            "\n",
            "Enter your authorization code:\n",
            "··········\n",
            "Mounted at /content/gdrive\n",
            "/content/gdrive/My Drive/INVEST-IO\n"
          ],
          "name": "stdout"
        }
      ]
    },
    {
      "cell_type": "code",
      "metadata": {
        "id": "4jUmAkArzrJ2",
        "colab_type": "code",
        "colab": {}
      },
      "source": [
        "#apply filter on dates, scarica sempre dallo startdate (da indicare sotto) a enddate\n",
        "#se enddate = today alla viene scaricato fino ad oggi dinamico, altrimenti imposta enddate alla data desiderata\n",
        "#!!! FORMATO DATE US !!!\n",
        "startdate = '01/01/2020'\n",
        "enddate = 'today'\n",
        "\n",
        "#importa la data di oggi nel formato corretto\n",
        "from datetime import date\n",
        "import time\n",
        "if enddate == 'today':\n",
        "  today = date.today()\n",
        "  today_us_format = today.strftime(\"%m/%d/%Y\")\n",
        "else:\n",
        "  today_us_format = enddate"
      ],
      "execution_count": 2,
      "outputs": []
    },
    {
      "cell_type": "code",
      "metadata": {
        "id": "Ll2XyMq9GbbT",
        "colab_type": "code",
        "colab": {}
      },
      "source": [
        "%%capture\n",
        "!pip install selenium\n",
        "!apt-get update\n",
        "!apt install chromium-chromedriver\n",
        "!cp /usr/lib/chromium-browser/chromedriver /usr/bin\n",
        "\n",
        "import sys\n",
        "sys.path.insert(0,'/usr/lib/chromium-browser/chromedriver')\n",
        "from selenium import webdriver\n",
        "from tqdm import tqdm_notebook as progress_bar\n",
        "import pandas\n",
        "import json\n",
        "\n",
        "chrome_options = webdriver.ChromeOptions()\n",
        "chrome_options.add_argument('--headless')\n",
        "chrome_options.add_argument('--no-sandbox')\n",
        "chrome_options.add_argument('--disable-dev-shm-usage')\n",
        "\n",
        "wd = webdriver.Chrome('chromedriver',chrome_options=chrome_options)"
      ],
      "execution_count": 3,
      "outputs": []
    },
    {
      "cell_type": "markdown",
      "metadata": {
        "id": "GQygExNKO9ay",
        "colab_type": "text"
      },
      "source": [
        "CALENDARIO ECONOMICO"
      ]
    },
    {
      "cell_type": "code",
      "metadata": {
        "id": "rqX5rWYZGehn",
        "colab_type": "code",
        "colab": {}
      },
      "source": [
        "#function per cliccare pulsanti su chrome .click() di selenium non funziona\n",
        "def click_on_button_id(x):\n",
        "  element = wd.find_element_by_id(x)\n",
        "  wd.execute_script(\"arguments[0].click();\", element)"
      ],
      "execution_count": 4,
      "outputs": []
    },
    {
      "cell_type": "code",
      "metadata": {
        "id": "iSh-aOudGtnH",
        "colab_type": "code",
        "colab": {}
      },
      "source": [
        "#CALENDARIO ECONOMICO\n",
        "\n",
        "url = 'https://www.investing.com/economic-calendar'\n",
        "\n",
        "wd.set_window_size(1920,1080)\n",
        "wd.maximize_window()\n",
        "wd.get(url)\n",
        "\n",
        "#clicca sui pulsanti per filtrare la data\n",
        "click_on_button_id('datePickerToggleBtn')\n",
        "click_on_button_id('startDate')\n",
        "wd.find_element_by_id(\"startDate\").clear()\n",
        "wd.find_element_by_id(\"startDate\").send_keys(startdate)\n",
        "click_on_button_id('endDate')\n",
        "wd.find_element_by_id(\"endDate\").clear()\n",
        "wd.find_element_by_id(\"endDate\").send_keys(today_us_format)\n",
        "click_on_button_id(\"applyBtn\")\n",
        "\n",
        "#wait for the apply button to be effective\n",
        "time.sleep(7)\n",
        "\n",
        "\n",
        "#scrolla fino alla fine della pagina, aspetta questo timeout per caricare i dati\n",
        "SCROLL_PAUSE_TIME = 5\n",
        "\n",
        "#scrollare main method\n",
        "last_height = wd.execute_script(\"return document.body.scrollHeight\")\n",
        "while True:\n",
        "    wd.execute_script(\"window.scrollTo(0, document.body.scrollHeight);\")\n",
        "    time.sleep(SCROLL_PAUSE_TIME)\n",
        "    new_height = wd.execute_script(\"return document.body.scrollHeight\")\n",
        "    if new_height == last_height:\n",
        "        break\n",
        "    last_height = new_height"
      ],
      "execution_count": 5,
      "outputs": []
    },
    {
      "cell_type": "code",
      "metadata": {
        "id": "jIF0jY83BIqa",
        "colab_type": "code",
        "colab": {
          "base_uri": "https://localhost:8080/",
          "height": 35
        },
        "outputId": "d1b9a072-33df-4111-9198-7bcfbd441500"
      },
      "source": [
        "list_of_news = []\n",
        "tr_list = wd.find_elements_by_xpath('//*[@id=\"economicCalendarData\"]/tbody//tr')\n",
        "print (str(len(tr_list)) + ' tr items to loop into, ' + str(len(tr_list)*6) + ' td items to loop')"
      ],
      "execution_count": 8,
      "outputs": [
        {
          "output_type": "stream",
          "text": [
            "9099 tr items to loop into, 54594 td items to loop\n"
          ],
          "name": "stdout"
        }
      ]
    },
    {
      "cell_type": "code",
      "metadata": {
        "id": "tiUDhdG9BEI7",
        "colab_type": "code",
        "colab": {}
      },
      "source": [
        "#launch main scraping loop\n",
        "for tr in progress_bar(tr_list):\n",
        "    td_list = tr.find_elements_by_css_selector('td')\n",
        "    list_of_news_data=[]\n",
        "    for td in td_list:\n",
        "      if td.text != '':\n",
        "        list_of_news_data.append(td.text)\n",
        "      elif td.get_attribute('title') != '':\n",
        "        list_of_news_data.append(td.get_attribute('title'))\n",
        "      else:\n",
        "        list_of_news_data.append('')\n",
        "    if len(list_of_news_data) == 1:\n",
        "        date = list_of_news_data[0]\n",
        "    elif len(list_of_news_data) == 4:\n",
        "      list_of_news.append({'date' : date, 'time': list_of_news_data[0], \n",
        "                            'currency' : list_of_news_data[1],\n",
        "                            'importance' : list_of_news_data[2], \n",
        "                            'event' : list_of_news_data[3],\n",
        "                            'actual' : '',\n",
        "                            'expected' : '',\n",
        "                            'previous' : ''})\n",
        "    else:\n",
        "      list_of_news.append({'date' : date, 'time': list_of_news_data[0], \n",
        "                            'currency' : list_of_news_data[1],\n",
        "                            'importance' : list_of_news_data[2], \n",
        "                            'event' : list_of_news_data[3],\n",
        "                            'actual' : list_of_news_data[4],\n",
        "                            'expected' : list_of_news_data[5],\n",
        "                            'previous' : list_of_news_data[6]})"
      ],
      "execution_count": null,
      "outputs": []
    },
    {
      "cell_type": "code",
      "metadata": {
        "id": "p5zEO-oBG_99",
        "colab_type": "code",
        "colab": {}
      },
      "source": [
        "from pandas import DataFrame\n",
        "df = DataFrame (list_of_news)\n",
        "df.head()\n",
        "df.to_csv('sr_economic_calendar.csv')"
      ],
      "execution_count": null,
      "outputs": []
    },
    {
      "cell_type": "code",
      "metadata": {
        "id": "c-lHaEAoH7RC",
        "colab_type": "code",
        "colab": {}
      },
      "source": [
        "df.head(15)"
      ],
      "execution_count": null,
      "outputs": []
    },
    {
      "cell_type": "markdown",
      "metadata": {
        "id": "bHTh8w3NPFFf",
        "colab_type": "text"
      },
      "source": [
        "CALENDARIO EARNINGS"
      ]
    },
    {
      "cell_type": "code",
      "metadata": {
        "id": "23kY_M_OPJQz",
        "colab_type": "code",
        "colab": {}
      },
      "source": [
        "#CALENDARIO EARNINGS\n",
        "\n",
        "url = 'https://www.investing.com/earnings-calendar/'\n",
        "\n",
        "wd.set_window_size(1920,1080)\n",
        "wd.maximize_window()\n",
        "wd.get(url)\n",
        "\n",
        "#clicca sui pulsanti per filtrare la data\n",
        "click_on_button_id('datePickerToggleBtn')\n",
        "click_on_button_id('startDate')\n",
        "wd.find_element_by_id(\"startDate\").clear()\n",
        "wd.find_element_by_id(\"startDate\").send_keys(startdate)\n",
        "click_on_button_id('endDate')\n",
        "wd.find_element_by_id(\"endDate\").clear()\n",
        "wd.find_element_by_id(\"endDate\").send_keys(today_us_format)\n",
        "click_on_button_id(\"applyBtn\")\n",
        "\n",
        "#wait for the apply button to be effective\n",
        "time.sleep(7)\n",
        "\n",
        "\n",
        "#scrolla fino alla fine della pagina, aspetta questo timeout per caricare i dati\n",
        "SCROLL_PAUSE_TIME = 5\n",
        "\n",
        "#scrollare main method\n",
        "last_height = wd.execute_script(\"return document.body.scrollHeight\")\n",
        "while True:\n",
        "    wd.execute_script(\"window.scrollTo(0, document.body.scrollHeight);\")\n",
        "    time.sleep(SCROLL_PAUSE_TIME)\n",
        "    new_height = wd.execute_script(\"return document.body.scrollHeight\")\n",
        "    if new_height == last_height:\n",
        "        break\n",
        "    last_height = new_height\n",
        "\n",
        "output_list = []\n",
        "\n",
        "#main scraper loop\n",
        "tr_list = wd.find_elements_by_xpath('//*[@id=\"earningsCalendarData\"]/tbody//tr')\n",
        "for tr in progress_bar(tr_list):\n",
        "  td_list = tr.find_elements_by_tag_name('td')\n",
        "  temp_list = []\n",
        "  for td in td_list:\n",
        "    if td.text != '':\n",
        "      temp_list.append(td.text)\n",
        "    elif td.get_attribute('title') != '':\n",
        "      temp_list.append(td.get_attribute('title'))\n",
        "    else:\n",
        "      temp_list.append('')\n",
        "  if len(temp_list) > 1:\n",
        "    output_list.append({'date' : date, 'company': temp_list[1], \n",
        "                          'EPS' : temp_list[2],\n",
        "                          'EPS Forecast' : temp_list[3], \n",
        "                          'Revenue' : temp_list[4],\n",
        "                          'Revenue Forecast' : temp_list[5],\n",
        "                          'Market Cap' : temp_list[6]})"
      ],
      "execution_count": null,
      "outputs": []
    },
    {
      "cell_type": "code",
      "metadata": {
        "id": "yzI8mV3hXrf8",
        "colab_type": "code",
        "colab": {}
      },
      "source": [
        "from pandas import DataFrame\n",
        "df = DataFrame (output_list)\n",
        "df.to_csv('sr_earnings_calendar.csv')"
      ],
      "execution_count": null,
      "outputs": []
    },
    {
      "cell_type": "code",
      "metadata": {
        "id": "SKVyA9l5YEEe",
        "colab_type": "code",
        "colab": {}
      },
      "source": [
        "df.head(15)"
      ],
      "execution_count": null,
      "outputs": []
    },
    {
      "cell_type": "markdown",
      "metadata": {
        "id": "wdZdnXwPYTxE",
        "colab_type": "text"
      },
      "source": [
        "CALENDARIO DIVIDENDS"
      ]
    },
    {
      "cell_type": "code",
      "metadata": {
        "id": "3b1cQkIJZwmW",
        "colab_type": "code",
        "colab": {}
      },
      "source": [
        "#CALENDARIO DIVIDENDS\n",
        "\n",
        "url = 'https://www.investing.com/dividends-calendar/'\n",
        "\n",
        "wd.set_window_size(1920,1080)\n",
        "wd.maximize_window()\n",
        "wd.get(url)\n",
        "\n",
        "#clicca sui pulsanti per filtrare la data\n",
        "click_on_button_id('datePickerToggleBtn')\n",
        "click_on_button_id('startDate')\n",
        "wd.find_element_by_id(\"startDate\").clear()\n",
        "wd.find_element_by_id(\"startDate\").send_keys(startdate)\n",
        "click_on_button_id('endDate')\n",
        "wd.find_element_by_id(\"endDate\").clear()\n",
        "wd.find_element_by_id(\"endDate\").send_keys(today_us_format)\n",
        "click_on_button_id(\"applyBtn\")\n",
        "\n",
        "#wait for the apply button to be effective\n",
        "time.sleep(7)\n",
        "\n",
        "\n",
        "#scrolla fino alla fine della pagina, aspetta questo timeout per caricare i dati\n",
        "SCROLL_PAUSE_TIME = 5\n",
        "\n",
        "#scrollare main method\n",
        "last_height = wd.execute_script(\"return document.body.scrollHeight\")\n",
        "while True:\n",
        "    wd.execute_script(\"window.scrollTo(0, document.body.scrollHeight);\")\n",
        "    time.sleep(SCROLL_PAUSE_TIME)\n",
        "    new_height = wd.execute_script(\"return document.body.scrollHeight\")\n",
        "    if new_height == last_height:\n",
        "        break\n",
        "    last_height = new_height\n",
        "\n",
        "output_list = []\n",
        "\n",
        "#main scraper loop\n",
        "tr_list = wd.find_elements_by_xpath('//*[@id=\"dividendsCalendarData\"]/tbody//tr')\n",
        "for tr in progress_bar(tr_list):\n",
        "  tds = tr.find_elements_by_tag_name('td')\n",
        "  temp_list = []\n",
        "  for td in tds:\n",
        "    if td.text != '':\n",
        "      temp_list.append(td.text)\n",
        "    elif td.get_attribute('data-value') != '':\n",
        "      temp_list.append(td.get_attribute('data-value'))\n",
        "    else:\n",
        "      temp_list.append('')\n",
        "  if len(temp_list) > 1:\n",
        "  if temp_list[4] = '1':\n",
        "    div_type = 'Monthly'\n",
        "  elif temp_list[4] = '2':\n",
        "    div_type = 'Quartely'\n",
        "    elif temp_list[4] = '3':\n",
        "    div_type = 'Semi-annual'\n",
        "    elif temp_list[4] = '4':\n",
        "    div_type = 'Annual'\n",
        "    elif temp_list[4] = '5':\n",
        "    div_type = 'Trailing Twelve Months'\n",
        "    output_list.append({'company': temp_list[1], \n",
        "                          'Ex-dividend date' : temp_list[2],\n",
        "                          'Dividend' : temp_list[3], \n",
        "                          'Type' : temp_list[4],\n",
        "                          'Payment date' : temp_list[5],\n",
        "                          'Yield' : temp_list[6]})\n",
        "\n",
        "print(output_list)"
      ],
      "execution_count": null,
      "outputs": []
    },
    {
      "cell_type": "code",
      "metadata": {
        "id": "wCRffe7_dZ0K",
        "colab_type": "code",
        "colab": {}
      },
      "source": [
        "from pandas import DataFrame\n",
        "df = DataFrame (output_list)\n",
        "df.to_csv('sr_dividends_calendar.csv')"
      ],
      "execution_count": null,
      "outputs": []
    },
    {
      "cell_type": "code",
      "metadata": {
        "id": "r_i3q0V1df9Q",
        "colab_type": "code",
        "colab": {}
      },
      "source": [
        "df.head(15)"
      ],
      "execution_count": null,
      "outputs": []
    }
  ]
}