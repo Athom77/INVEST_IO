{
  "nbformat": 4,
  "nbformat_minor": 0,
  "metadata": {
    "colab": {
      "name": "stock_scraping_investing_01.ipynb",
      "provenance": [],
      "collapsed_sections": [],
      "toc_visible": true,
      "include_colab_link": true
    },
    "kernelspec": {
      "name": "python3",
      "display_name": "Python 3"
    }
  },
  "cells": [
    {
      "cell_type": "markdown",
      "metadata": {
        "id": "view-in-github",
        "colab_type": "text"
      },
      "source": [
        "<a href=\"https://colab.research.google.com/github/szambetti/INVEST_IO/blob/master/stock_scraping_investing_01.ipynb\" target=\"_parent\"><img src=\"https://colab.research.google.com/assets/colab-badge.svg\" alt=\"Open In Colab\"/></a>"
      ]
    },
    {
      "cell_type": "markdown",
      "metadata": {
        "id": "Z6a4gSAeaBKo",
        "colab_type": "text"
      },
      "source": [
        "## Questo notebook scarica i vari calendari da investing, le date sono settabili come riportato sotto\n",
        "\n"
      ]
    },
    {
      "cell_type": "code",
      "metadata": {
        "id": "rZ8k1VD5yHMN",
        "colab_type": "code",
        "colab": {
          "base_uri": "https://localhost:8080/",
          "height": 147
        },
        "outputId": "8ca1b8ee-4998-4b50-b103-05dd8e839ca7"
      },
      "source": [
        "#mounts current gdrive in colab after providing success code\n",
        "#INSERISCI IL CODICE DI SUCCESSO O NON FUNZIONERA'\n",
        "from google.colab import drive\n",
        "drive.mount('/content/gdrive')\n",
        "%cd '/content/gdrive/My Drive/INVEST-IO/'"
      ],
      "execution_count": null,
      "outputs": [
        {
          "output_type": "stream",
          "text": [
            "Go to this URL in a browser: https://accounts.google.com/o/oauth2/auth?client_id=947318989803-6bn6qk8qdgf4n4g3pfee6491hc0brc4i.apps.googleusercontent.com&redirect_uri=urn%3aietf%3awg%3aoauth%3a2.0%3aoob&response_type=code&scope=email%20https%3a%2f%2fwww.googleapis.com%2fauth%2fdocs.test%20https%3a%2f%2fwww.googleapis.com%2fauth%2fdrive%20https%3a%2f%2fwww.googleapis.com%2fauth%2fdrive.photos.readonly%20https%3a%2f%2fwww.googleapis.com%2fauth%2fpeopleapi.readonly\n",
            "\n",
            "Enter your authorization code:\n",
            "··········\n",
            "Mounted at /content/gdrive\n",
            "/content/gdrive/My Drive/INVEST-IO\n"
          ],
          "name": "stdout"
        }
      ]
    },
    {
      "cell_type": "code",
      "metadata": {
        "id": "4jUmAkArzrJ2",
        "colab_type": "code",
        "colab": {}
      },
      "source": [
        "#apply filter on dates, scarica sempre dallo startdate (da indicare sotto) a oggi, !!! FORMATO DATE US !!!\n",
        "startdate = '01/01/2020'"
      ],
      "execution_count": null,
      "outputs": []
    },
    {
      "cell_type": "code",
      "metadata": {
        "id": "Ll2XyMq9GbbT",
        "colab_type": "code",
        "colab": {
          "base_uri": "https://localhost:8080/",
          "height": 1000
        },
        "outputId": "a6684a1b-02f5-487d-9726-5204f9561ca8"
      },
      "source": [
        "%%capture\n",
        "!pip install selenium\n",
        "!apt-get update\n",
        "!apt install chromium-chromedriver\n",
        "!cp /usr/lib/chromium-browser/chromedriver /usr/bin\n",
        "\n",
        "import sys\n",
        "sys.path.insert(0,'/usr/lib/chromium-browser/chromedriver')\n",
        "from selenium import webdriver\n",
        "from tqdm import tqdm_notebook as progress_bar\n",
        "import pandas\n",
        "import json\n",
        "\n",
        "chrome_options = webdriver.ChromeOptions()\n",
        "chrome_options.add_argument('--headless')\n",
        "chrome_options.add_argument('--no-sandbox')\n",
        "chrome_options.add_argument('--disable-dev-shm-usage')\n",
        "\n",
        "wd = webdriver.Chrome('chromedriver',chrome_options=chrome_options)"
      ],
      "execution_count": null,
      "outputs": [
        {
          "output_type": "stream",
          "text": [
            "Collecting selenium\n",
            "\u001b[?25l  Downloading https://files.pythonhosted.org/packages/80/d6/4294f0b4bce4de0abf13e17190289f9d0613b0a44e5dd6a7f5ca98459853/selenium-3.141.0-py2.py3-none-any.whl (904kB)\n",
            "\r\u001b[K     |▍                               | 10kB 17.8MB/s eta 0:00:01\r\u001b[K     |▊                               | 20kB 1.7MB/s eta 0:00:01\r\u001b[K     |█                               | 30kB 2.2MB/s eta 0:00:01\r\u001b[K     |█▌                              | 40kB 2.5MB/s eta 0:00:01\r\u001b[K     |█▉                              | 51kB 2.0MB/s eta 0:00:01\r\u001b[K     |██▏                             | 61kB 2.3MB/s eta 0:00:01\r\u001b[K     |██▌                             | 71kB 2.5MB/s eta 0:00:01\r\u001b[K     |███                             | 81kB 2.7MB/s eta 0:00:01\r\u001b[K     |███▎                            | 92kB 2.8MB/s eta 0:00:01\r\u001b[K     |███▋                            | 102kB 2.8MB/s eta 0:00:01\r\u001b[K     |████                            | 112kB 2.8MB/s eta 0:00:01\r\u001b[K     |████▍                           | 122kB 2.8MB/s eta 0:00:01\r\u001b[K     |████▊                           | 133kB 2.8MB/s eta 0:00:01\r\u001b[K     |█████                           | 143kB 2.8MB/s eta 0:00:01\r\u001b[K     |█████▍                          | 153kB 2.8MB/s eta 0:00:01\r\u001b[K     |█████▉                          | 163kB 2.8MB/s eta 0:00:01\r\u001b[K     |██████▏                         | 174kB 2.8MB/s eta 0:00:01\r\u001b[K     |██████▌                         | 184kB 2.8MB/s eta 0:00:01\r\u001b[K     |██████▉                         | 194kB 2.8MB/s eta 0:00:01\r\u001b[K     |███████▎                        | 204kB 2.8MB/s eta 0:00:01\r\u001b[K     |███████▋                        | 215kB 2.8MB/s eta 0:00:01\r\u001b[K     |████████                        | 225kB 2.8MB/s eta 0:00:01\r\u001b[K     |████████▎                       | 235kB 2.8MB/s eta 0:00:01\r\u001b[K     |████████▊                       | 245kB 2.8MB/s eta 0:00:01\r\u001b[K     |█████████                       | 256kB 2.8MB/s eta 0:00:01\r\u001b[K     |█████████▍                      | 266kB 2.8MB/s eta 0:00:01\r\u001b[K     |█████████▉                      | 276kB 2.8MB/s eta 0:00:01\r\u001b[K     |██████████▏                     | 286kB 2.8MB/s eta 0:00:01\r\u001b[K     |██████████▌                     | 296kB 2.8MB/s eta 0:00:01\r\u001b[K     |██████████▉                     | 307kB 2.8MB/s eta 0:00:01\r\u001b[K     |███████████▎                    | 317kB 2.8MB/s eta 0:00:01\r\u001b[K     |███████████▋                    | 327kB 2.8MB/s eta 0:00:01\r\u001b[K     |████████████                    | 337kB 2.8MB/s eta 0:00:01\r\u001b[K     |████████████▎                   | 348kB 2.8MB/s eta 0:00:01\r\u001b[K     |████████████▊                   | 358kB 2.8MB/s eta 0:00:01\r\u001b[K     |█████████████                   | 368kB 2.8MB/s eta 0:00:01\r\u001b[K     |█████████████▍                  | 378kB 2.8MB/s eta 0:00:01\r\u001b[K     |█████████████▊                  | 389kB 2.8MB/s eta 0:00:01\r\u001b[K     |██████████████▏                 | 399kB 2.8MB/s eta 0:00:01\r\u001b[K     |██████████████▌                 | 409kB 2.8MB/s eta 0:00:01\r\u001b[K     |██████████████▉                 | 419kB 2.8MB/s eta 0:00:01\r\u001b[K     |███████████████▏                | 430kB 2.8MB/s eta 0:00:01\r\u001b[K     |███████████████▋                | 440kB 2.8MB/s eta 0:00:01\r\u001b[K     |████████████████                | 450kB 2.8MB/s eta 0:00:01\r\u001b[K     |████████████████▎               | 460kB 2.8MB/s eta 0:00:01\r\u001b[K     |████████████████▋               | 471kB 2.8MB/s eta 0:00:01\r\u001b[K     |█████████████████               | 481kB 2.8MB/s eta 0:00:01\r\u001b[K     |█████████████████▍              | 491kB 2.8MB/s eta 0:00:01\r\u001b[K     |█████████████████▊              | 501kB 2.8MB/s eta 0:00:01\r\u001b[K     |██████████████████▏             | 512kB 2.8MB/s eta 0:00:01\r\u001b[K     |██████████████████▌             | 522kB 2.8MB/s eta 0:00:01\r\u001b[K     |██████████████████▉             | 532kB 2.8MB/s eta 0:00:01\r\u001b[K     |███████████████████▏            | 542kB 2.8MB/s eta 0:00:01\r\u001b[K     |███████████████████▋            | 552kB 2.8MB/s eta 0:00:01\r\u001b[K     |████████████████████            | 563kB 2.8MB/s eta 0:00:01\r\u001b[K     |████████████████████▎           | 573kB 2.8MB/s eta 0:00:01\r\u001b[K     |████████████████████▋           | 583kB 2.8MB/s eta 0:00:01\r\u001b[K     |█████████████████████           | 593kB 2.8MB/s eta 0:00:01\r\u001b[K     |█████████████████████▍          | 604kB 2.8MB/s eta 0:00:01\r\u001b[K     |█████████████████████▊          | 614kB 2.8MB/s eta 0:00:01\r\u001b[K     |██████████████████████          | 624kB 2.8MB/s eta 0:00:01\r\u001b[K     |██████████████████████▌         | 634kB 2.8MB/s eta 0:00:01\r\u001b[K     |██████████████████████▉         | 645kB 2.8MB/s eta 0:00:01\r\u001b[K     |███████████████████████▏        | 655kB 2.8MB/s eta 0:00:01\r\u001b[K     |███████████████████████▌        | 665kB 2.8MB/s eta 0:00:01\r\u001b[K     |████████████████████████        | 675kB 2.8MB/s eta 0:00:01\r\u001b[K     |████████████████████████▎       | 686kB 2.8MB/s eta 0:00:01\r\u001b[K     |████████████████████████▋       | 696kB 2.8MB/s eta 0:00:01\r\u001b[K     |█████████████████████████       | 706kB 2.8MB/s eta 0:00:01\r\u001b[K     |█████████████████████████▍      | 716kB 2.8MB/s eta 0:00:01\r\u001b[K     |█████████████████████████▊      | 727kB 2.8MB/s eta 0:00:01\r\u001b[K     |██████████████████████████      | 737kB 2.8MB/s eta 0:00:01\r\u001b[K     |██████████████████████████▍     | 747kB 2.8MB/s eta 0:00:01\r\u001b[K     |██████████████████████████▉     | 757kB 2.8MB/s eta 0:00:01\r\u001b[K     |███████████████████████████▏    | 768kB 2.8MB/s eta 0:00:01\r\u001b[K     |███████████████████████████▌    | 778kB 2.8MB/s eta 0:00:01\r\u001b[K     |████████████████████████████    | 788kB 2.8MB/s eta 0:00:01\r\u001b[K     |████████████████████████████▎   | 798kB 2.8MB/s eta 0:00:01\r\u001b[K     |████████████████████████████▋   | 808kB 2.8MB/s eta 0:00:01\r\u001b[K     |█████████████████████████████   | 819kB 2.8MB/s eta 0:00:01\r\u001b[K     |█████████████████████████████▍  | 829kB 2.8MB/s eta 0:00:01\r\u001b[K     |█████████████████████████████▊  | 839kB 2.8MB/s eta 0:00:01\r\u001b[K     |██████████████████████████████  | 849kB 2.8MB/s eta 0:00:01\r\u001b[K     |██████████████████████████████▍ | 860kB 2.8MB/s eta 0:00:01\r\u001b[K     |██████████████████████████████▉ | 870kB 2.8MB/s eta 0:00:01\r\u001b[K     |███████████████████████████████▏| 880kB 2.8MB/s eta 0:00:01\r\u001b[K     |███████████████████████████████▌| 890kB 2.8MB/s eta 0:00:01\r\u001b[K     |███████████████████████████████▉| 901kB 2.8MB/s eta 0:00:01\r\u001b[K     |████████████████████████████████| 911kB 2.8MB/s \n",
            "\u001b[?25hRequirement already satisfied: urllib3 in /usr/local/lib/python3.6/dist-packages (from selenium) (1.24.3)\n",
            "Installing collected packages: selenium\n",
            "Successfully installed selenium-3.141.0\n",
            "Get:1 http://security.ubuntu.com/ubuntu bionic-security InRelease [88.7 kB]\n",
            "Get:2 https://cloud.r-project.org/bin/linux/ubuntu bionic-cran35/ InRelease [3,626 B]\n",
            "Ign:3 https://developer.download.nvidia.com/compute/cuda/repos/ubuntu1804/x86_64  InRelease\n",
            "Hit:4 http://ppa.launchpad.net/graphics-drivers/ppa/ubuntu bionic InRelease\n",
            "Hit:5 http://archive.ubuntu.com/ubuntu bionic InRelease\n",
            "Ign:6 https://developer.download.nvidia.com/compute/machine-learning/repos/ubuntu1804/x86_64  InRelease\n",
            "Get:7 https://developer.download.nvidia.com/compute/cuda/repos/ubuntu1804/x86_64  Release [697 B]\n",
            "Hit:8 https://developer.download.nvidia.com/compute/machine-learning/repos/ubuntu1804/x86_64  Release\n",
            "Get:9 https://developer.download.nvidia.com/compute/cuda/repos/ubuntu1804/x86_64  Release.gpg [836 B]\n",
            "Get:10 http://archive.ubuntu.com/ubuntu bionic-updates InRelease [88.7 kB]\n",
            "Get:11 http://ppa.launchpad.net/marutter/c2d4u3.5/ubuntu bionic InRelease [15.4 kB]\n",
            "Get:12 http://security.ubuntu.com/ubuntu bionic-security/main amd64 Packages [1,037 kB]\n",
            "Get:13 http://archive.ubuntu.com/ubuntu bionic-backports InRelease [74.6 kB]\n",
            "Get:14 http://security.ubuntu.com/ubuntu bionic-security/universe amd64 Packages [882 kB]\n",
            "Ign:16 https://developer.download.nvidia.com/compute/cuda/repos/ubuntu1804/x86_64  Packages\n",
            "Get:16 https://developer.download.nvidia.com/compute/cuda/repos/ubuntu1804/x86_64  Packages [255 kB]\n",
            "Get:17 http://ppa.launchpad.net/marutter/c2d4u3.5/ubuntu bionic/main Sources [1,856 kB]\n",
            "Get:18 http://archive.ubuntu.com/ubuntu bionic-updates/universe amd64 Packages [1,413 kB]\n",
            "Get:19 http://archive.ubuntu.com/ubuntu bionic-updates/restricted amd64 Packages [116 kB]\n",
            "Get:20 http://archive.ubuntu.com/ubuntu bionic-updates/multiverse amd64 Packages [27.1 kB]\n",
            "Get:21 http://archive.ubuntu.com/ubuntu bionic-updates/main amd64 Packages [1,334 kB]\n",
            "Get:22 http://ppa.launchpad.net/marutter/c2d4u3.5/ubuntu bionic/main amd64 Packages [895 kB]\n",
            "Fetched 8,088 kB in 3s (2,378 kB/s)\n",
            "Reading package lists... Done\n",
            "Reading package lists... Done\n",
            "Building dependency tree       \n",
            "Reading state information... Done\n",
            "The following package was automatically installed and is no longer required:\n",
            "  libnvidia-common-440\n",
            "Use 'apt autoremove' to remove it.\n",
            "The following additional packages will be installed:\n",
            "  chromium-browser chromium-browser-l10n chromium-codecs-ffmpeg-extra\n",
            "Suggested packages:\n",
            "  webaccounts-chromium-extension unity-chromium-extension adobe-flashplugin\n",
            "The following NEW packages will be installed:\n",
            "  chromium-browser chromium-browser-l10n chromium-chromedriver\n",
            "  chromium-codecs-ffmpeg-extra\n",
            "0 upgraded, 4 newly installed, 0 to remove and 50 not upgraded.\n",
            "Need to get 76.2 MB of archives.\n",
            "After this operation, 255 MB of additional disk space will be used.\n",
            "Get:1 http://archive.ubuntu.com/ubuntu bionic-updates/universe amd64 chromium-codecs-ffmpeg-extra amd64 84.0.4147.105-0ubuntu0.18.04.1 [1,118 kB]\n",
            "Get:2 http://archive.ubuntu.com/ubuntu bionic-updates/universe amd64 chromium-browser amd64 84.0.4147.105-0ubuntu0.18.04.1 [67.4 MB]\n",
            "Get:3 http://archive.ubuntu.com/ubuntu bionic-updates/universe amd64 chromium-browser-l10n all 84.0.4147.105-0ubuntu0.18.04.1 [3,379 kB]\n",
            "Get:4 http://archive.ubuntu.com/ubuntu bionic-updates/universe amd64 chromium-chromedriver amd64 84.0.4147.105-0ubuntu0.18.04.1 [4,354 kB]\n",
            "Fetched 76.2 MB in 3s (23.9 MB/s)\n",
            "Selecting previously unselected package chromium-codecs-ffmpeg-extra.\n",
            "(Reading database ... 144487 files and directories currently installed.)\n",
            "Preparing to unpack .../chromium-codecs-ffmpeg-extra_84.0.4147.105-0ubuntu0.18.04.1_amd64.deb ...\n",
            "Unpacking chromium-codecs-ffmpeg-extra (84.0.4147.105-0ubuntu0.18.04.1) ...\n",
            "Selecting previously unselected package chromium-browser.\n",
            "Preparing to unpack .../chromium-browser_84.0.4147.105-0ubuntu0.18.04.1_amd64.deb ...\n",
            "Unpacking chromium-browser (84.0.4147.105-0ubuntu0.18.04.1) ...\n",
            "Selecting previously unselected package chromium-browser-l10n.\n",
            "Preparing to unpack .../chromium-browser-l10n_84.0.4147.105-0ubuntu0.18.04.1_all.deb ...\n",
            "Unpacking chromium-browser-l10n (84.0.4147.105-0ubuntu0.18.04.1) ...\n",
            "Selecting previously unselected package chromium-chromedriver.\n",
            "Preparing to unpack .../chromium-chromedriver_84.0.4147.105-0ubuntu0.18.04.1_amd64.deb ...\n",
            "Unpacking chromium-chromedriver (84.0.4147.105-0ubuntu0.18.04.1) ...\n",
            "Setting up chromium-codecs-ffmpeg-extra (84.0.4147.105-0ubuntu0.18.04.1) ...\n",
            "Setting up chromium-browser (84.0.4147.105-0ubuntu0.18.04.1) ...\n",
            "update-alternatives: using /usr/bin/chromium-browser to provide /usr/bin/x-www-browser (x-www-browser) in auto mode\n",
            "update-alternatives: using /usr/bin/chromium-browser to provide /usr/bin/gnome-www-browser (gnome-www-browser) in auto mode\n",
            "Setting up chromium-chromedriver (84.0.4147.105-0ubuntu0.18.04.1) ...\n",
            "Setting up chromium-browser-l10n (84.0.4147.105-0ubuntu0.18.04.1) ...\n",
            "Processing triggers for hicolor-icon-theme (0.17-2) ...\n",
            "Processing triggers for mime-support (3.60ubuntu1) ...\n",
            "Processing triggers for man-db (2.8.3-2ubuntu0.1) ...\n",
            "cp: '/usr/lib/chromium-browser/chromedriver' and '/usr/bin/chromedriver' are the same file\n"
          ],
          "name": "stdout"
        },
        {
          "output_type": "stream",
          "text": [
            "/usr/local/lib/python3.6/dist-packages/ipykernel_launcher.py:17: DeprecationWarning: use options instead of chrome_options\n"
          ],
          "name": "stderr"
        }
      ]
    },
    {
      "cell_type": "markdown",
      "metadata": {
        "id": "GQygExNKO9ay",
        "colab_type": "text"
      },
      "source": [
        "CALENDARIO ECONOMICO"
      ]
    },
    {
      "cell_type": "code",
      "metadata": {
        "id": "XN8TtQqR6jRM",
        "colab_type": "code",
        "colab": {}
      },
      "source": [
        "#importa la data di oggi nel formato corretto\n",
        "from datetime import date\n",
        "import time\n",
        "today = date.today()\n",
        "today_us_format = today.strftime(\"%m/%d/%Y\")"
      ],
      "execution_count": null,
      "outputs": []
    },
    {
      "cell_type": "code",
      "metadata": {
        "id": "rqX5rWYZGehn",
        "colab_type": "code",
        "colab": {}
      },
      "source": [
        "#function per cliccare pulsanti su chrome .click() di selenium non funziona\n",
        "def click_on_button_id(x):\n",
        "  element = wd.find_element_by_id(x)\n",
        "  wd.execute_script(\"arguments[0].click();\", element)"
      ],
      "execution_count": null,
      "outputs": []
    },
    {
      "cell_type": "code",
      "metadata": {
        "id": "iSh-aOudGtnH",
        "colab_type": "code",
        "colab": {}
      },
      "source": [
        "#CALENDARIO ECONOMICO\n",
        "\n",
        "url = 'https://www.investing.com/economic-calendar'\n",
        "\n",
        "wd.set_window_size(1920,1080)\n",
        "wd.maximize_window()\n",
        "wd.get(url)\n",
        "\n",
        "#clicca sui pulsanti per filtrare la data\n",
        "click_on_button_id('datePickerToggleBtn')\n",
        "click_on_button_id('startDate')\n",
        "wd.find_element_by_id(\"startDate\").clear()\n",
        "wd.find_element_by_id(\"startDate\").send_keys(startdate)\n",
        "click_on_button_id('endDate')\n",
        "wd.find_element_by_id(\"endDate\").clear()\n",
        "wd.find_element_by_id(\"endDate\").send_keys(today_us_format)\n",
        "click_on_button_id(\"applyBtn\")\n",
        "\n",
        "#wait for the apply button to be effective\n",
        "time.sleep(7)\n",
        "\n",
        "\n",
        "#scrolla fino alla fine della pagina, aspetta questo timeout per caricare i dati\n",
        "SCROLL_PAUSE_TIME = 5\n",
        "\n",
        "#scrollare main method\n",
        "last_height = wd.execute_script(\"return document.body.scrollHeight\")\n",
        "while True:\n",
        "    wd.execute_script(\"window.scrollTo(0, document.body.scrollHeight);\")\n",
        "    time.sleep(SCROLL_PAUSE_TIME)\n",
        "    new_height = wd.execute_script(\"return document.body.scrollHeight\")\n",
        "    if new_height == last_height:\n",
        "        break\n",
        "    last_height = new_height\n",
        "\n",
        "\n",
        "list_of_news = []\n",
        "\n",
        "#launch main scraping loop\n",
        "tr_list = wd.find_elements_by_xpath('//*[@id=\"economicCalendarData\"]/tbody//tr')\n",
        "for tr in tr_list:\n",
        "    td_list = tr.find_elements_by_tag_name('td')\n",
        "    list_of_news_data=[]\n",
        "    for td in td_list:\n",
        "      if td.text != '':\n",
        "        list_of_news_data.append(td.text)\n",
        "      elif td.get_attribute('title') != '':\n",
        "        list_of_news_data.append(td.get_attribute('title'))\n",
        "      else:\n",
        "        list_of_news_data.append('')\n",
        "    if len(list_of_news_data) == 1:\n",
        "        date = list_of_news_data[0]\n",
        "    elif len(list_of_news_data) == 4:\n",
        "      list_of_news.append({'date' : date, 'time': list_of_news_data[0], \n",
        "                            'currency' : list_of_news_data[1],\n",
        "                            'importance' : list_of_news_data[2], \n",
        "                            'event' : list_of_news_data[3],\n",
        "                            'actual' : '',\n",
        "                            'expected' : '',\n",
        "                            'previous' : ''})\n",
        "    else:\n",
        "      list_of_news.append({'date' : date, 'time': list_of_news_data[0], \n",
        "                            'currency' : list_of_news_data[1],\n",
        "                            'importance' : list_of_news_data[2], \n",
        "                            'event' : list_of_news_data[3],\n",
        "                            'actual' : list_of_news_data[4],\n",
        "                            'expected' : list_of_news_data[5],\n",
        "                            'previous' : list_of_news_data[6]})"
      ],
      "execution_count": null,
      "outputs": []
    },
    {
      "cell_type": "code",
      "metadata": {
        "id": "p5zEO-oBG_99",
        "colab_type": "code",
        "colab": {}
      },
      "source": [
        "from pandas import DataFrame\n",
        "df = DataFrame (list_of_news)\n",
        "df.head()\n",
        "df.to_csv('sr_economic_calendar.csv')"
      ],
      "execution_count": null,
      "outputs": []
    },
    {
      "cell_type": "code",
      "metadata": {
        "id": "c-lHaEAoH7RC",
        "colab_type": "code",
        "colab": {}
      },
      "source": [
        "df.head(15)"
      ],
      "execution_count": null,
      "outputs": []
    },
    {
      "cell_type": "markdown",
      "metadata": {
        "id": "bHTh8w3NPFFf",
        "colab_type": "text"
      },
      "source": [
        "CALENDARIO EARNINGS"
      ]
    },
    {
      "cell_type": "code",
      "metadata": {
        "id": "23kY_M_OPJQz",
        "colab_type": "code",
        "colab": {}
      },
      "source": [
        "#CALENDARIO EARNINGS\n",
        "\n",
        "url = 'https://www.investing.com/earnings-calendar/'\n",
        "\n",
        "wd.set_window_size(1920,1080)\n",
        "wd.maximize_window()\n",
        "wd.get(url)\n",
        "\n",
        "#clicca sui pulsanti per filtrare la data\n",
        "click_on_button_id('datePickerToggleBtn')\n",
        "click_on_button_id('startDate')\n",
        "wd.find_element_by_id(\"startDate\").clear()\n",
        "wd.find_element_by_id(\"startDate\").send_keys(startdate)\n",
        "click_on_button_id('endDate')\n",
        "wd.find_element_by_id(\"endDate\").clear()\n",
        "wd.find_element_by_id(\"endDate\").send_keys(today_us_format)\n",
        "click_on_button_id(\"applyBtn\")\n",
        "\n",
        "#wait for the apply button to be effective\n",
        "time.sleep(7)\n",
        "\n",
        "\n",
        "#scrolla fino alla fine della pagina, aspetta questo timeout per caricare i dati\n",
        "SCROLL_PAUSE_TIME = 5\n",
        "\n",
        "#scrollare main method\n",
        "last_height = wd.execute_script(\"return document.body.scrollHeight\")\n",
        "while True:\n",
        "    wd.execute_script(\"window.scrollTo(0, document.body.scrollHeight);\")\n",
        "    time.sleep(SCROLL_PAUSE_TIME)\n",
        "    new_height = wd.execute_script(\"return document.body.scrollHeight\")\n",
        "    if new_height == last_height:\n",
        "        break\n",
        "    last_height = new_height\n",
        "\n",
        "output_list = []\n",
        "\n",
        "#main scraper loop\n",
        "tr_list = wd.find_elements_by_xpath('//*[@id=\"earningsCalendarData\"]/tbody//tr')\n",
        "for tr in progress(tr_list):\n",
        "  td_list = tr.find_elements_by_tag_name('td')\n",
        "  temp_list = []\n",
        "  for td in td_list:\n",
        "    if td.text != '':\n",
        "      temp_list.append(td.text)\n",
        "    elif td.get_attribute('title') != '':\n",
        "      temp_list.append(td.get_attribute('title'))\n",
        "    else:\n",
        "      temp_list.append('')\n",
        "  if len(temp_list) > 1:\n",
        "    output_list.append({'date' : date, 'company': temp_list[1], \n",
        "                          'EPS' : temp_list[2],\n",
        "                          'EPS Forecast' : temp_list[3], \n",
        "                          'Revenue' : temp_list[4],\n",
        "                          'Revenue Forecast' : temp_list[5],\n",
        "                          'Market Cap' : temp_list[6]})"
      ],
      "execution_count": null,
      "outputs": []
    },
    {
      "cell_type": "code",
      "metadata": {
        "id": "yzI8mV3hXrf8",
        "colab_type": "code",
        "colab": {}
      },
      "source": [
        "from pandas import DataFrame\n",
        "df = DataFrame (output_list)\n",
        "df.to_csv('sr_earnings_calendar.csv')"
      ],
      "execution_count": null,
      "outputs": []
    },
    {
      "cell_type": "code",
      "metadata": {
        "id": "SKVyA9l5YEEe",
        "colab_type": "code",
        "colab": {}
      },
      "source": [
        "df.head(15)"
      ],
      "execution_count": null,
      "outputs": []
    },
    {
      "cell_type": "markdown",
      "metadata": {
        "id": "wdZdnXwPYTxE",
        "colab_type": "text"
      },
      "source": [
        "CALENDARIO DIVIDENDS"
      ]
    },
    {
      "cell_type": "code",
      "metadata": {
        "id": "3b1cQkIJZwmW",
        "colab_type": "code",
        "colab": {}
      },
      "source": [
        "#CALENDARIO DIVIDENDS\n",
        "\n",
        "url = 'https://www.investing.com/dividends-calendar/'\n",
        "\n",
        "wd.set_window_size(1920,1080)\n",
        "wd.maximize_window()\n",
        "wd.get(url)\n",
        "\n",
        "#clicca sui pulsanti per filtrare la data\n",
        "click_on_button_id('datePickerToggleBtn')\n",
        "click_on_button_id('startDate')\n",
        "wd.find_element_by_id(\"startDate\").clear()\n",
        "wd.find_element_by_id(\"startDate\").send_keys(startdate)\n",
        "click_on_button_id('endDate')\n",
        "wd.find_element_by_id(\"endDate\").clear()\n",
        "wd.find_element_by_id(\"endDate\").send_keys(today_us_format)\n",
        "click_on_button_id(\"applyBtn\")\n",
        "\n",
        "#wait for the apply button to be effective\n",
        "time.sleep(7)\n",
        "\n",
        "\n",
        "#scrolla fino alla fine della pagina, aspetta questo timeout per caricare i dati\n",
        "SCROLL_PAUSE_TIME = 5\n",
        "\n",
        "#scrollare main method\n",
        "last_height = wd.execute_script(\"return document.body.scrollHeight\")\n",
        "while True:\n",
        "    wd.execute_script(\"window.scrollTo(0, document.body.scrollHeight);\")\n",
        "    time.sleep(SCROLL_PAUSE_TIME)\n",
        "    new_height = wd.execute_script(\"return document.body.scrollHeight\")\n",
        "    if new_height == last_height:\n",
        "        break\n",
        "    last_height = new_height\n",
        "\n",
        "output_list = []\n",
        "\n",
        "#main scraper loop\n",
        "tr_list = wd.find_elements_by_xpath('//*[@id=\"dividendsCalendarData\"]/tbody//tr')\n",
        "for tr in tr_list:\n",
        "  tds = tr.find_elements_by_tag_name('td')\n",
        "  temp_list = []\n",
        "  for td in tds:\n",
        "    if td.text != '':\n",
        "      temp_list.append(td.text)\n",
        "    elif td.get_attribute('data-value') != '':\n",
        "      temp_list.append(td.get_attribute('data-value'))\n",
        "    else:\n",
        "      temp_list.append('')\n",
        "  if len(temp_list) > 1:\n",
        "  if temp_list[4] = '1':\n",
        "    div_type = 'Monthly'\n",
        "  elif temp_list[4] = '2':\n",
        "    div_type = 'Quartely'\n",
        "    elif temp_list[4] = '3':\n",
        "    div_type = 'Semi-annual'\n",
        "    elif temp_list[4] = '4':\n",
        "    div_type = 'Annual'\n",
        "    elif temp_list[4] = '5':\n",
        "    div_type = 'Trailing Twelve Months'\n",
        "    output_list.append({'company': temp_list[1], \n",
        "                          'Ex-dividend date' : temp_list[2],\n",
        "                          'Dividend' : temp_list[3], \n",
        "                          'Type' : temp_list[4],\n",
        "                          'Payment date' : temp_list[5],\n",
        "                          'Yield' : temp_list[6]})\n",
        "\n",
        "print(output_list)"
      ],
      "execution_count": null,
      "outputs": []
    },
    {
      "cell_type": "code",
      "metadata": {
        "id": "wCRffe7_dZ0K",
        "colab_type": "code",
        "colab": {}
      },
      "source": [
        "from pandas import DataFrame\n",
        "df = DataFrame (output_list)\n",
        "df.to_csv('sr_dividends_calendar.csv')"
      ],
      "execution_count": null,
      "outputs": []
    },
    {
      "cell_type": "code",
      "metadata": {
        "id": "r_i3q0V1df9Q",
        "colab_type": "code",
        "colab": {}
      },
      "source": [
        "df.head(15)"
      ],
      "execution_count": null,
      "outputs": []
    }
  ]
}