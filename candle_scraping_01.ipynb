{
  "nbformat": 4,
  "nbformat_minor": 0,
  "metadata": {
    "colab": {
      "name": "candle_scraping_01.ipynb",
      "provenance": [],
      "collapsed_sections": [],
      "authorship_tag": "ABX9TyPmRrSPtyB/vvJhEPlbPeG4",
      "include_colab_link": true
    },
    "kernelspec": {
      "name": "python3",
      "display_name": "Python 3"
    }
  },
  "cells": [
    {
      "cell_type": "markdown",
      "metadata": {
        "id": "view-in-github",
        "colab_type": "text"
      },
      "source": [
        "<a href=\"https://colab.research.google.com/github/Athom77/INVEST_IO/blob/master/candle_scraping_01.ipynb\" target=\"_parent\"><img src=\"https://colab.research.google.com/assets/colab-badge.svg\" alt=\"Open In Colab\"/></a>"
      ]
    },
    {
      "cell_type": "code",
      "metadata": {
        "id": "eJ9eUr3ukyaM",
        "colab_type": "code",
        "colab": {
          "base_uri": "https://localhost:8080/",
          "height": 1000
        },
        "outputId": "68bbdc4f-0d59-4fb7-e543-90b4af41a51f"
      },
      "source": [
        "!pip install selenium\n",
        "!apt-get update\n",
        "!apt install chromium-chromedriver\n",
        "!cp /usr/lib/chromium-browser/chromedriver /usr/bin\n",
        "\n",
        "import sys\n",
        "sys.path.insert(0,'/usr/lib/chromium-browser/chromedriver')\n",
        "from selenium import webdriver\n",
        "from tqdm import tqdm_notebook as tqdm\n",
        "import pandas\n",
        "import json\n",
        "import pprint\n",
        "\n",
        "chrome_options = webdriver.ChromeOptions()\n",
        "chrome_options.add_argument('--headless')\n",
        "chrome_options.add_argument('--no-sandbox')\n",
        "chrome_options.add_argument('--disable-dev-shm-usage')\n",
        "\n",
        "wd = webdriver.Chrome('chromedriver',chrome_options=chrome_options)"
      ],
      "execution_count": null,
      "outputs": [
        {
          "output_type": "stream",
          "text": [
            "Collecting selenium\n",
            "\u001b[?25l  Downloading https://files.pythonhosted.org/packages/80/d6/4294f0b4bce4de0abf13e17190289f9d0613b0a44e5dd6a7f5ca98459853/selenium-3.141.0-py2.py3-none-any.whl (904kB)\n",
            "\r\u001b[K     |▍                               | 10kB 22.7MB/s eta 0:00:01\r\u001b[K     |▊                               | 20kB 5.9MB/s eta 0:00:01\r\u001b[K     |█                               | 30kB 7.1MB/s eta 0:00:01\r\u001b[K     |█▌                              | 40kB 7.7MB/s eta 0:00:01\r\u001b[K     |█▉                              | 51kB 6.4MB/s eta 0:00:01\r\u001b[K     |██▏                             | 61kB 7.0MB/s eta 0:00:01\r\u001b[K     |██▌                             | 71kB 7.7MB/s eta 0:00:01\r\u001b[K     |███                             | 81kB 8.1MB/s eta 0:00:01\r\u001b[K     |███▎                            | 92kB 8.5MB/s eta 0:00:01\r\u001b[K     |███▋                            | 102kB 8.7MB/s eta 0:00:01\r\u001b[K     |████                            | 112kB 8.7MB/s eta 0:00:01\r\u001b[K     |████▍                           | 122kB 8.7MB/s eta 0:00:01\r\u001b[K     |████▊                           | 133kB 8.7MB/s eta 0:00:01\r\u001b[K     |█████                           | 143kB 8.7MB/s eta 0:00:01\r\u001b[K     |█████▍                          | 153kB 8.7MB/s eta 0:00:01\r\u001b[K     |█████▉                          | 163kB 8.7MB/s eta 0:00:01\r\u001b[K     |██████▏                         | 174kB 8.7MB/s eta 0:00:01\r\u001b[K     |██████▌                         | 184kB 8.7MB/s eta 0:00:01\r\u001b[K     |██████▉                         | 194kB 8.7MB/s eta 0:00:01\r\u001b[K     |███████▎                        | 204kB 8.7MB/s eta 0:00:01\r\u001b[K     |███████▋                        | 215kB 8.7MB/s eta 0:00:01\r\u001b[K     |████████                        | 225kB 8.7MB/s eta 0:00:01\r\u001b[K     |████████▎                       | 235kB 8.7MB/s eta 0:00:01\r\u001b[K     |████████▊                       | 245kB 8.7MB/s eta 0:00:01\r\u001b[K     |█████████                       | 256kB 8.7MB/s eta 0:00:01\r\u001b[K     |█████████▍                      | 266kB 8.7MB/s eta 0:00:01\r\u001b[K     |█████████▉                      | 276kB 8.7MB/s eta 0:00:01\r\u001b[K     |██████████▏                     | 286kB 8.7MB/s eta 0:00:01\r\u001b[K     |██████████▌                     | 296kB 8.7MB/s eta 0:00:01\r\u001b[K     |██████████▉                     | 307kB 8.7MB/s eta 0:00:01\r\u001b[K     |███████████▎                    | 317kB 8.7MB/s eta 0:00:01\r\u001b[K     |███████████▋                    | 327kB 8.7MB/s eta 0:00:01\r\u001b[K     |████████████                    | 337kB 8.7MB/s eta 0:00:01\r\u001b[K     |████████████▎                   | 348kB 8.7MB/s eta 0:00:01\r\u001b[K     |████████████▊                   | 358kB 8.7MB/s eta 0:00:01\r\u001b[K     |█████████████                   | 368kB 8.7MB/s eta 0:00:01\r\u001b[K     |█████████████▍                  | 378kB 8.7MB/s eta 0:00:01\r\u001b[K     |█████████████▊                  | 389kB 8.7MB/s eta 0:00:01\r\u001b[K     |██████████████▏                 | 399kB 8.7MB/s eta 0:00:01\r\u001b[K     |██████████████▌                 | 409kB 8.7MB/s eta 0:00:01\r\u001b[K     |██████████████▉                 | 419kB 8.7MB/s eta 0:00:01\r\u001b[K     |███████████████▏                | 430kB 8.7MB/s eta 0:00:01\r\u001b[K     |███████████████▋                | 440kB 8.7MB/s eta 0:00:01\r\u001b[K     |████████████████                | 450kB 8.7MB/s eta 0:00:01\r\u001b[K     |████████████████▎               | 460kB 8.7MB/s eta 0:00:01\r\u001b[K     |████████████████▋               | 471kB 8.7MB/s eta 0:00:01\r\u001b[K     |█████████████████               | 481kB 8.7MB/s eta 0:00:01\r\u001b[K     |█████████████████▍              | 491kB 8.7MB/s eta 0:00:01\r\u001b[K     |█████████████████▊              | 501kB 8.7MB/s eta 0:00:01\r\u001b[K     |██████████████████▏             | 512kB 8.7MB/s eta 0:00:01\r\u001b[K     |██████████████████▌             | 522kB 8.7MB/s eta 0:00:01\r\u001b[K     |██████████████████▉             | 532kB 8.7MB/s eta 0:00:01\r\u001b[K     |███████████████████▏            | 542kB 8.7MB/s eta 0:00:01\r\u001b[K     |███████████████████▋            | 552kB 8.7MB/s eta 0:00:01\r\u001b[K     |████████████████████            | 563kB 8.7MB/s eta 0:00:01\r\u001b[K     |████████████████████▎           | 573kB 8.7MB/s eta 0:00:01\r\u001b[K     |████████████████████▋           | 583kB 8.7MB/s eta 0:00:01\r\u001b[K     |█████████████████████           | 593kB 8.7MB/s eta 0:00:01\r\u001b[K     |█████████████████████▍          | 604kB 8.7MB/s eta 0:00:01\r\u001b[K     |█████████████████████▊          | 614kB 8.7MB/s eta 0:00:01\r\u001b[K     |██████████████████████          | 624kB 8.7MB/s eta 0:00:01\r\u001b[K     |██████████████████████▌         | 634kB 8.7MB/s eta 0:00:01\r\u001b[K     |██████████████████████▉         | 645kB 8.7MB/s eta 0:00:01\r\u001b[K     |███████████████████████▏        | 655kB 8.7MB/s eta 0:00:01\r\u001b[K     |███████████████████████▌        | 665kB 8.7MB/s eta 0:00:01\r\u001b[K     |████████████████████████        | 675kB 8.7MB/s eta 0:00:01\r\u001b[K     |████████████████████████▎       | 686kB 8.7MB/s eta 0:00:01\r\u001b[K     |████████████████████████▋       | 696kB 8.7MB/s eta 0:00:01\r\u001b[K     |█████████████████████████       | 706kB 8.7MB/s eta 0:00:01\r\u001b[K     |█████████████████████████▍      | 716kB 8.7MB/s eta 0:00:01\r\u001b[K     |█████████████████████████▊      | 727kB 8.7MB/s eta 0:00:01\r\u001b[K     |██████████████████████████      | 737kB 8.7MB/s eta 0:00:01\r\u001b[K     |██████████████████████████▍     | 747kB 8.7MB/s eta 0:00:01\r\u001b[K     |██████████████████████████▉     | 757kB 8.7MB/s eta 0:00:01\r\u001b[K     |███████████████████████████▏    | 768kB 8.7MB/s eta 0:00:01\r\u001b[K     |███████████████████████████▌    | 778kB 8.7MB/s eta 0:00:01\r\u001b[K     |████████████████████████████    | 788kB 8.7MB/s eta 0:00:01\r\u001b[K     |████████████████████████████▎   | 798kB 8.7MB/s eta 0:00:01\r\u001b[K     |████████████████████████████▋   | 808kB 8.7MB/s eta 0:00:01\r\u001b[K     |█████████████████████████████   | 819kB 8.7MB/s eta 0:00:01\r\u001b[K     |█████████████████████████████▍  | 829kB 8.7MB/s eta 0:00:01\r\u001b[K     |█████████████████████████████▊  | 839kB 8.7MB/s eta 0:00:01\r\u001b[K     |██████████████████████████████  | 849kB 8.7MB/s eta 0:00:01\r\u001b[K     |██████████████████████████████▍ | 860kB 8.7MB/s eta 0:00:01\r\u001b[K     |██████████████████████████████▉ | 870kB 8.7MB/s eta 0:00:01\r\u001b[K     |███████████████████████████████▏| 880kB 8.7MB/s eta 0:00:01\r\u001b[K     |███████████████████████████████▌| 890kB 8.7MB/s eta 0:00:01\r\u001b[K     |███████████████████████████████▉| 901kB 8.7MB/s eta 0:00:01\r\u001b[K     |████████████████████████████████| 911kB 8.7MB/s \n",
            "\u001b[?25hRequirement already satisfied: urllib3 in /usr/local/lib/python3.6/dist-packages (from selenium) (1.24.3)\n",
            "Installing collected packages: selenium\n",
            "Successfully installed selenium-3.141.0\n",
            "Hit:1 http://ppa.launchpad.net/graphics-drivers/ppa/ubuntu bionic InRelease\n",
            "Hit:2 http://archive.ubuntu.com/ubuntu bionic InRelease\n",
            "Get:3 http://archive.ubuntu.com/ubuntu bionic-updates InRelease [88.7 kB]\n",
            "Get:4 http://security.ubuntu.com/ubuntu bionic-security InRelease [88.7 kB]\n",
            "Get:5 http://ppa.launchpad.net/marutter/c2d4u3.5/ubuntu bionic InRelease [15.4 kB]\n",
            "Get:6 https://cloud.r-project.org/bin/linux/ubuntu bionic-cran35/ InRelease [3,626 B]\n",
            "Get:7 http://archive.ubuntu.com/ubuntu bionic-backports InRelease [74.6 kB]\n",
            "Ign:8 https://developer.download.nvidia.com/compute/cuda/repos/ubuntu1804/x86_64  InRelease\n",
            "Ign:9 https://developer.download.nvidia.com/compute/machine-learning/repos/ubuntu1804/x86_64  InRelease\n",
            "Hit:10 https://developer.download.nvidia.com/compute/cuda/repos/ubuntu1804/x86_64  Release\n",
            "Hit:11 https://developer.download.nvidia.com/compute/machine-learning/repos/ubuntu1804/x86_64  Release\n",
            "Get:12 http://ppa.launchpad.net/marutter/c2d4u3.5/ubuntu bionic/main Sources [1,854 kB]\n",
            "Get:13 http://ppa.launchpad.net/marutter/c2d4u3.5/ubuntu bionic/main amd64 Packages [895 kB]\n",
            "Get:14 http://security.ubuntu.com/ubuntu bionic-security/main amd64 Packages [1,033 kB]\n",
            "Get:15 http://security.ubuntu.com/ubuntu bionic-security/universe amd64 Packages [880 kB]\n",
            "Get:16 http://archive.ubuntu.com/ubuntu bionic-updates/main amd64 Packages [1,334 kB]\n",
            "Get:17 http://archive.ubuntu.com/ubuntu bionic-updates/universe amd64 Packages [1,413 kB]\n",
            "Get:18 http://archive.ubuntu.com/ubuntu bionic-updates/multiverse amd64 Packages [27.1 kB]\n",
            "Get:19 http://archive.ubuntu.com/ubuntu bionic-updates/restricted amd64 Packages [116 kB]\n",
            "Fetched 7,823 kB in 2s (4,166 kB/s)\n",
            "Reading package lists... Done\n",
            "Reading package lists... Done\n",
            "Building dependency tree       \n",
            "Reading state information... Done\n",
            "The following package was automatically installed and is no longer required:\n",
            "  libnvidia-common-440\n",
            "Use 'apt autoremove' to remove it.\n",
            "The following additional packages will be installed:\n",
            "  chromium-browser chromium-browser-l10n chromium-codecs-ffmpeg-extra\n",
            "Suggested packages:\n",
            "  webaccounts-chromium-extension unity-chromium-extension adobe-flashplugin\n",
            "The following NEW packages will be installed:\n",
            "  chromium-browser chromium-browser-l10n chromium-chromedriver\n",
            "  chromium-codecs-ffmpeg-extra\n",
            "0 upgraded, 4 newly installed, 0 to remove and 38 not upgraded.\n",
            "Need to get 75.5 MB of archives.\n",
            "After this operation, 256 MB of additional disk space will be used.\n",
            "Get:1 http://archive.ubuntu.com/ubuntu bionic-updates/universe amd64 chromium-codecs-ffmpeg-extra amd64 83.0.4103.61-0ubuntu0.18.04.1 [1,119 kB]\n",
            "Get:2 http://archive.ubuntu.com/ubuntu bionic-updates/universe amd64 chromium-browser amd64 83.0.4103.61-0ubuntu0.18.04.1 [66.7 MB]\n",
            "Get:3 http://archive.ubuntu.com/ubuntu bionic-updates/universe amd64 chromium-browser-l10n all 83.0.4103.61-0ubuntu0.18.04.1 [3,378 kB]\n",
            "Get:4 http://archive.ubuntu.com/ubuntu bionic-updates/universe amd64 chromium-chromedriver amd64 83.0.4103.61-0ubuntu0.18.04.1 [4,294 kB]\n",
            "Fetched 75.5 MB in 1s (71.2 MB/s)\n",
            "Selecting previously unselected package chromium-codecs-ffmpeg-extra.\n",
            "(Reading database ... 144487 files and directories currently installed.)\n",
            "Preparing to unpack .../chromium-codecs-ffmpeg-extra_83.0.4103.61-0ubuntu0.18.04.1_amd64.deb ...\n",
            "Unpacking chromium-codecs-ffmpeg-extra (83.0.4103.61-0ubuntu0.18.04.1) ...\n",
            "Selecting previously unselected package chromium-browser.\n",
            "Preparing to unpack .../chromium-browser_83.0.4103.61-0ubuntu0.18.04.1_amd64.deb ...\n",
            "Unpacking chromium-browser (83.0.4103.61-0ubuntu0.18.04.1) ...\n",
            "Selecting previously unselected package chromium-browser-l10n.\n",
            "Preparing to unpack .../chromium-browser-l10n_83.0.4103.61-0ubuntu0.18.04.1_all.deb ...\n",
            "Unpacking chromium-browser-l10n (83.0.4103.61-0ubuntu0.18.04.1) ...\n",
            "Selecting previously unselected package chromium-chromedriver.\n",
            "Preparing to unpack .../chromium-chromedriver_83.0.4103.61-0ubuntu0.18.04.1_amd64.deb ...\n",
            "Unpacking chromium-chromedriver (83.0.4103.61-0ubuntu0.18.04.1) ...\n",
            "Setting up chromium-codecs-ffmpeg-extra (83.0.4103.61-0ubuntu0.18.04.1) ...\n",
            "Setting up chromium-browser (83.0.4103.61-0ubuntu0.18.04.1) ...\n",
            "update-alternatives: using /usr/bin/chromium-browser to provide /usr/bin/x-www-browser (x-www-browser) in auto mode\n",
            "update-alternatives: using /usr/bin/chromium-browser to provide /usr/bin/gnome-www-browser (gnome-www-browser) in auto mode\n",
            "Setting up chromium-chromedriver (83.0.4103.61-0ubuntu0.18.04.1) ...\n",
            "Setting up chromium-browser-l10n (83.0.4103.61-0ubuntu0.18.04.1) ...\n",
            "Processing triggers for hicolor-icon-theme (0.17-2) ...\n",
            "Processing triggers for mime-support (3.60ubuntu1) ...\n",
            "Processing triggers for man-db (2.8.3-2ubuntu0.1) ...\n",
            "cp: '/usr/lib/chromium-browser/chromedriver' and '/usr/bin/chromedriver' are the same file\n"
          ],
          "name": "stdout"
        },
        {
          "output_type": "stream",
          "text": [
            "/usr/local/lib/python3.6/dist-packages/ipykernel_launcher.py:19: DeprecationWarning: use options instead of chrome_options\n"
          ],
          "name": "stderr"
        }
      ]
    },
    {
      "cell_type": "code",
      "metadata": {
        "id": "cSt0yym2mt-Q",
        "colab_type": "code",
        "colab": {
          "base_uri": "https://localhost:8080/",
          "height": 926
        },
        "outputId": "c1a0cb41-311d-4428-bde4-90702c4c34e9"
      },
      "source": [
        "!pip install pandas-datareader\n",
        "!pip install \"notebook>=5.3\" \"ipywidgets==7.5\"\n"
      ],
      "execution_count": null,
      "outputs": [
        {
          "output_type": "stream",
          "text": [
            "Requirement already satisfied: pandas-datareader in /usr/local/lib/python3.6/dist-packages (0.8.1)\n",
            "Requirement already satisfied: requests>=2.3.0 in /usr/local/lib/python3.6/dist-packages (from pandas-datareader) (2.23.0)\n",
            "Requirement already satisfied: pandas>=0.21 in /usr/local/lib/python3.6/dist-packages (from pandas-datareader) (1.0.5)\n",
            "Requirement already satisfied: lxml in /usr/local/lib/python3.6/dist-packages (from pandas-datareader) (4.2.6)\n",
            "Requirement already satisfied: urllib3!=1.25.0,!=1.25.1,<1.26,>=1.21.1 in /usr/local/lib/python3.6/dist-packages (from requests>=2.3.0->pandas-datareader) (1.24.3)\n",
            "Requirement already satisfied: chardet<4,>=3.0.2 in /usr/local/lib/python3.6/dist-packages (from requests>=2.3.0->pandas-datareader) (3.0.4)\n",
            "Requirement already satisfied: idna<3,>=2.5 in /usr/local/lib/python3.6/dist-packages (from requests>=2.3.0->pandas-datareader) (2.10)\n",
            "Requirement already satisfied: certifi>=2017.4.17 in /usr/local/lib/python3.6/dist-packages (from requests>=2.3.0->pandas-datareader) (2020.6.20)\n",
            "Requirement already satisfied: numpy>=1.13.3 in /usr/local/lib/python3.6/dist-packages (from pandas>=0.21->pandas-datareader) (1.18.5)\n",
            "Requirement already satisfied: pytz>=2017.2 in /usr/local/lib/python3.6/dist-packages (from pandas>=0.21->pandas-datareader) (2018.9)\n",
            "Requirement already satisfied: python-dateutil>=2.6.1 in /usr/local/lib/python3.6/dist-packages (from pandas>=0.21->pandas-datareader) (2.8.1)\n",
            "Requirement already satisfied: six>=1.5 in /usr/local/lib/python3.6/dist-packages (from python-dateutil>=2.6.1->pandas>=0.21->pandas-datareader) (1.15.0)\n",
            "Requirement already satisfied: notebook>=5.3 in /usr/local/lib/python3.6/dist-packages (5.3.1)\n",
            "Requirement already satisfied: ipywidgets==7.5 in /usr/local/lib/python3.6/dist-packages (7.5.0)\n",
            "Requirement already satisfied: nbformat in /usr/local/lib/python3.6/dist-packages (from notebook>=5.3) (5.0.7)\n",
            "Requirement already satisfied: jinja2 in /usr/local/lib/python3.6/dist-packages (from notebook>=5.3) (2.11.2)\n",
            "Requirement already satisfied: jupyter-core>=4.4.0 in /usr/local/lib/python3.6/dist-packages (from notebook>=5.3) (4.6.3)\n",
            "Requirement already satisfied: jupyter-client>=5.2.0 in /usr/local/lib/python3.6/dist-packages (from notebook>=5.3) (5.3.5)\n",
            "Requirement already satisfied: Send2Trash in /usr/local/lib/python3.6/dist-packages (from notebook>=5.3) (1.5.0)\n",
            "Requirement already satisfied: terminado>=0.8.1 in /usr/local/lib/python3.6/dist-packages (from notebook>=5.3) (0.8.3)\n",
            "Requirement already satisfied: ipython-genutils in /usr/local/lib/python3.6/dist-packages (from notebook>=5.3) (0.2.0)\n",
            "Requirement already satisfied: traitlets>=4.2.1 in /usr/local/lib/python3.6/dist-packages (from notebook>=5.3) (4.3.3)\n",
            "Requirement already satisfied: nbconvert in /usr/local/lib/python3.6/dist-packages (from notebook>=5.3) (5.6.1)\n",
            "Requirement already satisfied: ipykernel in /usr/local/lib/python3.6/dist-packages (from notebook>=5.3) (4.10.1)\n",
            "Requirement already satisfied: tornado>=4 in /usr/local/lib/python3.6/dist-packages (from notebook>=5.3) (5.1.1)\n",
            "Requirement already satisfied: ipython>=4.0.0; python_version >= \"3.3\" in /usr/local/lib/python3.6/dist-packages (from ipywidgets==7.5) (5.5.0)\n",
            "Requirement already satisfied: widgetsnbextension~=3.5.0 in /usr/local/lib/python3.6/dist-packages (from ipywidgets==7.5) (3.5.1)\n",
            "Requirement already satisfied: jsonschema!=2.5.0,>=2.4 in /usr/local/lib/python3.6/dist-packages (from nbformat->notebook>=5.3) (2.6.0)\n",
            "Requirement already satisfied: MarkupSafe>=0.23 in /usr/local/lib/python3.6/dist-packages (from jinja2->notebook>=5.3) (1.1.1)\n",
            "Requirement already satisfied: python-dateutil>=2.1 in /usr/local/lib/python3.6/dist-packages (from jupyter-client>=5.2.0->notebook>=5.3) (2.8.1)\n",
            "Requirement already satisfied: pyzmq>=13 in /usr/local/lib/python3.6/dist-packages (from jupyter-client>=5.2.0->notebook>=5.3) (19.0.1)\n",
            "Requirement already satisfied: ptyprocess; os_name != \"nt\" in /usr/local/lib/python3.6/dist-packages (from terminado>=0.8.1->notebook>=5.3) (0.6.0)\n",
            "Requirement already satisfied: six in /usr/local/lib/python3.6/dist-packages (from traitlets>=4.2.1->notebook>=5.3) (1.15.0)\n",
            "Requirement already satisfied: decorator in /usr/local/lib/python3.6/dist-packages (from traitlets>=4.2.1->notebook>=5.3) (4.4.2)\n",
            "Requirement already satisfied: bleach in /usr/local/lib/python3.6/dist-packages (from nbconvert->notebook>=5.3) (3.1.5)\n",
            "Requirement already satisfied: mistune<2,>=0.8.1 in /usr/local/lib/python3.6/dist-packages (from nbconvert->notebook>=5.3) (0.8.4)\n",
            "Requirement already satisfied: pandocfilters>=1.4.1 in /usr/local/lib/python3.6/dist-packages (from nbconvert->notebook>=5.3) (1.4.2)\n",
            "Requirement already satisfied: pygments in /usr/local/lib/python3.6/dist-packages (from nbconvert->notebook>=5.3) (2.1.3)\n",
            "Requirement already satisfied: defusedxml in /usr/local/lib/python3.6/dist-packages (from nbconvert->notebook>=5.3) (0.6.0)\n",
            "Requirement already satisfied: entrypoints>=0.2.2 in /usr/local/lib/python3.6/dist-packages (from nbconvert->notebook>=5.3) (0.3)\n",
            "Requirement already satisfied: testpath in /usr/local/lib/python3.6/dist-packages (from nbconvert->notebook>=5.3) (0.4.4)\n",
            "Requirement already satisfied: setuptools>=18.5 in /usr/local/lib/python3.6/dist-packages (from ipython>=4.0.0; python_version >= \"3.3\"->ipywidgets==7.5) (49.1.0)\n",
            "Requirement already satisfied: pickleshare in /usr/local/lib/python3.6/dist-packages (from ipython>=4.0.0; python_version >= \"3.3\"->ipywidgets==7.5) (0.7.5)\n",
            "Requirement already satisfied: simplegeneric>0.8 in /usr/local/lib/python3.6/dist-packages (from ipython>=4.0.0; python_version >= \"3.3\"->ipywidgets==7.5) (0.8.1)\n",
            "Requirement already satisfied: pexpect; sys_platform != \"win32\" in /usr/local/lib/python3.6/dist-packages (from ipython>=4.0.0; python_version >= \"3.3\"->ipywidgets==7.5) (4.8.0)\n",
            "Requirement already satisfied: prompt-toolkit<2.0.0,>=1.0.4 in /usr/local/lib/python3.6/dist-packages (from ipython>=4.0.0; python_version >= \"3.3\"->ipywidgets==7.5) (1.0.18)\n",
            "Requirement already satisfied: webencodings in /usr/local/lib/python3.6/dist-packages (from bleach->nbconvert->notebook>=5.3) (0.5.1)\n",
            "Requirement already satisfied: packaging in /usr/local/lib/python3.6/dist-packages (from bleach->nbconvert->notebook>=5.3) (20.4)\n",
            "Requirement already satisfied: wcwidth in /usr/local/lib/python3.6/dist-packages (from prompt-toolkit<2.0.0,>=1.0.4->ipython>=4.0.0; python_version >= \"3.3\"->ipywidgets==7.5) (0.2.5)\n",
            "Requirement already satisfied: pyparsing>=2.0.2 in /usr/local/lib/python3.6/dist-packages (from packaging->bleach->nbconvert->notebook>=5.3) (2.4.7)\n"
          ],
          "name": "stdout"
        }
      ]
    },
    {
      "cell_type": "code",
      "metadata": {
        "id": "m16TJ47mlguK",
        "colab_type": "code",
        "colab": {
          "base_uri": "https://localhost:8080/",
          "height": 769
        },
        "outputId": "b53d2c96-8785-42da-cdd9-3c471f960968"
      },
      "source": [
        "import pandas as pd\n",
        "from pandas_datareader import data as web\n",
        "import plotly.graph_objects as go\n",
        "\n",
        "stock = input(\"Please enter a name: \")\n",
        "\n",
        "\n",
        "#stock = 'ISP.MI'\n",
        "df = web.DataReader(stock, data_source='yahoo', start='01-01-2020')\n",
        "df['Ticker']=stock\n",
        "\n",
        "trace1 = {\n",
        "    'x': df.index,\n",
        "    'open': df.Open,\n",
        "    'close': df.Close,\n",
        "    'high': df.High,\n",
        "    'low': df.Low,\n",
        "    'type': 'candlestick',\n",
        "    'name': stock,\n",
        "    'showlegend': True\n",
        "}\n",
        "\n",
        "data1 = [trace1]\n",
        "# Config graph layout\n",
        "layout1 = go.Layout({\n",
        "    'title': {\n",
        "        'text': 'Microsoft(MSFT) Moving Averages',\n",
        "        'font': {\n",
        "            'size': 15\n",
        "        }\n",
        "    }\n",
        "})\n",
        "\n",
        "\n",
        "fig = go.Figure(data=data1, layout=layout1)\n",
        "fig.write_html(\"Microsoft(MSFT) Moving Averages.html\")\n",
        "fig.show()  \n",
        "\n",
        "df.head()\n"
      ],
      "execution_count": 12,
      "outputs": [
        {
          "output_type": "stream",
          "text": [
            "Please enter a name: tsla\n"
          ],
          "name": "stdout"
        },
        {
          "output_type": "display_data",
          "data": {
            "text/html": [
              "<html>\n",
              "<head><meta charset=\"utf-8\" /></head>\n",
              "<body>\n",
              "    <div>\n",
              "            <script src=\"https://cdnjs.cloudflare.com/ajax/libs/mathjax/2.7.5/MathJax.js?config=TeX-AMS-MML_SVG\"></script><script type=\"text/javascript\">if (window.MathJax) {MathJax.Hub.Config({SVG: {font: \"STIX-Web\"}});}</script>\n",
              "                <script type=\"text/javascript\">window.PlotlyConfig = {MathJaxConfig: 'local'};</script>\n",
              "        <script src=\"https://cdn.plot.ly/plotly-latest.min.js\"></script>    \n",
              "            <div id=\"332b3d1b-16f7-477a-8e4a-7e82eb0d73cc\" class=\"plotly-graph-div\" style=\"height:525px; width:100%;\"></div>\n",
              "            <script type=\"text/javascript\">\n",
              "                \n",
              "                    window.PLOTLYENV=window.PLOTLYENV || {};\n",
              "                    \n",
              "                if (document.getElementById(\"332b3d1b-16f7-477a-8e4a-7e82eb0d73cc\")) {\n",
              "                    Plotly.newPlot(\n",
              "                        '332b3d1b-16f7-477a-8e4a-7e82eb0d73cc',\n",
              "                        [{\"close\": [86.052001953125, 88.60199737548828, 90.30799865722656, 93.81199645996094, 98.4280014038086, 96.26799774169922, 95.62999725341797, 104.97200012207031, 107.58399963378906, 103.69999694824219, 102.697998046875, 102.0999984741211, 109.44000244140625, 113.91200256347656, 114.44000244140625, 112.96399688720703, 111.60399627685547, 113.37999725341797, 116.197998046875, 128.16200256347656, 130.11399841308594, 156.0, 177.41200256347656, 146.94000244140625, 149.79200744628906, 149.61399841308594, 154.25599670410156, 154.87600708007812, 153.45799255371094, 160.8000030517578, 160.00599670410156, 171.67999267578125, 183.48399353027344, 179.8820037841797, 180.1999969482422, 166.75799560546875, 159.98199462890625, 155.75999450683594, 135.8000030517578, 133.59800720214844, 148.7239990234375, 149.1020050048828, 149.89999389648438, 144.9080047607422, 140.6959991455078, 121.5999984741211, 129.0659942626953, 126.84600067138672, 112.11000061035156, 109.3239974975586, 89.01399993896484, 86.04000091552734, 72.24400329589844, 85.52799987792969, 85.50599670410156, 86.85800170898438, 101.0, 107.8499984741211, 105.63200378417969, 102.87200164794922, 100.4260025024414, 104.80000305175781, 96.31199645996094, 90.89399719238281, 96.00199890136719, 103.24800109863281, 109.08999633789062, 109.76799774169922, 114.5999984741211, 130.19000244140625, 141.97799682617188, 145.96600341796875, 149.04200744628906, 150.7779998779297, 149.27200317382812, 137.343994140625, 146.4219970703125, 141.12600708007812, 145.02999877929688, 159.75, 153.82400512695312, 160.1020050048828, 156.37600708007812, 140.26400756835938, 152.23800659179688, 153.64199829101562, 156.51600646972656, 156.00799560546875, 163.88400268554688, 162.25799560546875, 161.8820037841797, 158.19200134277344, 160.66600036621094, 159.83399963378906, 162.7259979248047, 161.6020050048828, 163.11199951171875, 165.52000427246094, 163.37600708007812, 163.7740020751953, 164.04600524902344, 161.16200256347656, 167.0, 179.6199951171875, 176.31199645996094, 176.5919952392578, 172.87600708007812, 177.1320037841797, 189.98399353027344, 188.13400268554688, 205.00999450683594, 194.5679931640625, 187.05599975585938, 198.17999267578125, 196.42599487304688, 198.35800170898438, 200.79200744628906, 200.17999267578125, 198.86399841308594, 200.3560028076172, 192.1699981689453, 197.1959991455078, 191.947998046875, 201.8699951171875, 215.96200561523438, 223.92599487304688, 241.73199462890625, 274.3160095214844, 277.97198486328125, 273.1759948730469, 278.8559875488281, 308.92999267578125, 299.4119873046875, 303.3599853515625, 309.2019958496094, 300.12799072265625, 300.1679992675781, 328.6000061035156, 313.6719970703125, 318.46600341796875, 302.614013671875, 283.3999938964844, 307.9200134277344, 295.2980041503906, 299.8219909667969, 297.49798583984375, 286.1520080566406, 297.0, 297.3999938964844, 297.0039978027344, 297.9159851074219, 290.5419921875, 283.7139892578125, 274.87799072265625, 310.9519958496094, 324.20001220703125, 330.1419982910156, 367.12799072265625, 377.4179992675781, 375.70599365234375, 400.3659973144531, 409.9960021972656, 402.8399963378906, 404.6679992675781, 430.6340026855469, 447.75, 442.67999267578125, 498.32000732421875, 475.04998779296875, 447.3699951171875, 407.0, 418.32000732421875, 330.2099914550781, 366.2799987792969, 371.3399963378906, 372.7200012207031], \"high\": [86.13999938964844, 90.80000305175781, 90.31199645996094, 94.32599639892578, 99.697998046875, 99.76000213623047, 96.98799896240234, 105.1259994506836, 109.48200225830078, 107.56800079345703, 102.89199829101562, 103.13400268554688, 109.71600341796875, 118.9000015258789, 116.4000015258789, 114.77200317382812, 112.88800048828125, 115.36199951171875, 117.95999908447266, 130.17599487304688, 130.60000610351562, 157.22799682617188, 193.79800415039062, 169.1959991455078, 159.16600036621094, 153.9499969482422, 163.9980010986328, 156.70199584960938, 157.9499969482422, 163.60000610351562, 162.593994140625, 172.0, 188.95599365234375, 182.39999389648438, 182.61199951171875, 172.6999969482422, 171.32000732421875, 162.66200256347656, 147.95399475097656, 138.10400390625, 148.73800659179688, 161.39599609375, 153.3040008544922, 149.14999389648438, 141.39999389648438, 132.60000610351562, 133.60000610351562, 130.71600341796875, 118.9000015258789, 121.51399993896484, 98.9739990234375, 94.37000274658203, 80.97200012207031, 90.4000015258789, 95.4000015258789, 88.4000015258789, 102.73799896240234, 111.4000015258789, 112.0, 105.16000366210938, 103.33000183105469, 108.59200286865234, 102.79000091552734, 98.85199737548828, 103.0979995727539, 104.19999694824219, 113.0, 111.44200134277344, 115.03600311279297, 130.39999389648438, 148.37600708007812, 150.62600708007812, 151.88999938964844, 154.99000549316406, 153.11399841308594, 150.66600036621094, 146.8000030517578, 146.8000030517578, 146.14599609375, 159.8979949951172, 161.0, 160.63999938964844, 173.96400451660156, 154.5540008544922, 152.39999389648438, 159.78399658203125, 157.9600067138672, 159.27999877929688, 164.8000030517578, 164.8000030517578, 168.6580047607422, 165.1999969482422, 160.6719970703125, 161.00999450683594, 166.94400024414062, 164.41400146484375, 165.1999969482422, 166.5, 166.3560028076172, 166.9199981689453, 165.54200744628906, 164.9499969482422, 167.0, 179.8000030517578, 181.73199462890625, 179.58799743652344, 179.14999389648438, 177.3040008544922, 190.0, 190.88800048828125, 205.49600219726562, 203.79200744628906, 197.5959930419922, 199.76800537109375, 202.5760040283203, 201.0, 203.83999633789062, 203.19400024414062, 201.7760009765625, 202.39999389648438, 200.17599487304688, 197.1959991455078, 199.0, 202.0, 217.53799438476562, 227.0659942626953, 245.60000610351562, 275.5580139160156, 285.8999938964844, 283.4519958496094, 281.7120056152344, 309.78399658203125, 358.99798583984375, 318.0, 310.0, 306.3420104980469, 307.50201416015625, 330.0, 335.0, 325.28399658203125, 337.79998779296875, 293.0, 309.5880126953125, 312.94000244140625, 306.9620056152344, 302.64801025390625, 303.4100036621094, 301.9620056152344, 305.48199462890625, 299.9679870605469, 303.4620056152344, 299.95001220703125, 291.5, 284.0, 317.0, 330.2359924316406, 333.760009765625, 369.1719970703125, 384.7799987792969, 382.20001220703125, 404.39801025390625, 419.0979919433594, 425.79998779296875, 405.5899963378906, 433.20001220703125, 459.1199951171875, 463.697998046875, 500.1400146484375, 502.489990234375, 479.0400085449219, 431.79998779296875, 428.0, 368.739990234375, 369.0, 398.989990234375, 382.5], \"low\": [84.34200286865234, 87.38400268554688, 88.0, 90.6719970703125, 93.64600372314453, 94.5739974975586, 94.73999786376953, 98.4000015258789, 104.9800033569336, 103.35800170898438, 98.43399810791016, 100.63200378417969, 105.68199920654297, 111.81999969482422, 111.12000274658203, 110.85199737548828, 107.85600280761719, 111.61599731445312, 113.48600006103516, 123.5999984741211, 126.50399780273438, 134.70399475097656, 166.7760009765625, 140.82200622558594, 137.39999389648438, 146.0, 150.47999572753906, 151.60000610351562, 152.6739959716797, 147.0, 157.10000610351562, 166.4720001220703, 180.20399475097656, 171.98800659179688, 176.08999633789062, 164.44000244140625, 157.39999389648438, 155.2220001220703, 133.8000030517578, 122.30400085449219, 137.33399963378906, 143.2220001220703, 144.9459991455078, 143.61399841308594, 136.85400390625, 121.0, 121.5999984741211, 122.5999984741211, 109.25, 100.4000015258789, 88.43399810791016, 79.19999694824219, 70.10199737548828, 71.69200134277344, 85.15799713134766, 82.0999984741211, 94.80000305175781, 102.22200012207031, 102.44999694824219, 98.80599975585938, 98.24600219726562, 99.4000015258789, 95.0199966430664, 89.27999877929688, 93.6780014038086, 99.59200286865234, 106.46800231933594, 106.66600036621094, 111.4219970703125, 116.10600280761719, 138.48599243164062, 142.0, 141.343994140625, 149.53199768066406, 142.44200134277344, 134.75799560546875, 137.74200439453125, 140.62600708007812, 139.63600158691406, 147.0, 151.33799743652344, 156.6320037841797, 152.6999969482422, 136.60800170898438, 139.60000610351562, 152.43600463867188, 152.2220001220703, 154.47000122070312, 157.40199279785156, 157.0, 161.60000610351562, 152.66000366210938, 152.8000030517578, 157.30999755859375, 160.7760009765625, 161.21600341796875, 162.36000061035156, 159.1999969482422, 162.39999389648438, 163.14199829101562, 157.0, 160.33799743652344, 160.8419952392578, 170.82000732421875, 174.1999969482422, 176.02000427246094, 171.68800354003906, 173.24000549316406, 181.83200073242188, 184.78599548339844, 196.5, 194.39999389648438, 182.52000427246094, 181.6999969482422, 192.47799682617188, 196.51400756835938, 198.8939971923828, 198.26800537109375, 198.00399780273438, 198.802001953125, 190.6280059814453, 187.42999267578125, 190.9739990234375, 189.70399475097656, 200.74600219726562, 216.10000610351562, 237.1199951171875, 253.20799255371094, 267.3420104980469, 262.26800537109375, 270.2560119628906, 275.2019958496094, 294.22198486328125, 286.20001220703125, 291.3999938964844, 293.20001220703125, 298.0, 297.6000061035156, 311.6000061035156, 312.3999938964844, 296.15399169921875, 273.3080139160156, 282.6000061035156, 294.8840026855469, 297.3999938964844, 294.20001220703125, 284.1960144042969, 288.8760070800781, 292.3999938964844, 293.6619873046875, 295.4519958496094, 283.00201416015625, 277.1679992675781, 273.0, 287.0, 313.4519958496094, 325.3280029296875, 334.5660095214844, 369.0220031738281, 368.24200439453125, 371.4119873046875, 405.010009765625, 385.5039978027344, 393.6000061035156, 410.72601318359375, 428.5, 437.3039855957031, 440.1099853515625, 470.510009765625, 405.1199951171875, 402.0, 372.0199890136719, 329.8800048828125, 341.510009765625, 360.55999755859375, 360.5], \"name\": \"tsla\", \"open\": [84.9000015258789, 88.0999984741211, 88.09400177001953, 92.27999877929688, 94.73999786376953, 99.41999816894531, 96.35800170898438, 98.69999694824219, 108.85199737548828, 105.9520034790039, 98.75, 101.52200317382812, 106.05000305175781, 114.37799835205078, 112.8499984741211, 114.1259994506836, 108.39800262451172, 113.697998046875, 115.13800048828125, 126.48400115966797, 128.0, 134.73800659179688, 176.5919952392578, 164.65199279785156, 139.98399353027344, 146.11000061035156, 160.0, 153.75799560546875, 155.57400512695312, 148.3679962158203, 157.44400024414062, 168.32000732421875, 184.6999969482422, 182.38999938964844, 181.39599609375, 167.8000030517578, 169.8000030517578, 156.5, 146.0, 125.94000244140625, 142.2519989013672, 161.0, 152.79200744628906, 144.75399780273438, 138.0, 121.0780029296875, 131.88600158691406, 128.0399932861328, 116.1780014038086, 119.0, 93.9000015258789, 88.00199890136719, 77.80000305175781, 74.94000244140625, 87.63999938964844, 86.72000122070312, 95.45999908447266, 109.05000305175781, 109.47799682617188, 101.0, 102.052001953125, 100.25, 100.80000305175781, 96.20600128173828, 101.9000015258789, 102.23999786376953, 109.0, 110.83999633789062, 112.41799926757812, 118.03199768066406, 139.79400634765625, 148.39999389648438, 143.38800048828125, 154.45599365234375, 146.5399932861328, 146.0240020751953, 140.79600524902344, 145.52000427246094, 142.16200256347656, 147.52200317382812, 159.1280059814453, 158.03399658203125, 171.03799438476562, 151.0, 140.1999969482422, 157.95799255371094, 155.3000030517578, 155.44200134277344, 158.75399780273438, 158.1020050048828, 165.39999389648438, 164.16600036621094, 156.0, 158.07000732421875, 165.55599975585938, 163.03399658203125, 164.10000610351562, 163.1999969482422, 164.4340057373047, 166.89999389648438, 164.1719970703125, 162.70199584960938, 161.75, 171.60000610351562, 178.94000244140625, 177.62399291992188, 177.9759979248047, 175.5679931640625, 183.8000030517578, 188.0019989013672, 198.37600708007812, 198.0399932861328, 196.0, 183.55799865722656, 202.3699951171875, 197.54200744628906, 200.60000610351562, 202.55599975585938, 199.99000549316406, 199.7760009765625, 198.82200622558594, 190.85400390625, 198.95599365234375, 193.802001953125, 201.3000030517578, 216.60000610351562, 244.29600524902344, 255.33799743652344, 281.00201416015625, 281.0, 279.39801025390625, 279.20001220703125, 331.79998779296875, 311.20001220703125, 308.6000061035156, 295.4320068359375, 302.69000244140625, 303.802001953125, 327.9859924316406, 319.79998779296875, 335.7900085449219, 283.2019958496094, 287.0, 300.79998779296875, 300.20001220703125, 297.6000061035156, 303.0, 289.8399963378906, 299.00201416015625, 298.5979919433594, 298.1659851074219, 299.9079895019531, 289.6000061035156, 279.20001220703125, 294.0, 322.20001220703125, 332.99798583984375, 335.3999938964844, 379.7980041503906, 373.0, 372.135986328125, 408.9519958496094, 425.2560119628906, 394.9779968261719, 412.0, 436.0920104980469, 459.02398681640625, 444.6099853515625, 502.1400146484375, 478.989990234375, 407.2300109863281, 402.80999755859375, 356.0, 356.6000061035156, 386.2099914550781, 381.94000244140625], \"showlegend\": true, \"type\": \"candlestick\", \"x\": [\"2020-01-02T00:00:00\", \"2020-01-03T00:00:00\", \"2020-01-06T00:00:00\", \"2020-01-07T00:00:00\", \"2020-01-08T00:00:00\", \"2020-01-09T00:00:00\", \"2020-01-10T00:00:00\", \"2020-01-13T00:00:00\", \"2020-01-14T00:00:00\", \"2020-01-15T00:00:00\", \"2020-01-16T00:00:00\", \"2020-01-17T00:00:00\", \"2020-01-21T00:00:00\", \"2020-01-22T00:00:00\", \"2020-01-23T00:00:00\", \"2020-01-24T00:00:00\", \"2020-01-27T00:00:00\", \"2020-01-28T00:00:00\", \"2020-01-29T00:00:00\", \"2020-01-30T00:00:00\", \"2020-01-31T00:00:00\", \"2020-02-03T00:00:00\", \"2020-02-04T00:00:00\", \"2020-02-05T00:00:00\", \"2020-02-06T00:00:00\", \"2020-02-07T00:00:00\", \"2020-02-10T00:00:00\", \"2020-02-11T00:00:00\", \"2020-02-12T00:00:00\", \"2020-02-13T00:00:00\", \"2020-02-14T00:00:00\", \"2020-02-18T00:00:00\", \"2020-02-19T00:00:00\", \"2020-02-20T00:00:00\", \"2020-02-21T00:00:00\", \"2020-02-24T00:00:00\", \"2020-02-25T00:00:00\", \"2020-02-26T00:00:00\", \"2020-02-27T00:00:00\", \"2020-02-28T00:00:00\", \"2020-03-02T00:00:00\", \"2020-03-03T00:00:00\", \"2020-03-04T00:00:00\", \"2020-03-05T00:00:00\", \"2020-03-06T00:00:00\", \"2020-03-09T00:00:00\", \"2020-03-10T00:00:00\", \"2020-03-11T00:00:00\", \"2020-03-12T00:00:00\", \"2020-03-13T00:00:00\", \"2020-03-16T00:00:00\", \"2020-03-17T00:00:00\", \"2020-03-18T00:00:00\", \"2020-03-19T00:00:00\", \"2020-03-20T00:00:00\", \"2020-03-23T00:00:00\", \"2020-03-24T00:00:00\", \"2020-03-25T00:00:00\", \"2020-03-26T00:00:00\", \"2020-03-27T00:00:00\", \"2020-03-30T00:00:00\", \"2020-03-31T00:00:00\", \"2020-04-01T00:00:00\", \"2020-04-02T00:00:00\", \"2020-04-03T00:00:00\", \"2020-04-06T00:00:00\", \"2020-04-07T00:00:00\", \"2020-04-08T00:00:00\", \"2020-04-09T00:00:00\", \"2020-04-13T00:00:00\", \"2020-04-14T00:00:00\", \"2020-04-15T00:00:00\", \"2020-04-16T00:00:00\", \"2020-04-17T00:00:00\", \"2020-04-20T00:00:00\", \"2020-04-21T00:00:00\", \"2020-04-22T00:00:00\", \"2020-04-23T00:00:00\", \"2020-04-24T00:00:00\", \"2020-04-27T00:00:00\", \"2020-04-28T00:00:00\", \"2020-04-29T00:00:00\", \"2020-04-30T00:00:00\", \"2020-05-01T00:00:00\", \"2020-05-04T00:00:00\", \"2020-05-05T00:00:00\", \"2020-05-06T00:00:00\", \"2020-05-07T00:00:00\", \"2020-05-08T00:00:00\", \"2020-05-11T00:00:00\", \"2020-05-12T00:00:00\", \"2020-05-13T00:00:00\", \"2020-05-14T00:00:00\", \"2020-05-15T00:00:00\", \"2020-05-18T00:00:00\", \"2020-05-19T00:00:00\", \"2020-05-20T00:00:00\", \"2020-05-21T00:00:00\", \"2020-05-22T00:00:00\", \"2020-05-26T00:00:00\", \"2020-05-27T00:00:00\", \"2020-05-28T00:00:00\", \"2020-05-29T00:00:00\", \"2020-06-01T00:00:00\", \"2020-06-02T00:00:00\", \"2020-06-03T00:00:00\", \"2020-06-04T00:00:00\", \"2020-06-05T00:00:00\", \"2020-06-08T00:00:00\", \"2020-06-09T00:00:00\", \"2020-06-10T00:00:00\", \"2020-06-11T00:00:00\", \"2020-06-12T00:00:00\", \"2020-06-15T00:00:00\", \"2020-06-16T00:00:00\", \"2020-06-17T00:00:00\", \"2020-06-18T00:00:00\", \"2020-06-19T00:00:00\", \"2020-06-22T00:00:00\", \"2020-06-23T00:00:00\", \"2020-06-24T00:00:00\", \"2020-06-25T00:00:00\", \"2020-06-26T00:00:00\", \"2020-06-29T00:00:00\", \"2020-06-30T00:00:00\", \"2020-07-01T00:00:00\", \"2020-07-02T00:00:00\", \"2020-07-06T00:00:00\", \"2020-07-07T00:00:00\", \"2020-07-08T00:00:00\", \"2020-07-09T00:00:00\", \"2020-07-10T00:00:00\", \"2020-07-13T00:00:00\", \"2020-07-14T00:00:00\", \"2020-07-15T00:00:00\", \"2020-07-16T00:00:00\", \"2020-07-17T00:00:00\", \"2020-07-20T00:00:00\", \"2020-07-21T00:00:00\", \"2020-07-22T00:00:00\", \"2020-07-23T00:00:00\", \"2020-07-24T00:00:00\", \"2020-07-27T00:00:00\", \"2020-07-28T00:00:00\", \"2020-07-29T00:00:00\", \"2020-07-30T00:00:00\", \"2020-07-31T00:00:00\", \"2020-08-03T00:00:00\", \"2020-08-04T00:00:00\", \"2020-08-05T00:00:00\", \"2020-08-06T00:00:00\", \"2020-08-07T00:00:00\", \"2020-08-10T00:00:00\", \"2020-08-11T00:00:00\", \"2020-08-12T00:00:00\", \"2020-08-13T00:00:00\", \"2020-08-14T00:00:00\", \"2020-08-17T00:00:00\", \"2020-08-18T00:00:00\", \"2020-08-19T00:00:00\", \"2020-08-20T00:00:00\", \"2020-08-21T00:00:00\", \"2020-08-24T00:00:00\", \"2020-08-25T00:00:00\", \"2020-08-26T00:00:00\", \"2020-08-27T00:00:00\", \"2020-08-28T00:00:00\", \"2020-08-31T00:00:00\", \"2020-09-01T00:00:00\", \"2020-09-02T00:00:00\", \"2020-09-03T00:00:00\", \"2020-09-04T00:00:00\", \"2020-09-08T00:00:00\", \"2020-09-09T00:00:00\", \"2020-09-10T00:00:00\", \"2020-09-11T00:00:00\"]}],\n",
              "                        {\"template\": {\"data\": {\"bar\": [{\"error_x\": {\"color\": \"#2a3f5f\"}, \"error_y\": {\"color\": \"#2a3f5f\"}, \"marker\": {\"line\": {\"color\": \"#E5ECF6\", \"width\": 0.5}}, \"type\": \"bar\"}], \"barpolar\": [{\"marker\": {\"line\": {\"color\": \"#E5ECF6\", \"width\": 0.5}}, \"type\": \"barpolar\"}], \"carpet\": [{\"aaxis\": {\"endlinecolor\": \"#2a3f5f\", \"gridcolor\": \"white\", \"linecolor\": \"white\", \"minorgridcolor\": \"white\", \"startlinecolor\": \"#2a3f5f\"}, \"baxis\": {\"endlinecolor\": \"#2a3f5f\", \"gridcolor\": \"white\", \"linecolor\": \"white\", \"minorgridcolor\": \"white\", \"startlinecolor\": \"#2a3f5f\"}, \"type\": \"carpet\"}], \"choropleth\": [{\"colorbar\": {\"outlinewidth\": 0, \"ticks\": \"\"}, \"type\": \"choropleth\"}], \"contour\": [{\"colorbar\": {\"outlinewidth\": 0, \"ticks\": \"\"}, \"colorscale\": [[0.0, \"#0d0887\"], [0.1111111111111111, \"#46039f\"], [0.2222222222222222, \"#7201a8\"], [0.3333333333333333, \"#9c179e\"], [0.4444444444444444, \"#bd3786\"], [0.5555555555555556, \"#d8576b\"], [0.6666666666666666, \"#ed7953\"], [0.7777777777777778, \"#fb9f3a\"], [0.8888888888888888, \"#fdca26\"], [1.0, \"#f0f921\"]], \"type\": \"contour\"}], \"contourcarpet\": [{\"colorbar\": {\"outlinewidth\": 0, \"ticks\": \"\"}, \"type\": \"contourcarpet\"}], \"heatmap\": [{\"colorbar\": {\"outlinewidth\": 0, \"ticks\": \"\"}, \"colorscale\": [[0.0, \"#0d0887\"], [0.1111111111111111, \"#46039f\"], [0.2222222222222222, \"#7201a8\"], [0.3333333333333333, \"#9c179e\"], [0.4444444444444444, \"#bd3786\"], [0.5555555555555556, \"#d8576b\"], [0.6666666666666666, \"#ed7953\"], [0.7777777777777778, \"#fb9f3a\"], [0.8888888888888888, \"#fdca26\"], [1.0, \"#f0f921\"]], \"type\": \"heatmap\"}], \"heatmapgl\": [{\"colorbar\": {\"outlinewidth\": 0, \"ticks\": \"\"}, \"colorscale\": [[0.0, \"#0d0887\"], [0.1111111111111111, \"#46039f\"], [0.2222222222222222, \"#7201a8\"], [0.3333333333333333, \"#9c179e\"], [0.4444444444444444, \"#bd3786\"], [0.5555555555555556, \"#d8576b\"], [0.6666666666666666, \"#ed7953\"], [0.7777777777777778, \"#fb9f3a\"], [0.8888888888888888, \"#fdca26\"], [1.0, \"#f0f921\"]], \"type\": \"heatmapgl\"}], \"histogram\": [{\"marker\": {\"colorbar\": {\"outlinewidth\": 0, \"ticks\": \"\"}}, \"type\": \"histogram\"}], \"histogram2d\": [{\"colorbar\": {\"outlinewidth\": 0, \"ticks\": \"\"}, \"colorscale\": [[0.0, \"#0d0887\"], [0.1111111111111111, \"#46039f\"], [0.2222222222222222, \"#7201a8\"], [0.3333333333333333, \"#9c179e\"], [0.4444444444444444, \"#bd3786\"], [0.5555555555555556, \"#d8576b\"], [0.6666666666666666, \"#ed7953\"], [0.7777777777777778, \"#fb9f3a\"], [0.8888888888888888, \"#fdca26\"], [1.0, \"#f0f921\"]], \"type\": \"histogram2d\"}], \"histogram2dcontour\": [{\"colorbar\": {\"outlinewidth\": 0, \"ticks\": \"\"}, \"colorscale\": [[0.0, \"#0d0887\"], [0.1111111111111111, \"#46039f\"], [0.2222222222222222, \"#7201a8\"], [0.3333333333333333, \"#9c179e\"], [0.4444444444444444, \"#bd3786\"], [0.5555555555555556, \"#d8576b\"], [0.6666666666666666, \"#ed7953\"], [0.7777777777777778, \"#fb9f3a\"], [0.8888888888888888, \"#fdca26\"], [1.0, \"#f0f921\"]], \"type\": \"histogram2dcontour\"}], \"mesh3d\": [{\"colorbar\": {\"outlinewidth\": 0, \"ticks\": \"\"}, \"type\": \"mesh3d\"}], \"parcoords\": [{\"line\": {\"colorbar\": {\"outlinewidth\": 0, \"ticks\": \"\"}}, \"type\": \"parcoords\"}], \"pie\": [{\"automargin\": true, \"type\": \"pie\"}], \"scatter\": [{\"marker\": {\"colorbar\": {\"outlinewidth\": 0, \"ticks\": \"\"}}, \"type\": \"scatter\"}], \"scatter3d\": [{\"line\": {\"colorbar\": {\"outlinewidth\": 0, \"ticks\": \"\"}}, \"marker\": {\"colorbar\": {\"outlinewidth\": 0, \"ticks\": \"\"}}, \"type\": \"scatter3d\"}], \"scattercarpet\": [{\"marker\": {\"colorbar\": {\"outlinewidth\": 0, \"ticks\": \"\"}}, \"type\": \"scattercarpet\"}], \"scattergeo\": [{\"marker\": {\"colorbar\": {\"outlinewidth\": 0, \"ticks\": \"\"}}, \"type\": \"scattergeo\"}], \"scattergl\": [{\"marker\": {\"colorbar\": {\"outlinewidth\": 0, \"ticks\": \"\"}}, \"type\": \"scattergl\"}], \"scattermapbox\": [{\"marker\": {\"colorbar\": {\"outlinewidth\": 0, \"ticks\": \"\"}}, \"type\": \"scattermapbox\"}], \"scatterpolar\": [{\"marker\": {\"colorbar\": {\"outlinewidth\": 0, \"ticks\": \"\"}}, \"type\": \"scatterpolar\"}], \"scatterpolargl\": [{\"marker\": {\"colorbar\": {\"outlinewidth\": 0, \"ticks\": \"\"}}, \"type\": \"scatterpolargl\"}], \"scatterternary\": [{\"marker\": {\"colorbar\": {\"outlinewidth\": 0, \"ticks\": \"\"}}, \"type\": \"scatterternary\"}], \"surface\": [{\"colorbar\": {\"outlinewidth\": 0, \"ticks\": \"\"}, \"colorscale\": [[0.0, \"#0d0887\"], [0.1111111111111111, \"#46039f\"], [0.2222222222222222, \"#7201a8\"], [0.3333333333333333, \"#9c179e\"], [0.4444444444444444, \"#bd3786\"], [0.5555555555555556, \"#d8576b\"], [0.6666666666666666, \"#ed7953\"], [0.7777777777777778, \"#fb9f3a\"], [0.8888888888888888, \"#fdca26\"], [1.0, \"#f0f921\"]], \"type\": \"surface\"}], \"table\": [{\"cells\": {\"fill\": {\"color\": \"#EBF0F8\"}, \"line\": {\"color\": \"white\"}}, \"header\": {\"fill\": {\"color\": \"#C8D4E3\"}, \"line\": {\"color\": \"white\"}}, \"type\": \"table\"}]}, \"layout\": {\"annotationdefaults\": {\"arrowcolor\": \"#2a3f5f\", \"arrowhead\": 0, \"arrowwidth\": 1}, \"coloraxis\": {\"colorbar\": {\"outlinewidth\": 0, \"ticks\": \"\"}}, \"colorscale\": {\"diverging\": [[0, \"#8e0152\"], [0.1, \"#c51b7d\"], [0.2, \"#de77ae\"], [0.3, \"#f1b6da\"], [0.4, \"#fde0ef\"], [0.5, \"#f7f7f7\"], [0.6, \"#e6f5d0\"], [0.7, \"#b8e186\"], [0.8, \"#7fbc41\"], [0.9, \"#4d9221\"], [1, \"#276419\"]], \"sequential\": [[0.0, \"#0d0887\"], [0.1111111111111111, \"#46039f\"], [0.2222222222222222, \"#7201a8\"], [0.3333333333333333, \"#9c179e\"], [0.4444444444444444, \"#bd3786\"], [0.5555555555555556, \"#d8576b\"], [0.6666666666666666, \"#ed7953\"], [0.7777777777777778, \"#fb9f3a\"], [0.8888888888888888, \"#fdca26\"], [1.0, \"#f0f921\"]], \"sequentialminus\": [[0.0, \"#0d0887\"], [0.1111111111111111, \"#46039f\"], [0.2222222222222222, \"#7201a8\"], [0.3333333333333333, \"#9c179e\"], [0.4444444444444444, \"#bd3786\"], [0.5555555555555556, \"#d8576b\"], [0.6666666666666666, \"#ed7953\"], [0.7777777777777778, \"#fb9f3a\"], [0.8888888888888888, \"#fdca26\"], [1.0, \"#f0f921\"]]}, \"colorway\": [\"#636efa\", \"#EF553B\", \"#00cc96\", \"#ab63fa\", \"#FFA15A\", \"#19d3f3\", \"#FF6692\", \"#B6E880\", \"#FF97FF\", \"#FECB52\"], \"font\": {\"color\": \"#2a3f5f\"}, \"geo\": {\"bgcolor\": \"white\", \"lakecolor\": \"white\", \"landcolor\": \"#E5ECF6\", \"showlakes\": true, \"showland\": true, \"subunitcolor\": \"white\"}, \"hoverlabel\": {\"align\": \"left\"}, \"hovermode\": \"closest\", \"mapbox\": {\"style\": \"light\"}, \"paper_bgcolor\": \"white\", \"plot_bgcolor\": \"#E5ECF6\", \"polar\": {\"angularaxis\": {\"gridcolor\": \"white\", \"linecolor\": \"white\", \"ticks\": \"\"}, \"bgcolor\": \"#E5ECF6\", \"radialaxis\": {\"gridcolor\": \"white\", \"linecolor\": \"white\", \"ticks\": \"\"}}, \"scene\": {\"xaxis\": {\"backgroundcolor\": \"#E5ECF6\", \"gridcolor\": \"white\", \"gridwidth\": 2, \"linecolor\": \"white\", \"showbackground\": true, \"ticks\": \"\", \"zerolinecolor\": \"white\"}, \"yaxis\": {\"backgroundcolor\": \"#E5ECF6\", \"gridcolor\": \"white\", \"gridwidth\": 2, \"linecolor\": \"white\", \"showbackground\": true, \"ticks\": \"\", \"zerolinecolor\": \"white\"}, \"zaxis\": {\"backgroundcolor\": \"#E5ECF6\", \"gridcolor\": \"white\", \"gridwidth\": 2, \"linecolor\": \"white\", \"showbackground\": true, \"ticks\": \"\", \"zerolinecolor\": \"white\"}}, \"shapedefaults\": {\"line\": {\"color\": \"#2a3f5f\"}}, \"ternary\": {\"aaxis\": {\"gridcolor\": \"white\", \"linecolor\": \"white\", \"ticks\": \"\"}, \"baxis\": {\"gridcolor\": \"white\", \"linecolor\": \"white\", \"ticks\": \"\"}, \"bgcolor\": \"#E5ECF6\", \"caxis\": {\"gridcolor\": \"white\", \"linecolor\": \"white\", \"ticks\": \"\"}}, \"title\": {\"x\": 0.05}, \"xaxis\": {\"automargin\": true, \"gridcolor\": \"white\", \"linecolor\": \"white\", \"ticks\": \"\", \"title\": {\"standoff\": 15}, \"zerolinecolor\": \"white\", \"zerolinewidth\": 2}, \"yaxis\": {\"automargin\": true, \"gridcolor\": \"white\", \"linecolor\": \"white\", \"ticks\": \"\", \"title\": {\"standoff\": 15}, \"zerolinecolor\": \"white\", \"zerolinewidth\": 2}}}, \"title\": {\"font\": {\"size\": 15}, \"text\": \"Microsoft(MSFT) Moving Averages\"}},\n",
              "                        {\"responsive\": true}\n",
              "                    ).then(function(){\n",
              "                            \n",
              "var gd = document.getElementById('332b3d1b-16f7-477a-8e4a-7e82eb0d73cc');\n",
              "var x = new MutationObserver(function (mutations, observer) {{\n",
              "        var display = window.getComputedStyle(gd).display;\n",
              "        if (!display || display === 'none') {{\n",
              "            console.log([gd, 'removed!']);\n",
              "            Plotly.purge(gd);\n",
              "            observer.disconnect();\n",
              "        }}\n",
              "}});\n",
              "\n",
              "// Listen for the removal of the full notebook cells\n",
              "var notebookContainer = gd.closest('#notebook-container');\n",
              "if (notebookContainer) {{\n",
              "    x.observe(notebookContainer, {childList: true});\n",
              "}}\n",
              "\n",
              "// Listen for the clearing of the current output cell\n",
              "var outputEl = gd.closest('.output');\n",
              "if (outputEl) {{\n",
              "    x.observe(outputEl, {childList: true});\n",
              "}}\n",
              "\n",
              "                        })\n",
              "                };\n",
              "                \n",
              "            </script>\n",
              "        </div>\n",
              "</body>\n",
              "</html>"
            ]
          },
          "metadata": {
            "tags": []
          }
        },
        {
          "output_type": "execute_result",
          "data": {
            "text/html": [
              "<div>\n",
              "<style scoped>\n",
              "    .dataframe tbody tr th:only-of-type {\n",
              "        vertical-align: middle;\n",
              "    }\n",
              "\n",
              "    .dataframe tbody tr th {\n",
              "        vertical-align: top;\n",
              "    }\n",
              "\n",
              "    .dataframe thead th {\n",
              "        text-align: right;\n",
              "    }\n",
              "</style>\n",
              "<table border=\"1\" class=\"dataframe\">\n",
              "  <thead>\n",
              "    <tr style=\"text-align: right;\">\n",
              "      <th></th>\n",
              "      <th>High</th>\n",
              "      <th>Low</th>\n",
              "      <th>Open</th>\n",
              "      <th>Close</th>\n",
              "      <th>Volume</th>\n",
              "      <th>Adj Close</th>\n",
              "      <th>Ticker</th>\n",
              "    </tr>\n",
              "    <tr>\n",
              "      <th>Date</th>\n",
              "      <th></th>\n",
              "      <th></th>\n",
              "      <th></th>\n",
              "      <th></th>\n",
              "      <th></th>\n",
              "      <th></th>\n",
              "      <th></th>\n",
              "    </tr>\n",
              "  </thead>\n",
              "  <tbody>\n",
              "    <tr>\n",
              "      <th>2020-01-02</th>\n",
              "      <td>86.139999</td>\n",
              "      <td>84.342003</td>\n",
              "      <td>84.900002</td>\n",
              "      <td>86.052002</td>\n",
              "      <td>47660500.0</td>\n",
              "      <td>86.052002</td>\n",
              "      <td>tsla</td>\n",
              "    </tr>\n",
              "    <tr>\n",
              "      <th>2020-01-03</th>\n",
              "      <td>90.800003</td>\n",
              "      <td>87.384003</td>\n",
              "      <td>88.099998</td>\n",
              "      <td>88.601997</td>\n",
              "      <td>88892500.0</td>\n",
              "      <td>88.601997</td>\n",
              "      <td>tsla</td>\n",
              "    </tr>\n",
              "    <tr>\n",
              "      <th>2020-01-06</th>\n",
              "      <td>90.311996</td>\n",
              "      <td>88.000000</td>\n",
              "      <td>88.094002</td>\n",
              "      <td>90.307999</td>\n",
              "      <td>50665000.0</td>\n",
              "      <td>90.307999</td>\n",
              "      <td>tsla</td>\n",
              "    </tr>\n",
              "    <tr>\n",
              "      <th>2020-01-07</th>\n",
              "      <td>94.325996</td>\n",
              "      <td>90.671997</td>\n",
              "      <td>92.279999</td>\n",
              "      <td>93.811996</td>\n",
              "      <td>89410500.0</td>\n",
              "      <td>93.811996</td>\n",
              "      <td>tsla</td>\n",
              "    </tr>\n",
              "    <tr>\n",
              "      <th>2020-01-08</th>\n",
              "      <td>99.697998</td>\n",
              "      <td>93.646004</td>\n",
              "      <td>94.739998</td>\n",
              "      <td>98.428001</td>\n",
              "      <td>155721500.0</td>\n",
              "      <td>98.428001</td>\n",
              "      <td>tsla</td>\n",
              "    </tr>\n",
              "  </tbody>\n",
              "</table>\n",
              "</div>"
            ],
            "text/plain": [
              "                 High        Low       Open  ...       Volume  Adj Close  Ticker\n",
              "Date                                         ...                                \n",
              "2020-01-02  86.139999  84.342003  84.900002  ...   47660500.0  86.052002    tsla\n",
              "2020-01-03  90.800003  87.384003  88.099998  ...   88892500.0  88.601997    tsla\n",
              "2020-01-06  90.311996  88.000000  88.094002  ...   50665000.0  90.307999    tsla\n",
              "2020-01-07  94.325996  90.671997  92.279999  ...   89410500.0  93.811996    tsla\n",
              "2020-01-08  99.697998  93.646004  94.739998  ...  155721500.0  98.428001    tsla\n",
              "\n",
              "[5 rows x 7 columns]"
            ]
          },
          "metadata": {
            "tags": []
          },
          "execution_count": 12
        }
      ]
    },
    {
      "cell_type": "code",
      "metadata": {
        "id": "DyEwaEUSnJSW",
        "colab_type": "code",
        "colab": {
          "base_uri": "https://localhost:8080/",
          "height": 227
        },
        "outputId": "1a0bf070-2b54-4960-dc24-b632ba2124ac"
      },
      "source": [
        "df.head()\n"
      ],
      "execution_count": 6,
      "outputs": [
        {
          "output_type": "execute_result",
          "data": {
            "text/html": [
              "<div>\n",
              "<style scoped>\n",
              "    .dataframe tbody tr th:only-of-type {\n",
              "        vertical-align: middle;\n",
              "    }\n",
              "\n",
              "    .dataframe tbody tr th {\n",
              "        vertical-align: top;\n",
              "    }\n",
              "\n",
              "    .dataframe thead th {\n",
              "        text-align: right;\n",
              "    }\n",
              "</style>\n",
              "<table border=\"1\" class=\"dataframe\">\n",
              "  <thead>\n",
              "    <tr style=\"text-align: right;\">\n",
              "      <th></th>\n",
              "      <th>High</th>\n",
              "      <th>Low</th>\n",
              "      <th>Open</th>\n",
              "      <th>Close</th>\n",
              "      <th>Volume</th>\n",
              "      <th>Adj Close</th>\n",
              "      <th>Ticker</th>\n",
              "    </tr>\n",
              "    <tr>\n",
              "      <th>Date</th>\n",
              "      <th></th>\n",
              "      <th></th>\n",
              "      <th></th>\n",
              "      <th></th>\n",
              "      <th></th>\n",
              "      <th></th>\n",
              "      <th></th>\n",
              "    </tr>\n",
              "  </thead>\n",
              "  <tbody>\n",
              "    <tr>\n",
              "      <th>2020-01-02</th>\n",
              "      <td>2.3840</td>\n",
              "      <td>2.3590</td>\n",
              "      <td>2.3675</td>\n",
              "      <td>2.3810</td>\n",
              "      <td>71760019.0</td>\n",
              "      <td>2.050640</td>\n",
              "      <td>ISP.MI</td>\n",
              "    </tr>\n",
              "    <tr>\n",
              "      <th>2020-01-03</th>\n",
              "      <td>2.3730</td>\n",
              "      <td>2.3370</td>\n",
              "      <td>2.3720</td>\n",
              "      <td>2.3495</td>\n",
              "      <td>86629018.0</td>\n",
              "      <td>2.023510</td>\n",
              "      <td>ISP.MI</td>\n",
              "    </tr>\n",
              "    <tr>\n",
              "      <th>2020-01-06</th>\n",
              "      <td>2.3430</td>\n",
              "      <td>2.2860</td>\n",
              "      <td>2.3265</td>\n",
              "      <td>2.3400</td>\n",
              "      <td>86463465.0</td>\n",
              "      <td>2.015329</td>\n",
              "      <td>ISP.MI</td>\n",
              "    </tr>\n",
              "    <tr>\n",
              "      <th>2020-01-07</th>\n",
              "      <td>2.3585</td>\n",
              "      <td>2.3340</td>\n",
              "      <td>2.3500</td>\n",
              "      <td>2.3450</td>\n",
              "      <td>62600412.0</td>\n",
              "      <td>2.019635</td>\n",
              "      <td>ISP.MI</td>\n",
              "    </tr>\n",
              "    <tr>\n",
              "      <th>2020-01-08</th>\n",
              "      <td>2.3600</td>\n",
              "      <td>2.3155</td>\n",
              "      <td>2.3225</td>\n",
              "      <td>2.3380</td>\n",
              "      <td>97035178.0</td>\n",
              "      <td>2.013606</td>\n",
              "      <td>ISP.MI</td>\n",
              "    </tr>\n",
              "  </tbody>\n",
              "</table>\n",
              "</div>"
            ],
            "text/plain": [
              "              High     Low    Open   Close      Volume  Adj Close  Ticker\n",
              "Date                                                                     \n",
              "2020-01-02  2.3840  2.3590  2.3675  2.3810  71760019.0   2.050640  ISP.MI\n",
              "2020-01-03  2.3730  2.3370  2.3720  2.3495  86629018.0   2.023510  ISP.MI\n",
              "2020-01-06  2.3430  2.2860  2.3265  2.3400  86463465.0   2.015329  ISP.MI\n",
              "2020-01-07  2.3585  2.3340  2.3500  2.3450  62600412.0   2.019635  ISP.MI\n",
              "2020-01-08  2.3600  2.3155  2.3225  2.3380  97035178.0   2.013606  ISP.MI"
            ]
          },
          "metadata": {
            "tags": []
          },
          "execution_count": 6
        }
      ]
    },
    {
      "cell_type": "code",
      "metadata": {
        "id": "kYlXgXj2nutO",
        "colab_type": "code",
        "colab": {
          "base_uri": "https://localhost:8080/",
          "height": 17
        },
        "outputId": "2407ba89-58d3-4c59-bf4c-9751ebcab9f3"
      },
      "source": [
        "from google.colab import files\n",
        "\n",
        "df.to_csv('test.csv')\n",
        "\n",
        "files.download(\"test.csv\")"
      ],
      "execution_count": null,
      "outputs": [
        {
          "output_type": "display_data",
          "data": {
            "application/javascript": [
              "\n",
              "    async function download(id, filename, size) {\n",
              "      if (!google.colab.kernel.accessAllowed) {\n",
              "        return;\n",
              "      }\n",
              "      const div = document.createElement('div');\n",
              "      const label = document.createElement('label');\n",
              "      label.textContent = `Downloading \"${filename}\": `;\n",
              "      div.appendChild(label);\n",
              "      const progress = document.createElement('progress');\n",
              "      progress.max = size;\n",
              "      div.appendChild(progress);\n",
              "      document.body.appendChild(div);\n",
              "\n",
              "      const buffers = [];\n",
              "      let downloaded = 0;\n",
              "\n",
              "      const channel = await google.colab.kernel.comms.open(id);\n",
              "      // Send a message to notify the kernel that we're ready.\n",
              "      channel.send({})\n",
              "\n",
              "      for await (const message of channel.messages) {\n",
              "        // Send a message to notify the kernel that we're ready.\n",
              "        channel.send({})\n",
              "        if (message.buffers) {\n",
              "          for (const buffer of message.buffers) {\n",
              "            buffers.push(buffer);\n",
              "            downloaded += buffer.byteLength;\n",
              "            progress.value = downloaded;\n",
              "          }\n",
              "        }\n",
              "      }\n",
              "      const blob = new Blob(buffers, {type: 'application/binary'});\n",
              "      const a = document.createElement('a');\n",
              "      a.href = window.URL.createObjectURL(blob);\n",
              "      a.download = filename;\n",
              "      div.appendChild(a);\n",
              "      a.click();\n",
              "      div.remove();\n",
              "    }\n",
              "  "
            ],
            "text/plain": [
              "<IPython.core.display.Javascript object>"
            ]
          },
          "metadata": {
            "tags": []
          }
        },
        {
          "output_type": "display_data",
          "data": {
            "application/javascript": [
              "download(\"download_485c05d6-8131-4cd5-b17e-962033129d7b\", \"test.csv\", 44313)"
            ],
            "text/plain": [
              "<IPython.core.display.Javascript object>"
            ]
          },
          "metadata": {
            "tags": []
          }
        }
      ]
    },
    {
      "cell_type": "code",
      "metadata": {
        "id": "oiStB7c0DNL0",
        "colab_type": "code",
        "colab": {
          "base_uri": "https://localhost:8080/",
          "height": 1000
        },
        "outputId": "0d87b5d2-a82e-4717-bce9-60dab98bb8cd"
      },
      "source": [
        "\"\"\"\n",
        "import yfinance as yf\n",
        "\n",
        "sbux = yf.Ticker(\"SBUX\")\n",
        "tlry = yf.Ticker(\"TLRY\")\n",
        "\n",
        "print(sbux.info['sector'])\n",
        "print(tlry.info['sector'])"
      ],
      "execution_count": null,
      "outputs": [
        {
          "output_type": "stream",
          "text": [
            "Collecting pandas-finance\n",
            "  Downloading https://files.pythonhosted.org/packages/59/57/3ed900df14e6f08a73c41535f1dbdd278ff06d123d0515c06d75ba129028/pandas_finance-0.1.2-py2.py3-none-any.whl\n",
            "Collecting requests-cache\n",
            "  Downloading https://files.pythonhosted.org/packages/7f/55/9b1c40eb83c16d8fc79c5f6c2ffade04208b080670fbfc35e0a5effb5a92/requests_cache-0.5.2-py2.py3-none-any.whl\n",
            "Requirement already satisfied: pandas-datareader>=0.2.2 in /usr/local/lib/python3.6/dist-packages (from pandas-finance) (0.8.1)\n",
            "Requirement already satisfied: beautifulsoup4 in /usr/local/lib/python3.6/dist-packages (from pandas-finance) (4.6.3)\n",
            "Requirement already satisfied: pandas in /usr/local/lib/python3.6/dist-packages (from pandas-finance) (1.0.5)\n",
            "Requirement already satisfied: requests in /usr/local/lib/python3.6/dist-packages (from pandas-finance) (2.23.0)\n",
            "Requirement already satisfied: lxml in /usr/local/lib/python3.6/dist-packages (from pandas-datareader>=0.2.2->pandas-finance) (4.2.6)\n",
            "Requirement already satisfied: numpy>=1.13.3 in /usr/local/lib/python3.6/dist-packages (from pandas->pandas-finance) (1.18.5)\n",
            "Requirement already satisfied: python-dateutil>=2.6.1 in /usr/local/lib/python3.6/dist-packages (from pandas->pandas-finance) (2.8.1)\n",
            "Requirement already satisfied: pytz>=2017.2 in /usr/local/lib/python3.6/dist-packages (from pandas->pandas-finance) (2018.9)\n",
            "Requirement already satisfied: chardet<4,>=3.0.2 in /usr/local/lib/python3.6/dist-packages (from requests->pandas-finance) (3.0.4)\n",
            "Requirement already satisfied: idna<3,>=2.5 in /usr/local/lib/python3.6/dist-packages (from requests->pandas-finance) (2.10)\n",
            "Requirement already satisfied: urllib3!=1.25.0,!=1.25.1,<1.26,>=1.21.1 in /usr/local/lib/python3.6/dist-packages (from requests->pandas-finance) (1.24.3)\n",
            "Requirement already satisfied: certifi>=2017.4.17 in /usr/local/lib/python3.6/dist-packages (from requests->pandas-finance) (2020.6.20)\n",
            "Requirement already satisfied: six>=1.5 in /usr/local/lib/python3.6/dist-packages (from python-dateutil>=2.6.1->pandas->pandas-finance) (1.15.0)\n",
            "Installing collected packages: requests-cache, pandas-finance\n",
            "Successfully installed pandas-finance-0.1.2 requests-cache-0.5.2\n"
          ],
          "name": "stdout"
        },
        {
          "output_type": "stream",
          "text": [
            "/usr/local/lib/python3.6/dist-packages/pandas_datareader/compat/__init__.py:7: FutureWarning: pandas.util.testing is deprecated. Use the functions in the public API at pandas.testing instead.\n",
            "  from pandas.util.testing import assert_frame_equal\n"
          ],
          "name": "stderr"
        },
        {
          "output_type": "error",
          "ename": "KeyError",
          "evalue": "ignored",
          "traceback": [
            "\u001b[0;31m---------------------------------------------------------------------------\u001b[0m",
            "\u001b[0;31mKeyError\u001b[0m                                  Traceback (most recent call last)",
            "\u001b[0;32m/usr/local/lib/python3.6/dist-packages/pandas/core/indexes/base.py\u001b[0m in \u001b[0;36mget_loc\u001b[0;34m(self, key, method, tolerance)\u001b[0m\n\u001b[1;32m   2645\u001b[0m             \u001b[0;32mtry\u001b[0m\u001b[0;34m:\u001b[0m\u001b[0;34m\u001b[0m\u001b[0;34m\u001b[0m\u001b[0m\n\u001b[0;32m-> 2646\u001b[0;31m                 \u001b[0;32mreturn\u001b[0m \u001b[0mself\u001b[0m\u001b[0;34m.\u001b[0m\u001b[0m_engine\u001b[0m\u001b[0;34m.\u001b[0m\u001b[0mget_loc\u001b[0m\u001b[0;34m(\u001b[0m\u001b[0mkey\u001b[0m\u001b[0;34m)\u001b[0m\u001b[0;34m\u001b[0m\u001b[0;34m\u001b[0m\u001b[0m\n\u001b[0m\u001b[1;32m   2647\u001b[0m             \u001b[0;32mexcept\u001b[0m \u001b[0mKeyError\u001b[0m\u001b[0;34m:\u001b[0m\u001b[0;34m\u001b[0m\u001b[0;34m\u001b[0m\u001b[0m\n",
            "\u001b[0;32mpandas/_libs/index.pyx\u001b[0m in \u001b[0;36mpandas._libs.index.IndexEngine.get_loc\u001b[0;34m()\u001b[0m\n",
            "\u001b[0;32mpandas/_libs/index.pyx\u001b[0m in \u001b[0;36mpandas._libs.index.IndexEngine.get_loc\u001b[0;34m()\u001b[0m\n",
            "\u001b[0;32mpandas/_libs/hashtable_class_helper.pxi\u001b[0m in \u001b[0;36mpandas._libs.hashtable.PyObjectHashTable.get_item\u001b[0;34m()\u001b[0m\n",
            "\u001b[0;32mpandas/_libs/hashtable_class_helper.pxi\u001b[0m in \u001b[0;36mpandas._libs.hashtable.PyObjectHashTable.get_item\u001b[0;34m()\u001b[0m\n",
            "\u001b[0;31mKeyError\u001b[0m: 'last'",
            "\nDuring handling of the above exception, another exception occurred:\n",
            "\u001b[0;31mKeyError\u001b[0m                                  Traceback (most recent call last)",
            "\u001b[0;32m<ipython-input-4-7259819be933>\u001b[0m in \u001b[0;36m<module>\u001b[0;34m()\u001b[0m\n\u001b[1;32m      4\u001b[0m \u001b[0maapl\u001b[0m \u001b[0;34m=\u001b[0m \u001b[0mEquity\u001b[0m\u001b[0;34m(\u001b[0m\u001b[0;34m'AAPL'\u001b[0m\u001b[0;34m)\u001b[0m\u001b[0;34m\u001b[0m\u001b[0;34m\u001b[0m\u001b[0m\n\u001b[1;32m      5\u001b[0m \u001b[0maapl\u001b[0m\u001b[0;34m.\u001b[0m\u001b[0mannual_dividend\u001b[0m\u001b[0;34m\u001b[0m\u001b[0;34m\u001b[0m\u001b[0m\n\u001b[0;32m----> 6\u001b[0;31m \u001b[0maapl\u001b[0m\u001b[0;34m.\u001b[0m\u001b[0mdividend_yield\u001b[0m\u001b[0;34m\u001b[0m\u001b[0;34m\u001b[0m\u001b[0m\n\u001b[0m\u001b[1;32m      7\u001b[0m \u001b[0maapl\u001b[0m\u001b[0;34m.\u001b[0m\u001b[0mprice\u001b[0m\u001b[0;34m\u001b[0m\u001b[0;34m\u001b[0m\u001b[0m\n\u001b[1;32m      8\u001b[0m \u001b[0maapl\u001b[0m\u001b[0;34m.\u001b[0m\u001b[0moptions\u001b[0m\u001b[0;34m\u001b[0m\u001b[0;34m\u001b[0m\u001b[0m\n",
            "\u001b[0;32m/usr/local/lib/python3.6/dist-packages/pandas_finance/api.py\u001b[0m in \u001b[0;36mdividend_yield\u001b[0;34m(self)\u001b[0m\n\u001b[1;32m     66\u001b[0m     \u001b[0;34m@\u001b[0m\u001b[0mproperty\u001b[0m\u001b[0;34m\u001b[0m\u001b[0;34m\u001b[0m\u001b[0m\n\u001b[1;32m     67\u001b[0m     \u001b[0;32mdef\u001b[0m \u001b[0mdividend_yield\u001b[0m\u001b[0;34m(\u001b[0m\u001b[0mself\u001b[0m\u001b[0;34m)\u001b[0m\u001b[0;34m:\u001b[0m\u001b[0;34m\u001b[0m\u001b[0;34m\u001b[0m\u001b[0m\n\u001b[0;32m---> 68\u001b[0;31m         \u001b[0;32mreturn\u001b[0m \u001b[0mself\u001b[0m\u001b[0;34m.\u001b[0m\u001b[0mannual_dividend\u001b[0m \u001b[0;34m/\u001b[0m \u001b[0mself\u001b[0m\u001b[0;34m.\u001b[0m\u001b[0mprice\u001b[0m\u001b[0;34m\u001b[0m\u001b[0;34m\u001b[0m\u001b[0m\n\u001b[0m\u001b[1;32m     69\u001b[0m \u001b[0;34m\u001b[0m\u001b[0m\n\u001b[1;32m     70\u001b[0m     \u001b[0;34m@\u001b[0m\u001b[0mproperty\u001b[0m\u001b[0;34m\u001b[0m\u001b[0;34m\u001b[0m\u001b[0m\n",
            "\u001b[0;32m/usr/local/lib/python3.6/dist-packages/pandas_finance/api.py\u001b[0m in \u001b[0;36mprice\u001b[0;34m(self)\u001b[0m\n\u001b[1;32m     70\u001b[0m     \u001b[0;34m@\u001b[0m\u001b[0mproperty\u001b[0m\u001b[0;34m\u001b[0m\u001b[0;34m\u001b[0m\u001b[0m\n\u001b[1;32m     71\u001b[0m     \u001b[0;32mdef\u001b[0m \u001b[0mprice\u001b[0m\u001b[0;34m(\u001b[0m\u001b[0mself\u001b[0m\u001b[0;34m)\u001b[0m\u001b[0;34m:\u001b[0m\u001b[0;34m\u001b[0m\u001b[0;34m\u001b[0m\u001b[0m\n\u001b[0;32m---> 72\u001b[0;31m         \u001b[0;32mreturn\u001b[0m \u001b[0mpdr\u001b[0m\u001b[0;34m.\u001b[0m\u001b[0mget_quote_yahoo\u001b[0m\u001b[0;34m(\u001b[0m\u001b[0mself\u001b[0m\u001b[0;34m.\u001b[0m\u001b[0mticker\u001b[0m\u001b[0;34m)\u001b[0m\u001b[0;34m[\u001b[0m\u001b[0;34m'last'\u001b[0m\u001b[0;34m]\u001b[0m\u001b[0;34m[\u001b[0m\u001b[0;36m0\u001b[0m\u001b[0;34m]\u001b[0m\u001b[0;34m\u001b[0m\u001b[0;34m\u001b[0m\u001b[0m\n\u001b[0m\u001b[1;32m     73\u001b[0m \u001b[0;34m\u001b[0m\u001b[0m\n\u001b[1;32m     74\u001b[0m     \u001b[0;32mdef\u001b[0m \u001b[0mhist_vol\u001b[0m\u001b[0;34m(\u001b[0m\u001b[0mself\u001b[0m\u001b[0;34m,\u001b[0m \u001b[0mdays\u001b[0m\u001b[0;34m,\u001b[0m \u001b[0mend_date\u001b[0m\u001b[0;34m=\u001b[0m\u001b[0;32mNone\u001b[0m\u001b[0;34m)\u001b[0m\u001b[0;34m:\u001b[0m\u001b[0;34m\u001b[0m\u001b[0;34m\u001b[0m\u001b[0m\n",
            "\u001b[0;32m/usr/local/lib/python3.6/dist-packages/pandas/core/frame.py\u001b[0m in \u001b[0;36m__getitem__\u001b[0;34m(self, key)\u001b[0m\n\u001b[1;32m   2798\u001b[0m             \u001b[0;32mif\u001b[0m \u001b[0mself\u001b[0m\u001b[0;34m.\u001b[0m\u001b[0mcolumns\u001b[0m\u001b[0;34m.\u001b[0m\u001b[0mnlevels\u001b[0m \u001b[0;34m>\u001b[0m \u001b[0;36m1\u001b[0m\u001b[0;34m:\u001b[0m\u001b[0;34m\u001b[0m\u001b[0;34m\u001b[0m\u001b[0m\n\u001b[1;32m   2799\u001b[0m                 \u001b[0;32mreturn\u001b[0m \u001b[0mself\u001b[0m\u001b[0;34m.\u001b[0m\u001b[0m_getitem_multilevel\u001b[0m\u001b[0;34m(\u001b[0m\u001b[0mkey\u001b[0m\u001b[0;34m)\u001b[0m\u001b[0;34m\u001b[0m\u001b[0;34m\u001b[0m\u001b[0m\n\u001b[0;32m-> 2800\u001b[0;31m             \u001b[0mindexer\u001b[0m \u001b[0;34m=\u001b[0m \u001b[0mself\u001b[0m\u001b[0;34m.\u001b[0m\u001b[0mcolumns\u001b[0m\u001b[0;34m.\u001b[0m\u001b[0mget_loc\u001b[0m\u001b[0;34m(\u001b[0m\u001b[0mkey\u001b[0m\u001b[0;34m)\u001b[0m\u001b[0;34m\u001b[0m\u001b[0;34m\u001b[0m\u001b[0m\n\u001b[0m\u001b[1;32m   2801\u001b[0m             \u001b[0;32mif\u001b[0m \u001b[0mis_integer\u001b[0m\u001b[0;34m(\u001b[0m\u001b[0mindexer\u001b[0m\u001b[0;34m)\u001b[0m\u001b[0;34m:\u001b[0m\u001b[0;34m\u001b[0m\u001b[0;34m\u001b[0m\u001b[0m\n\u001b[1;32m   2802\u001b[0m                 \u001b[0mindexer\u001b[0m \u001b[0;34m=\u001b[0m \u001b[0;34m[\u001b[0m\u001b[0mindexer\u001b[0m\u001b[0;34m]\u001b[0m\u001b[0;34m\u001b[0m\u001b[0;34m\u001b[0m\u001b[0m\n",
            "\u001b[0;32m/usr/local/lib/python3.6/dist-packages/pandas/core/indexes/base.py\u001b[0m in \u001b[0;36mget_loc\u001b[0;34m(self, key, method, tolerance)\u001b[0m\n\u001b[1;32m   2646\u001b[0m                 \u001b[0;32mreturn\u001b[0m \u001b[0mself\u001b[0m\u001b[0;34m.\u001b[0m\u001b[0m_engine\u001b[0m\u001b[0;34m.\u001b[0m\u001b[0mget_loc\u001b[0m\u001b[0;34m(\u001b[0m\u001b[0mkey\u001b[0m\u001b[0;34m)\u001b[0m\u001b[0;34m\u001b[0m\u001b[0;34m\u001b[0m\u001b[0m\n\u001b[1;32m   2647\u001b[0m             \u001b[0;32mexcept\u001b[0m \u001b[0mKeyError\u001b[0m\u001b[0;34m:\u001b[0m\u001b[0;34m\u001b[0m\u001b[0;34m\u001b[0m\u001b[0m\n\u001b[0;32m-> 2648\u001b[0;31m                 \u001b[0;32mreturn\u001b[0m \u001b[0mself\u001b[0m\u001b[0;34m.\u001b[0m\u001b[0m_engine\u001b[0m\u001b[0;34m.\u001b[0m\u001b[0mget_loc\u001b[0m\u001b[0;34m(\u001b[0m\u001b[0mself\u001b[0m\u001b[0;34m.\u001b[0m\u001b[0m_maybe_cast_indexer\u001b[0m\u001b[0;34m(\u001b[0m\u001b[0mkey\u001b[0m\u001b[0;34m)\u001b[0m\u001b[0;34m)\u001b[0m\u001b[0;34m\u001b[0m\u001b[0;34m\u001b[0m\u001b[0m\n\u001b[0m\u001b[1;32m   2649\u001b[0m         \u001b[0mindexer\u001b[0m \u001b[0;34m=\u001b[0m \u001b[0mself\u001b[0m\u001b[0;34m.\u001b[0m\u001b[0mget_indexer\u001b[0m\u001b[0;34m(\u001b[0m\u001b[0;34m[\u001b[0m\u001b[0mkey\u001b[0m\u001b[0;34m]\u001b[0m\u001b[0;34m,\u001b[0m \u001b[0mmethod\u001b[0m\u001b[0;34m=\u001b[0m\u001b[0mmethod\u001b[0m\u001b[0;34m,\u001b[0m \u001b[0mtolerance\u001b[0m\u001b[0;34m=\u001b[0m\u001b[0mtolerance\u001b[0m\u001b[0;34m)\u001b[0m\u001b[0;34m\u001b[0m\u001b[0;34m\u001b[0m\u001b[0m\n\u001b[1;32m   2650\u001b[0m         \u001b[0;32mif\u001b[0m \u001b[0mindexer\u001b[0m\u001b[0;34m.\u001b[0m\u001b[0mndim\u001b[0m \u001b[0;34m>\u001b[0m \u001b[0;36m1\u001b[0m \u001b[0;32mor\u001b[0m \u001b[0mindexer\u001b[0m\u001b[0;34m.\u001b[0m\u001b[0msize\u001b[0m \u001b[0;34m>\u001b[0m \u001b[0;36m1\u001b[0m\u001b[0;34m:\u001b[0m\u001b[0;34m\u001b[0m\u001b[0;34m\u001b[0m\u001b[0m\n",
            "\u001b[0;32mpandas/_libs/index.pyx\u001b[0m in \u001b[0;36mpandas._libs.index.IndexEngine.get_loc\u001b[0;34m()\u001b[0m\n",
            "\u001b[0;32mpandas/_libs/index.pyx\u001b[0m in \u001b[0;36mpandas._libs.index.IndexEngine.get_loc\u001b[0;34m()\u001b[0m\n",
            "\u001b[0;32mpandas/_libs/hashtable_class_helper.pxi\u001b[0m in \u001b[0;36mpandas._libs.hashtable.PyObjectHashTable.get_item\u001b[0;34m()\u001b[0m\n",
            "\u001b[0;32mpandas/_libs/hashtable_class_helper.pxi\u001b[0m in \u001b[0;36mpandas._libs.hashtable.PyObjectHashTable.get_item\u001b[0;34m()\u001b[0m\n",
            "\u001b[0;31mKeyError\u001b[0m: 'last'"
          ]
        }
      ]
    }
  ]
}